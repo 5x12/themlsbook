{
 "cells": [
  {
   "cell_type": "markdown",
   "metadata": {},
   "source": [
    "# Chapter 4: Model Selection | Cross-validation Methods\n",
    "\n",
    "- This Jupyter Notebook is a supplement for the [Machine Learning Simplified](https://themlsbook.com) (MLS) book. Note that all detailed explanations are written in the book. This notebook just shed light on Python implementations of the topics discussed.\n",
    "- I also assume you know Python syntax and how it works. If you don't, I highly recommend you to take a break and get introduced to the language before going forward with my notebooks. "
   ]
  },
  {
   "cell_type": "markdown",
   "metadata": {},
   "source": [
    "# 1. Data & Variables"
   ]
  },
  {
   "cell_type": "markdown",
   "metadata": {},
   "source": [
    "Firstly, let's generate the sample data for X and y."
   ]
  },
  {
   "cell_type": "code",
   "execution_count": 2,
   "metadata": {},
   "outputs": [],
   "source": [
    "import numpy as np\n",
    "\n",
    "data = np.array([0.1, 0.2, 0.3, 0.4, 0.5, 0.6])"
   ]
  },
  {
   "cell_type": "markdown",
   "metadata": {},
   "source": [
    "# 2. Cross Validation Methods\n",
    "\n",
    "The following methods are going to be shown: \n",
    "\n",
    "    2.1. Hold-out Cross Validation Method\n",
    "    2.2. K-Fold Cross Validation Method\n",
    "    2.3. Leave-One-Out Cross Validation Method\n",
    "    2.4. Leave-P-Out Cross Validation Method\n",
    "   "
   ]
  },
  {
   "cell_type": "markdown",
   "metadata": {},
   "source": [
    "## 2.1. Hold-out Cross Validation"
   ]
  },
  {
   "cell_type": "markdown",
   "metadata": {},
   "source": [
    "> The hold-out method randomly splits the entire dataset into a training set and a test set. The training set is what we use to train the model,and the test set is what we use to see how well the model performs on unseen data.\n",
    "\n",
    "> Let's split the dataset `data`. We do so by using a function `train_test_split`. The parameter `test_size` controls how many percentage of data we would like to allocate to the test set. If `test_size=0.3`, we allocate 30% of the dataset for a test set, and the remaining 70% for a training set."
   ]
  },
  {
   "cell_type": "code",
   "execution_count": 3,
   "metadata": {},
   "outputs": [],
   "source": [
    "from sklearn.model_selection import train_test_split\n",
    "\n",
    "train, test = train_test_split(data,            #specify the data to use\n",
    "                               test_size=0.3)   #specify the split ratio"
   ]
  },
  {
   "cell_type": "markdown",
   "metadata": {},
   "source": [
    "> Let's see the results:"
   ]
  },
  {
   "cell_type": "code",
   "execution_count": 4,
   "metadata": {},
   "outputs": [
    {
     "name": "stdout",
     "output_type": "stream",
     "text": [
      "Train: [0.5 0.6 0.4 0.2] Test: [0.3 0.1]\n"
     ]
    }
   ],
   "source": [
    "print('Train:', train, 'Test:', test)"
   ]
  },
  {
   "cell_type": "markdown",
   "metadata": {},
   "source": [
    "> The hold-out method has randomly chosen 2 out of 5 observations for the test set (which makes roughly 30% of the entire dataset)."
   ]
  },
  {
   "cell_type": "markdown",
   "metadata": {},
   "source": [
    "## 2.2. K-Fold Cross Validation (kFCV)"
   ]
  },
  {
   "cell_type": "markdown",
   "metadata": {},
   "source": [
    "kFCV is a resampling validation method where the dataset is split into $k$ groups, called **folds**, and the algorithm is trained and evaluated $k$ times, using each fold as a test set while the remaining folds works as a training set."
   ]
  },
  {
   "cell_type": "code",
   "execution_count": 5,
   "metadata": {},
   "outputs": [],
   "source": [
    "from sklearn.model_selection import KFold\n",
    "\n",
    "kfcv = KFold(n_splits=3)  #configure kFCV to have 3 folds"
   ]
  },
  {
   "cell_type": "markdown",
   "metadata": {},
   "source": [
    "Let's check the combinations of training and test sets:"
   ]
  },
  {
   "cell_type": "code",
   "execution_count": 6,
   "metadata": {},
   "outputs": [
    {
     "name": "stdout",
     "output_type": "stream",
     "text": [
      "Train[0.3 0.4 0.5 0.6] Test[0.1 0.2]\n",
      "Train[0.1 0.2 0.5 0.6] Test[0.3 0.4]\n",
      "Train[0.1 0.2 0.3 0.4] Test[0.5 0.6]\n"
     ]
    }
   ],
   "source": [
    "for train, test in kfcv.split(data):\n",
    "    print('Train{}'.format(data[train]), 'Test{}'.format(data[test]))"
   ]
  },
  {
   "cell_type": "markdown",
   "metadata": {},
   "source": [
    "## 2.3. Leave-p-Out Cross Validation Method (LpOCV)"
   ]
  },
  {
   "cell_type": "markdown",
   "metadata": {},
   "source": [
    "LpOCV is a resampling validation method where the number of folds equals the number of observations in the data set. A parameter $p$ is selected that represents the size of the test set. The learning algorithm is applied once for each combination of test and training sets, using selected $p$ observations as the test set and the remaining observations as the training set."
   ]
  },
  {
   "cell_type": "code",
   "execution_count": 7,
   "metadata": {},
   "outputs": [],
   "source": [
    "from sklearn.model_selection import LeavePOut\n",
    "\n",
    "lpocv = LeavePOut(p=2)  #configure LpOCV to have p=2"
   ]
  },
  {
   "cell_type": "markdown",
   "metadata": {},
   "source": [
    "Let's check the combinations of training and test sets:"
   ]
  },
  {
   "cell_type": "code",
   "execution_count": 8,
   "metadata": {},
   "outputs": [
    {
     "name": "stdout",
     "output_type": "stream",
     "text": [
      "Train set:[0.3 0.4 0.5 0.6] Test set:[0.1 0.2]\n",
      "Train set:[0.2 0.4 0.5 0.6] Test set:[0.1 0.3]\n",
      "Train set:[0.2 0.3 0.5 0.6] Test set:[0.1 0.4]\n",
      "Train set:[0.2 0.3 0.4 0.6] Test set:[0.1 0.5]\n",
      "Train set:[0.2 0.3 0.4 0.5] Test set:[0.1 0.6]\n",
      "Train set:[0.1 0.4 0.5 0.6] Test set:[0.2 0.3]\n",
      "Train set:[0.1 0.3 0.5 0.6] Test set:[0.2 0.4]\n",
      "Train set:[0.1 0.3 0.4 0.6] Test set:[0.2 0.5]\n",
      "Train set:[0.1 0.3 0.4 0.5] Test set:[0.2 0.6]\n",
      "Train set:[0.1 0.2 0.5 0.6] Test set:[0.3 0.4]\n",
      "Train set:[0.1 0.2 0.4 0.6] Test set:[0.3 0.5]\n",
      "Train set:[0.1 0.2 0.4 0.5] Test set:[0.3 0.6]\n",
      "Train set:[0.1 0.2 0.3 0.6] Test set:[0.4 0.5]\n",
      "Train set:[0.1 0.2 0.3 0.5] Test set:[0.4 0.6]\n",
      "Train set:[0.1 0.2 0.3 0.4] Test set:[0.5 0.6]\n"
     ]
    }
   ],
   "source": [
    "a=0\n",
    "for train, validate in lpocv.split(data):\n",
    "    print(\"Train set:{}\".format(data[train]), \"Test set:{}\".format(data[validate]))\n",
    "    a = a + 1"
   ]
  },
  {
   "cell_type": "markdown",
   "metadata": {},
   "source": [
    "## 2.4. Leave-One-Out Cross Validation Method (LOOCV)"
   ]
  },
  {
   "cell_type": "markdown",
   "metadata": {},
   "source": [
    "Leave-One-Out Cross Validation Method is a resampling validation method where the number of folds equals the number of observations in the data set. The learning algorithm is applied once for each observation, using all other observations as a training set and using the selected observation as a single-item test set."
   ]
  },
  {
   "cell_type": "code",
   "execution_count": 9,
   "metadata": {},
   "outputs": [],
   "source": [
    "from sklearn.model_selection import LeaveOneOut\n",
    "\n",
    "loocv = LeaveOneOut()  #configure LOOCV"
   ]
  },
  {
   "cell_type": "markdown",
   "metadata": {},
   "source": [
    "Let's check the combinations of training and test sets:"
   ]
  },
  {
   "cell_type": "code",
   "execution_count": 10,
   "metadata": {},
   "outputs": [
    {
     "name": "stdout",
     "output_type": "stream",
     "text": [
      "Train: [0.2 0.3 0.4 0.5 0.6] Test: [0.1]\n",
      "Train: [0.1 0.3 0.4 0.5 0.6] Test: [0.2]\n",
      "Train: [0.1 0.2 0.4 0.5 0.6] Test: [0.3]\n",
      "Train: [0.1 0.2 0.3 0.5 0.6] Test: [0.4]\n",
      "Train: [0.1 0.2 0.3 0.4 0.6] Test: [0.5]\n",
      "Train: [0.1 0.2 0.3 0.4 0.5] Test: [0.6]\n"
     ]
    }
   ],
   "source": [
    "for train, test in loocv.split(data):\n",
    "    print('Train:', data[train], 'Test:', data[test])"
   ]
  },
  {
   "cell_type": "markdown",
   "metadata": {},
   "source": [
    "**NOTE:** you can also use LPOCV, with `p=1` - the result will be the same."
   ]
  },
  {
   "cell_type": "code",
   "execution_count": 12,
   "metadata": {},
   "outputs": [
    {
     "name": "stdout",
     "output_type": "stream",
     "text": [
      "Train set:[0.2 0.3 0.4 0.5 0.6] Test set:[0.1]\n",
      "Train set:[0.1 0.3 0.4 0.5 0.6] Test set:[0.2]\n",
      "Train set:[0.1 0.2 0.4 0.5 0.6] Test set:[0.3]\n",
      "Train set:[0.1 0.2 0.3 0.5 0.6] Test set:[0.4]\n",
      "Train set:[0.1 0.2 0.3 0.4 0.6] Test set:[0.5]\n",
      "Train set:[0.1 0.2 0.3 0.4 0.5] Test set:[0.6]\n"
     ]
    }
   ],
   "source": [
    "from sklearn.model_selection import LeavePOut\n",
    "\n",
    "lpocv = LeavePOut(p=1)  #configure LpOCV\n",
    " \n",
    "#check the combinations of training and test sets:\n",
    "\n",
    "a=0\n",
    "for train, validate in lpocv.split(data):\n",
    "    print(\"Train set:{}\".format(data[train]), \"Test set:{}\".format(data[validate]))\n",
    "    a = a + 1"
   ]
  },
  {
   "cell_type": "code",
   "execution_count": null,
   "metadata": {},
   "outputs": [],
   "source": []
  }
 ],
 "metadata": {
  "kernelspec": {
   "display_name": "Python 3 (ipykernel)",
   "language": "python",
   "name": "python3"
  },
  "language_info": {
   "codemirror_mode": {
    "name": "ipython",
    "version": 3
   },
   "file_extension": ".py",
   "mimetype": "text/x-python",
   "name": "python",
   "nbconvert_exporter": "python",
   "pygments_lexer": "ipython3",
   "version": "3.8.12"
  }
 },
 "nbformat": 4,
 "nbformat_minor": 4
}
