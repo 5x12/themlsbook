{
 "cells": [
  {
   "cell_type": "markdown",
   "metadata": {
    "colab_type": "text",
    "id": "fy9Pru5BcTDV"
   },
   "source": [
    "# Chapter 3: Model Learning\n",
    "\n",
    "- This Jupyter Notebook is a supplement for the [Machine Learning Simplified](https://themlsbook.com) (MLS) book. Note that all detailed explanations are written in the book. This notebook just shed light on Python implementations of the topics discussed.\n",
    "- I also assume you know Python syntax and how it works. If you don't, I highly recommend you to take a break and get introduced to the language before going forward with my notebooks. "
   ]
  },
  {
   "cell_type": "markdown",
   "metadata": {},
   "source": [
    "> Let's recall Chapter 3. We have a hypothetical dataset (Table 3.1) of six apartments located in the center of Amsterdam along with their prices (in 10,000 EUR) and floor areas (in square meters)."
   ]
  },
  {
   "cell_type": "markdown",
   "metadata": {},
   "source": [
    "| area ($m^2$) | price (in €10,000) |\n",
    "| ----------- | ----------- |\n",
    "| 30 | 31 | \n",
    "| 46 | 30 |\n",
    "| 60 | 80 |\n",
    "| 65 | 49 |\n",
    "| 77 | 70 |\n",
    "| 95 | 118 |"
   ]
  },
  {
   "cell_type": "markdown",
   "metadata": {},
   "source": [
    "> The structure of this notebook is similar to the structure of Chapter 3 of [MLS](https://themlsbook.com) book.\n",
    "\n",
    "> 1. Problem Representation\n",
    "> 2. Learning a Prediction Function\n",
    "> 3. How Good is our Prediction Function?\n",
    "> 4. Build Regressions with Wrong Parameters\n",
    "> 5. Cost Function\n",
    "> 6. Gradient Descent"
   ]
  },
  {
   "cell_type": "markdown",
   "metadata": {},
   "source": [
    "# 0. Required Libraries & Functions"
   ]
  },
  {
   "cell_type": "code",
   "execution_count": 14,
   "metadata": {},
   "outputs": [],
   "source": [
    "import numpy as np\n",
    "import matplotlib.pyplot as plt\n",
    "from sklearn.linear_model import LinearRegression"
   ]
  },
  {
   "cell_type": "markdown",
   "metadata": {
    "colab_type": "text",
    "id": "8VorHuMIcTDV"
   },
   "source": [
    "# 1. Problem Representation\n"
   ]
  },
  {
   "cell_type": "markdown",
   "metadata": {},
   "source": [
    "## 1.1. Create Hypothetical Dataset"
   ]
  },
  {
   "cell_type": "markdown",
   "metadata": {},
   "source": [
    "> To create two arrays, X and Y, we use `numpy` (`np`) library. We have already loaded it in the beginning of this notebook."
   ]
  },
  {
   "cell_type": "code",
   "execution_count": 16,
   "metadata": {
    "colab": {},
    "colab_type": "code",
    "id": "Gd4KEUA3cTDY"
   },
   "outputs": [],
   "source": [
    "x = np.array([[30], [46], [60], [65], [77], [95]])\n",
    "y = np.array([31, 30, 80, 49, 70, 118])"
   ]
  },
  {
   "cell_type": "markdown",
   "metadata": {},
   "source": [
    "## 1.2. Visualize the Dataset"
   ]
  },
  {
   "cell_type": "markdown",
   "metadata": {},
   "source": [
    "> Let's now make the same graph that we had in the book (Figure 3.1). We can do so by using `matplotlib` library that we loaded in the beginning of this notebook."
   ]
  },
  {
   "cell_type": "code",
   "execution_count": 5,
   "metadata": {},
   "outputs": [
    {
     "data": {
      "text/plain": [
       "(0.0, 110.0)"
      ]
     },
     "execution_count": 5,
     "metadata": {},
     "output_type": "execute_result"
    },
    {
     "data": {
      "image/png": "[encoded data removed]",
      "text/plain": [
       "<Figure size 432x288 with 1 Axes>"
      ]
     },
     "metadata": {
      "needs_background": "light"
     },
     "output_type": "display_data"
    }
   ],
   "source": [
    "fig, ax = plt.subplots() #define the graph\n",
    "ax.plot(x, y, 'o', color='g', label='training data')\n",
    "\n",
    "plt.legend(); #show legend\n",
    "plt.ylim(0, 140) #length of y-axis\n",
    "plt.xlim(0, 110) #length of x-axis"
   ]
  },
  {
   "cell_type": "markdown",
   "metadata": {
    "colab_type": "text",
    "id": "wugDx0xicTDa"
   },
   "source": [
    "# 2. Learning a Prediction Function"
   ]
  },
  {
   "cell_type": "markdown",
   "metadata": {
    "colab_type": "text",
    "id": "1VYKc3cvYWme"
   },
   "source": [
    "Let's now build a simple regression with our data and then visualize it with the graph."
   ]
  },
  {
   "cell_type": "markdown",
   "metadata": {
    "colab_type": "text",
    "id": "XGKd_3V6cTDb"
   },
   "source": [
    "## 2.1. Build a Linear Regression"
   ]
  },
  {
   "cell_type": "markdown",
   "metadata": {},
   "source": [
    "> First, we **initialize** our `Linear Regression` algorithm. We use `LinearRegression` from `sklearn` library that we loaded in the beginning."
   ]
  },
  {
   "cell_type": "code",
   "execution_count": 8,
   "metadata": {},
   "outputs": [],
   "source": [
    "# Initialize the linear regression model\n",
    "reg = LinearRegression()"
   ]
  },
  {
   "cell_type": "markdown",
   "metadata": {},
   "source": [
    "> Second, we pass `x` and `y` to that algorithm for learning."
   ]
  },
  {
   "cell_type": "code",
   "execution_count": 27,
   "metadata": {
    "colab": {},
    "colab_type": "code",
    "id": "GAN6Tz_gcTDb"
   },
   "outputs": [],
   "source": [
    "reg = LinearRegression().fit(x, y) #train your model with x-values"
   ]
  },
  {
   "cell_type": "markdown",
   "metadata": {
    "colab_type": "text",
    "id": "zq_A_pN6ZuaF"
   },
   "source": [
    "Checking estimated coefficient and intercept:"
   ]
  },
  {
   "cell_type": "code",
   "execution_count": 30,
   "metadata": {
    "colab": {
     "base_uri": "https://localhost:8080/",
     "height": 51
    },
    "colab_type": "code",
    "id": "DOBf-DpYZsfx",
    "outputId": "f1ff1599-b45a-45ac-d269-73986f1050cc"
   },
   "outputs": [
    {
     "name": "stdout",
     "output_type": "stream",
     "text": [
      " coefficient (parameter a) = 1.3 \n",
      " intercept (parameter b) = -18.0\n"
     ]
    }
   ],
   "source": [
    "print(' coefficient (parameter a) = {} \\n intercept (parameter b) = {}'.format(reg.coef_[0].round(1), \n",
    "                                                                               reg.intercept_.round(0)))"
   ]
  },
  {
   "cell_type": "markdown",
   "metadata": {},
   "source": [
    "## 2.2. Vizualize Linear Regression"
   ]
  },
  {
   "cell_type": "markdown",
   "metadata": {
    "colab_type": "text",
    "id": "gEXbsgf9Zhh-"
   },
   "source": [
    "Plotting the regression model:"
   ]
  },
  {
   "cell_type": "code",
   "execution_count": 42,
   "metadata": {
    "colab": {
     "base_uri": "https://localhost:8080/",
     "height": 286
    },
    "colab_type": "code",
    "id": "l8AgOvs8cTDe",
    "outputId": "11c9d902-bbd5-4119-a27f-e16055fe26ad"
   },
   "outputs": [
    {
     "data": {
      "text/plain": [
       "(0.0, 110.0)"
      ]
     },
     "execution_count": 42,
     "metadata": {},
     "output_type": "execute_result"
    },
    {
     "data": {
      "image/png": "[encoded data removed]",
      "text/plain": [
       "<Figure size 432x288 with 1 Axes>"
      ]
     },
     "metadata": {
      "needs_background": "light"
     },
     "output_type": "display_data"
    }
   ],
   "source": [
    "fig, ax = plt.subplots() #define the graph\n",
    "ax.plot(x,y, 'o', color='g', label='training data')\n",
    "ax.plot(x, reg.intercept_ + reg.coef_[0]*x, label='h(x) = {} + {} x'.format(reg.intercept_.round(0), \n",
    "                                                                         reg.coef_[0].round(2))) \n",
    "\n",
    "plt.legend(); #show legend\n",
    "plt.ylim(0, 140) #length of y-axis\n",
    "plt.xlim(0, 110) #length of x-axis"
   ]
  },
  {
   "cell_type": "markdown",
   "metadata": {},
   "source": [
    "# 3. How Good is our Prediction Function?"
   ]
  },
  {
   "cell_type": "markdown",
   "metadata": {},
   "source": [
    "> The next step is to evaluate how good our model is. To do so, let's firt show residuals."
   ]
  },
  {
   "cell_type": "markdown",
   "metadata": {
    "colab_type": "text",
    "id": "80C8dtsZcTDm"
   },
   "source": [
    "## 3.1. Draw Residuals"
   ]
  },
  {
   "cell_type": "markdown",
   "metadata": {
    "colab_type": "text",
    "id": "1KADSi81bj-V"
   },
   "source": [
    "> Let's draw residuals - the difference between actual data points and the predicted (by our model) values."
   ]
  },
  {
   "cell_type": "code",
   "execution_count": 41,
   "metadata": {
    "colab": {
     "base_uri": "https://localhost:8080/",
     "height": 268
    },
    "colab_type": "code",
    "id": "1pkjUxEycTDn",
    "outputId": "5be28a93-16df-4e42-a23e-96250e698854"
   },
   "outputs": [
    {
     "name": "stderr",
     "output_type": "stream",
     "text": [
      "/Users/andrewwolf/opt/anaconda3/lib/python3.8/site-packages/numpy/core/_asarray.py:171: VisibleDeprecationWarning: Creating an ndarray from ragged nested sequences (which is a list-or-tuple of lists-or-tuples-or ndarrays with different lengths or shapes) is deprecated. If you meant to do this, you must specify 'dtype=object' when creating the ndarray.\n",
      "  return array(a, dtype, copy=False, order=order, subok=True)\n"
     ]
    },
    {
     "data": {
      "image/png": "[encoded data removed]",
      "text/plain": [
       "<Figure size 432x288 with 1 Axes>"
      ]
     },
     "metadata": {
      "needs_background": "light"
     },
     "output_type": "display_data"
    }
   ],
   "source": [
    "fig, ax = plt.subplots()\n",
    "ax.plot(x,y, 'o', color='g', label='training data')\n",
    "ax.plot(x, -18.0  + 1.3*x, label='h(x) = {} + {} x'.format(reg.intercept_.round(0), \n",
    "                                                           reg.coef_[0].round(2))) \n",
    "\n",
    "for i in range(len(x)):\n",
    "    ax.plot([x[i], x[i]], [-18.0  + 1.3*x[i],y[i]], '-', color='c')\n",
    "plt.legend();"
   ]
  },
  {
   "cell_type": "markdown",
   "metadata": {
    "colab_type": "text",
    "id": "nPtJqyTPcTDp"
   },
   "source": [
    "## 3.2. Calculating Sum of Squared Residuals (SSR)"
   ]
  },
  {
   "cell_type": "markdown",
   "metadata": {
    "colab_type": "text",
    "id": "8mfGlLfAcJoD"
   },
   "source": [
    "> Let's calculate SSR. The formula for calculating SSR is:\n",
    "  $$SSR = \\sum (y_i-\\hat{y}_i)^2$$\n",
    "  > where\n",
    "  > - $y_i$ is a value of an observed target variable $i$\n",
    "  > - $\\hat{y}_i$ is a value of $y$ predicted by the model with a specific $x_i$ ($\\hat{y}_i=ax_i+b$)\n"
   ]
  },
  {
   "cell_type": "code",
   "execution_count": 6,
   "metadata": {
    "colab": {
     "base_uri": "https://localhost:8080/",
     "height": 34
    },
    "colab_type": "code",
    "id": "6RCPAW37cTDp",
    "outputId": "0f1245b1-865f-40be-a587-189cca786d07"
   },
   "outputs": [
    {
     "data": {
      "text/plain": [
       "1248.1500000000003"
      ]
     },
     "execution_count": 6,
     "metadata": {},
     "output_type": "execute_result"
    }
   ],
   "source": [
    "# Defining lists\n",
    "y_pred = [] #set empty list for predicted values of y\n",
    "r = [] #set empty list for residuals\n",
    "\n",
    "# Calculating predicted values of y\n",
    "for i in x:\n",
    "    y_pred.append(-18 + 1.3*i)\n",
    "    \n",
    "# Calculating residuals\n",
    "for i in range(0, len(x)):\n",
    "    r.append((y[i]-y_pred[i])**2)\n",
    "\n",
    "# Summing up the residuals\n",
    "np.sum(r)"
   ]
  },
  {
   "cell_type": "markdown",
   "metadata": {
    "colab_type": "text",
    "id": "-Gc_ADr4cTDr"
   },
   "source": [
    "# 4. Build Regressions with Wrong Parameters"
   ]
  },
  {
   "cell_type": "markdown",
   "metadata": {
    "colab_type": "text",
    "id": "-lHee_vDpRpN"
   },
   "source": [
    "> Just like we did in the [MLS](https://themlsbook.com) book, let's now build two regressions with random values for coefficient ($a$) and intercept ($b$), and see how their SSR would differ from the \"true\" regression $y=1.3x -18$ (estimated in Section 2.1.)"
   ]
  },
  {
   "cell_type": "markdown",
   "metadata": {
    "colab_type": "text",
    "id": "qSMH6GrjcTDs"
   },
   "source": [
    "## 4.1. Regression I"
   ]
  },
  {
   "cell_type": "markdown",
   "metadata": {
    "colab_type": "text",
    "id": "cPUeKuzupxkR"
   },
   "source": [
    "> Let's plot regression $y=-10x+780$ and calculate its SSR."
   ]
  },
  {
   "cell_type": "code",
   "execution_count": 48,
   "metadata": {
    "colab": {
     "base_uri": "https://localhost:8080/",
     "height": 286
    },
    "colab_type": "code",
    "id": "Sho5z22ccTDt",
    "outputId": "c11e5bfc-484a-4737-d7c6-14187130a4c4"
   },
   "outputs": [
    {
     "data": {
      "text/plain": [
       "(0.0, 110.0)"
      ]
     },
     "execution_count": 48,
     "metadata": {},
     "output_type": "execute_result"
    },
    {
     "data": {
      "image/png": "[encoded data removed]",
      "text/plain": [
       "<Figure size 432x288 with 1 Axes>"
      ]
     },
     "metadata": {
      "needs_background": "light"
     },
     "output_type": "display_data"
    }
   ],
   "source": [
    "# Plotting Regression\n",
    "\n",
    "fig, ax = plt.subplots()\n",
    "ax.plot(x,y, 'o', color='g', label='training data')\n",
    "ax.plot(x, 780 + -10*x, label='y = 780 + -10 x')\n",
    "\n",
    "plt.legend();\n",
    "plt.ylim(0, 140)\n",
    "plt.xlim(0, 110)"
   ]
  },
  {
   "cell_type": "code",
   "execution_count": 8,
   "metadata": {
    "colab": {
     "base_uri": "https://localhost:8080/",
     "height": 34
    },
    "colab_type": "code",
    "id": "O5VNRBnxcTDv",
    "outputId": "a33e16f6-19ee-4644-b251-46a210035083"
   },
   "outputs": [
    {
     "data": {
      "text/plain": [
       "388806"
      ]
     },
     "execution_count": 8,
     "metadata": {},
     "output_type": "execute_result"
    }
   ],
   "source": [
    "# Calculating SSR\n",
    "\n",
    "y_pred = []\n",
    "r = []\n",
    "\n",
    "for i in x:\n",
    "    y_pred.append(780 + -10*i)\n",
    "    \n",
    "for i in range(0, len(x)):\n",
    "    r.append((y[i]-y_pred[i])**2)\n",
    "\n",
    "np.sum(r)"
   ]
  },
  {
   "cell_type": "markdown",
   "metadata": {
    "colab_type": "text",
    "id": "F9kzc29pqLNz"
   },
   "source": [
    "> For the Regression 1, $SSR=388,806$. \n",
    "\n",
    "> Let's proceed with another regression, Regression 2, and execute the same tasks!"
   ]
  },
  {
   "cell_type": "markdown",
   "metadata": {
    "colab_type": "text",
    "id": "6W7AWJXJcTDy"
   },
   "source": [
    "## 4.2. Regression II\n"
   ]
  },
  {
   "cell_type": "markdown",
   "metadata": {},
   "source": [
    "> Let's plot regression $y=4*x-190$ and calculate its SSR."
   ]
  },
  {
   "cell_type": "code",
   "execution_count": 47,
   "metadata": {
    "colab": {
     "base_uri": "https://localhost:8080/",
     "height": 286
    },
    "colab_type": "code",
    "id": "b0-HN8ZTcTDy",
    "outputId": "4b74e8b4-5919-4a5b-ca15-9f30d22ca9fb"
   },
   "outputs": [
    {
     "data": {
      "text/plain": [
       "(0.0, 110.0)"
      ]
     },
     "execution_count": 47,
     "metadata": {},
     "output_type": "execute_result"
    },
    {
     "data": {
      "image/png": "[encoded data removed]",
      "text/plain": [
       "<Figure size 432x288 with 1 Axes>"
      ]
     },
     "metadata": {
      "needs_background": "light"
     },
     "output_type": "display_data"
    }
   ],
   "source": [
    "# Plotting Regression\n",
    "\n",
    "fig, ax = plt.subplots()\n",
    "ax.plot(x,y, 'o', color='g', label='training data')\n",
    "ax.plot(x, -190+4*x, label='y = -190 + 4x')\n",
    "plt.legend();\n",
    "plt.ylim(0, 140)\n",
    "plt.xlim(0, 110)"
   ]
  },
  {
   "cell_type": "code",
   "execution_count": 44,
   "metadata": {
    "colab": {
     "base_uri": "https://localhost:8080/",
     "height": 34
    },
    "colab_type": "code",
    "id": "_n2ZmKEtcTD1",
    "outputId": "11b8b109-c916-48e8-dc1a-cc2dc0da444a"
   },
   "outputs": [
    {
     "data": {
      "text/plain": [
       "20326"
      ]
     },
     "execution_count": 44,
     "metadata": {},
     "output_type": "execute_result"
    }
   ],
   "source": [
    "# Calculating SSR\n",
    "\n",
    "y_pred = []\n",
    "r = []\n",
    "for i in x:\n",
    "    y_pred.append(-190 + 4*i)\n",
    "    \n",
    "for i in range(0, len(x)):\n",
    "    r.append((y[i]-y_pred[i])**2)\n",
    "\n",
    "np.sum(r)"
   ]
  },
  {
   "cell_type": "markdown",
   "metadata": {
    "colab_type": "text",
    "id": "bUcvU8UOqxqW"
   },
   "source": [
    "> For the Regression 2, $SSR=20,326$.\n",
    "\n",
    "> If you compare Regression 1 and Regression 2, you might notice that, as the line follows the data points, it shrinks the residuals, and lowers the Sum of Squared Residuals."
   ]
  },
  {
   "cell_type": "markdown",
   "metadata": {
    "colab_type": "text",
    "id": "RLPXq5mncTD7"
   },
   "source": [
    "# 5. Cost Function\n",
    "\n",
    "> Now is exciting stuff - plotting a Cost Function!"
   ]
  },
  {
   "cell_type": "markdown",
   "metadata": {
    "colab_type": "text",
    "id": "O9sezqxFcTD7"
   },
   "source": [
    "## 5.1. Try out several values for a coefficient $a$"
   ]
  },
  {
   "cell_type": "markdown",
   "metadata": {},
   "source": [
    "> Let’s start with an example where we pretend to know $b=-18$. This leaves us with fˆ(x) = a · x − 18, a function of a single parameter $a$. Let’s evaluate the SSR for some values of the parameter $a$:"
   ]
  },
  {
   "cell_type": "code",
   "execution_count": 50,
   "metadata": {
    "colab": {
     "base_uri": "https://localhost:8080/",
     "height": 381
    },
    "colab_type": "code",
    "id": "9zxsEHQhcTD7",
    "outputId": "422af46e-38a8-4df7-d7ad-b5233a124ef8"
   },
   "outputs": [
    {
     "data": {
      "image/png": "[encoded data removed]",
      "text/plain": [
       "<Figure size 432x288 with 1 Axes>"
      ]
     },
     "metadata": {
      "needs_background": "light"
     },
     "output_type": "display_data"
    }
   ],
   "source": [
    "# Plotting Regression\n",
    "\n",
    "fig, ax = plt.subplots()\n",
    "ax.plot(x,y, 'o', color='g', label='training data')\n",
    "\n",
    "a1 = np.linspace(-1,4,21) #define coefficient range: between -1 and 4\n",
    "\n",
    "for i in range(len(a1)):\n",
    "    ax.plot(x, -18 + a1[i]*x, label='f(x) = %.2f x - 18' %a1[i] )\n",
    "\n",
    "plt.legend();"
   ]
  },
  {
   "cell_type": "markdown",
   "metadata": {
    "colab_type": "text",
    "id": "PHCCSvQccTD-"
   },
   "source": [
    "## 5.2. Build Cost Function\n"
   ]
  },
  {
   "cell_type": "markdown",
   "metadata": {},
   "source": [
    ">Now, let’s plot calculated $SSR(a)$ values over a changing parameter $a$ on the graph, where the x-axis is an $a$ value and the y-axis is the value of the SSR, (as shown in Figure 3.6a in the [MLS](https://themlsbook.com) book)"
   ]
  },
  {
   "cell_type": "code",
   "execution_count": 17,
   "metadata": {
    "colab": {},
    "colab_type": "code",
    "id": "V23XbqVccTD-"
   },
   "outputs": [],
   "source": [
    "# Defined Cost Function J\n",
    "\n",
    "def J(a0, a1, x, y, m):\n",
    "    J = 0\n",
    "    for i in range(m):\n",
    "        J += ((a0 + a1*x[i]) - y[i] )**2\n",
    "    return J"
   ]
  },
  {
   "cell_type": "code",
   "execution_count": 18,
   "metadata": {
    "colab": {
     "base_uri": "https://localhost:8080/",
     "height": 265
    },
    "colab_type": "code",
    "id": "BwPT-O_DcTEA",
    "outputId": "6a398bab-30d5-41a5-b8db-a2a41247539f"
   },
   "outputs": [
    {
     "data": {
      "image/png": "[encoded data removed]",
      "text/plain": [
       "<Figure size 432x288 with 1 Axes>"
      ]
     },
     "metadata": {
      "needs_background": "light"
     },
     "output_type": "display_data"
    }
   ],
   "source": [
    "# Plotting 2-D Cost Function for coefficient\n",
    "\n",
    "fig, ax = plt.subplots()\n",
    "a = np.linspace(-2,4.5,13) ## \n",
    "a1 = np.linspace(-2,4.5,13) \n",
    "\n",
    "ax.plot(a, J(-18,a,x,y,m=len(x)), c='C0')\n",
    "for i in range(len(a1)):\n",
    "    ax.plot(a1[i], J(-18,a1[i],x,y,m=len(x)), 'o', label='J(a0,%.1f)' %a1[i])\n",
    "plt.legend();"
   ]
  },
  {
   "cell_type": "code",
   "execution_count": 19,
   "metadata": {
    "colab": {
     "base_uri": "https://localhost:8080/",
     "height": 248
    },
    "colab_type": "code",
    "id": "R_WItky4cTED",
    "outputId": "4897d4d7-071a-4b1a-f1ce-804788bf9e37"
   },
   "outputs": [
    {
     "data": {
      "image/png": "[encoded data removed]",
      "text/plain": [
       "<Figure size 432x288 with 1 Axes>"
      ]
     },
     "metadata": {
      "needs_background": "light"
     },
     "output_type": "display_data"
    }
   ],
   "source": [
    "# Plotting Cost Function for coefficient and intercept \n",
    "\n",
    "from mpl_toolkits.mplot3d.axes3d import Axes3D\n",
    "fig = plt.figure()\n",
    "ax = fig.add_subplot(1,1,1,projection='3d')\n",
    "a0 = np.linspace(-100,100,10)\n",
    "a1 = np.linspace(-1,4,20)\n",
    "aa0, aa1 = np.meshgrid(a0, a1)\n",
    "ax.plot_surface(aa0, aa1, J(aa0,aa1,x,y,m=len(x)))\n",
    "ax.view_init(50,-150)"
   ]
  },
  {
   "cell_type": "markdown",
   "metadata": {
    "colab_type": "text",
    "id": "7ZbxMRooc540"
   },
   "source": [
    "# 6. Gradient Descent "
   ]
  },
  {
   "cell_type": "markdown",
   "metadata": {},
   "source": [
    "> Let's see the gradient descent is action."
   ]
  },
  {
   "cell_type": "markdown",
   "metadata": {
    "colab_type": "text",
    "id": "pMfzROdelnga"
   },
   "source": [
    "## 6.1. Original Regression"
   ]
  },
  {
   "cell_type": "code",
   "execution_count": 0,
   "metadata": {
    "colab": {
     "base_uri": "https://localhost:8080/",
     "height": 289
    },
    "colab_type": "code",
    "id": "xxQIWccSc3G9",
    "outputId": "2784a3c1-d8b9-4de9-e201-03e497bb29f0"
   },
   "outputs": [
    {
     "data": {
      "text/plain": [
       "(0.0, 110.0)"
      ]
     },
     "execution_count": 14,
     "metadata": {
      "tags": []
     },
     "output_type": "execute_result"
    },
    {
     "data": {
      "image/png": "[encoded data removed]",
      "text/plain": [
       "<Figure size 432x288 with 1 Axes>"
      ]
     },
     "metadata": {
      "needs_background": "light",
      "tags": []
     },
     "output_type": "display_data"
    }
   ],
   "source": [
    "fig, ax = plt.subplots()\n",
    "ax.plot(x,y, 'o', color='g', label='training data')\n",
    "ax.plot(x, -18 + 1.3*x, label='y = {} + {} x'.format(-18, 1.3))\n",
    "plt.legend();\n",
    "plt.ylim(0, 140)\n",
    "plt.xlim(0, 110)"
   ]
  },
  {
   "cell_type": "code",
   "execution_count": 39,
   "metadata": {
    "colab": {
     "base_uri": "https://localhost:8080/",
     "height": 34
    },
    "colab_type": "code",
    "id": "t8DBlSD-dJT7",
    "outputId": "fc4d16c4-7585-4c17-f131-f830bcec28c4"
   },
   "outputs": [
    {
     "data": {
      "text/plain": [
       "1248.1500000000003"
      ]
     },
     "execution_count": 39,
     "metadata": {
      "tags": []
     },
     "output_type": "execute_result"
    }
   ],
   "source": [
    "# Calculating SSR\n",
    "\n",
    "y_pred = []\n",
    "r = []\n",
    "for i in x:\n",
    "    y_pred.append(-18 + 1.3*i)\n",
    "    \n",
    "for i in range(0, len(x)):\n",
    "    r.append((y[i]-y_pred[i])**2)\n",
    "\n",
    "np.sum(r)"
   ]
  },
  {
   "cell_type": "markdown",
   "metadata": {
    "colab_type": "text",
    "id": "1VU9Vz84ARFM"
   },
   "source": [
    "## 6.2. Gradient Steps"
   ]
  },
  {
   "cell_type": "markdown",
   "metadata": {
    "colab_type": "text",
    "id": "iB5NAxKTTjSH"
   },
   "source": [
    "We know that our cost function $J(a)$ is\n",
    "\n",
    "$\n",
    "\\begin{equation}\n",
    "\\begin{split}\n",
    "    J(a) &= \\sum\\Big(y_i - (ax_i-18)\\Big)^2 \\\\\n",
    "    &= \\Big(31-(a*30-18)\\Big)^2+\\Big(30-(a*46-18)\\Big)^2+\\Big(80-(a*60-18)\\Big)^2+\\\\\n",
    "    &+\\Big(49-(a*65-18)\\Big)^2+\\Big(70-(a*77-18)\\Big)^2+\\Big(118-(a*95-18)\\Big)^2\n",
    "\\end{split}\n",
    "\\end{equation}\n",
    "$"
   ]
  },
  {
   "cell_type": "markdown",
   "metadata": {
    "colab_type": "text",
    "id": "UzjHObRQT_g3"
   },
   "source": [
    "Let's take the derivative of this function with the respect to parameter $a$:\n",
    "\n",
    "\\begin{equation}\n",
    "\\begin{split}\n",
    "    \\underbrace{\\frac{\\partial}{\\partial \\ a} \\ J(a)}_\\text{slope} &=\\underbrace{\\frac{\\partial}{\\partial \\ a}\\Big(31-(a*30-18)\\Big)^2}_\\text{2*30*(31-(a*30-18))*(-1)}+\\frac{\\partial}{\\partial \\ a}\\Big(30-(a*46-18)\\Big)^2+\\frac{\\partial}{\\partial \\ a}\\Big(80-(a*60-18)\\Big)^2+\\\\\n",
    "    &+\\frac{\\partial}{\\partial \\ a}\\Big(49-(a*65-18)\\Big)^2+\\frac{\\partial}{\\partial \\ a}\\Big(70-(a*77-18)\\Big)^2+\\frac{\\partial}{\\partial \\ a}\\Big(118-(a*95-18)\\Big)^2\n",
    "\\end{split}\n",
    "\\end{equation}\n",
    "\n",
    "Using a chain rule for each term, we will get this equation: \n",
    "\n",
    "\\begin{equation}\n",
    "\\begin{split}\n",
    "    \\frac{\\partial}{\\partial \\ a} \\ J(a) &=(-2*30)\\Big(31-(a*30-18)\\Big)+(-2*46)\\Big(30-(a*46-18)\\Big)+(-2*60)\\Big(80-(a*60-18)\\Big)+\\\\\n",
    "    &+(-2*65)\\Big(49-(a*65-18)\\Big)+(-2*77)\\Big(70-(a*77-18)\\Big)+(-2*95)\\Big(118-(a*95-18)\\Big)\n",
    "\\end{split}\n",
    "\\end{equation}\n",
    "\n",
    "\n"
   ]
  },
  {
   "cell_type": "markdown",
   "metadata": {
    "colab_type": "text",
    "id": "EhWP6YV0UdEe"
   },
   "source": [
    "Now that we have the derivative, gradient descent will use it to find where the Sum of Squared Residuals is the lowest. Our algorithm does not know the true value of $a$ that would minimize $J(a)$ (which is $a=1.3$). Hence, it will start by setting $a=0$. "
   ]
  },
  {
   "cell_type": "markdown",
   "metadata": {},
   "source": [
    "### 6.2.0 First, let's derive cost function"
   ]
  },
  {
   "cell_type": "code",
   "execution_count": 63,
   "metadata": {},
   "outputs": [],
   "source": [
    "# !pip3 install sympy\n",
    "import sympy as sym"
   ]
  },
  {
   "cell_type": "code",
   "execution_count": 546,
   "metadata": {},
   "outputs": [
    {
     "data": {
      "text/latex": [
       "$\\displaystyle 51590 a - 67218$"
      ],
      "text/plain": [
       "51590*a - 67218"
      ]
     },
     "execution_count": 546,
     "metadata": {},
     "output_type": "execute_result"
    }
   ],
   "source": [
    "# Calculating a derivative\n",
    "a = sym.Symbol('a')\n",
    "f = (31-(a*30-18))**2+(30-(a*46-18))**2+(80-(a*60-18))**2+(49-(a*65-18))**2+(70-(a*77-18))**2+(118-(a*95-18))**2\n",
    "sym.diff(f)"
   ]
  },
  {
   "cell_type": "markdown",
   "metadata": {},
   "source": [
    "### 6.2.1. Step 1 "
   ]
  },
  {
   "cell_type": "markdown",
   "metadata": {},
   "source": [
    "First step is to plug $a=0$ into the derivative:"
   ]
  },
  {
   "cell_type": "code",
   "execution_count": 574,
   "metadata": {},
   "outputs": [
    {
     "name": "stdout",
     "output_type": "stream",
     "text": [
      "Derivative =  -67218\n"
     ]
    }
   ],
   "source": [
    "a = 0\n",
    "d = 51590*a-67218\n",
    "\n",
    "print('Derivative = ', d)"
   ]
  },
  {
   "cell_type": "markdown",
   "metadata": {},
   "source": [
    "Thus, when $a=0$, the slope of the curve = -67218. \n",
    "\n",
    "Gradient descent use step size to get to the minimum point. The closer we get to the optimal value for the $a$, the smaller the step sizes. Gradient descent determines the **Step Size** by multiplying the slope $a$ by a small number called the learning rate $l$. \n",
    "\n",
    "For now, let's take $l=0.00001$ and calculate the Step Size:\n",
    "\n",
    "\\begin{equation}\n",
    "    \\begin{split}\n",
    "        Step \\ Size &= J(a) * l \\\\\n",
    "        &=(-67218)*0.00001 \\\\\n",
    "        &=-0.67218\n",
    "    \\end{split}\n",
    "\\end{equation}"
   ]
  },
  {
   "cell_type": "code",
   "execution_count": 575,
   "metadata": {},
   "outputs": [
    {
     "name": "stdout",
     "output_type": "stream",
     "text": [
      "Step Size =  -0.67218\n"
     ]
    }
   ],
   "source": [
    "l = 0.00001\n",
    "\n",
    "\n",
    "step_size = d*l\n",
    "print('Step Size = ', step_size)"
   ]
  },
  {
   "cell_type": "markdown",
   "metadata": {},
   "source": [
    "And then we update $a$: \n",
    "\\begin{equation}\n",
    "    \\begin{split}\n",
    "        a_{new} &= a - Step \\ Size \\\\\n",
    "        &=0-(-0.67218)=0.67218\n",
    "    \\end{split}\n",
    "\\end{equation}\n",
    "\n"
   ]
  },
  {
   "cell_type": "code",
   "execution_count": 576,
   "metadata": {},
   "outputs": [
    {
     "name": "stdout",
     "output_type": "stream",
     "text": [
      "At Step 1, a =  0.67218\n"
     ]
    }
   ],
   "source": [
    "a = a-step_size\n",
    "print('At Step 1, a = ', a)"
   ]
  },
  {
   "cell_type": "markdown",
   "metadata": {
    "colab_type": "text",
    "id": "2PHqFpeZV8qy"
   },
   "source": [
    "### 6.2.2. Step 2"
   ]
  },
  {
   "cell_type": "markdown",
   "metadata": {
    "colab_type": "text",
    "id": "X5_xJ9w7XE97"
   },
   "source": [
    "Following the same logic, we now use the new coefficient $a$ to calculate new  derivative:"
   ]
  },
  {
   "cell_type": "code",
   "execution_count": 577,
   "metadata": {
    "colab": {
     "base_uri": "https://localhost:8080/",
     "height": 34
    },
    "colab_type": "code",
    "id": "dIA4Aqf5KqYr",
    "outputId": "bb54694c-43b9-4336-9143-d8a992a4fc23"
   },
   "outputs": [
    {
     "name": "stdout",
     "output_type": "stream",
     "text": [
      "Derivative =  -32540.2338\n"
     ]
    }
   ],
   "source": [
    "d = 51590*a-67218\n",
    "print('Derivative = ', round(d, 4))"
   ]
  },
  {
   "cell_type": "code",
   "execution_count": 578,
   "metadata": {
    "colab": {
     "base_uri": "https://localhost:8080/",
     "height": 34
    },
    "colab_type": "code",
    "id": "qVuaqC0KKswx",
    "outputId": "e8dcfa71-ac0b-415a-8cbe-ab28ee00babc",
    "scrolled": true
   },
   "outputs": [
    {
     "name": "stdout",
     "output_type": "stream",
     "text": [
      "Step Size =  -0.3254\n"
     ]
    }
   ],
   "source": [
    "step_size = d*l\n",
    "print('Step Size = ', round(step_size, 5))"
   ]
  },
  {
   "cell_type": "code",
   "execution_count": 579,
   "metadata": {
    "colab": {
     "base_uri": "https://localhost:8080/",
     "height": 34
    },
    "colab_type": "code",
    "id": "TgTmNCykXSDm",
    "outputId": "180beb67-d025-4b8a-8027-ec3dcdea568e",
    "scrolled": true
   },
   "outputs": [
    {
     "name": "stdout",
     "output_type": "stream",
     "text": [
      "At Step 2, a =  0.99758\n"
     ]
    }
   ],
   "source": [
    "a = a-step_size\n",
    "print('At Step 2, a = ', round(a, 5))"
   ]
  },
  {
   "cell_type": "markdown",
   "metadata": {
    "colab_type": "text",
    "id": "2PHqFpeZV8qy"
   },
   "source": [
    "### 6.2.3. Step 3"
   ]
  },
  {
   "cell_type": "code",
   "execution_count": 580,
   "metadata": {
    "colab": {
     "base_uri": "https://localhost:8080/",
     "height": 34
    },
    "colab_type": "code",
    "id": "dIA4Aqf5KqYr",
    "outputId": "bb54694c-43b9-4336-9143-d8a992a4fc23",
    "scrolled": true
   },
   "outputs": [
    {
     "name": "stdout",
     "output_type": "stream",
     "text": [
      "Derivative =  -15752.7272\n"
     ]
    }
   ],
   "source": [
    "d = 51590*a-67218\n",
    "print('Derivative = ', round(d, 4))"
   ]
  },
  {
   "cell_type": "code",
   "execution_count": 581,
   "metadata": {
    "colab": {
     "base_uri": "https://localhost:8080/",
     "height": 34
    },
    "colab_type": "code",
    "id": "qVuaqC0KKswx",
    "outputId": "e8dcfa71-ac0b-415a-8cbe-ab28ee00babc",
    "scrolled": false
   },
   "outputs": [
    {
     "name": "stdout",
     "output_type": "stream",
     "text": [
      "Step Size =  -0.15753\n"
     ]
    }
   ],
   "source": [
    "step_size = d*l\n",
    "print('Step Size = ', round(step_size, 5))"
   ]
  },
  {
   "cell_type": "code",
   "execution_count": 582,
   "metadata": {
    "colab": {
     "base_uri": "https://localhost:8080/",
     "height": 34
    },
    "colab_type": "code",
    "id": "TgTmNCykXSDm",
    "outputId": "180beb67-d025-4b8a-8027-ec3dcdea568e",
    "scrolled": false
   },
   "outputs": [
    {
     "name": "stdout",
     "output_type": "stream",
     "text": [
      "At Step 3, a =  1.15511\n"
     ]
    }
   ],
   "source": [
    "a = a-step_size\n",
    "print('At Step 3, a = ', round(a, 5))"
   ]
  },
  {
   "cell_type": "markdown",
   "metadata": {
    "colab_type": "text",
    "id": "2PHqFpeZV8qy"
   },
   "source": [
    "### 6.2.4. Step 4"
   ]
  },
  {
   "cell_type": "code",
   "execution_count": 583,
   "metadata": {
    "colab": {
     "base_uri": "https://localhost:8080/",
     "height": 34
    },
    "colab_type": "code",
    "id": "dIA4Aqf5KqYr",
    "outputId": "bb54694c-43b9-4336-9143-d8a992a4fc23",
    "scrolled": true
   },
   "outputs": [
    {
     "name": "stdout",
     "output_type": "stream",
     "text": [
      "Derivative =  -7625.8952\n"
     ]
    }
   ],
   "source": [
    "d = 51590*a-67218\n",
    "print('Derivative = ', round(d, 4))"
   ]
  },
  {
   "cell_type": "code",
   "execution_count": 584,
   "metadata": {
    "colab": {
     "base_uri": "https://localhost:8080/",
     "height": 34
    },
    "colab_type": "code",
    "id": "qVuaqC0KKswx",
    "outputId": "e8dcfa71-ac0b-415a-8cbe-ab28ee00babc",
    "scrolled": false
   },
   "outputs": [
    {
     "name": "stdout",
     "output_type": "stream",
     "text": [
      "Step Size =  -0.07626\n"
     ]
    }
   ],
   "source": [
    "step_size = d*l\n",
    "print('Step Size = ', round(step_size, 5))"
   ]
  },
  {
   "cell_type": "code",
   "execution_count": 585,
   "metadata": {
    "colab": {
     "base_uri": "https://localhost:8080/",
     "height": 34
    },
    "colab_type": "code",
    "id": "TgTmNCykXSDm",
    "outputId": "180beb67-d025-4b8a-8027-ec3dcdea568e",
    "scrolled": true
   },
   "outputs": [
    {
     "name": "stdout",
     "output_type": "stream",
     "text": [
      "At Step 4, a =  1.23137\n"
     ]
    }
   ],
   "source": [
    "a = a-step_size\n",
    "print('At Step 4, a = ', round(a, 5))"
   ]
  },
  {
   "cell_type": "markdown",
   "metadata": {
    "colab_type": "text",
    "id": "2PHqFpeZV8qy"
   },
   "source": [
    "### 6.2.5. Step 5"
   ]
  },
  {
   "cell_type": "code",
   "execution_count": 586,
   "metadata": {
    "colab": {
     "base_uri": "https://localhost:8080/",
     "height": 34
    },
    "colab_type": "code",
    "id": "dIA4Aqf5KqYr",
    "outputId": "bb54694c-43b9-4336-9143-d8a992a4fc23",
    "scrolled": true
   },
   "outputs": [
    {
     "name": "stdout",
     "output_type": "stream",
     "text": [
      "Derivative =  -3691.6959\n"
     ]
    }
   ],
   "source": [
    "d = 51590*a-67218\n",
    "print('Derivative = ', round(d, 4))"
   ]
  },
  {
   "cell_type": "code",
   "execution_count": 587,
   "metadata": {
    "colab": {
     "base_uri": "https://localhost:8080/",
     "height": 34
    },
    "colab_type": "code",
    "id": "qVuaqC0KKswx",
    "outputId": "e8dcfa71-ac0b-415a-8cbe-ab28ee00babc",
    "scrolled": false
   },
   "outputs": [
    {
     "name": "stdout",
     "output_type": "stream",
     "text": [
      "Step Size =  -0.03692\n"
     ]
    }
   ],
   "source": [
    "step_size = d*l\n",
    "print('Step Size = ', round(step_size, 5))"
   ]
  },
  {
   "cell_type": "code",
   "execution_count": 588,
   "metadata": {
    "colab": {
     "base_uri": "https://localhost:8080/",
     "height": 34
    },
    "colab_type": "code",
    "id": "TgTmNCykXSDm",
    "outputId": "180beb67-d025-4b8a-8027-ec3dcdea568e",
    "scrolled": true
   },
   "outputs": [
    {
     "name": "stdout",
     "output_type": "stream",
     "text": [
      "At Step 5, a =  1.26829\n"
     ]
    }
   ],
   "source": [
    "a = a-step_size\n",
    "print('At Step 5, a = ', round(a, 5))"
   ]
  },
  {
   "cell_type": "markdown",
   "metadata": {
    "colab_type": "text",
    "id": "2PHqFpeZV8qy"
   },
   "source": [
    "### 6.2.6. Step 6"
   ]
  },
  {
   "cell_type": "code",
   "execution_count": 589,
   "metadata": {
    "colab": {
     "base_uri": "https://localhost:8080/",
     "height": 34
    },
    "colab_type": "code",
    "id": "dIA4Aqf5KqYr",
    "outputId": "bb54694c-43b9-4336-9143-d8a992a4fc23",
    "scrolled": true
   },
   "outputs": [
    {
     "name": "stdout",
     "output_type": "stream",
     "text": [
      "Derivative =  -1787.15\n"
     ]
    }
   ],
   "source": [
    "d = 51590*a-67218\n",
    "print('Derivative = ', round(d, 4))"
   ]
  },
  {
   "cell_type": "code",
   "execution_count": 590,
   "metadata": {
    "colab": {
     "base_uri": "https://localhost:8080/",
     "height": 34
    },
    "colab_type": "code",
    "id": "qVuaqC0KKswx",
    "outputId": "e8dcfa71-ac0b-415a-8cbe-ab28ee00babc",
    "scrolled": false
   },
   "outputs": [
    {
     "name": "stdout",
     "output_type": "stream",
     "text": [
      "Step Size =  -0.01787\n"
     ]
    }
   ],
   "source": [
    "step_size = d*l\n",
    "print('Step Size = ', round(step_size, 5))"
   ]
  },
  {
   "cell_type": "code",
   "execution_count": 591,
   "metadata": {
    "colab": {
     "base_uri": "https://localhost:8080/",
     "height": 34
    },
    "colab_type": "code",
    "id": "TgTmNCykXSDm",
    "outputId": "180beb67-d025-4b8a-8027-ec3dcdea568e",
    "scrolled": true
   },
   "outputs": [
    {
     "name": "stdout",
     "output_type": "stream",
     "text": [
      "At Step 6, a =  1.28616\n"
     ]
    }
   ],
   "source": [
    "a = a-step_size\n",
    "print('At Step 6, a = ', round(a, 5))"
   ]
  },
  {
   "cell_type": "markdown",
   "metadata": {
    "colab_type": "text",
    "id": "2PHqFpeZV8qy"
   },
   "source": [
    "### 6.2.7. Step 7"
   ]
  },
  {
   "cell_type": "code",
   "execution_count": 592,
   "metadata": {
    "colab": {
     "base_uri": "https://localhost:8080/",
     "height": 34
    },
    "colab_type": "code",
    "id": "dIA4Aqf5KqYr",
    "outputId": "bb54694c-43b9-4336-9143-d8a992a4fc23",
    "scrolled": true
   },
   "outputs": [
    {
     "name": "stdout",
     "output_type": "stream",
     "text": [
      "Derivative =  -865.1593\n"
     ]
    }
   ],
   "source": [
    "d = 51590*a-67218\n",
    "print('Derivative = ', round(d, 4))"
   ]
  },
  {
   "cell_type": "code",
   "execution_count": 593,
   "metadata": {
    "colab": {
     "base_uri": "https://localhost:8080/",
     "height": 34
    },
    "colab_type": "code",
    "id": "qVuaqC0KKswx",
    "outputId": "e8dcfa71-ac0b-415a-8cbe-ab28ee00babc",
    "scrolled": false
   },
   "outputs": [
    {
     "name": "stdout",
     "output_type": "stream",
     "text": [
      "Step Size =  -0.00865\n"
     ]
    }
   ],
   "source": [
    "step_size = d*l\n",
    "print('Step Size = ', round(step_size, 5))"
   ]
  },
  {
   "cell_type": "code",
   "execution_count": 594,
   "metadata": {
    "colab": {
     "base_uri": "https://localhost:8080/",
     "height": 34
    },
    "colab_type": "code",
    "id": "TgTmNCykXSDm",
    "outputId": "180beb67-d025-4b8a-8027-ec3dcdea568e",
    "scrolled": true
   },
   "outputs": [
    {
     "name": "stdout",
     "output_type": "stream",
     "text": [
      "At Step 7, a =  1.29481\n"
     ]
    }
   ],
   "source": [
    "a = a-step_size\n",
    "print('At Step 7, a = ', round(a, 5))"
   ]
  },
  {
   "cell_type": "markdown",
   "metadata": {
    "colab_type": "text",
    "id": "2PHqFpeZV8qy"
   },
   "source": [
    "### 6.2.8. Step 8"
   ]
  },
  {
   "cell_type": "code",
   "execution_count": 595,
   "metadata": {
    "colab": {
     "base_uri": "https://localhost:8080/",
     "height": 34
    },
    "colab_type": "code",
    "id": "dIA4Aqf5KqYr",
    "outputId": "bb54694c-43b9-4336-9143-d8a992a4fc23",
    "scrolled": true
   },
   "outputs": [
    {
     "name": "stdout",
     "output_type": "stream",
     "text": [
      "Derivative =  -418.8236\n"
     ]
    }
   ],
   "source": [
    "d = 51590*a-67218\n",
    "print('Derivative = ', round(d, 4))"
   ]
  },
  {
   "cell_type": "code",
   "execution_count": 596,
   "metadata": {
    "colab": {
     "base_uri": "https://localhost:8080/",
     "height": 34
    },
    "colab_type": "code",
    "id": "qVuaqC0KKswx",
    "outputId": "e8dcfa71-ac0b-415a-8cbe-ab28ee00babc",
    "scrolled": false
   },
   "outputs": [
    {
     "name": "stdout",
     "output_type": "stream",
     "text": [
      "Step Size =  -0.00419\n"
     ]
    }
   ],
   "source": [
    "step_size = d*l\n",
    "print('Step Size = ', round(step_size, 5))"
   ]
  },
  {
   "cell_type": "code",
   "execution_count": 597,
   "metadata": {
    "colab": {
     "base_uri": "https://localhost:8080/",
     "height": 34
    },
    "colab_type": "code",
    "id": "TgTmNCykXSDm",
    "outputId": "180beb67-d025-4b8a-8027-ec3dcdea568e",
    "scrolled": false
   },
   "outputs": [
    {
     "name": "stdout",
     "output_type": "stream",
     "text": [
      "At Step 8, a =  1.299\n"
     ]
    }
   ],
   "source": [
    "a = a-step_size\n",
    "print('At Step 8, a = ', round(a, 5))"
   ]
  },
  {
   "cell_type": "markdown",
   "metadata": {
    "colab_type": "text",
    "id": "2PHqFpeZV8qy"
   },
   "source": [
    "### 6.2.9. Step 9"
   ]
  },
  {
   "cell_type": "code",
   "execution_count": 598,
   "metadata": {
    "colab": {
     "base_uri": "https://localhost:8080/",
     "height": 34
    },
    "colab_type": "code",
    "id": "dIA4Aqf5KqYr",
    "outputId": "bb54694c-43b9-4336-9143-d8a992a4fc23",
    "scrolled": true
   },
   "outputs": [
    {
     "name": "stdout",
     "output_type": "stream",
     "text": [
      "Derivative =  -202.7525\n"
     ]
    }
   ],
   "source": [
    "d = 51590*a-67218\n",
    "print('Derivative = ', round(d, 4))"
   ]
  },
  {
   "cell_type": "code",
   "execution_count": 599,
   "metadata": {
    "colab": {
     "base_uri": "https://localhost:8080/",
     "height": 34
    },
    "colab_type": "code",
    "id": "qVuaqC0KKswx",
    "outputId": "e8dcfa71-ac0b-415a-8cbe-ab28ee00babc",
    "scrolled": false
   },
   "outputs": [
    {
     "name": "stdout",
     "output_type": "stream",
     "text": [
      "Step Size =  -0.00203\n"
     ]
    }
   ],
   "source": [
    "step_size = d*l\n",
    "print('Step Size = ', round(step_size, 5))"
   ]
  },
  {
   "cell_type": "code",
   "execution_count": 600,
   "metadata": {
    "colab": {
     "base_uri": "https://localhost:8080/",
     "height": 34
    },
    "colab_type": "code",
    "id": "TgTmNCykXSDm",
    "outputId": "180beb67-d025-4b8a-8027-ec3dcdea568e",
    "scrolled": true
   },
   "outputs": [
    {
     "name": "stdout",
     "output_type": "stream",
     "text": [
      "At Step 9, a =  1.30102\n"
     ]
    }
   ],
   "source": [
    "a = a-step_size\n",
    "print('At Step 9, a = ', round(a, 5))"
   ]
  },
  {
   "cell_type": "markdown",
   "metadata": {
    "colab_type": "text",
    "id": "2PHqFpeZV8qy"
   },
   "source": [
    "### 6.2.10. Step 10"
   ]
  },
  {
   "cell_type": "code",
   "execution_count": 601,
   "metadata": {
    "colab": {
     "base_uri": "https://localhost:8080/",
     "height": 34
    },
    "colab_type": "code",
    "id": "dIA4Aqf5KqYr",
    "outputId": "bb54694c-43b9-4336-9143-d8a992a4fc23",
    "scrolled": true
   },
   "outputs": [
    {
     "name": "stdout",
     "output_type": "stream",
     "text": [
      "Derivative =  -98.1525\n"
     ]
    }
   ],
   "source": [
    "d = 51590*a-67218\n",
    "print('Derivative = ', round(d, 4))"
   ]
  },
  {
   "cell_type": "code",
   "execution_count": 602,
   "metadata": {
    "colab": {
     "base_uri": "https://localhost:8080/",
     "height": 34
    },
    "colab_type": "code",
    "id": "qVuaqC0KKswx",
    "outputId": "e8dcfa71-ac0b-415a-8cbe-ab28ee00babc",
    "scrolled": false
   },
   "outputs": [
    {
     "name": "stdout",
     "output_type": "stream",
     "text": [
      "Step Size =  -0.00098\n"
     ]
    }
   ],
   "source": [
    "step_size = d*l\n",
    "print('Step Size = ', round(step_size, 5))"
   ]
  },
  {
   "cell_type": "code",
   "execution_count": 603,
   "metadata": {
    "colab": {
     "base_uri": "https://localhost:8080/",
     "height": 34
    },
    "colab_type": "code",
    "id": "TgTmNCykXSDm",
    "outputId": "180beb67-d025-4b8a-8027-ec3dcdea568e",
    "scrolled": false
   },
   "outputs": [
    {
     "name": "stdout",
     "output_type": "stream",
     "text": [
      "At Step 10, a =  1.30201\n"
     ]
    }
   ],
   "source": [
    "a = a-step_size\n",
    "print('At Step 10, a = ', round(a, 5))"
   ]
  },
  {
   "cell_type": "markdown",
   "metadata": {
    "colab_type": "text",
    "id": "2PHqFpeZV8qy"
   },
   "source": [
    "### 6.2.11. Step 11"
   ]
  },
  {
   "cell_type": "code",
   "execution_count": 604,
   "metadata": {
    "colab": {
     "base_uri": "https://localhost:8080/",
     "height": 34
    },
    "colab_type": "code",
    "id": "dIA4Aqf5KqYr",
    "outputId": "bb54694c-43b9-4336-9143-d8a992a4fc23",
    "scrolled": true
   },
   "outputs": [
    {
     "name": "stdout",
     "output_type": "stream",
     "text": [
      "Derivative =  -47.5156\n"
     ]
    }
   ],
   "source": [
    "d = 51590*a-67218\n",
    "print('Derivative = ', round(d, 4))"
   ]
  },
  {
   "cell_type": "code",
   "execution_count": 605,
   "metadata": {
    "colab": {
     "base_uri": "https://localhost:8080/",
     "height": 34
    },
    "colab_type": "code",
    "id": "qVuaqC0KKswx",
    "outputId": "e8dcfa71-ac0b-415a-8cbe-ab28ee00babc",
    "scrolled": false
   },
   "outputs": [
    {
     "name": "stdout",
     "output_type": "stream",
     "text": [
      "Step Size =  -0.00048\n"
     ]
    }
   ],
   "source": [
    "step_size = d*l\n",
    "print('Step Size = ', round(step_size, 5))"
   ]
  },
  {
   "cell_type": "code",
   "execution_count": 606,
   "metadata": {
    "colab": {
     "base_uri": "https://localhost:8080/",
     "height": 34
    },
    "colab_type": "code",
    "id": "TgTmNCykXSDm",
    "outputId": "180beb67-d025-4b8a-8027-ec3dcdea568e",
    "scrolled": true
   },
   "outputs": [
    {
     "name": "stdout",
     "output_type": "stream",
     "text": [
      "At Step 11, a =  1.30248\n"
     ]
    }
   ],
   "source": [
    "a = a-step_size\n",
    "print('At Step 11, a = ', round(a, 5))"
   ]
  },
  {
   "cell_type": "markdown",
   "metadata": {
    "colab_type": "text",
    "id": "2PHqFpeZV8qy"
   },
   "source": [
    "### 6.2.12. Step 12"
   ]
  },
  {
   "cell_type": "code",
   "execution_count": 607,
   "metadata": {
    "colab": {
     "base_uri": "https://localhost:8080/",
     "height": 34
    },
    "colab_type": "code",
    "id": "dIA4Aqf5KqYr",
    "outputId": "bb54694c-43b9-4336-9143-d8a992a4fc23",
    "scrolled": true
   },
   "outputs": [
    {
     "name": "stdout",
     "output_type": "stream",
     "text": [
      "Derivative =  -23.0023\n"
     ]
    }
   ],
   "source": [
    "d = 51590*a-67218\n",
    "print('Derivative = ', round(d, 4))"
   ]
  },
  {
   "cell_type": "code",
   "execution_count": 608,
   "metadata": {
    "colab": {
     "base_uri": "https://localhost:8080/",
     "height": 34
    },
    "colab_type": "code",
    "id": "qVuaqC0KKswx",
    "outputId": "e8dcfa71-ac0b-415a-8cbe-ab28ee00babc",
    "scrolled": false
   },
   "outputs": [
    {
     "name": "stdout",
     "output_type": "stream",
     "text": [
      "Step Size =  -0.00023\n"
     ]
    }
   ],
   "source": [
    "step_size = d*l\n",
    "print('Step Size = ', round(step_size, 5))"
   ]
  },
  {
   "cell_type": "code",
   "execution_count": 609,
   "metadata": {
    "colab": {
     "base_uri": "https://localhost:8080/",
     "height": 34
    },
    "colab_type": "code",
    "id": "TgTmNCykXSDm",
    "outputId": "180beb67-d025-4b8a-8027-ec3dcdea568e",
    "scrolled": true
   },
   "outputs": [
    {
     "name": "stdout",
     "output_type": "stream",
     "text": [
      "At Step 12, a =  1.30271\n"
     ]
    }
   ],
   "source": [
    "a = a-step_size\n",
    "print('At Step 12, a = ', round(a, 5))"
   ]
  },
  {
   "cell_type": "markdown",
   "metadata": {
    "colab_type": "text",
    "id": "2PHqFpeZV8qy"
   },
   "source": [
    "### 6.2.13. Step 13"
   ]
  },
  {
   "cell_type": "code",
   "execution_count": 610,
   "metadata": {
    "colab": {
     "base_uri": "https://localhost:8080/",
     "height": 34
    },
    "colab_type": "code",
    "id": "dIA4Aqf5KqYr",
    "outputId": "bb54694c-43b9-4336-9143-d8a992a4fc23",
    "scrolled": true
   },
   "outputs": [
    {
     "name": "stdout",
     "output_type": "stream",
     "text": [
      "Derivative =  -11.1354\n"
     ]
    }
   ],
   "source": [
    "d = 51590*a-67218\n",
    "print('Derivative = ', round(d, 4))"
   ]
  },
  {
   "cell_type": "code",
   "execution_count": 611,
   "metadata": {
    "colab": {
     "base_uri": "https://localhost:8080/",
     "height": 34
    },
    "colab_type": "code",
    "id": "qVuaqC0KKswx",
    "outputId": "e8dcfa71-ac0b-415a-8cbe-ab28ee00babc",
    "scrolled": false
   },
   "outputs": [
    {
     "name": "stdout",
     "output_type": "stream",
     "text": [
      "Step Size =  -0.00011\n"
     ]
    }
   ],
   "source": [
    "step_size = d*l\n",
    "print('Step Size = ', round(step_size, 5))"
   ]
  },
  {
   "cell_type": "code",
   "execution_count": 612,
   "metadata": {
    "colab": {
     "base_uri": "https://localhost:8080/",
     "height": 34
    },
    "colab_type": "code",
    "id": "TgTmNCykXSDm",
    "outputId": "180beb67-d025-4b8a-8027-ec3dcdea568e",
    "scrolled": true
   },
   "outputs": [
    {
     "name": "stdout",
     "output_type": "stream",
     "text": [
      "At Step 13, a =  1.30282\n"
     ]
    }
   ],
   "source": [
    "a = a-step_size\n",
    "print('At Step 13, a = ', round(a, 5))"
   ]
  },
  {
   "cell_type": "markdown",
   "metadata": {
    "colab_type": "text",
    "id": "2PHqFpeZV8qy"
   },
   "source": [
    "### 6.2.14. Step 14"
   ]
  },
  {
   "cell_type": "code",
   "execution_count": 613,
   "metadata": {
    "colab": {
     "base_uri": "https://localhost:8080/",
     "height": 34
    },
    "colab_type": "code",
    "id": "dIA4Aqf5KqYr",
    "outputId": "bb54694c-43b9-4336-9143-d8a992a4fc23",
    "scrolled": true
   },
   "outputs": [
    {
     "name": "stdout",
     "output_type": "stream",
     "text": [
      "Derivative =  -5.3907\n"
     ]
    }
   ],
   "source": [
    "d = 51590*a-67218\n",
    "print('Derivative = ', round(d, 4))"
   ]
  },
  {
   "cell_type": "code",
   "execution_count": 614,
   "metadata": {
    "colab": {
     "base_uri": "https://localhost:8080/",
     "height": 34
    },
    "colab_type": "code",
    "id": "qVuaqC0KKswx",
    "outputId": "e8dcfa71-ac0b-415a-8cbe-ab28ee00babc",
    "scrolled": false
   },
   "outputs": [
    {
     "name": "stdout",
     "output_type": "stream",
     "text": [
      "Step Size =  -5e-05\n"
     ]
    }
   ],
   "source": [
    "step_size = d*l\n",
    "print('Step Size = ', round(step_size, 5))"
   ]
  },
  {
   "cell_type": "code",
   "execution_count": 615,
   "metadata": {
    "colab": {
     "base_uri": "https://localhost:8080/",
     "height": 34
    },
    "colab_type": "code",
    "id": "TgTmNCykXSDm",
    "outputId": "180beb67-d025-4b8a-8027-ec3dcdea568e",
    "scrolled": true
   },
   "outputs": [
    {
     "name": "stdout",
     "output_type": "stream",
     "text": [
      "At Step 14, a =  1.30288\n"
     ]
    }
   ],
   "source": [
    "a = a-step_size\n",
    "print('At Step 14, a = ', round(a, 5))"
   ]
  },
  {
   "cell_type": "markdown",
   "metadata": {
    "colab_type": "text",
    "id": "2PHqFpeZV8qy"
   },
   "source": [
    "### 6.2.15. Step 15"
   ]
  },
  {
   "cell_type": "code",
   "execution_count": 616,
   "metadata": {
    "colab": {
     "base_uri": "https://localhost:8080/",
     "height": 34
    },
    "colab_type": "code",
    "id": "dIA4Aqf5KqYr",
    "outputId": "bb54694c-43b9-4336-9143-d8a992a4fc23",
    "scrolled": true
   },
   "outputs": [
    {
     "name": "stdout",
     "output_type": "stream",
     "text": [
      "Derivative =  -2.6096\n"
     ]
    }
   ],
   "source": [
    "d = 51590*a-67218\n",
    "print('Derivative = ', round(d, 4))"
   ]
  },
  {
   "cell_type": "code",
   "execution_count": 617,
   "metadata": {
    "colab": {
     "base_uri": "https://localhost:8080/",
     "height": 34
    },
    "colab_type": "code",
    "id": "qVuaqC0KKswx",
    "outputId": "e8dcfa71-ac0b-415a-8cbe-ab28ee00babc",
    "scrolled": false
   },
   "outputs": [
    {
     "name": "stdout",
     "output_type": "stream",
     "text": [
      "Step Size =  -3e-05\n"
     ]
    }
   ],
   "source": [
    "step_size = d*l\n",
    "print('Step Size = ', round(step_size, 5))"
   ]
  },
  {
   "cell_type": "code",
   "execution_count": 618,
   "metadata": {
    "colab": {
     "base_uri": "https://localhost:8080/",
     "height": 34
    },
    "colab_type": "code",
    "id": "TgTmNCykXSDm",
    "outputId": "180beb67-d025-4b8a-8027-ec3dcdea568e",
    "scrolled": true
   },
   "outputs": [
    {
     "name": "stdout",
     "output_type": "stream",
     "text": [
      "At Step 15, a =  1.3029\n"
     ]
    }
   ],
   "source": [
    "a = a-step_size\n",
    "print('At Step 15, a = ', round(a, 5))"
   ]
  },
  {
   "cell_type": "markdown",
   "metadata": {},
   "source": [
    "## 6.3. Different Initialization"
   ]
  },
  {
   "cell_type": "code",
   "execution_count": 619,
   "metadata": {},
   "outputs": [],
   "source": [
    "a = 2.23"
   ]
  },
  {
   "cell_type": "markdown",
   "metadata": {},
   "source": [
    "### 6.3.1. Step 1"
   ]
  },
  {
   "cell_type": "code",
   "execution_count": 620,
   "metadata": {},
   "outputs": [
    {
     "name": "stdout",
     "output_type": "stream",
     "text": [
      "Derivative =  47827.7\n"
     ]
    }
   ],
   "source": [
    "d = 51590*a-67218\n",
    "print('Derivative = ', d)"
   ]
  },
  {
   "cell_type": "code",
   "execution_count": 621,
   "metadata": {},
   "outputs": [
    {
     "name": "stdout",
     "output_type": "stream",
     "text": [
      "Step Size =  0.478277\n"
     ]
    }
   ],
   "source": [
    "l = 0.00001\n",
    "\n",
    "\n",
    "step_size = d*l\n",
    "print('Step Size = ', step_size)"
   ]
  },
  {
   "cell_type": "code",
   "execution_count": 622,
   "metadata": {},
   "outputs": [
    {
     "name": "stdout",
     "output_type": "stream",
     "text": [
      "At Step 1, a =  1.75172\n"
     ]
    }
   ],
   "source": [
    "a = a-step_size\n",
    "print('At Step 1, a = ', round(a, 5))"
   ]
  },
  {
   "cell_type": "markdown",
   "metadata": {},
   "source": [
    "### 6.3.2. Step 2"
   ]
  },
  {
   "cell_type": "code",
   "execution_count": 623,
   "metadata": {},
   "outputs": [
    {
     "name": "stdout",
     "output_type": "stream",
     "text": [
      "Derivative =  23153.3896\n",
      "Step Size =  0.23153\n",
      "At Step 2, a =  1.52019\n"
     ]
    }
   ],
   "source": [
    "#step 2\n",
    "\n",
    "d = 51590*a-67218\n",
    "print('Derivative = ', round(d, 4))\n",
    "\n",
    "step_size = d*l\n",
    "print('Step Size = ', round(step_size, 5))\n",
    "\n",
    "a = a-step_size\n",
    "print('At Step 2, a = ', round(a, 5))"
   ]
  },
  {
   "cell_type": "markdown",
   "metadata": {},
   "source": [
    "### 6.3.3. Step 3"
   ]
  },
  {
   "cell_type": "code",
   "execution_count": 624,
   "metadata": {},
   "outputs": [
    {
     "name": "stdout",
     "output_type": "stream",
     "text": [
      "Derivative =  11208.5559\n",
      "Step Size =  0.11209\n",
      "At Step 3, a =  1.4081\n"
     ]
    }
   ],
   "source": [
    "#step 3\n",
    "\n",
    "d = 51590*a-67218\n",
    "print('Derivative = ', round(d, 4))\n",
    "\n",
    "step_size = d*l\n",
    "print('Step Size = ', round(step_size, 5))\n",
    "\n",
    "a = a-step_size\n",
    "print('At Step 3, a = ', round(a, 5))"
   ]
  },
  {
   "cell_type": "markdown",
   "metadata": {},
   "source": [
    "### 6.3.4. Step 4"
   ]
  },
  {
   "cell_type": "code",
   "execution_count": 625,
   "metadata": {},
   "outputs": [
    {
     "name": "stdout",
     "output_type": "stream",
     "text": [
      "Derivative =  5426.0619\n",
      "Step Size =  0.05426\n",
      "At Step 4, a =  1.35384\n"
     ]
    }
   ],
   "source": [
    "#step 4\n",
    "\n",
    "d = 51590*a-67218\n",
    "print('Derivative = ', round(d, 4))\n",
    "\n",
    "step_size = d*l\n",
    "print('Step Size = ', round(step_size, 5))\n",
    "\n",
    "a = a-step_size\n",
    "print('At Step 4, a = ', round(a, 5))"
   ]
  },
  {
   "cell_type": "markdown",
   "metadata": {},
   "source": [
    "### 6.3.5. Step 5"
   ]
  },
  {
   "cell_type": "code",
   "execution_count": 626,
   "metadata": {},
   "outputs": [
    {
     "name": "stdout",
     "output_type": "stream",
     "text": [
      "Derivative =  2626.7566\n",
      "Step Size =  0.02627\n",
      "At Step 5, a =  1.32758\n"
     ]
    }
   ],
   "source": [
    "#step 5\n",
    "\n",
    "d = 51590*a-67218\n",
    "print('Derivative = ', round(d, 4))\n",
    "\n",
    "step_size = d*l\n",
    "print('Step Size = ', round(step_size, 5))\n",
    "\n",
    "a = a-step_size\n",
    "print('At Step 5, a = ', round(a, 5))"
   ]
  },
  {
   "cell_type": "markdown",
   "metadata": {},
   "source": [
    "### 6.3.6. Step 6"
   ]
  },
  {
   "cell_type": "code",
   "execution_count": 627,
   "metadata": {},
   "outputs": [
    {
     "name": "stdout",
     "output_type": "stream",
     "text": [
      "Derivative =  1271.6129\n",
      "Step Size =  0.01272\n",
      "At Step 6, a =  1.31486\n"
     ]
    }
   ],
   "source": [
    "#step 6\n",
    "\n",
    "d = 51590*a-67218\n",
    "print('Derivative = ', round(d, 4))\n",
    "\n",
    "step_size = d*l\n",
    "print('Step Size = ', round(step_size, 5))\n",
    "\n",
    "a = a-step_size\n",
    "print('At Step 6, a = ', round(a, 5))"
   ]
  },
  {
   "cell_type": "markdown",
   "metadata": {},
   "source": [
    "### 6.3.7. Step 7"
   ]
  },
  {
   "cell_type": "code",
   "execution_count": 628,
   "metadata": {},
   "outputs": [
    {
     "name": "stdout",
     "output_type": "stream",
     "text": [
      "Derivative =  615.5878\n",
      "Step Size =  0.00616\n",
      "At Step 7, a =  1.3087\n"
     ]
    }
   ],
   "source": [
    "#step 7\n",
    "\n",
    "d = 51590*a-67218\n",
    "print('Derivative = ', round(d, 4))\n",
    "\n",
    "step_size = d*l\n",
    "print('Step Size = ', round(step_size, 5))\n",
    "\n",
    "a = a-step_size\n",
    "print('At Step 7, a = ', round(a, 5))"
   ]
  },
  {
   "cell_type": "markdown",
   "metadata": {},
   "source": [
    "### 6.3.8. Step 8"
   ]
  },
  {
   "cell_type": "code",
   "execution_count": 629,
   "metadata": {},
   "outputs": [
    {
     "name": "stdout",
     "output_type": "stream",
     "text": [
      "Derivative =  298.006\n",
      "Step Size =  0.00298\n",
      "At Step 8, a =  1.30572\n"
     ]
    }
   ],
   "source": [
    "#step 8\n",
    "\n",
    "d = 51590*a-67218\n",
    "print('Derivative = ', round(d, 4))\n",
    "\n",
    "step_size = d*l\n",
    "print('Step Size = ', round(step_size, 5))\n",
    "\n",
    "a = a-step_size\n",
    "print('At Step 8, a = ', round(a, 5))"
   ]
  },
  {
   "cell_type": "markdown",
   "metadata": {},
   "source": [
    "### 6.3.9. Step 9"
   ]
  },
  {
   "cell_type": "code",
   "execution_count": 630,
   "metadata": {},
   "outputs": [
    {
     "name": "stdout",
     "output_type": "stream",
     "text": [
      "Derivative =  144.2647\n",
      "Step Size =  0.00144\n",
      "At Step 9, a =  1.30428\n"
     ]
    }
   ],
   "source": [
    "#step 9\n",
    "\n",
    "d = 51590*a-67218\n",
    "print('Derivative = ', round(d, 4))\n",
    "\n",
    "step_size = d*l\n",
    "print('Step Size = ', round(step_size, 5))\n",
    "\n",
    "a = a-step_size\n",
    "print('At Step 9, a = ', round(a, 5))"
   ]
  },
  {
   "cell_type": "markdown",
   "metadata": {},
   "source": [
    "### 6.3.10. Step 10"
   ]
  },
  {
   "cell_type": "code",
   "execution_count": 631,
   "metadata": {},
   "outputs": [
    {
     "name": "stdout",
     "output_type": "stream",
     "text": [
      "Derivative =  69.8386\n",
      "Step Size =  0.0007\n",
      "At Step 10, a =  1.30358\n"
     ]
    }
   ],
   "source": [
    "#step 10\n",
    "\n",
    "d = 51590*a-67218\n",
    "print('Derivative = ', round(d, 4))\n",
    "\n",
    "step_size = d*l\n",
    "print('Step Size = ', round(step_size, 5))\n",
    "\n",
    "a = a-step_size\n",
    "print('At Step 10, a = ', round(a, 5))"
   ]
  },
  {
   "cell_type": "code",
   "execution_count": 632,
   "metadata": {},
   "outputs": [
    {
     "name": "stdout",
     "output_type": "stream",
     "text": [
      "Derivative =  33.8088\n",
      "Step Size =  0.00034\n",
      "At Step 10, a =  1.30324\n"
     ]
    }
   ],
   "source": [
    "#step 11\n",
    "\n",
    "d = 51590*a-67218\n",
    "print('Derivative = ', round(d, 4))\n",
    "\n",
    "step_size = d*l\n",
    "print('Step Size = ', round(step_size, 5))\n",
    "\n",
    "a = a-step_size\n",
    "print('At Step 10, a = ', round(a, 5))"
   ]
  },
  {
   "cell_type": "code",
   "execution_count": 633,
   "metadata": {},
   "outputs": [
    {
     "name": "stdout",
     "output_type": "stream",
     "text": [
      "Derivative =  16.3669\n",
      "Step Size =  0.00016\n",
      "At Step 10, a =  1.30308\n"
     ]
    }
   ],
   "source": [
    "#step 12\n",
    "\n",
    "d = 51590*a-67218\n",
    "print('Derivative = ', round(d, 4))\n",
    "\n",
    "step_size = d*l\n",
    "print('Step Size = ', round(step_size, 5))\n",
    "\n",
    "a = a-step_size\n",
    "print('At Step 10, a = ', round(a, 5))"
   ]
  },
  {
   "cell_type": "code",
   "execution_count": 634,
   "metadata": {},
   "outputs": [
    {
     "name": "stdout",
     "output_type": "stream",
     "text": [
      "Derivative =  7.9232\n",
      "Step Size =  8e-05\n",
      "At Step 10, a =  1.303\n"
     ]
    }
   ],
   "source": [
    "#step 13\n",
    "\n",
    "d = 51590*a-67218\n",
    "print('Derivative = ', round(d, 4))\n",
    "\n",
    "step_size = d*l\n",
    "print('Step Size = ', round(step_size, 5))\n",
    "\n",
    "a = a-step_size\n",
    "print('At Step 10, a = ', round(a, 5))"
   ]
  },
  {
   "cell_type": "code",
   "execution_count": 635,
   "metadata": {},
   "outputs": [
    {
     "name": "stdout",
     "output_type": "stream",
     "text": [
      "Derivative =  3.8356\n",
      "Step Size =  4e-05\n",
      "At Step 10, a =  1.30296\n"
     ]
    }
   ],
   "source": [
    "#step 14\n",
    "\n",
    "d = 51590*a-67218\n",
    "print('Derivative = ', round(d, 4))\n",
    "\n",
    "step_size = d*l\n",
    "print('Step Size = ', round(step_size, 5))\n",
    "\n",
    "a = a-step_size\n",
    "print('At Step 10, a = ', round(a, 5))"
   ]
  },
  {
   "cell_type": "code",
   "execution_count": 636,
   "metadata": {},
   "outputs": [
    {
     "name": "stdout",
     "output_type": "stream",
     "text": [
      "Derivative =  1.8568\n",
      "Step Size =  2e-05\n",
      "At Step 10, a =  1.30294\n"
     ]
    }
   ],
   "source": [
    "#step 15\n",
    "\n",
    "d = 51590*a-67218\n",
    "print('Derivative = ', round(d, 4))\n",
    "\n",
    "step_size = d*l\n",
    "print('Step Size = ', round(step_size, 5))\n",
    "\n",
    "a = a-step_size\n",
    "print('At Step 10, a = ', round(a, 5))"
   ]
  }
 ],
 "metadata": {
  "colab": {
   "include_colab_link": true,
   "name": "cost_function.ipynb",
   "provenance": []
  },
  "kernelspec": {
   "display_name": "Python 3 (ipykernel)",
   "language": "python",
   "name": "python3"
  },
  "language_info": {
   "codemirror_mode": {
    "name": "ipython",
    "version": 3
   },
   "file_extension": ".py",
   "mimetype": "text/x-python",
   "name": "python",
   "nbconvert_exporter": "python",
   "pygments_lexer": "ipython3",
   "version": "3.9.10"
  }
 },
 "nbformat": 4,
 "nbformat_minor": 1
}
