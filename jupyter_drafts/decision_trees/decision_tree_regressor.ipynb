{
 "cells": [
  {
   "cell_type": "markdown",
   "id": "e619d903",
   "metadata": {},
   "source": [
    "# Decision Trees: Regression\n",
    "\n",
    "- This is a supplement material for the [Machine Learning Simplified](https://themlsbook.com) book. It sheds light on Python implementations of the topics discussed while all detailed explanations can be found in the book. \n",
    "- I also assume you know Python syntax and how it works. If you don't, I highly recommend you to take a break and get introduced to the language before going forward with my code. \n",
    "- This material can be downloaded as a Jupyter notebook (Download button in the upper-right corner -> `.ipynb`) to reproduce the code and play around with it. \n",
    "\n",
    "\n",
    "\n",
    "## 1. Required Libraries & Functions\n",
    "\n",
    "Before we start, we need to import few libraries and functions that we will use in this jupyterbook. You don't need to understand what those functions do for now."
   ]
  },
  {
   "cell_type": "code",
   "execution_count": 13,
   "id": "de00f26a",
   "metadata": {},
   "outputs": [],
   "source": [
    "# Libraries\n",
    "import numpy as np\n",
    "import pandas as pd\n",
    "from sklearn import tree\n",
    "import plotly.express as px\n",
    "from matplotlib import pyplot as plt\n",
    "from sklearn.tree import DecisionTreeRegressor"
   ]
  },
  {
   "cell_type": "markdown",
   "id": "31697f2f",
   "metadata": {},
   "source": [
    "## 2. Probelm Representation\n",
    "\n",
    "Let's recall Chapter X of [the Machine Learning Simplified book](https://themlsbook.com). We have a hypothetical dataset (Table XX in the MLS book) containing 12 days, with first 4 columns as features representing weather consitions and last column as a target variable representing hour of golf that were played that day.\n",
    "\n",
    "\n",
    "| Day | Temperature | Humidity | Outlook | Wind | Golf Hours Played |\n",
    "| -- | ----------- | ----------- | ----------- | ----------- | ----------- |\n",
    "| 1 | Hot | High | Sunny | Weak | 25 | \n",
    "| 2  | Hot | High | Sunny | Strong | 30 |\n",
    "| 3 | Hot | High | Rain | Weak | 42 |\n",
    "| 4 | Cold | Normal | Rain | Weak | 32 |\n",
    "| 5 | Cold | Normal | Rain | Strong | 23 |\n",
    "| 6 | Cold | High | Sunny | Weak | 35 |\n",
    "| 7 | Cold | Normal | Sunny | Weak | 38 |\n",
    "| 8 | Hot | Normal | Rain | Weak | 43 |\n",
    "| 9 | Hot | Normal | Sunny | Strong | 48 |\n",
    "| 10 | Cold | High | Rain | Strong | 12 |\n",
    "| 11 | Cold | High | Rain | Weak | 24 |\n",
    "| 12 | Cold | Normal | Sunny | Strong | 22 |\n",
    "\n",
    "\n",
    "\n",
    "\n",
    "\n",
    "\n",
    "### 2.1. Create Hypothetical Dataset\n",
    "\n",
    "Let's re-create aforementioned table in python. We use `pandas` library - a library that manages **PAN**el **DA**ta **S**ets - to do so. Note that we have already imported it in the beginning of this notebook."
   ]
  },
  {
   "cell_type": "code",
   "execution_count": 14,
   "id": "8846973e",
   "metadata": {
    "scrolled": true
   },
   "outputs": [
    {
     "data": {
      "text/html": [
       "<div>\n",
       "<style scoped>\n",
       "    .dataframe tbody tr th:only-of-type {\n",
       "        vertical-align: middle;\n",
       "    }\n",
       "\n",
       "    .dataframe tbody tr th {\n",
       "        vertical-align: top;\n",
       "    }\n",
       "\n",
       "    .dataframe thead th {\n",
       "        text-align: right;\n",
       "    }\n",
       "</style>\n",
       "<table border=\"1\" class=\"dataframe\">\n",
       "  <thead>\n",
       "    <tr style=\"text-align: right;\">\n",
       "      <th></th>\n",
       "      <th>Temperature</th>\n",
       "      <th>Humidity</th>\n",
       "      <th>Outlook</th>\n",
       "      <th>Wind</th>\n",
       "      <th>Hours</th>\n",
       "    </tr>\n",
       "  </thead>\n",
       "  <tbody>\n",
       "    <tr>\n",
       "      <th>0</th>\n",
       "      <td>Hot</td>\n",
       "      <td>High</td>\n",
       "      <td>Sunny</td>\n",
       "      <td>Weak</td>\n",
       "      <td>25</td>\n",
       "    </tr>\n",
       "    <tr>\n",
       "      <th>1</th>\n",
       "      <td>Hot</td>\n",
       "      <td>High</td>\n",
       "      <td>Sunny</td>\n",
       "      <td>Strong</td>\n",
       "      <td>30</td>\n",
       "    </tr>\n",
       "    <tr>\n",
       "      <th>2</th>\n",
       "      <td>Hot</td>\n",
       "      <td>High</td>\n",
       "      <td>Rain</td>\n",
       "      <td>Weak</td>\n",
       "      <td>42</td>\n",
       "    </tr>\n",
       "    <tr>\n",
       "      <th>3</th>\n",
       "      <td>Cold</td>\n",
       "      <td>Normal</td>\n",
       "      <td>Rain</td>\n",
       "      <td>Weak</td>\n",
       "      <td>32</td>\n",
       "    </tr>\n",
       "    <tr>\n",
       "      <th>4</th>\n",
       "      <td>Cold</td>\n",
       "      <td>Normal</td>\n",
       "      <td>Rain</td>\n",
       "      <td>Strong</td>\n",
       "      <td>23</td>\n",
       "    </tr>\n",
       "    <tr>\n",
       "      <th>5</th>\n",
       "      <td>Cold</td>\n",
       "      <td>High</td>\n",
       "      <td>Sunny</td>\n",
       "      <td>Weak</td>\n",
       "      <td>35</td>\n",
       "    </tr>\n",
       "    <tr>\n",
       "      <th>6</th>\n",
       "      <td>Cold</td>\n",
       "      <td>Normal</td>\n",
       "      <td>Sunny</td>\n",
       "      <td>Weak</td>\n",
       "      <td>38</td>\n",
       "    </tr>\n",
       "    <tr>\n",
       "      <th>7</th>\n",
       "      <td>Hot</td>\n",
       "      <td>Normal</td>\n",
       "      <td>Rain</td>\n",
       "      <td>Weak</td>\n",
       "      <td>43</td>\n",
       "    </tr>\n",
       "    <tr>\n",
       "      <th>8</th>\n",
       "      <td>Hot</td>\n",
       "      <td>Normal</td>\n",
       "      <td>Sunny</td>\n",
       "      <td>Strong</td>\n",
       "      <td>48</td>\n",
       "    </tr>\n",
       "    <tr>\n",
       "      <th>9</th>\n",
       "      <td>Cold</td>\n",
       "      <td>High</td>\n",
       "      <td>Rain</td>\n",
       "      <td>Strong</td>\n",
       "      <td>12</td>\n",
       "    </tr>\n",
       "    <tr>\n",
       "      <th>10</th>\n",
       "      <td>Cold</td>\n",
       "      <td>High</td>\n",
       "      <td>Rain</td>\n",
       "      <td>Weak</td>\n",
       "      <td>24</td>\n",
       "    </tr>\n",
       "    <tr>\n",
       "      <th>11</th>\n",
       "      <td>Cold</td>\n",
       "      <td>Normal</td>\n",
       "      <td>Sunny</td>\n",
       "      <td>Strong</td>\n",
       "      <td>22</td>\n",
       "    </tr>\n",
       "  </tbody>\n",
       "</table>\n",
       "</div>"
      ],
      "text/plain": [
       "   Temperature Humidity Outlook    Wind  Hours\n",
       "0          Hot     High   Sunny    Weak     25\n",
       "1          Hot     High   Sunny  Strong     30\n",
       "2          Hot     High    Rain    Weak     42\n",
       "3         Cold   Normal    Rain    Weak     32\n",
       "4         Cold   Normal    Rain  Strong     23\n",
       "5         Cold     High   Sunny    Weak     35\n",
       "6         Cold   Normal   Sunny    Weak     38\n",
       "7          Hot   Normal    Rain    Weak     43\n",
       "8          Hot   Normal   Sunny  Strong     48\n",
       "9         Cold     High    Rain  Strong     12\n",
       "10        Cold     High    Rain    Weak     24\n",
       "11        Cold   Normal   Sunny  Strong     22"
      ]
     },
     "execution_count": 14,
     "metadata": {},
     "output_type": "execute_result"
    }
   ],
   "source": [
    "#re-create a hypothetical dataset\n",
    "data = {'Temperature': [\"Hot\",\"Hot\",\"Hot\",\"Cold\",\"Cold\",\"Cold\",\"Cold\",\"Hot\",\"Hot\",\"Cold\", \"Cold\", \"Cold\"],\n",
    "        'Humidity': [\"High\",\"High\",\"High\",\"Normal\",\"Normal\",\"High\",\"Normal\",\"Normal\",\"Normal\",\"High\", \"High\", \"Normal\"],\n",
    "        'Outlook': [\"Sunny\",\"Sunny\",\"Rain\",\"Rain\",\"Rain\",\"Sunny\",\"Sunny\",\"Rain\",\"Sunny\",\"Rain\", \"Rain\", \"Sunny\"], \n",
    "        'Wind': [\"Weak\",\"Strong\",\"Weak\",\"Weak\",\"Strong\",\"Weak\",\"Weak\",\"Weak\",\"Strong\",\"Strong\", \"Weak\", \"Strong\"],\n",
    "        'Hours': [25,30,42,32,23,35,38,43,48,12,24,22]\n",
    "       }  \n",
    "\n",
    "#transform dataset into a DataFrame df using pandas library\n",
    "df = pd.DataFrame(data)  \n",
    "  \n",
    "#print the output\n",
    "df\n"
   ]
  },
  {
   "cell_type": "markdown",
   "id": "b192a8c1",
   "metadata": {},
   "source": [
    "## 3. Root Node"
   ]
  },
  {
   "cell_type": "markdown",
   "id": "9067389c",
   "metadata": {},
   "source": [
    "We begin by identifying the feature for the root node."
   ]
  },
  {
   "cell_type": "markdown",
   "id": "7204ae4c",
   "metadata": {},
   "source": [
    "### 3.1. Calculating Standard Deviation of Hours"
   ]
  },
  {
   "cell_type": "markdown",
   "id": "43c147a0",
   "metadata": {},
   "source": [
    "To identify a feature that goes as a root node, we start by calculating the standard deviation for the target variable \\textit{Golf Hours Played}.  We first calculate the mean of the target variable as follows:\n",
    "$$\n",
    "\\begin{equation}\n",
    "    \\begin{split}\n",
    "        \\bar{y}\n",
    "        &=\\frac{y_1 + y_2+ y_3 + \\ldots  + y_n}{n} \\\\\n",
    "        &=\\frac{25+30+42+ \\ldots  + 24 + 22 }{12} \\\\\n",
    "        &=31.17\n",
    "    \\end{split}\n",
    "\\end{equation}\n",
    "$$"
   ]
  },
  {
   "cell_type": "code",
   "execution_count": 15,
   "id": "6ea28936",
   "metadata": {},
   "outputs": [
    {
     "name": "stdout",
     "output_type": "stream",
     "text": [
      "mean hours (entire dataset) = 31.17\n"
     ]
    }
   ],
   "source": [
    "#calculate mean (rounded to 2 decimals)\n",
    "mean_hours = round((25+30+42+32+23+35+38+43+48+12+24+22)/12, 2)\n",
    "#print the result\n",
    "print(f\"mean hours (entire dataset) = {mean_hours}\")"
   ]
  },
  {
   "cell_type": "markdown",
   "id": "b306db35",
   "metadata": {},
   "source": [
    "Next, we calculate standard deviation:\n",
    "$$ \\begin{equation*}\n",
    "    \\begin{split}\n",
    "        S(Hours)\n",
    "        &= \\sqrt{\\frac{(y_1-\\bar{y})^2+(y_2-\\bar{y})^2+(y_3-\\bar{y})^2+ \\ . \\ . \\ . \\  +(y_n-\\bar{y})^2}{n}}  \\\\\n",
    "        &=  \\sqrt{\\frac{(25-31.17)^2+(30-31.17)^2+(42-31.17)^2+ \\ . \\ . \\ . \\  +(22-31.17)^2}{12}}  \\\\ \n",
    "        &= 10.05\n",
    "    \\end{split}\n",
    "\\end{equation*} \n",
    "$$"
   ]
  },
  {
   "cell_type": "code",
   "execution_count": 16,
   "id": "0c9c1709",
   "metadata": {},
   "outputs": [
    {
     "name": "stdout",
     "output_type": "stream",
     "text": [
      "standard deviation for Hours, s_hours=10.05\n"
     ]
    }
   ],
   "source": [
    "#calculating std\n",
    "s_hours = np.sqrt(((25-mean_hours)**2+\n",
    "                   (30-mean_hours)**2+\n",
    "                   (42-mean_hours)**2+\n",
    "                   (32-mean_hours)**2+\n",
    "                   (23-mean_hours)**2+\n",
    "                   (35-mean_hours)**2+\n",
    "                   (38-mean_hours)**2+\n",
    "                   (43-mean_hours)**2+\n",
    "                   (48-mean_hours)**2+\n",
    "                   (12-mean_hours)**2+\n",
    "                   (24-mean_hours)**2+\n",
    "                   (22-mean_hours)**2)/12\n",
    "                 )\n",
    "\n",
    "#rounding to 2 decimals\n",
    "s_hours = round(s_hours,2)\n",
    "\n",
    "#print the result\n",
    "print(f\"standard deviation for Hours, s_hours={s_hours}\")"
   ]
  },
  {
   "cell_type": "markdown",
   "id": "3e4ca9a4",
   "metadata": {},
   "source": [
    "In `numpy` library, we can save time and use a method `np.std` that calculates std for us. We will use this method further in this notebook."
   ]
  },
  {
   "cell_type": "code",
   "execution_count": 17,
   "id": "54560b43",
   "metadata": {},
   "outputs": [
    {
     "name": "stdout",
     "output_type": "stream",
     "text": [
      "s_hours_with_numpy=10.05\n"
     ]
    }
   ],
   "source": [
    "#alternatively:\n",
    "s_hours_with_numpy = np.std([25,30,42,32,23,35,38,43,48,12,24,22])\n",
    "\n",
    "#round\n",
    "s_hours_with_numpy = round(s_hours_with_numpy, 2)\n",
    "\n",
    "#print\n",
    "print(f's_hours_with_numpy={s_hours_with_numpy}')"
   ]
  },
  {
   "cell_type": "markdown",
   "id": "07f0a8f4",
   "metadata": {},
   "source": [
    "### 3.2. Calculating Standard Deviation Reduction"
   ]
  },
  {
   "cell_type": "markdown",
   "id": "8b0a60c2",
   "metadata": {},
   "source": [
    "#### 3.2.1. Temperature Variable"
   ]
  },
  {
   "cell_type": "markdown",
   "id": "07ee782e",
   "metadata": {},
   "source": [
    "Now, let's show how to calculate the standard deviation reduction that would result from splitting on the *Temperature* variable.\n",
    "\n",
    "Out of the twelve observations in the dataset, we have five observations where the temperature state is *Hot*, and seven observations where it is *Cold*.\n",
    "For each of these states, we calculate the standard deviation of the target variable for the data points that have this state.\n",
    "\n",
    "The five data points with *Temperature=Hot* have *Golf Hours Played* values of $25$, $30$, $42$, $43$, and $48$.  These values have a mean of $37.6$ (hours played) and a standard deviation of:\n",
    "$$\n",
    "\\begin{align*}\n",
    "    S(Hot) \n",
    "    &= \\sqrt{\\frac{(25-37.6)^2 + (30-37.6)^2 + (42-37.6)^2 + (43-37.6)^2 + (48-37.6)^2}{5}} \\\\\n",
    "    &= 8.64\n",
    "\\end{align*}\n",
    "$$"
   ]
  },
  {
   "cell_type": "code",
   "execution_count": 18,
   "id": "7c2d81e3",
   "metadata": {},
   "outputs": [
    {
     "name": "stdout",
     "output_type": "stream",
     "text": [
      "S(Hot)=8.64\n"
     ]
    }
   ],
   "source": [
    "#calculating std with numpy\n",
    "s_hot = round(np.std([25,30,42,43,48]), 2)\n",
    "#print the result\n",
    "print(f'S(Hot)={s_hot}')"
   ]
  },
  {
   "cell_type": "markdown",
   "id": "f9391149",
   "metadata": {},
   "source": [
    "Similarly, the seven data points with *Temperature=Cold* have *Golf Hours Played* values of $32$, $23$, $35$, $38$, $12$, $24$, and $22$.  These values have a mean of $26.6$ (hours played) and a standard deviation of:\n",
    "\n",
    "$$ \n",
    "\\begin{align*}\n",
    "    S(Cold)\n",
    "    &= \\sqrt{\\frac{(32-26.6)^2+\n",
    "                    (23-26.6)^2+\n",
    "                    \\ .\\ .\\ .\\ +\\\n",
    "                    (24-26.6)^2+\n",
    "                    (22-29.3)^2}{7}} \\\\\n",
    "    &=8.31\n",
    "\\end{align*}\n",
    "$$"
   ]
  },
  {
   "cell_type": "code",
   "execution_count": 19,
   "id": "e8b36e37",
   "metadata": {},
   "outputs": [
    {
     "name": "stdout",
     "output_type": "stream",
     "text": [
      "S(Hot)=8.31\n"
     ]
    }
   ],
   "source": [
    "#calculating std with numpy\n",
    "s_cold = round(np.std([32,23,35,38,12,24,22]), 2)\n",
    "#print the result\n",
    "print(f'S(Hot)={s_cold}')"
   ]
  },
  {
   "cell_type": "markdown",
   "id": "9c2ba4fc",
   "metadata": {},
   "source": [
    "We now put all of these calculations together to compute the standard deviation reduction using the formula:\n",
    "\n",
    "$$\n",
    "\\begin{equation*}\n",
    "    \\begin{split}\n",
    "        SDR (Temperature)\n",
    "        &= S - \\Big(\n",
    "        \\frac{n_{Hot}}{n} \\cdot S(Hot) + \n",
    "        \\frac{n_{Cold}}{n} \\cdot S(Cold)\n",
    "        \\Big) \\\\\n",
    "        %\n",
    "        &= 10.05 - \\Big(\n",
    "        \\frac{5}{12} \\cdot 8.64 +\n",
    "        \\frac{7}{12} \\cdot 8.31\n",
    "        \\Big) \\\\\n",
    "        &= 1.6\n",
    "    \\end{split}\n",
    "\\end{equation*}\n",
    "$$"
   ]
  },
  {
   "cell_type": "code",
   "execution_count": 20,
   "id": "93533fd7",
   "metadata": {},
   "outputs": [
    {
     "name": "stdout",
     "output_type": "stream",
     "text": [
      "SDR(Temperature) = 1.6\n"
     ]
    }
   ],
   "source": [
    "#calculate standard deviation reduction\n",
    "sdr_temp = s_hours - (5/12*s_hot + 7/12*s_cold)\n",
    "\n",
    "#round to 2 decimals\n",
    "sdr_temp = round(sdr_temp,2)\n",
    "\n",
    "#print the output\n",
    "print(\"SDR(Temperature) =\", sdr_temp)"
   ]
  },
  {
   "cell_type": "markdown",
   "id": "2eb88a69",
   "metadata": {},
   "source": [
    "#### 3.2.2. Humidity Variable"
   ]
  },
  {
   "cell_type": "code",
   "execution_count": 21,
   "id": "dc1d6ca8",
   "metadata": {},
   "outputs": [
    {
     "name": "stdout",
     "output_type": "stream",
     "text": [
      "S(High)=9.4 \n",
      "S(Normal)=9.67 \n",
      " SDR(Humidity)=0.52\n"
     ]
    }
   ],
   "source": [
    "#calculating standard deviation for two states of Humidity\n",
    "s_high = round(np.std([25,30,42,35,12,24]), 2)\n",
    "s_normal = round(np.std([32,23,38,43,48,22]), 2)\n",
    "\n",
    "#calculating standard deviation reduction\n",
    "sdr_humidity = round(s_hours - (6/12*s_high + 6/12*s_normal), 2)\n",
    "\n",
    "#print results\n",
    "print(f\"S(High)={s_high} \\nS(Normal)={s_normal} \\n SDR(Humidity)={sdr_humidity}\")"
   ]
  },
  {
   "cell_type": "markdown",
   "id": "5e76054d",
   "metadata": {},
   "source": [
    "#### 3.2.3. Outlook Variable"
   ]
  },
  {
   "cell_type": "code",
   "execution_count": 22,
   "id": "995ac9a8",
   "metadata": {},
   "outputs": [
    {
     "name": "stdout",
     "output_type": "stream",
     "text": [
      "S(Sunny)=8.64 \n",
      "S(Rain)=10.98 \n",
      " SDR(Outlook)=0.24\n"
     ]
    }
   ],
   "source": [
    "#calculating std for two states of Outlook\n",
    "s_sunny = round(np.std([25,30,35,38,48,22]), 2)\n",
    "s_rain = round(np.std([42,32,23,43,12,24]), 2)\n",
    "\n",
    "#calculating standard deviation reduction\n",
    "sdr_outlook = round(s_hours - (6/12*s_sunny + 6/12*s_rain), 2)\n",
    "\n",
    "#print results\n",
    "print(f\"S(Sunny)={s_sunny} \\nS(Rain)={s_rain} \\n SDR(Outlook)={sdr_outlook}\")"
   ]
  },
  {
   "cell_type": "markdown",
   "id": "f88e27b6",
   "metadata": {},
   "source": [
    "#### 3.2.4. Wind Variable"
   ]
  },
  {
   "cell_type": "code",
   "execution_count": 23,
   "id": "fa41d0b5",
   "metadata": {},
   "outputs": [
    {
     "name": "stdout",
     "output_type": "stream",
     "text": [
      "S(Weak)=7.04 \n",
      "S(Strong)=11.97 \n",
      " SDR(Wind)=0.96\n"
     ]
    }
   ],
   "source": [
    "#calculating std for two states of Wind\n",
    "s_weak = round(np.std([25,42,32,35,38,43,24]), 2)\n",
    "s_strong = round(np.std([30,23,48,12,22]), 2)\n",
    "\n",
    "#calculating standard deviation reduction\n",
    "sdr_wind = round(s_hours - (7/12*s_weak + 5/12*s_strong), 2)\n",
    "\n",
    "#print results\n",
    "print(f\"S(Weak)={s_weak} \\nS(Strong)={s_strong} \\n SDR(Wind)={sdr_wind}\")"
   ]
  },
  {
   "cell_type": "markdown",
   "id": "db55ba1e",
   "metadata": {},
   "source": [
    "### 3.3. Picking a root node"
   ]
  },
  {
   "cell_type": "markdown",
   "id": "8fb7855a",
   "metadata": {},
   "source": [
    "abc"
   ]
  },
  {
   "cell_type": "code",
   "execution_count": 24,
   "id": "8bf7c4b7",
   "metadata": {},
   "outputs": [
    {
     "name": "stdout",
     "output_type": "stream",
     "text": [
      "\n",
      "          SDR(Temperature)=1.6 \n",
      "\n",
      "          SDR(Humidity)=0.52 \n",
      "\n",
      "          SDR(Outlook)=0.24 \n",
      "\n",
      "          SDR(Wind)=0.96 \n",
      "\n",
      "                    \n"
     ]
    }
   ],
   "source": [
    "print(f'''\n",
    "          SDR(Temperature)={sdr_temp} \\n\n",
    "          SDR(Humidity)={sdr_humidity} \\n\n",
    "          SDR(Outlook)={sdr_outlook} \\n\n",
    "          SDR(Wind)={sdr_wind} \\n\n",
    "                    ''')"
   ]
  },
  {
   "cell_type": "markdown",
   "id": "50abde21",
   "metadata": {},
   "source": [
    "We pick *Temperature* as a root node."
   ]
  },
  {
   "cell_type": "markdown",
   "id": "4e4389c6",
   "metadata": {},
   "source": [
    "![](../../supplements/img/tbm/dt_reg_split_one.png)"
   ]
  },
  {
   "cell_type": "markdown",
   "id": "0ceba28f",
   "metadata": {},
   "source": [
    "## 4. Next Split - Temperature(Hot) branch"
   ]
  },
  {
   "cell_type": "markdown",
   "id": "ce37e380",
   "metadata": {},
   "source": [
    "### 4.1. Calculating Standard Deviation of Hours"
   ]
  },
  {
   "cell_type": "code",
   "execution_count": 25,
   "id": "e2ca0490",
   "metadata": {},
   "outputs": [
    {
     "name": "stdout",
     "output_type": "stream",
     "text": [
      "std hours (on branch Temperature(Hot)) = 8.64\n"
     ]
    }
   ],
   "source": [
    "#calculate std (rounded to 2 decimals)\n",
    "s_hours_temp_hot = round(np.std([25,30,42,43,48]), 2)\n",
    "\n",
    "#print the result\n",
    "print(f\"std hours (on branch Temperature(Hot)) = {s_hours_temp_hot}\")"
   ]
  },
  {
   "cell_type": "markdown",
   "id": "68d17e2f",
   "metadata": {},
   "source": [
    "### 4.2. Calculating Standard Deviation Reduction"
   ]
  },
  {
   "cell_type": "markdown",
   "id": "10332664",
   "metadata": {},
   "source": [
    "#### 4.2.1. Humidity"
   ]
  },
  {
   "cell_type": "code",
   "execution_count": 26,
   "id": "e7568a34",
   "metadata": {},
   "outputs": [
    {
     "name": "stdout",
     "output_type": "stream",
     "text": [
      "S(High)=7.13 \n",
      "S(Normal)=2.5 \n",
      " SDR(Humidity)=3.36\n"
     ]
    }
   ],
   "source": [
    "#calculating std for two states of Humidity\n",
    "s_high_temp_hot = round(np.std([25,30,42]), 2)\n",
    "s_normal_temp_hot = round(np.std([43,48]), 2)\n",
    "\n",
    "#calculating standard deviation reduction\n",
    "sdr_humidity_temp_hot = round(s_hours_temp_hot - (3/5*s_high_temp_hot + 2/5*s_normal_temp_hot), 2)\n",
    "\n",
    "#print results\n",
    "print(f\"S(High)={s_high_temp_hot} \\nS(Normal)={s_normal_temp_hot} \\n SDR(Humidity)={sdr_humidity_temp_hot}\")"
   ]
  },
  {
   "cell_type": "markdown",
   "id": "c8600694",
   "metadata": {},
   "source": [
    "#### 4.2.2. Outlook"
   ]
  },
  {
   "cell_type": "code",
   "execution_count": 27,
   "id": "bc23bbdb",
   "metadata": {},
   "outputs": [
    {
     "name": "stdout",
     "output_type": "stream",
     "text": [
      "S(Sunny)=9.88 \n",
      "S(Rain)=0.5 \n",
      " SDR(Outlook)=2.51\n"
     ]
    }
   ],
   "source": [
    "#calculating std for two states of Outlook\n",
    "s_sunny_temp_hot = round(np.std([25,30,48]), 2)\n",
    "s_rain_temp_hot = round(np.std([42,43]), 2)\n",
    "\n",
    "#calculating standard deviation reduction\n",
    "sdr_outlook_temp_hot = round(s_hours_temp_hot - (3/5*s_sunny_temp_hot + 2/5*s_rain_temp_hot), 2)\n",
    "\n",
    "#print results\n",
    "print(f\"S(Sunny)={s_sunny_temp_hot} \\nS(Rain)={s_rain_temp_hot} \\n SDR(Outlook)={sdr_outlook_temp_hot}\")"
   ]
  },
  {
   "cell_type": "markdown",
   "id": "4e3ef582",
   "metadata": {},
   "source": [
    "#### 4.2.3. Wind"
   ]
  },
  {
   "cell_type": "code",
   "execution_count": 28,
   "id": "c4be958b",
   "metadata": {},
   "outputs": [
    {
     "name": "stdout",
     "output_type": "stream",
     "text": [
      "S(Weak)=8.26 \n",
      "S(Strong)=9.0 \n",
      " SDR(Wind)=0.08\n"
     ]
    }
   ],
   "source": [
    "#calculating std for two states of Wind\n",
    "s_weak_temp_hot = round(np.std([25,42,43]), 2)\n",
    "s_strong_temp_hot = round(np.std([30,48]), 2)\n",
    "\n",
    "#calculating standard deviation reduction\n",
    "sdr_wind_temp_hot = round(s_hours_temp_hot - (3/5*s_weak_temp_hot + 2/5*s_strong_temp_hot), 2)\n",
    "\n",
    "#print results\n",
    "print(f\"S(Weak)={s_weak_temp_hot} \\nS(Strong)={s_strong_temp_hot} \\n SDR(Wind)={sdr_wind_temp_hot}\")"
   ]
  },
  {
   "cell_type": "markdown",
   "id": "28be273d",
   "metadata": {},
   "source": [
    "## 5. Next Split - Temperature(Cold) branch"
   ]
  },
  {
   "cell_type": "markdown",
   "id": "99a53be6",
   "metadata": {},
   "source": [
    "### 5.1. Calculating Standard Deviation of Hours"
   ]
  },
  {
   "cell_type": "code",
   "execution_count": 29,
   "id": "03df6b06",
   "metadata": {},
   "outputs": [
    {
     "name": "stdout",
     "output_type": "stream",
     "text": [
      "std hours (on branch Temperature(Cold)) = 8.31\n"
     ]
    }
   ],
   "source": [
    "#calculate std (rounded to 2 decimals)\n",
    "s_hours_temp_cold = round(np.std([32,23,35,38,12,24,22]), 2)\n",
    "\n",
    "#print the result\n",
    "print(f\"std hours (on branch Temperature(Cold)) = {s_hours_temp_cold}\")"
   ]
  },
  {
   "cell_type": "markdown",
   "id": "f8d1f70b",
   "metadata": {},
   "source": [
    "### 5.2. Calculating Standard Deviation Reduction"
   ]
  },
  {
   "cell_type": "markdown",
   "id": "b76c5e21",
   "metadata": {},
   "source": [
    "#### 5.2.1. Humidity"
   ]
  },
  {
   "cell_type": "code",
   "execution_count": 30,
   "id": "f61ac036",
   "metadata": {},
   "outputs": [
    {
     "name": "stdout",
     "output_type": "stream",
     "text": [
      "S(High)=9.39 \n",
      "S(Normal)=6.61 \n",
      " SDR(Humidity)=0.51\n"
     ]
    }
   ],
   "source": [
    "#calculating std for two states of Humidity\n",
    "s_high_temp_cold = round(np.std([35,12,24]), 2)\n",
    "s_normal_temp_cold = round(np.std([32,23,38,22]), 2)\n",
    "\n",
    "#calculating standard deviation reduction\n",
    "sdr_humidity_temp_cold = round(s_hours_temp_cold - (3/7*s_high_temp_cold + 4/7*s_normal_temp_cold), 2)\n",
    "\n",
    "#print results\n",
    "print(f\"S(High)={s_high_temp_cold} \\nS(Normal)={s_normal_temp_cold} \\n SDR(Humidity)={sdr_humidity_temp_cold}\")"
   ]
  },
  {
   "cell_type": "markdown",
   "id": "a9bb82b4",
   "metadata": {},
   "source": [
    "#### 5.2.2. Outlook"
   ]
  },
  {
   "cell_type": "code",
   "execution_count": 31,
   "id": "f544f7fc",
   "metadata": {},
   "outputs": [
    {
     "name": "stdout",
     "output_type": "stream",
     "text": [
      "S(Sunny)=6.94 \n",
      "S(Rain)=7.12 \n",
      " SDR(Outlook)=1.27\n"
     ]
    }
   ],
   "source": [
    "#calculating std for two states of Outlook\n",
    "s_sunny_temp_cold = round(np.std([35,38,22]), 2)\n",
    "s_rain_temp_cold = round(np.std([32,23,12,24]), 2)\n",
    "\n",
    "#calculating standard deviation reduction\n",
    "sdr_outlook_temp_cold = round(s_hours_temp_cold - (3/7*s_sunny_temp_cold + 4/7*s_rain_temp_cold), 2)\n",
    "\n",
    "#print results\n",
    "print(f\"S(Sunny)={s_sunny_temp_cold} \\nS(Rain)={s_rain_temp_cold} \\n SDR(Outlook)={sdr_outlook_temp_cold}\")"
   ]
  },
  {
   "cell_type": "markdown",
   "id": "c361d4d5",
   "metadata": {},
   "source": [
    "#### 5.2.3. Wind"
   ]
  },
  {
   "cell_type": "code",
   "execution_count": 32,
   "id": "6d033c6b",
   "metadata": {},
   "outputs": [
    {
     "name": "stdout",
     "output_type": "stream",
     "text": [
      "S(Weak)=5.21 \n",
      "S(Strong)=4.97 \n",
      " SDR(Wind)=3.2\n"
     ]
    }
   ],
   "source": [
    "#calculating std for two states of Wind\n",
    "s_weak_temp_cold = round(np.std([32,35,38,24]), 2)\n",
    "s_strong_temp_cold = round(np.std([23,12,22]), 2)\n",
    "\n",
    "#calculating standard deviation reduction\n",
    "sdr_wind_temp_cold = round(s_hours_temp_cold - (4/7*s_weak_temp_cold + 3/7*s_strong_temp_cold), 2)\n",
    "\n",
    "#print results\n",
    "print(f\"S(Weak)={s_weak_temp_cold} \\nS(Strong)={s_strong_temp_cold} \\n SDR(Wind)={sdr_wind_temp_cold}\")"
   ]
  },
  {
   "cell_type": "markdown",
   "id": "8bcf5c02",
   "metadata": {},
   "source": [
    "## 6. Put everything together"
   ]
  },
  {
   "cell_type": "code",
   "execution_count": 33,
   "id": "4df09464",
   "metadata": {},
   "outputs": [
    {
     "name": "stdout",
     "output_type": "stream",
     "text": [
      "branch: Temperature(Hot) \n",
      " \n",
      "                    SDR(Humidity)=3.36 \n",
      "\n",
      "                    SDR(Outlook)=2.51 \n",
      "\n",
      "                    SDR(Wind)=0.08 \n",
      " \n",
      "\n",
      "          branch: Temperature(Cold) \n",
      " \n",
      "                    SDR(Humidity)=0.51 \n",
      "\n",
      "                    SDR(Outlook)=1.27 \n",
      "\n",
      "                    SDR(Wind)=3.2 \n",
      " \n",
      "\n",
      "                    \n"
     ]
    }
   ],
   "source": [
    "print(f'''branch: Temperature(Hot) \\n \n",
    "                    SDR(Humidity)={sdr_humidity_temp_hot} \\n\n",
    "                    SDR(Outlook)={sdr_outlook_temp_hot} \\n\n",
    "                    SDR(Wind)={sdr_wind_temp_hot} \\n \\n\n",
    "          branch: Temperature(Cold) \\n \n",
    "                    SDR(Humidity)={sdr_humidity_temp_cold} \\n\n",
    "                    SDR(Outlook)={sdr_outlook_temp_cold} \\n\n",
    "                    SDR(Wind)={sdr_wind_temp_cold} \\n \\n\n",
    "                    ''')"
   ]
  },
  {
   "cell_type": "markdown",
   "id": "865afed9",
   "metadata": {},
   "source": [
    "## 7. Decision Tree in Real Projects"
   ]
  },
  {
   "cell_type": "markdown",
   "id": "89f09449",
   "metadata": {},
   "source": [
    "### 7.1. Preparing the dataset"
   ]
  },
  {
   "cell_type": "code",
   "execution_count": 34,
   "id": "8e124aa0",
   "metadata": {},
   "outputs": [],
   "source": [
    "df_enc = pd.get_dummies(df)"
   ]
  },
  {
   "cell_type": "markdown",
   "id": "0b1daf98",
   "metadata": {},
   "source": [
    "Let us split data into dependent and independant variables. Matrix of independant variables we will call `X`. Vector of dependant variable we will call `y`."
   ]
  },
  {
   "cell_type": "code",
   "execution_count": 35,
   "id": "18e697a0",
   "metadata": {},
   "outputs": [],
   "source": [
    "# X = df[[\"Outlook\", \"Humidity\", \"Temperature\", \"Wind\"]].values\n",
    "X = df_enc[[\"Temperature_Cold\",\"Outlook_Rain\", \"Humidity_Normal\", \"Wind_Strong\"]]\n",
    "y = df_enc.Hours.values"
   ]
  },
  {
   "cell_type": "markdown",
   "id": "2e8484b9",
   "metadata": {},
   "source": [
    "### 7.2. Building a Decision Tree"
   ]
  },
  {
   "cell_type": "markdown",
   "id": "92bccdeb",
   "metadata": {},
   "source": [
    "Above we made a bunch of steps to manually calculate the split for a simple decision tree for regression. There was a lot of calculations just to understand what split we have to make for two independent variables. What if we had 10 independent variables that would require numerous splits to make? Imagine how many calculations we would do in that case. Good news: there is a library - `sklearn` - that does all the calculations for us. Basically, `sklearn` does all the steps for you, so that you can implement a decision tree with 2 lines of code. Let's have a look.\n"
   ]
  },
  {
   "cell_type": "code",
   "execution_count": 36,
   "id": "1280d850",
   "metadata": {},
   "outputs": [],
   "source": [
    "# Initialize the model\n",
    "clf = DecisionTreeRegressor()"
   ]
  },
  {
   "cell_type": "code",
   "execution_count": 37,
   "id": "bdeb9520",
   "metadata": {},
   "outputs": [
    {
     "data": {
      "text/html": [
       "<style>#sk-container-id-1 {color: black;background-color: white;}#sk-container-id-1 pre{padding: 0;}#sk-container-id-1 div.sk-toggleable {background-color: white;}#sk-container-id-1 label.sk-toggleable__label {cursor: pointer;display: block;width: 100%;margin-bottom: 0;padding: 0.3em;box-sizing: border-box;text-align: center;}#sk-container-id-1 label.sk-toggleable__label-arrow:before {content: \"▸\";float: left;margin-right: 0.25em;color: #696969;}#sk-container-id-1 label.sk-toggleable__label-arrow:hover:before {color: black;}#sk-container-id-1 div.sk-estimator:hover label.sk-toggleable__label-arrow:before {color: black;}#sk-container-id-1 div.sk-toggleable__content {max-height: 0;max-width: 0;overflow: hidden;text-align: left;background-color: #f0f8ff;}#sk-container-id-1 div.sk-toggleable__content pre {margin: 0.2em;color: black;border-radius: 0.25em;background-color: #f0f8ff;}#sk-container-id-1 input.sk-toggleable__control:checked~div.sk-toggleable__content {max-height: 200px;max-width: 100%;overflow: auto;}#sk-container-id-1 input.sk-toggleable__control:checked~label.sk-toggleable__label-arrow:before {content: \"▾\";}#sk-container-id-1 div.sk-estimator input.sk-toggleable__control:checked~label.sk-toggleable__label {background-color: #d4ebff;}#sk-container-id-1 div.sk-label input.sk-toggleable__control:checked~label.sk-toggleable__label {background-color: #d4ebff;}#sk-container-id-1 input.sk-hidden--visually {border: 0;clip: rect(1px 1px 1px 1px);clip: rect(1px, 1px, 1px, 1px);height: 1px;margin: -1px;overflow: hidden;padding: 0;position: absolute;width: 1px;}#sk-container-id-1 div.sk-estimator {font-family: monospace;background-color: #f0f8ff;border: 1px dotted black;border-radius: 0.25em;box-sizing: border-box;margin-bottom: 0.5em;}#sk-container-id-1 div.sk-estimator:hover {background-color: #d4ebff;}#sk-container-id-1 div.sk-parallel-item::after {content: \"\";width: 100%;border-bottom: 1px solid gray;flex-grow: 1;}#sk-container-id-1 div.sk-label:hover label.sk-toggleable__label {background-color: #d4ebff;}#sk-container-id-1 div.sk-serial::before {content: \"\";position: absolute;border-left: 1px solid gray;box-sizing: border-box;top: 0;bottom: 0;left: 50%;z-index: 0;}#sk-container-id-1 div.sk-serial {display: flex;flex-direction: column;align-items: center;background-color: white;padding-right: 0.2em;padding-left: 0.2em;position: relative;}#sk-container-id-1 div.sk-item {position: relative;z-index: 1;}#sk-container-id-1 div.sk-parallel {display: flex;align-items: stretch;justify-content: center;background-color: white;position: relative;}#sk-container-id-1 div.sk-item::before, #sk-container-id-1 div.sk-parallel-item::before {content: \"\";position: absolute;border-left: 1px solid gray;box-sizing: border-box;top: 0;bottom: 0;left: 50%;z-index: -1;}#sk-container-id-1 div.sk-parallel-item {display: flex;flex-direction: column;z-index: 1;position: relative;background-color: white;}#sk-container-id-1 div.sk-parallel-item:first-child::after {align-self: flex-end;width: 50%;}#sk-container-id-1 div.sk-parallel-item:last-child::after {align-self: flex-start;width: 50%;}#sk-container-id-1 div.sk-parallel-item:only-child::after {width: 0;}#sk-container-id-1 div.sk-dashed-wrapped {border: 1px dashed gray;margin: 0 0.4em 0.5em 0.4em;box-sizing: border-box;padding-bottom: 0.4em;background-color: white;}#sk-container-id-1 div.sk-label label {font-family: monospace;font-weight: bold;display: inline-block;line-height: 1.2em;}#sk-container-id-1 div.sk-label-container {text-align: center;}#sk-container-id-1 div.sk-container {/* jupyter's `normalize.less` sets `[hidden] { display: none; }` but bootstrap.min.css set `[hidden] { display: none !important; }` so we also need the `!important` here to be able to override the default hidden behavior on the sphinx rendered scikit-learn.org. See: https://github.com/scikit-learn/scikit-learn/issues/21755 */display: inline-block !important;position: relative;}#sk-container-id-1 div.sk-text-repr-fallback {display: none;}</style><div id=\"sk-container-id-1\" class=\"sk-top-container\"><div class=\"sk-text-repr-fallback\"><pre>DecisionTreeRegressor()</pre><b>In a Jupyter environment, please rerun this cell to show the HTML representation or trust the notebook. <br />On GitHub, the HTML representation is unable to render, please try loading this page with nbviewer.org.</b></div><div class=\"sk-container\" hidden><div class=\"sk-item\"><div class=\"sk-estimator sk-toggleable\"><input class=\"sk-toggleable__control sk-hidden--visually\" id=\"sk-estimator-id-1\" type=\"checkbox\" checked><label for=\"sk-estimator-id-1\" class=\"sk-toggleable__label sk-toggleable__label-arrow\">DecisionTreeRegressor</label><div class=\"sk-toggleable__content\"><pre>DecisionTreeRegressor()</pre></div></div></div></div></div>"
      ],
      "text/plain": [
       "DecisionTreeRegressor()"
      ]
     },
     "execution_count": 37,
     "metadata": {},
     "output_type": "execute_result"
    }
   ],
   "source": [
    "# Train the model\n",
    "clf.fit(X, y)"
   ]
  },
  {
   "cell_type": "markdown",
   "id": "080e8d10",
   "metadata": {},
   "source": [
    "### 7.3. Checking models accuracy"
   ]
  },
  {
   "cell_type": "markdown",
   "id": "a990f682",
   "metadata": {},
   "source": [
    "After the model has trained with the data, it's essential to understand how precisely it makes predictions. For that, we need to check model's accuracy. "
   ]
  },
  {
   "cell_type": "code",
   "execution_count": 38,
   "id": "448d3485",
   "metadata": {},
   "outputs": [
    {
     "name": "stdout",
     "output_type": "stream",
     "text": [
      "Accuracy of Decision Tree classifier on training set: 1.00\n"
     ]
    }
   ],
   "source": [
    "print(f'Accuracy of Decision Tree classifier on training set: {clf.score(X, y):.2f}')"
   ]
  },
  {
   "cell_type": "markdown",
   "id": "7b1699b6",
   "metadata": {},
   "source": [
    "### 7.4. Understanding trained model"
   ]
  },
  {
   "cell_type": "markdown",
   "id": "e5f74323",
   "metadata": {},
   "source": [
    "It's always good to understand the logic of a trained model. We can do so by using `tree.export_text` method."
   ]
  },
  {
   "cell_type": "code",
   "execution_count": 39,
   "id": "5811c8de",
   "metadata": {
    "scrolled": true
   },
   "outputs": [
    {
     "name": "stdout",
     "output_type": "stream",
     "text": [
      "|--- feature_0 <= 0.50\n",
      "|   |--- feature_2 <= 0.50\n",
      "|   |   |--- feature_1 <= 0.50\n",
      "|   |   |   |--- feature_3 <= 0.50\n",
      "|   |   |   |   |--- value: [25.00]\n",
      "|   |   |   |--- feature_3 >  0.50\n",
      "|   |   |   |   |--- value: [30.00]\n",
      "|   |   |--- feature_1 >  0.50\n",
      "|   |   |   |--- value: [42.00]\n",
      "|   |--- feature_2 >  0.50\n",
      "|   |   |--- feature_3 <= 0.50\n",
      "|   |   |   |--- value: [43.00]\n",
      "|   |   |--- feature_3 >  0.50\n",
      "|   |   |   |--- value: [48.00]\n",
      "|--- feature_0 >  0.50\n",
      "|   |--- feature_3 <= 0.50\n",
      "|   |   |--- feature_1 <= 0.50\n",
      "|   |   |   |--- feature_2 <= 0.50\n",
      "|   |   |   |   |--- value: [35.00]\n",
      "|   |   |   |--- feature_2 >  0.50\n",
      "|   |   |   |   |--- value: [38.00]\n",
      "|   |   |--- feature_1 >  0.50\n",
      "|   |   |   |--- feature_2 <= 0.50\n",
      "|   |   |   |   |--- value: [24.00]\n",
      "|   |   |   |--- feature_2 >  0.50\n",
      "|   |   |   |   |--- value: [32.00]\n",
      "|   |--- feature_3 >  0.50\n",
      "|   |   |--- feature_2 <= 0.50\n",
      "|   |   |   |--- value: [12.00]\n",
      "|   |   |--- feature_2 >  0.50\n",
      "|   |   |   |--- feature_1 <= 0.50\n",
      "|   |   |   |   |--- value: [22.00]\n",
      "|   |   |   |--- feature_1 >  0.50\n",
      "|   |   |   |   |--- value: [23.00]\n",
      "\n"
     ]
    }
   ],
   "source": [
    "text_representation = tree.export_text(clf)\n",
    "print(text_representation)"
   ]
  },
  {
   "cell_type": "markdown",
   "id": "b7a831c7",
   "metadata": {},
   "source": [
    "We can also make it a bit more visually pleasant and more understandable by using `tree.plot_tree` method."
   ]
  },
  {
   "cell_type": "code",
   "execution_count": 40,
   "id": "70aca2e0",
   "metadata": {
    "scrolled": true
   },
   "outputs": [
    {
     "data": {
      "image/png": "[encoded data removed]",
      "text/plain": [
       "<Figure size 1500x600 with 1 Axes>"
      ]
     },
     "metadata": {},
     "output_type": "display_data"
    }
   ],
   "source": [
    "clf = DecisionTreeRegressor(max_depth=10)\n",
    "clf.fit(X,y)\n",
    "\n",
    "plt.figure(figsize=(15,6))\n",
    "fig_tree = tree.plot_tree(clf, \n",
    "                          fontsize=6,\n",
    "                          feature_names=[\"Temperature_Cold\", \"Outlook_Rain\", \"Humidity_Normal\", \"Wind_Strong\"],\n",
    "#                           class_names=['no disease', 'disease'],\n",
    "                          filled=True)"
   ]
  },
  {
   "cell_type": "markdown",
   "id": "b27620b8",
   "metadata": {},
   "source": [
    "### 7.5. Making Predictions"
   ]
  },
  {
   "cell_type": "markdown",
   "id": "99bfb821",
   "metadata": {},
   "source": [
    "Finally, you can predict how much hours will be played on a particular day based on the weather conditions. For that, we need to pass feature values to the model. We are going to use `predict` method."
   ]
  },
  {
   "cell_type": "code",
   "execution_count": 41,
   "id": "5e490f18",
   "metadata": {},
   "outputs": [
    {
     "name": "stderr",
     "output_type": "stream",
     "text": [
      "/Users/andrewwolf/.pyenv/versions/3.10.7/lib/python3.10/site-packages/sklearn/base.py:409: UserWarning: X does not have valid feature names, but DecisionTreeRegressor was fitted with feature names\n",
      "  warnings.warn(\n"
     ]
    },
    {
     "data": {
      "text/plain": [
       "array([38.])"
      ]
     },
     "execution_count": 41,
     "metadata": {},
     "output_type": "execute_result"
    }
   ],
   "source": [
    "#Predicting a class with random values x and y\n",
    "\n",
    "Temperature_Cold=1\n",
    "Outlook_Rain=0\n",
    "Humidity_Normal=1\n",
    "Wind_Strong=0\n",
    "\n",
    "clf.predict([[Temperature_Cold,\n",
    "              Outlook_Rain,\n",
    "              Humidity_Normal,\n",
    "              Wind_Strong\n",
    "             ]])"
   ]
  },
  {
   "cell_type": "markdown",
   "id": "20def34e",
   "metadata": {},
   "source": [
    "## 8. Further Readings"
   ]
  },
  {
   "cell_type": "markdown",
   "id": "11d74055",
   "metadata": {},
   "source": [
    "Check out more details on Decision Trees: http://localhost:8890/notebooks/Classification/decision_trees.ipynb"
   ]
  }
 ],
 "metadata": {
  "kernelspec": {
   "display_name": "Python 3 (ipykernel)",
   "language": "python",
   "name": "python3"
  },
  "language_info": {
   "codemirror_mode": {
    "name": "ipython",
    "version": 3
   },
   "file_extension": ".py",
   "mimetype": "text/x-python",
   "name": "python",
   "nbconvert_exporter": "python",
   "pygments_lexer": "ipython3",
   "version": "3.10.7"
  }
 },
 "nbformat": 4,
 "nbformat_minor": 5
}
