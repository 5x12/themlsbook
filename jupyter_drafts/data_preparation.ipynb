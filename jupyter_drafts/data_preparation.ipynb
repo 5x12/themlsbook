{
 "cells": [
  {
   "cell_type": "markdown",
   "id": "ca1d84da",
   "metadata": {},
   "source": [
    "# Data Preparation\n",
    "\n",
    "- This is a supplement material for the [Machine Learning Simplified](https://themlsbook.com) book. It sheds light on Python implementations of the topics discussed while all detailed explanations can be found in the book. \n",
    "- I also assume you know Python syntax and how it works. If you don't, I highly recommend you to take a break and get introduced to the language before going forward with my code. \n",
    "- This material can be downloaded as a Jupyter notebook (Download button in the upper-right corner -> `.ipynb`) to reproduce the code and play around with it. \n",
    "\n",
    "\n",
    "\n",
    "## 1. Required Libraries\n",
    "\n",
    "Before we start, we need to import few libraries and functions that we will use in this jupyterbook. You don't need to understand what those functions do for now."
   ]
  },
  {
   "cell_type": "code",
   "execution_count": 2,
   "id": "39749bbe",
   "metadata": {},
   "outputs": [],
   "source": [
    "import math\n",
    "import pandas as pd\n",
    "import plotly.express as px\n",
    "from sklearn import preprocessing\n",
    "from IPython.display import display\n",
    "from matplotlib import pyplot as plt\n",
    "from imblearn.over_sampling import SMOTE"
   ]
  },
  {
   "cell_type": "markdown",
   "id": "5d1f5b20",
   "metadata": {},
   "source": [
    "## 2. Probelm Representation\n",
    "\n",
    "In this notebook we will use a hypothetical dataset containing 4 features describing inhabitants, along with two classes, `downtown` and `suburbs`, which is the area they live. "
   ]
  },
  {
   "cell_type": "code",
   "execution_count": 3,
   "id": "5b486f09",
   "metadata": {},
   "outputs": [],
   "source": [
    "#load dataframe\n",
    "df = pd.read_csv('https://raw.githubusercontent.com/5x12/themlsbook/master/supplements/data/amsterdam_demographics.csv')\n",
    "\n",
    "#print the result\n",
    "df"
   ]
  },
  {
   "cell_type": "markdown",
   "id": "3ca9ea65",
   "metadata": {},
   "source": [
    "## 3. Outliers detection"
   ]
  },
  {
   "cell_type": "markdown",
   "id": "ac416f57",
   "metadata": {},
   "source": [
    "To identify outliers in data, one common approach is to use the standard deviation of the data. The standard deviation is a measure of how spread out the data is from the mean, or average, value.\n",
    "\n",
    "To set a number of standard deviations, you would first calculate the standard deviation of your data. Then, you can decide on a threshold, such as 3 standard deviations, to use as a cutoff for identifying outliers. Any data points that are more than 3 standard deviations from the mean would be considered outliers.\n",
    "\n",
    "For example, let's say you have a dataset with a mean of 100 and a standard deviation of 20. If you set a threshold of 3 standard deviations, any data points more than 60 points away from the mean (3 * 20) would be considered outliers. In this case, any data points below 40 (100 - 60) or above 160 (100 + 60) would be considered outliers.\n",
    "\n",
    "It's important to note that this method of identifying outliers is just one approach and there are other methods that can also be used. It's also important to consider whether the data points that are being identified as outliers are actually errors or if they represent valid observations.\n",
    "\n",
    "\n",
    "Let’s start with identifying outliers in Table `df` for `Income` column. For that, we need to calculate two values:\n",
    "- income mean \n",
    "- income standard deviation"
   ]
  },
  {
   "cell_type": "markdown",
   "id": "d4cfdd28",
   "metadata": {},
   "source": [
    "### 3.1. Calculating Mean"
   ]
  },
  {
   "cell_type": "markdown",
   "id": "c999ab8e",
   "metadata": {},
   "source": [
    "Calculating the mean of the `Income` column:"
   ]
  },
  {
   "cell_type": "code",
   "execution_count": 14,
   "id": "7342b7c6",
   "metadata": {},
   "outputs": [
    {
     "name": "stdout",
     "output_type": "stream",
     "text": [
      "Mean=151.875 (direct approach)\n",
      "Mean=151.875 (using pandas built-in method)\n"
     ]
    }
   ],
   "source": [
    "# Calculating mean as sum of all observation divided by number of observation\n",
    "income_mean = df['Income'].sum() / len(df['Income'])\n",
    "print(f'Mean={income_mean} (direct approach)')\n",
    "\n",
    "# Or more simple way using pandas built-in method mean()\n",
    "income_mean = df['Income'].mean()\n",
    "print(f'Mean={income_mean} (using pandas built-in method)')"
   ]
  },
  {
   "cell_type": "markdown",
   "id": "06e45dd7",
   "metadata": {},
   "source": [
    "### 3.2. Calculating Standard Deviation"
   ]
  },
  {
   "cell_type": "markdown",
   "id": "baeb144f",
   "metadata": {},
   "source": [
    "Calculating standard deviation of the `Income` column:"
   ]
  },
  {
   "cell_type": "code",
   "execution_count": 19,
   "id": "56455f81",
   "metadata": {},
   "outputs": [
    {
     "name": "stdout",
     "output_type": "stream",
     "text": [
      "Standard deviation=123.21063012175533 (direct approach)\n",
      "Standard deviation=131.71770409261077  (using pandas built-in method)\n"
     ]
    }
   ],
   "source": [
    "# Calculating std directly using formula for standard deviation\n",
    "income_std = math.sqrt(df['Income'].apply(lambda x: (x - m) ** 2).sum() / len(df['Income']))\n",
    "print(f'Standard deviation={income_std} (direct approach)')\n",
    "\n",
    "# Or more simple way using pandas built-in method std()\n",
    "income_std = df['Income'].std()\n",
    "print(f'Standard deviation={income_std}  (using pandas built-in method)')"
   ]
  },
  {
   "cell_type": "markdown",
   "id": "1c435466",
   "metadata": {},
   "source": [
    "We see that the results differ. This is because by default pandas sum of squares is normalized by N-1 (Corrected sample standard deviation). To change this behaviour to normalization by N (Uncorrected sample standard deviation) we can change paramter `ddof` (Delta Degrees of Freedom) from 1 to 0."
   ]
  },
  {
   "cell_type": "code",
   "execution_count": 20,
   "id": "0e249782",
   "metadata": {},
   "outputs": [
    {
     "name": "stdout",
     "output_type": "stream",
     "text": [
      "Standard deviation=123.21063012175533  (using pandas built-in method with ddof=0)\n"
     ]
    }
   ],
   "source": [
    "# Uncorrected sample standard deviation using built-in method std() \n",
    "income_std = df['Income'].std(ddof=0)\n",
    "print(f'Standard deviation={income_std}  (using pandas built-in method with ddof=0)')"
   ]
  },
  {
   "cell_type": "markdown",
   "id": "c7c6ea64",
   "metadata": {},
   "source": [
    "### 3.3. Identifying outliers"
   ]
  },
  {
   "cell_type": "markdown",
   "id": "dcb67c4f",
   "metadata": {},
   "source": [
    "Then, we should decide on a threshold to use as a cutoff for identifying outliers. Suppose we choose `k = 3` standard deviations. In other words, any data points that are more than 3 standard deviations from the mean would be considered outliers. \n",
    "\n",
    "Finally, we can calculate an upper bound and a lower bound:\n",
    "\n",
    "$lower\\_bound = mean_{income} - 3 * std_{income}$\n",
    "\n",
    "$upper\\_bound = mean_{income} + 3 * std_{income}$\n",
    "\n",
    "where any data points below the lower bound or above the upper bound would be considered outliers."
   ]
  },
  {
   "cell_type": "code",
   "execution_count": 17,
   "id": "8a59e4a4",
   "metadata": {},
   "outputs": [
    {
     "name": "stdout",
     "output_type": "stream",
     "text": [
      "lower_bound=-217.75689036526597\n"
     ]
    }
   ],
   "source": [
    "lower_bound = income_mean - 3 * income_std\n",
    "print(f'{lower_bound=}')"
   ]
  },
  {
   "cell_type": "code",
   "execution_count": 22,
   "id": "97b1843b",
   "metadata": {},
   "outputs": [
    {
     "name": "stdout",
     "output_type": "stream",
     "text": [
      "upper_bound=521.5068903652659\n"
     ]
    }
   ],
   "source": [
    "upper_bound = income_mean + 3 * income_std\n",
    "print(f'{upper_bound=}')"
   ]
  },
  {
   "cell_type": "markdown",
   "id": "8b9a0269",
   "metadata": {},
   "source": [
    "Hence, anything below -217.8 or above 521.5 would be treated as an outlier. But since we cannot have an income with a negative sum, we would treat outliers above 562.82 only. In this data set, there are no outliers present."
   ]
  },
  {
   "cell_type": "markdown",
   "id": "73a5c5cf",
   "metadata": {},
   "source": [
    "## 4. Feature Transformation"
   ]
  },
  {
   "cell_type": "markdown",
   "id": "3fcbf5b8",
   "metadata": {},
   "source": [
    "Encoding variables refers to the process of converting data that is represented in one format (e.g. categorical values) into another format (e.g. numerical values). There are a few reasons why we might need to encode variables in data science and machine learning:\n",
    "\n",
    "- Compatibility: Different algorithms and models may require input data to be in a specific format. For example, some algorithms may only accept numerical data, while others may only accept categorical data. Encoding variables allows us to convert data into the required format so that it can be used as input to these algorithms.\n",
    "- Improved performance: Encoding variables can sometimes improve the performance of an algorithm. For example, encoding categorical variables as numerical data can allow them to be used in algorithms that only accept numerical data, which can lead to better results.\n",
    "- Increased interpretability: Encoding variables can also make it easier to understand and interpret the results of an analysis. For example, encoding a categorical variable as a set of binary variables can make it easier to understand the relationship between the variable and the target variable in a regression model.\n",
    "- Reduced memory usage: Encoding variables can also help to reduce the amount of memory needed to store and process data, which can be important when working with large datasets.\n",
    "\n",
    "Overall, encoding variables is an important step in the data preparation process that can help to improve the performance and interpretability of machine learning models.\n",
    "\n",
    "In this section we will introduce 2 encoding techniques:\n",
    "1. label encoder, for features containing 2 unique values\n",
    "2. one-hot encoder, for features containing more than 2 unique values"
   ]
  },
  {
   "cell_type": "markdown",
   "id": "1cce22dc",
   "metadata": {},
   "source": [
    "### 4.1. Label Encoder"
   ]
  },
  {
   "cell_type": "markdown",
   "id": "0e02a8df",
   "metadata": {},
   "source": [
    "How can we convert categorical variables to numeric variables? For binary categorical variables we can simply substitute the values 0 and 1 for each category. For example, for the `Kids` feature we can map value `No` to 0 and `Yes` to 1, and for the `Residence` feature we can map value `Suburbs` to 0 and `Downtown` to 1. \n",
    "\n",
    "Let's implement this tranformation with `preprocessing.LabelEncoder()`."
   ]
  },
  {
   "cell_type": "code",
   "execution_count": 25,
   "id": "da341037",
   "metadata": {},
   "outputs": [
    {
     "name": "stdout",
     "output_type": "stream",
     "text": [
      "Encoded classes for column Kids: ['no' 'yes']\n",
      "Encoded classes for column Residence: ['downtown' 'suburbs']\n"
     ]
    },
    {
     "data": {
      "text/html": [
       "<div>\n",
       "<style scoped>\n",
       "    .dataframe tbody tr th:only-of-type {\n",
       "        vertical-align: middle;\n",
       "    }\n",
       "\n",
       "    .dataframe tbody tr th {\n",
       "        vertical-align: top;\n",
       "    }\n",
       "\n",
       "    .dataframe thead th {\n",
       "        text-align: right;\n",
       "    }\n",
       "</style>\n",
       "<table border=\"1\" class=\"dataframe\">\n",
       "  <thead>\n",
       "    <tr style=\"text-align: right;\">\n",
       "      <th></th>\n",
       "      <th>Age</th>\n",
       "      <th>Income</th>\n",
       "      <th>Vehicle</th>\n",
       "      <th>Kids</th>\n",
       "      <th>Residence</th>\n",
       "    </tr>\n",
       "  </thead>\n",
       "  <tbody>\n",
       "    <tr>\n",
       "      <th>0</th>\n",
       "      <td>32</td>\n",
       "      <td>95.0</td>\n",
       "      <td>none</td>\n",
       "      <td>0</td>\n",
       "      <td>0</td>\n",
       "    </tr>\n",
       "    <tr>\n",
       "      <th>1</th>\n",
       "      <td>46</td>\n",
       "      <td>210.0</td>\n",
       "      <td>car</td>\n",
       "      <td>1</td>\n",
       "      <td>0</td>\n",
       "    </tr>\n",
       "    <tr>\n",
       "      <th>2</th>\n",
       "      <td>25</td>\n",
       "      <td>75.0</td>\n",
       "      <td>truck</td>\n",
       "      <td>1</td>\n",
       "      <td>1</td>\n",
       "    </tr>\n",
       "    <tr>\n",
       "      <th>3</th>\n",
       "      <td>36</td>\n",
       "      <td>30.0</td>\n",
       "      <td>car</td>\n",
       "      <td>1</td>\n",
       "      <td>1</td>\n",
       "    </tr>\n",
       "    <tr>\n",
       "      <th>4</th>\n",
       "      <td>29</td>\n",
       "      <td>55.0</td>\n",
       "      <td>none</td>\n",
       "      <td>0</td>\n",
       "      <td>1</td>\n",
       "    </tr>\n",
       "    <tr>\n",
       "      <th>5</th>\n",
       "      <td>54</td>\n",
       "      <td>430.0</td>\n",
       "      <td>car</td>\n",
       "      <td>1</td>\n",
       "      <td>0</td>\n",
       "    </tr>\n",
       "    <tr>\n",
       "      <th>6</th>\n",
       "      <td>30</td>\n",
       "      <td>100.0</td>\n",
       "      <td>none</td>\n",
       "      <td>0</td>\n",
       "      <td>0</td>\n",
       "    </tr>\n",
       "    <tr>\n",
       "      <th>7</th>\n",
       "      <td>41</td>\n",
       "      <td>220.0</td>\n",
       "      <td>truck</td>\n",
       "      <td>1</td>\n",
       "      <td>0</td>\n",
       "    </tr>\n",
       "  </tbody>\n",
       "</table>\n",
       "</div>"
      ],
      "text/plain": [
       "   Age  Income Vehicle  Kids  Residence\n",
       "0   32    95.0    none     0          0\n",
       "1   46   210.0     car     1          0\n",
       "2   25    75.0   truck     1          1\n",
       "3   36    30.0     car     1          1\n",
       "4   29    55.0    none     0          1\n",
       "5   54   430.0     car     1          0\n",
       "6   30   100.0    none     0          0\n",
       "7   41   220.0   truck     1          0"
      ]
     },
     "execution_count": 25,
     "metadata": {},
     "output_type": "execute_result"
    }
   ],
   "source": [
    "# To implement these transforms we use sklearn class LabelEncoder for each column separately\\\n",
    "# We will store the result in a new dataframe df_enc\n",
    "df_enc = df.copy()\n",
    "\n",
    "# Initializing class LabelEncoder for column Kids\n",
    "le_kids = preprocessing.LabelEncoder()\n",
    "# Fitting encoder to column Kids\n",
    "le_kids.fit(df['Kids'])\n",
    "# Checking encoding classes\n",
    "print(f'Encoded classes for column Kids: {le_kids.classes_}')\n",
    "# Trasforming column\n",
    "df_enc['Kids'] = le_kids.transform(df['Kids'])\n",
    "\n",
    "# Initializing class LabelEncoder for column Residence\n",
    "le_res = preprocessing.LabelEncoder()\n",
    "# Fitting encoder to column Residence\n",
    "le_res.fit(df['Residence'])\n",
    "# Checking encoding classes\n",
    "print(f'Encoded classes for column Residence: {le_res.classes_}')\n",
    "# Trasforming column\n",
    "df_enc['Residence'] = le_res.transform(df['Residence'])\n",
    "\n",
    "# Printing the result\n",
    "df_enc"
   ]
  },
  {
   "cell_type": "markdown",
   "id": "9a5de934",
   "metadata": {},
   "source": [
    "An advantage of using built-in method (besides the code clearity and its qunatity for sure) is possibility to apply inverse transfrom of feature encoding."
   ]
  },
  {
   "cell_type": "code",
   "execution_count": 26,
   "id": "bb5dec3e",
   "metadata": {},
   "outputs": [
    {
     "data": {
      "text/plain": [
       "['no', 'yes', 'yes', 'yes', 'no', 'yes', 'no', 'yes']"
      ]
     },
     "execution_count": 26,
     "metadata": {},
     "output_type": "execute_result"
    }
   ],
   "source": [
    "list(le_kids.inverse_transform(df_enc['Kids']))"
   ]
  },
  {
   "cell_type": "code",
   "execution_count": 27,
   "id": "7235bab8",
   "metadata": {},
   "outputs": [
    {
     "data": {
      "text/plain": [
       "['downtown',\n",
       " 'downtown',\n",
       " 'suburbs',\n",
       " 'suburbs',\n",
       " 'suburbs',\n",
       " 'downtown',\n",
       " 'downtown',\n",
       " 'downtown']"
      ]
     },
     "execution_count": 27,
     "metadata": {},
     "output_type": "execute_result"
    }
   ],
   "source": [
    "list(le_res.inverse_transform(df_enc['Residence']))"
   ]
  },
  {
   "cell_type": "markdown",
   "id": "9f6da396",
   "metadata": {},
   "source": [
    "### 4.2. One-hot encoder"
   ]
  },
  {
   "cell_type": "markdown",
   "id": "3ce2ddaf",
   "metadata": {},
   "source": [
    "Column `Vehicle` has more than two unique values, that doesn't have implicit order. So we need to apply One-hot encoding for it."
   ]
  },
  {
   "cell_type": "code",
   "execution_count": 12,
   "id": "b5a72770",
   "metadata": {},
   "outputs": [
    {
     "data": {
      "text/html": [
       "<div>\n",
       "<style scoped>\n",
       "    .dataframe tbody tr th:only-of-type {\n",
       "        vertical-align: middle;\n",
       "    }\n",
       "\n",
       "    .dataframe tbody tr th {\n",
       "        vertical-align: top;\n",
       "    }\n",
       "\n",
       "    .dataframe thead th {\n",
       "        text-align: right;\n",
       "    }\n",
       "</style>\n",
       "<table border=\"1\" class=\"dataframe\">\n",
       "  <thead>\n",
       "    <tr style=\"text-align: right;\">\n",
       "      <th></th>\n",
       "      <th>Age</th>\n",
       "      <th>Income</th>\n",
       "      <th>Kids</th>\n",
       "      <th>Residence</th>\n",
       "      <th>Vehicle_car</th>\n",
       "      <th>Vehicle_none</th>\n",
       "      <th>Vehicle_truck</th>\n",
       "    </tr>\n",
       "  </thead>\n",
       "  <tbody>\n",
       "    <tr>\n",
       "      <th>0</th>\n",
       "      <td>32</td>\n",
       "      <td>95.0</td>\n",
       "      <td>0</td>\n",
       "      <td>0</td>\n",
       "      <td>0</td>\n",
       "      <td>1</td>\n",
       "      <td>0</td>\n",
       "    </tr>\n",
       "    <tr>\n",
       "      <th>1</th>\n",
       "      <td>46</td>\n",
       "      <td>210.0</td>\n",
       "      <td>1</td>\n",
       "      <td>0</td>\n",
       "      <td>1</td>\n",
       "      <td>0</td>\n",
       "      <td>0</td>\n",
       "    </tr>\n",
       "    <tr>\n",
       "      <th>2</th>\n",
       "      <td>25</td>\n",
       "      <td>75.0</td>\n",
       "      <td>1</td>\n",
       "      <td>1</td>\n",
       "      <td>0</td>\n",
       "      <td>0</td>\n",
       "      <td>1</td>\n",
       "    </tr>\n",
       "    <tr>\n",
       "      <th>3</th>\n",
       "      <td>36</td>\n",
       "      <td>30.0</td>\n",
       "      <td>1</td>\n",
       "      <td>1</td>\n",
       "      <td>1</td>\n",
       "      <td>0</td>\n",
       "      <td>0</td>\n",
       "    </tr>\n",
       "    <tr>\n",
       "      <th>4</th>\n",
       "      <td>29</td>\n",
       "      <td>55.0</td>\n",
       "      <td>0</td>\n",
       "      <td>1</td>\n",
       "      <td>0</td>\n",
       "      <td>1</td>\n",
       "      <td>0</td>\n",
       "    </tr>\n",
       "    <tr>\n",
       "      <th>5</th>\n",
       "      <td>54</td>\n",
       "      <td>430.0</td>\n",
       "      <td>1</td>\n",
       "      <td>0</td>\n",
       "      <td>1</td>\n",
       "      <td>0</td>\n",
       "      <td>0</td>\n",
       "    </tr>\n",
       "    <tr>\n",
       "      <th>6</th>\n",
       "      <td>30</td>\n",
       "      <td>100.0</td>\n",
       "      <td>0</td>\n",
       "      <td>0</td>\n",
       "      <td>0</td>\n",
       "      <td>1</td>\n",
       "      <td>0</td>\n",
       "    </tr>\n",
       "    <tr>\n",
       "      <th>7</th>\n",
       "      <td>41</td>\n",
       "      <td>220.0</td>\n",
       "      <td>1</td>\n",
       "      <td>0</td>\n",
       "      <td>0</td>\n",
       "      <td>0</td>\n",
       "      <td>1</td>\n",
       "    </tr>\n",
       "  </tbody>\n",
       "</table>\n",
       "</div>"
      ],
      "text/plain": [
       "   Age  Income  Kids  Residence  Vehicle_car  Vehicle_none  Vehicle_truck\n",
       "0   32    95.0     0          0            0             1              0\n",
       "1   46   210.0     1          0            1             0              0\n",
       "2   25    75.0     1          1            0             0              1\n",
       "3   36    30.0     1          1            1             0              0\n",
       "4   29    55.0     0          1            0             1              0\n",
       "5   54   430.0     1          0            1             0              0\n",
       "6   30   100.0     0          0            0             1              0\n",
       "7   41   220.0     1          0            0             0              1"
      ]
     },
     "execution_count": 12,
     "metadata": {},
     "output_type": "execute_result"
    }
   ],
   "source": [
    "# One-hot encoding in pandas can be done using get_dummies function\n",
    "df_enc = pd.get_dummies(df_enc)\n",
    "df_enc"
   ]
  },
  {
   "cell_type": "markdown",
   "id": "52368820",
   "metadata": {},
   "source": [
    "## 5. Feature Scaling"
   ]
  },
  {
   "cell_type": "markdown",
   "id": "4e0685cb",
   "metadata": {},
   "source": [
    "Feature scaling is a preprocessing step that is commonly used in machine learning and data science to standardize or normalize the range of independent variables or features of a dataset. There are a few reasons why feature scaling is important:\n",
    "\n",
    "- Algorithms can converge faster: Many machine learning algorithms use some form of distance to measure the similarity between data points. If the features in a dataset have different scales, then the distance between data points will be dominated by the features with the larger scales, which can cause the algorithm to converge slowly or poorly. Feature scaling helps to balance the scales of the features, which can improve the convergence rate of the algorithm.\n",
    "- Algorithms can perform better: Some machine learning algorithms are sensitive to the scale of the input features and can perform poorly if the features are not scaled. For example, algorithms that use gradient descent (such as linear regression) can converge faster and perform better if the features are scaled.\n",
    "- Easier to interpret the results: Feature scaling can also make it easier to interpret the results of an analysis. When features are on different scales, it can be difficult to compare the importance of different features. Scaling the features allows us to compare the features on a level playing field, which can make it easier to understand the results of an analysis.\n",
    "\n",
    "Overall, feature scaling is an important preprocessing step that can improve the performance and interpretability of machine learning models.\n",
    "\n",
    "In this section we will learn two feature scaling techniques:\n",
    "- feature standardization, using `preprocessing.StandardScaler()` \n",
    "- feature normalization, using `preprocessing.MinMaxScaler()`."
   ]
  },
  {
   "cell_type": "markdown",
   "id": "50675937",
   "metadata": {},
   "source": [
    "### 5.1. Feature Standardization"
   ]
  },
  {
   "cell_type": "markdown",
   "id": "9c33c277",
   "metadata": {},
   "source": [
    "#### 5.1.1. Implementing from scratch"
   ]
  },
  {
   "cell_type": "markdown",
   "id": "087684f2",
   "metadata": {},
   "source": [
    "First, to understand the idea, let's implement feature standardization from scratch, without any built-in python libraries."
   ]
  },
  {
   "cell_type": "code",
   "execution_count": 30,
   "id": "680f0457",
   "metadata": {},
   "outputs": [
    {
     "data": {
      "text/plain": [
       "0   -0.461608\n",
       "1    0.471753\n",
       "2   -0.623932\n",
       "3   -0.989160\n",
       "4   -0.786255\n",
       "5    2.257313\n",
       "6   -0.421027\n",
       "7    0.552915\n",
       "Name: Income, dtype: float64"
      ]
     },
     "metadata": {},
     "output_type": "display_data"
    }
   ],
   "source": [
    "# Feature Standartization by hands for column Income\n",
    "m = df_enc['Income'].mean()\n",
    "s = df_enc['Income'].std(ddof=0)\n",
    "display((df_enc['Income'] - m) / s)"
   ]
  },
  {
   "cell_type": "markdown",
   "id": "de961411",
   "metadata": {},
   "source": [
    "#### 5.1.2. Implementing with a library"
   ]
  },
  {
   "cell_type": "code",
   "execution_count": 31,
   "id": "80f68e8c",
   "metadata": {},
   "outputs": [
    {
     "data": {
      "text/plain": [
       "array([[-0.4616079 ],\n",
       "       [ 0.47175313],\n",
       "       [-0.62393155],\n",
       "       [-0.98915978],\n",
       "       [-0.78625521],\n",
       "       [ 2.25731335],\n",
       "       [-0.42102698],\n",
       "       [ 0.55291495]])"
      ]
     },
     "metadata": {},
     "output_type": "display_data"
    }
   ],
   "source": [
    "# Feature Standartization using sklearn class StandardScaler\n",
    "# Initializing StandardScaler class instance \n",
    "scaler = preprocessing.StandardScaler()\n",
    "\n",
    "# Fitting to column Income\n",
    "# class method fit expects to have 2d input, so instead of df[column_name] (Series object)\n",
    "# we pass df[[column_name]] (Dataframe object)\n",
    "scaler.fit(df_enc[['Income']])\n",
    "\n",
    "# Printing result of column transformation\n",
    "display(scaler.transform(df_enc[['Income']]))"
   ]
  },
  {
   "cell_type": "markdown",
   "id": "f40c1571",
   "metadata": {},
   "source": [
    "Now we move foreward to transforming not only one column, but all numerical columns. To do so we just need to fit StandardScaler to the whole dataset."
   ]
  },
  {
   "cell_type": "code",
   "execution_count": 14,
   "id": "69eb54a1",
   "metadata": {},
   "outputs": [
    {
     "name": "stdout",
     "output_type": "stream",
     "text": [
      "[[-0.50618484 -0.4616079  -1.29099445 -0.77459667 -0.77459667  1.29099445\n",
      "  -0.57735027]\n",
      " [ 1.02605036  0.47175313  0.77459667 -0.77459667  1.29099445 -0.77459667\n",
      "  -0.57735027]\n",
      " [-1.27230244 -0.62393155  0.77459667  1.29099445 -0.77459667 -0.77459667\n",
      "   1.73205081]\n",
      " [-0.06840336 -0.98915978  0.77459667  1.29099445  1.29099445 -0.77459667\n",
      "  -0.57735027]\n",
      " [-0.83452096 -0.78625521 -1.29099445  1.29099445 -0.77459667  1.29099445\n",
      "  -0.57735027]\n",
      " [ 1.90161333  2.25731335  0.77459667 -0.77459667  1.29099445 -0.77459667\n",
      "  -0.57735027]\n",
      " [-0.72507559 -0.42102698 -1.29099445 -0.77459667 -0.77459667  1.29099445\n",
      "  -0.57735027]\n",
      " [ 0.4788235   0.55291495  0.77459667 -0.77459667 -0.77459667 -0.77459667\n",
      "   1.73205081]]\n"
     ]
    }
   ],
   "source": [
    "## Transforming all numerical columns\n",
    "\n",
    "#initialize StandardScaler()\n",
    "scaler = preprocessing.StandardScaler()\n",
    "\n",
    "#fit StandardScaler() to the dataset\n",
    "scaler.fit(df_enc)\n",
    "\n",
    "#transform\n",
    "result = scaler.transform(df_enc)\n",
    "\n",
    "#print the result\n",
    "print(result)"
   ]
  },
  {
   "cell_type": "markdown",
   "id": "47cbb416",
   "metadata": {},
   "source": [
    "As we see `StandardScaler` outputs numpy array, but we want pandas dataframe as output. Hopefully transform from numpy array to pandas dataframe is pretty easy."
   ]
  },
  {
   "cell_type": "code",
   "execution_count": 15,
   "id": "c0cbd55d",
   "metadata": {},
   "outputs": [
    {
     "data": {
      "text/html": [
       "<div>\n",
       "<style scoped>\n",
       "    .dataframe tbody tr th:only-of-type {\n",
       "        vertical-align: middle;\n",
       "    }\n",
       "\n",
       "    .dataframe tbody tr th {\n",
       "        vertical-align: top;\n",
       "    }\n",
       "\n",
       "    .dataframe thead th {\n",
       "        text-align: right;\n",
       "    }\n",
       "</style>\n",
       "<table border=\"1\" class=\"dataframe\">\n",
       "  <thead>\n",
       "    <tr style=\"text-align: right;\">\n",
       "      <th></th>\n",
       "      <th>Age</th>\n",
       "      <th>Income</th>\n",
       "      <th>Kids</th>\n",
       "      <th>Residence</th>\n",
       "      <th>Vehicle_car</th>\n",
       "      <th>Vehicle_none</th>\n",
       "      <th>Vehicle_truck</th>\n",
       "    </tr>\n",
       "  </thead>\n",
       "  <tbody>\n",
       "    <tr>\n",
       "      <th>0</th>\n",
       "      <td>-0.506185</td>\n",
       "      <td>-0.461608</td>\n",
       "      <td>-1.290994</td>\n",
       "      <td>-0.774597</td>\n",
       "      <td>-0.774597</td>\n",
       "      <td>1.290994</td>\n",
       "      <td>-0.577350</td>\n",
       "    </tr>\n",
       "    <tr>\n",
       "      <th>1</th>\n",
       "      <td>1.026050</td>\n",
       "      <td>0.471753</td>\n",
       "      <td>0.774597</td>\n",
       "      <td>-0.774597</td>\n",
       "      <td>1.290994</td>\n",
       "      <td>-0.774597</td>\n",
       "      <td>-0.577350</td>\n",
       "    </tr>\n",
       "    <tr>\n",
       "      <th>2</th>\n",
       "      <td>-1.272302</td>\n",
       "      <td>-0.623932</td>\n",
       "      <td>0.774597</td>\n",
       "      <td>1.290994</td>\n",
       "      <td>-0.774597</td>\n",
       "      <td>-0.774597</td>\n",
       "      <td>1.732051</td>\n",
       "    </tr>\n",
       "    <tr>\n",
       "      <th>3</th>\n",
       "      <td>-0.068403</td>\n",
       "      <td>-0.989160</td>\n",
       "      <td>0.774597</td>\n",
       "      <td>1.290994</td>\n",
       "      <td>1.290994</td>\n",
       "      <td>-0.774597</td>\n",
       "      <td>-0.577350</td>\n",
       "    </tr>\n",
       "    <tr>\n",
       "      <th>4</th>\n",
       "      <td>-0.834521</td>\n",
       "      <td>-0.786255</td>\n",
       "      <td>-1.290994</td>\n",
       "      <td>1.290994</td>\n",
       "      <td>-0.774597</td>\n",
       "      <td>1.290994</td>\n",
       "      <td>-0.577350</td>\n",
       "    </tr>\n",
       "    <tr>\n",
       "      <th>5</th>\n",
       "      <td>1.901613</td>\n",
       "      <td>2.257313</td>\n",
       "      <td>0.774597</td>\n",
       "      <td>-0.774597</td>\n",
       "      <td>1.290994</td>\n",
       "      <td>-0.774597</td>\n",
       "      <td>-0.577350</td>\n",
       "    </tr>\n",
       "    <tr>\n",
       "      <th>6</th>\n",
       "      <td>-0.725076</td>\n",
       "      <td>-0.421027</td>\n",
       "      <td>-1.290994</td>\n",
       "      <td>-0.774597</td>\n",
       "      <td>-0.774597</td>\n",
       "      <td>1.290994</td>\n",
       "      <td>-0.577350</td>\n",
       "    </tr>\n",
       "    <tr>\n",
       "      <th>7</th>\n",
       "      <td>0.478824</td>\n",
       "      <td>0.552915</td>\n",
       "      <td>0.774597</td>\n",
       "      <td>-0.774597</td>\n",
       "      <td>-0.774597</td>\n",
       "      <td>-0.774597</td>\n",
       "      <td>1.732051</td>\n",
       "    </tr>\n",
       "  </tbody>\n",
       "</table>\n",
       "</div>"
      ],
      "text/plain": [
       "        Age    Income      Kids  Residence  Vehicle_car  Vehicle_none  \\\n",
       "0 -0.506185 -0.461608 -1.290994  -0.774597    -0.774597      1.290994   \n",
       "1  1.026050  0.471753  0.774597  -0.774597     1.290994     -0.774597   \n",
       "2 -1.272302 -0.623932  0.774597   1.290994    -0.774597     -0.774597   \n",
       "3 -0.068403 -0.989160  0.774597   1.290994     1.290994     -0.774597   \n",
       "4 -0.834521 -0.786255 -1.290994   1.290994    -0.774597      1.290994   \n",
       "5  1.901613  2.257313  0.774597  -0.774597     1.290994     -0.774597   \n",
       "6 -0.725076 -0.421027 -1.290994  -0.774597    -0.774597      1.290994   \n",
       "7  0.478824  0.552915  0.774597  -0.774597    -0.774597     -0.774597   \n",
       "\n",
       "   Vehicle_truck  \n",
       "0      -0.577350  \n",
       "1      -0.577350  \n",
       "2       1.732051  \n",
       "3      -0.577350  \n",
       "4      -0.577350  \n",
       "5      -0.577350  \n",
       "6      -0.577350  \n",
       "7       1.732051  "
      ]
     },
     "metadata": {},
     "output_type": "display_data"
    }
   ],
   "source": [
    "display(pd.DataFrame(data=result, columns=df_enc.columns))"
   ]
  },
  {
   "cell_type": "markdown",
   "id": "f58adb98",
   "metadata": {},
   "source": [
    "### 5.2. Feature Normalization"
   ]
  },
  {
   "cell_type": "markdown",
   "id": "f701a9d5",
   "metadata": {},
   "source": [
    "#### 5.2.1. Implementing from scratch"
   ]
  },
  {
   "cell_type": "markdown",
   "id": "6b5435fe",
   "metadata": {},
   "source": [
    "First, to understand the idea, let's implement feature normalization from scratch, without any built-in python libraries."
   ]
  },
  {
   "cell_type": "code",
   "execution_count": 33,
   "id": "d7f5b46c",
   "metadata": {},
   "outputs": [
    {
     "data": {
      "text/plain": [
       "0    0.1625\n",
       "1    0.4500\n",
       "2    0.1125\n",
       "3    0.0000\n",
       "4    0.0625\n",
       "5    1.0000\n",
       "6    0.1750\n",
       "7    0.4750\n",
       "Name: Income, dtype: float64"
      ]
     },
     "metadata": {},
     "output_type": "display_data"
    }
   ],
   "source": [
    "# Feature Normalization by hands for column Income\n",
    "min_income = df_enc['Income'].min()\n",
    "max_income = df_enc['Income'].max()\n",
    "display((df_enc['Income'] - min_income) / (max_income - min_income))"
   ]
  },
  {
   "cell_type": "markdown",
   "id": "ca6e9c44",
   "metadata": {},
   "source": [
    "#### 5.2.2. Implementing with a library"
   ]
  },
  {
   "cell_type": "code",
   "execution_count": 34,
   "id": "558664e8",
   "metadata": {},
   "outputs": [
    {
     "data": {
      "text/plain": [
       "array([[0.1625],\n",
       "       [0.45  ],\n",
       "       [0.1125],\n",
       "       [0.    ],\n",
       "       [0.0625],\n",
       "       [1.    ],\n",
       "       [0.175 ],\n",
       "       [0.475 ]])"
      ]
     },
     "metadata": {},
     "output_type": "display_data"
    }
   ],
   "source": [
    "# Feature Normalization using sklearn class MinMaxScaler\n",
    "# Initializing MinMaxScaler class instance \n",
    "scaler = preprocessing.MinMaxScaler()\n",
    "\n",
    "# Fitting to column Income\n",
    "# class method fit expects to have 2d input, so instead of df[column_name] (Series object)\n",
    "# we pass df[[column_name]] (Dataframe object)\n",
    "scaler.fit(df_enc[['Income']])\n",
    "\n",
    "# Printing result of column transformation\n",
    "display(scaler.transform(df_enc[['Income']]))"
   ]
  },
  {
   "cell_type": "markdown",
   "id": "36dcd476",
   "metadata": {},
   "source": [
    "Now we move foreword to transforming not only one column, but all numerical columns. To do so we just need to fit MinMaxScaler to the whole dataset."
   ]
  },
  {
   "cell_type": "code",
   "execution_count": 17,
   "id": "f6d84cdf",
   "metadata": {},
   "outputs": [
    {
     "name": "stdout",
     "output_type": "stream",
     "text": [
      "[[0.24137931 0.1625     0.         0.         0.         1.\n",
      "  0.        ]\n",
      " [0.72413793 0.45       1.         0.         1.         0.\n",
      "  0.        ]\n",
      " [0.         0.1125     1.         1.         0.         0.\n",
      "  1.        ]\n",
      " [0.37931034 0.         1.         1.         1.         0.\n",
      "  0.        ]\n",
      " [0.13793103 0.0625     0.         1.         0.         1.\n",
      "  0.        ]\n",
      " [1.         1.         1.         0.         1.         0.\n",
      "  0.        ]\n",
      " [0.17241379 0.175      0.         0.         0.         1.\n",
      "  0.        ]\n",
      " [0.55172414 0.475      1.         0.         0.         0.\n",
      "  1.        ]]\n"
     ]
    }
   ],
   "source": [
    "# Transforming all numerical columns\n",
    "\n",
    "#initialize MinMaxScaler()\n",
    "scaler = preprocessing.MinMaxScaler()\n",
    "\n",
    "#fit MinMaxScaler() to the dataset\n",
    "scaler.fit(df_enc)\n",
    "\n",
    "#transform\n",
    "result = scaler.transform(df_enc)\n",
    "\n",
    "#print the result\n",
    "print(result)"
   ]
  },
  {
   "cell_type": "markdown",
   "id": "24220a05",
   "metadata": {},
   "source": [
    "As we see MinMaxScaler outputs numpy array, but we want pandas dataframe as output. Hopefully transform from numpy array to pandas dataframe is pretty easy."
   ]
  },
  {
   "cell_type": "code",
   "execution_count": 18,
   "id": "ab1d66f8",
   "metadata": {},
   "outputs": [
    {
     "data": {
      "text/html": [
       "<div>\n",
       "<style scoped>\n",
       "    .dataframe tbody tr th:only-of-type {\n",
       "        vertical-align: middle;\n",
       "    }\n",
       "\n",
       "    .dataframe tbody tr th {\n",
       "        vertical-align: top;\n",
       "    }\n",
       "\n",
       "    .dataframe thead th {\n",
       "        text-align: right;\n",
       "    }\n",
       "</style>\n",
       "<table border=\"1\" class=\"dataframe\">\n",
       "  <thead>\n",
       "    <tr style=\"text-align: right;\">\n",
       "      <th></th>\n",
       "      <th>Age</th>\n",
       "      <th>Income</th>\n",
       "      <th>Kids</th>\n",
       "      <th>Residence</th>\n",
       "      <th>Vehicle_car</th>\n",
       "      <th>Vehicle_none</th>\n",
       "      <th>Vehicle_truck</th>\n",
       "    </tr>\n",
       "  </thead>\n",
       "  <tbody>\n",
       "    <tr>\n",
       "      <th>0</th>\n",
       "      <td>0.241379</td>\n",
       "      <td>0.1625</td>\n",
       "      <td>0.0</td>\n",
       "      <td>0.0</td>\n",
       "      <td>0.0</td>\n",
       "      <td>1.0</td>\n",
       "      <td>0.0</td>\n",
       "    </tr>\n",
       "    <tr>\n",
       "      <th>1</th>\n",
       "      <td>0.724138</td>\n",
       "      <td>0.4500</td>\n",
       "      <td>1.0</td>\n",
       "      <td>0.0</td>\n",
       "      <td>1.0</td>\n",
       "      <td>0.0</td>\n",
       "      <td>0.0</td>\n",
       "    </tr>\n",
       "    <tr>\n",
       "      <th>2</th>\n",
       "      <td>0.000000</td>\n",
       "      <td>0.1125</td>\n",
       "      <td>1.0</td>\n",
       "      <td>1.0</td>\n",
       "      <td>0.0</td>\n",
       "      <td>0.0</td>\n",
       "      <td>1.0</td>\n",
       "    </tr>\n",
       "    <tr>\n",
       "      <th>3</th>\n",
       "      <td>0.379310</td>\n",
       "      <td>0.0000</td>\n",
       "      <td>1.0</td>\n",
       "      <td>1.0</td>\n",
       "      <td>1.0</td>\n",
       "      <td>0.0</td>\n",
       "      <td>0.0</td>\n",
       "    </tr>\n",
       "    <tr>\n",
       "      <th>4</th>\n",
       "      <td>0.137931</td>\n",
       "      <td>0.0625</td>\n",
       "      <td>0.0</td>\n",
       "      <td>1.0</td>\n",
       "      <td>0.0</td>\n",
       "      <td>1.0</td>\n",
       "      <td>0.0</td>\n",
       "    </tr>\n",
       "    <tr>\n",
       "      <th>5</th>\n",
       "      <td>1.000000</td>\n",
       "      <td>1.0000</td>\n",
       "      <td>1.0</td>\n",
       "      <td>0.0</td>\n",
       "      <td>1.0</td>\n",
       "      <td>0.0</td>\n",
       "      <td>0.0</td>\n",
       "    </tr>\n",
       "    <tr>\n",
       "      <th>6</th>\n",
       "      <td>0.172414</td>\n",
       "      <td>0.1750</td>\n",
       "      <td>0.0</td>\n",
       "      <td>0.0</td>\n",
       "      <td>0.0</td>\n",
       "      <td>1.0</td>\n",
       "      <td>0.0</td>\n",
       "    </tr>\n",
       "    <tr>\n",
       "      <th>7</th>\n",
       "      <td>0.551724</td>\n",
       "      <td>0.4750</td>\n",
       "      <td>1.0</td>\n",
       "      <td>0.0</td>\n",
       "      <td>0.0</td>\n",
       "      <td>0.0</td>\n",
       "      <td>1.0</td>\n",
       "    </tr>\n",
       "  </tbody>\n",
       "</table>\n",
       "</div>"
      ],
      "text/plain": [
       "        Age  Income  Kids  Residence  Vehicle_car  Vehicle_none  Vehicle_truck\n",
       "0  0.241379  0.1625   0.0        0.0          0.0           1.0            0.0\n",
       "1  0.724138  0.4500   1.0        0.0          1.0           0.0            0.0\n",
       "2  0.000000  0.1125   1.0        1.0          0.0           0.0            1.0\n",
       "3  0.379310  0.0000   1.0        1.0          1.0           0.0            0.0\n",
       "4  0.137931  0.0625   0.0        1.0          0.0           1.0            0.0\n",
       "5  1.000000  1.0000   1.0        0.0          1.0           0.0            0.0\n",
       "6  0.172414  0.1750   0.0        0.0          0.0           1.0            0.0\n",
       "7  0.551724  0.4750   1.0        0.0          0.0           0.0            1.0"
      ]
     },
     "metadata": {},
     "output_type": "display_data"
    }
   ],
   "source": [
    "display(pd.DataFrame(data=result, columns=df_enc.columns))"
   ]
  },
  {
   "cell_type": "markdown",
   "id": "e1e90357",
   "metadata": {},
   "source": [
    "## 6. Feature Engineering"
   ]
  },
  {
   "cell_type": "markdown",
   "id": "b22f248f",
   "metadata": {},
   "source": [
    "### 6.1. Domain Knowledge Binning"
   ]
  },
  {
   "cell_type": "markdown",
   "id": "be90d243",
   "metadata": {},
   "source": [
    "Feature binning is the process that converts a numerical (either continuous and discrete) feature into a categorical feature represented by a set of ranges, or bins. For example, instead of representing age as a single real-valued feature, we chop ranges of age into 3 discrete bins: young ∈ [ages 25−34], middle ∈ [ages 35−44], old ∈[ages 45−54]. Let's see how it works in practice."
   ]
  },
  {
   "cell_type": "markdown",
   "id": "741e1016",
   "metadata": {},
   "source": [
    "First, to understand the idea, let's implement feature binning from scratch, without any built-in python libraries.\n",
    "We start with writing a function for binning, `get_bin`."
   ]
  },
  {
   "cell_type": "code",
   "execution_count": 35,
   "id": "849b5b32",
   "metadata": {},
   "outputs": [
    {
     "name": "stdout",
     "output_type": "stream",
     "text": [
      "young\n",
      "middle\n",
      "old\n"
     ]
    }
   ],
   "source": [
    "# First, we implement simple function, that returns discrete bin (young/middle/old) to passed value\n",
    "def get_bin(age: int) -> str:\n",
    "    if age <= 34:\n",
    "        return 'young'\n",
    "    elif age >= 45:\n",
    "        return 'old'\n",
    "    else:\n",
    "        return 'middle'\n",
    "    \n",
    "# Let's test its behaviour\n",
    "print(get_bin(27))\n",
    "print(get_bin(40))\n",
    "print(get_bin(47))"
   ]
  },
  {
   "cell_type": "markdown",
   "id": "60850b2a",
   "metadata": {},
   "source": [
    "We then simply apply `get_bin` function to the column `Age`."
   ]
  },
  {
   "cell_type": "code",
   "execution_count": 20,
   "id": "8f938be2",
   "metadata": {},
   "outputs": [
    {
     "data": {
      "text/html": [
       "<div>\n",
       "<style scoped>\n",
       "    .dataframe tbody tr th:only-of-type {\n",
       "        vertical-align: middle;\n",
       "    }\n",
       "\n",
       "    .dataframe tbody tr th {\n",
       "        vertical-align: top;\n",
       "    }\n",
       "\n",
       "    .dataframe thead th {\n",
       "        text-align: right;\n",
       "    }\n",
       "</style>\n",
       "<table border=\"1\" class=\"dataframe\">\n",
       "  <thead>\n",
       "    <tr style=\"text-align: right;\">\n",
       "      <th></th>\n",
       "      <th>Age</th>\n",
       "      <th>Income</th>\n",
       "      <th>Kids</th>\n",
       "      <th>Residence</th>\n",
       "      <th>Vehicle_car</th>\n",
       "      <th>Vehicle_none</th>\n",
       "      <th>Vehicle_truck</th>\n",
       "    </tr>\n",
       "  </thead>\n",
       "  <tbody>\n",
       "    <tr>\n",
       "      <th>0</th>\n",
       "      <td>young</td>\n",
       "      <td>95.0</td>\n",
       "      <td>0</td>\n",
       "      <td>0</td>\n",
       "      <td>0</td>\n",
       "      <td>1</td>\n",
       "      <td>0</td>\n",
       "    </tr>\n",
       "    <tr>\n",
       "      <th>1</th>\n",
       "      <td>old</td>\n",
       "      <td>210.0</td>\n",
       "      <td>1</td>\n",
       "      <td>0</td>\n",
       "      <td>1</td>\n",
       "      <td>0</td>\n",
       "      <td>0</td>\n",
       "    </tr>\n",
       "    <tr>\n",
       "      <th>2</th>\n",
       "      <td>young</td>\n",
       "      <td>75.0</td>\n",
       "      <td>1</td>\n",
       "      <td>1</td>\n",
       "      <td>0</td>\n",
       "      <td>0</td>\n",
       "      <td>1</td>\n",
       "    </tr>\n",
       "    <tr>\n",
       "      <th>3</th>\n",
       "      <td>middle</td>\n",
       "      <td>30.0</td>\n",
       "      <td>1</td>\n",
       "      <td>1</td>\n",
       "      <td>1</td>\n",
       "      <td>0</td>\n",
       "      <td>0</td>\n",
       "    </tr>\n",
       "    <tr>\n",
       "      <th>4</th>\n",
       "      <td>young</td>\n",
       "      <td>55.0</td>\n",
       "      <td>0</td>\n",
       "      <td>1</td>\n",
       "      <td>0</td>\n",
       "      <td>1</td>\n",
       "      <td>0</td>\n",
       "    </tr>\n",
       "    <tr>\n",
       "      <th>5</th>\n",
       "      <td>old</td>\n",
       "      <td>430.0</td>\n",
       "      <td>1</td>\n",
       "      <td>0</td>\n",
       "      <td>1</td>\n",
       "      <td>0</td>\n",
       "      <td>0</td>\n",
       "    </tr>\n",
       "    <tr>\n",
       "      <th>6</th>\n",
       "      <td>young</td>\n",
       "      <td>100.0</td>\n",
       "      <td>0</td>\n",
       "      <td>0</td>\n",
       "      <td>0</td>\n",
       "      <td>1</td>\n",
       "      <td>0</td>\n",
       "    </tr>\n",
       "    <tr>\n",
       "      <th>7</th>\n",
       "      <td>middle</td>\n",
       "      <td>220.0</td>\n",
       "      <td>1</td>\n",
       "      <td>0</td>\n",
       "      <td>0</td>\n",
       "      <td>0</td>\n",
       "      <td>1</td>\n",
       "    </tr>\n",
       "  </tbody>\n",
       "</table>\n",
       "</div>"
      ],
      "text/plain": [
       "      Age  Income  Kids  Residence  Vehicle_car  Vehicle_none  Vehicle_truck\n",
       "0   young    95.0     0          0            0             1              0\n",
       "1     old   210.0     1          0            1             0              0\n",
       "2   young    75.0     1          1            0             0              1\n",
       "3  middle    30.0     1          1            1             0              0\n",
       "4   young    55.0     0          1            0             1              0\n",
       "5     old   430.0     1          0            1             0              0\n",
       "6   young   100.0     0          0            0             1              0\n",
       "7  middle   220.0     1          0            0             0              1"
      ]
     },
     "execution_count": 20,
     "metadata": {},
     "output_type": "execute_result"
    }
   ],
   "source": [
    "# We copy our dataset to new variable, in order not to change something\n",
    "df_binned = df_enc.copy()\n",
    "\n",
    "# Now we apply our function get_bin to column Age\n",
    "df_binned['Age'] = df_binned['Age'].apply(get_bin)\n",
    "\n",
    "df_binned"
   ]
  },
  {
   "cell_type": "markdown",
   "id": "5ef762fe",
   "metadata": {},
   "source": [
    "### 6.2 Equal Width Binning"
   ]
  },
  {
   "cell_type": "markdown",
   "id": "2738f075",
   "metadata": {},
   "source": [
    "Now let's see how equal width binning works in practice."
   ]
  },
  {
   "cell_type": "code",
   "execution_count": 21,
   "id": "082aaf32",
   "metadata": {},
   "outputs": [
    {
     "data": {
      "text/plain": [
       "array([array([25.        , 34.66666667, 44.33333333, 54.        ])],\n",
       "      dtype=object)"
      ]
     },
     "metadata": {},
     "output_type": "display_data"
    },
    {
     "data": {
      "text/html": [
       "<div>\n",
       "<style scoped>\n",
       "    .dataframe tbody tr th:only-of-type {\n",
       "        vertical-align: middle;\n",
       "    }\n",
       "\n",
       "    .dataframe tbody tr th {\n",
       "        vertical-align: top;\n",
       "    }\n",
       "\n",
       "    .dataframe thead th {\n",
       "        text-align: right;\n",
       "    }\n",
       "</style>\n",
       "<table border=\"1\" class=\"dataframe\">\n",
       "  <thead>\n",
       "    <tr style=\"text-align: right;\">\n",
       "      <th></th>\n",
       "      <th>Age</th>\n",
       "      <th>Income</th>\n",
       "      <th>Kids</th>\n",
       "      <th>Residence</th>\n",
       "      <th>Vehicle_car</th>\n",
       "      <th>Vehicle_none</th>\n",
       "      <th>Vehicle_truck</th>\n",
       "    </tr>\n",
       "  </thead>\n",
       "  <tbody>\n",
       "    <tr>\n",
       "      <th>0</th>\n",
       "      <td>0.0</td>\n",
       "      <td>95.0</td>\n",
       "      <td>0</td>\n",
       "      <td>0</td>\n",
       "      <td>0</td>\n",
       "      <td>1</td>\n",
       "      <td>0</td>\n",
       "    </tr>\n",
       "    <tr>\n",
       "      <th>1</th>\n",
       "      <td>2.0</td>\n",
       "      <td>210.0</td>\n",
       "      <td>1</td>\n",
       "      <td>0</td>\n",
       "      <td>1</td>\n",
       "      <td>0</td>\n",
       "      <td>0</td>\n",
       "    </tr>\n",
       "    <tr>\n",
       "      <th>2</th>\n",
       "      <td>0.0</td>\n",
       "      <td>75.0</td>\n",
       "      <td>1</td>\n",
       "      <td>1</td>\n",
       "      <td>0</td>\n",
       "      <td>0</td>\n",
       "      <td>1</td>\n",
       "    </tr>\n",
       "    <tr>\n",
       "      <th>3</th>\n",
       "      <td>1.0</td>\n",
       "      <td>30.0</td>\n",
       "      <td>1</td>\n",
       "      <td>1</td>\n",
       "      <td>1</td>\n",
       "      <td>0</td>\n",
       "      <td>0</td>\n",
       "    </tr>\n",
       "    <tr>\n",
       "      <th>4</th>\n",
       "      <td>0.0</td>\n",
       "      <td>55.0</td>\n",
       "      <td>0</td>\n",
       "      <td>1</td>\n",
       "      <td>0</td>\n",
       "      <td>1</td>\n",
       "      <td>0</td>\n",
       "    </tr>\n",
       "    <tr>\n",
       "      <th>5</th>\n",
       "      <td>2.0</td>\n",
       "      <td>430.0</td>\n",
       "      <td>1</td>\n",
       "      <td>0</td>\n",
       "      <td>1</td>\n",
       "      <td>0</td>\n",
       "      <td>0</td>\n",
       "    </tr>\n",
       "    <tr>\n",
       "      <th>6</th>\n",
       "      <td>0.0</td>\n",
       "      <td>100.0</td>\n",
       "      <td>0</td>\n",
       "      <td>0</td>\n",
       "      <td>0</td>\n",
       "      <td>1</td>\n",
       "      <td>0</td>\n",
       "    </tr>\n",
       "    <tr>\n",
       "      <th>7</th>\n",
       "      <td>1.0</td>\n",
       "      <td>220.0</td>\n",
       "      <td>1</td>\n",
       "      <td>0</td>\n",
       "      <td>0</td>\n",
       "      <td>0</td>\n",
       "      <td>1</td>\n",
       "    </tr>\n",
       "  </tbody>\n",
       "</table>\n",
       "</div>"
      ],
      "text/plain": [
       "   Age  Income  Kids  Residence  Vehicle_car  Vehicle_none  Vehicle_truck\n",
       "0  0.0    95.0     0          0            0             1              0\n",
       "1  2.0   210.0     1          0            1             0              0\n",
       "2  0.0    75.0     1          1            0             0              1\n",
       "3  1.0    30.0     1          1            1             0              0\n",
       "4  0.0    55.0     0          1            0             1              0\n",
       "5  2.0   430.0     1          0            1             0              0\n",
       "6  0.0   100.0     0          0            0             1              0\n",
       "7  1.0   220.0     1          0            0             0              1"
      ]
     },
     "metadata": {},
     "output_type": "display_data"
    }
   ],
   "source": [
    "# We will use KBinsDiscretizer sklearn class to produce bins\n",
    "# We copy our dataset to new variable, in order not to change something\n",
    "df_binned = df_enc.copy()\n",
    "\n",
    "# Initializing KBinsDiscretizer class instance\n",
    "# Let number of bins be 3\n",
    "# To define equal width binning we need to set parameter strategy to uniform\n",
    "est = preprocessing.KBinsDiscretizer(n_bins=3, strategy='uniform', encode='ordinal')\n",
    "\n",
    "# Fitting to column Age\n",
    "est.fit(df_binned[['Age']])\n",
    "\n",
    "# Bins edges\n",
    "display(est.bin_edges_)\n",
    "\n",
    "# Printing result of column transformation\n",
    "df_binned[['Age']] = est.transform(df_binned[['Age']])\n",
    "display(df_binned)"
   ]
  },
  {
   "cell_type": "markdown",
   "id": "c01ca48d",
   "metadata": {},
   "source": [
    "## 7. Handling Class Label Imbalance"
   ]
  },
  {
   "cell_type": "markdown",
   "id": "17406fcd",
   "metadata": {},
   "source": [
    "Class imbalance occurs when the number of observations in one class is much higher or lower than the number of observations in the other class. This can be a problem in machine learning because it can lead to biased models that perform poorly on the minority class.\n",
    "\n",
    "For example, consider a binary classification problem where the goal is to predict whether a customer will default on a loan. If the dataset has a very low percentage of customers who default, the model might learn to always predict that a customer will not default, resulting in high accuracy but poor performance on the minority class of customers who do default.\n",
    "\n",
    "To address class imbalance, there are several approaches that can be taken. One approach is to collect more data for the minority class to better balance the dataset. Another approach is to use algorithms that are specifically designed to handle class imbalance, such as cost-sensitive learning algorithms. \n",
    "\n",
    "But in this section, we will learn about a third, more generic approach, which is to use sampling techniques, such as oversampling the minority class or undersampling the majority class, to create a more balanced dataset.\n"
   ]
  },
  {
   "cell_type": "markdown",
   "id": "f5ac1e71",
   "metadata": {},
   "source": [
    "### 7.1. Dataset overview"
   ]
  },
  {
   "cell_type": "markdown",
   "id": "7a925f54",
   "metadata": {},
   "source": [
    "Suppose we want to predict if a person has a child using `Age` and `Income` parameters (seems a little bit weird, but imagine we are demographers)."
   ]
  },
  {
   "cell_type": "code",
   "execution_count": 37,
   "id": "8322ed7c",
   "metadata": {},
   "outputs": [],
   "source": [
    "# Making dataframe consist only necessary columns for this task\n",
    "data = df_enc[['Age', 'Income', 'Kids']]"
   ]
  },
  {
   "cell_type": "code",
   "execution_count": 38,
   "id": "22578006",
   "metadata": {},
   "outputs": [
    {
     "data": {
      "text/plain": [
       "1    5\n",
       "0    3\n",
       "Name: Kids, dtype: int64"
      ]
     },
     "execution_count": 38,
     "metadata": {},
     "output_type": "execute_result"
    }
   ],
   "source": [
    "# Let's look how classes are balanced\n",
    "data['Kids'].value_counts()"
   ]
  },
  {
   "cell_type": "markdown",
   "id": "09acd50c",
   "metadata": {},
   "source": [
    "There are 5 observations for `Has Kid` class and 3 observations for `Doesn't have kid`. Let's also plot these data points and visualize it with the graph."
   ]
  },
  {
   "cell_type": "code",
   "execution_count": 43,
   "id": "fdf5fada",
   "metadata": {
    "scrolled": true
   },
   "outputs": [
    {
     "data": {
      "application/vnd.plotly.v1+json": {
       "config": {
        "plotlyServerURL": "https://plot.ly"
       },
       "data": [
        {
         "hovertemplate": "Age=%{x}<br>Income=%{y}<br>Kids=%{marker.color}<extra></extra>",
         "legendgroup": "",
         "marker": {
          "color": [
           0,
           1,
           1,
           1,
           0,
           1,
           0,
           1
          ],
          "coloraxis": "coloraxis",
          "size": 8,
          "symbol": "circle"
         },
         "mode": "markers",
         "name": "",
         "orientation": "v",
         "showlegend": false,
         "type": "scatter",
         "x": [
          32,
          46,
          25,
          36,
          29,
          54,
          30,
          41
         ],
         "xaxis": "x",
         "y": [
          95,
          210,
          75,
          30,
          55,
          430,
          100,
          220
         ],
         "yaxis": "y"
        }
       ],
       "layout": {
        "coloraxis": {
         "colorbar": {
          "title": {
           "text": "Kids"
          }
         },
         "colorscale": [
          [
           0,
           "rgb(255,0,0)"
          ],
          [
           1,
           "rgb(0,0,255)"
          ]
         ]
        },
        "legend": {
         "tracegroupgap": 0
        },
        "margin": {
         "t": 60
        },
        "template": {
         "data": {
          "bar": [
           {
            "error_x": {
             "color": "#2a3f5f"
            },
            "error_y": {
             "color": "#2a3f5f"
            },
            "marker": {
             "line": {
              "color": "#E5ECF6",
              "width": 0.5
             },
             "pattern": {
              "fillmode": "overlay",
              "size": 10,
              "solidity": 0.2
             }
            },
            "type": "bar"
           }
          ],
          "barpolar": [
           {
            "marker": {
             "line": {
              "color": "#E5ECF6",
              "width": 0.5
             },
             "pattern": {
              "fillmode": "overlay",
              "size": 10,
              "solidity": 0.2
             }
            },
            "type": "barpolar"
           }
          ],
          "carpet": [
           {
            "aaxis": {
             "endlinecolor": "#2a3f5f",
             "gridcolor": "white",
             "linecolor": "white",
             "minorgridcolor": "white",
             "startlinecolor": "#2a3f5f"
            },
            "baxis": {
             "endlinecolor": "#2a3f5f",
             "gridcolor": "white",
             "linecolor": "white",
             "minorgridcolor": "white",
             "startlinecolor": "#2a3f5f"
            },
            "type": "carpet"
           }
          ],
          "choropleth": [
           {
            "colorbar": {
             "outlinewidth": 0,
             "ticks": ""
            },
            "type": "choropleth"
           }
          ],
          "contour": [
           {
            "colorbar": {
             "outlinewidth": 0,
             "ticks": ""
            },
            "colorscale": [
             [
              0,
              "#0d0887"
             ],
             [
              0.1111111111111111,
              "#46039f"
             ],
             [
              0.2222222222222222,
              "#7201a8"
             ],
             [
              0.3333333333333333,
              "#9c179e"
             ],
             [
              0.4444444444444444,
              "#bd3786"
             ],
             [
              0.5555555555555556,
              "#d8576b"
             ],
             [
              0.6666666666666666,
              "#ed7953"
             ],
             [
              0.7777777777777778,
              "#fb9f3a"
             ],
             [
              0.8888888888888888,
              "#fdca26"
             ],
             [
              1,
              "#f0f921"
             ]
            ],
            "type": "contour"
           }
          ],
          "contourcarpet": [
           {
            "colorbar": {
             "outlinewidth": 0,
             "ticks": ""
            },
            "type": "contourcarpet"
           }
          ],
          "heatmap": [
           {
            "colorbar": {
             "outlinewidth": 0,
             "ticks": ""
            },
            "colorscale": [
             [
              0,
              "#0d0887"
             ],
             [
              0.1111111111111111,
              "#46039f"
             ],
             [
              0.2222222222222222,
              "#7201a8"
             ],
             [
              0.3333333333333333,
              "#9c179e"
             ],
             [
              0.4444444444444444,
              "#bd3786"
             ],
             [
              0.5555555555555556,
              "#d8576b"
             ],
             [
              0.6666666666666666,
              "#ed7953"
             ],
             [
              0.7777777777777778,
              "#fb9f3a"
             ],
             [
              0.8888888888888888,
              "#fdca26"
             ],
             [
              1,
              "#f0f921"
             ]
            ],
            "type": "heatmap"
           }
          ],
          "heatmapgl": [
           {
            "colorbar": {
             "outlinewidth": 0,
             "ticks": ""
            },
            "colorscale": [
             [
              0,
              "#0d0887"
             ],
             [
              0.1111111111111111,
              "#46039f"
             ],
             [
              0.2222222222222222,
              "#7201a8"
             ],
             [
              0.3333333333333333,
              "#9c179e"
             ],
             [
              0.4444444444444444,
              "#bd3786"
             ],
             [
              0.5555555555555556,
              "#d8576b"
             ],
             [
              0.6666666666666666,
              "#ed7953"
             ],
             [
              0.7777777777777778,
              "#fb9f3a"
             ],
             [
              0.8888888888888888,
              "#fdca26"
             ],
             [
              1,
              "#f0f921"
             ]
            ],
            "type": "heatmapgl"
           }
          ],
          "histogram": [
           {
            "marker": {
             "pattern": {
              "fillmode": "overlay",
              "size": 10,
              "solidity": 0.2
             }
            },
            "type": "histogram"
           }
          ],
          "histogram2d": [
           {
            "colorbar": {
             "outlinewidth": 0,
             "ticks": ""
            },
            "colorscale": [
             [
              0,
              "#0d0887"
             ],
             [
              0.1111111111111111,
              "#46039f"
             ],
             [
              0.2222222222222222,
              "#7201a8"
             ],
             [
              0.3333333333333333,
              "#9c179e"
             ],
             [
              0.4444444444444444,
              "#bd3786"
             ],
             [
              0.5555555555555556,
              "#d8576b"
             ],
             [
              0.6666666666666666,
              "#ed7953"
             ],
             [
              0.7777777777777778,
              "#fb9f3a"
             ],
             [
              0.8888888888888888,
              "#fdca26"
             ],
             [
              1,
              "#f0f921"
             ]
            ],
            "type": "histogram2d"
           }
          ],
          "histogram2dcontour": [
           {
            "colorbar": {
             "outlinewidth": 0,
             "ticks": ""
            },
            "colorscale": [
             [
              0,
              "#0d0887"
             ],
             [
              0.1111111111111111,
              "#46039f"
             ],
             [
              0.2222222222222222,
              "#7201a8"
             ],
             [
              0.3333333333333333,
              "#9c179e"
             ],
             [
              0.4444444444444444,
              "#bd3786"
             ],
             [
              0.5555555555555556,
              "#d8576b"
             ],
             [
              0.6666666666666666,
              "#ed7953"
             ],
             [
              0.7777777777777778,
              "#fb9f3a"
             ],
             [
              0.8888888888888888,
              "#fdca26"
             ],
             [
              1,
              "#f0f921"
             ]
            ],
            "type": "histogram2dcontour"
           }
          ],
          "mesh3d": [
           {
            "colorbar": {
             "outlinewidth": 0,
             "ticks": ""
            },
            "type": "mesh3d"
           }
          ],
          "parcoords": [
           {
            "line": {
             "colorbar": {
              "outlinewidth": 0,
              "ticks": ""
             }
            },
            "type": "parcoords"
           }
          ],
          "pie": [
           {
            "automargin": true,
            "type": "pie"
           }
          ],
          "scatter": [
           {
            "fillpattern": {
             "fillmode": "overlay",
             "size": 10,
             "solidity": 0.2
            },
            "type": "scatter"
           }
          ],
          "scatter3d": [
           {
            "line": {
             "colorbar": {
              "outlinewidth": 0,
              "ticks": ""
             }
            },
            "marker": {
             "colorbar": {
              "outlinewidth": 0,
              "ticks": ""
             }
            },
            "type": "scatter3d"
           }
          ],
          "scattercarpet": [
           {
            "marker": {
             "colorbar": {
              "outlinewidth": 0,
              "ticks": ""
             }
            },
            "type": "scattercarpet"
           }
          ],
          "scattergeo": [
           {
            "marker": {
             "colorbar": {
              "outlinewidth": 0,
              "ticks": ""
             }
            },
            "type": "scattergeo"
           }
          ],
          "scattergl": [
           {
            "marker": {
             "colorbar": {
              "outlinewidth": 0,
              "ticks": ""
             }
            },
            "type": "scattergl"
           }
          ],
          "scattermapbox": [
           {
            "marker": {
             "colorbar": {
              "outlinewidth": 0,
              "ticks": ""
             }
            },
            "type": "scattermapbox"
           }
          ],
          "scatterpolar": [
           {
            "marker": {
             "colorbar": {
              "outlinewidth": 0,
              "ticks": ""
             }
            },
            "type": "scatterpolar"
           }
          ],
          "scatterpolargl": [
           {
            "marker": {
             "colorbar": {
              "outlinewidth": 0,
              "ticks": ""
             }
            },
            "type": "scatterpolargl"
           }
          ],
          "scatterternary": [
           {
            "marker": {
             "colorbar": {
              "outlinewidth": 0,
              "ticks": ""
             }
            },
            "type": "scatterternary"
           }
          ],
          "surface": [
           {
            "colorbar": {
             "outlinewidth": 0,
             "ticks": ""
            },
            "colorscale": [
             [
              0,
              "#0d0887"
             ],
             [
              0.1111111111111111,
              "#46039f"
             ],
             [
              0.2222222222222222,
              "#7201a8"
             ],
             [
              0.3333333333333333,
              "#9c179e"
             ],
             [
              0.4444444444444444,
              "#bd3786"
             ],
             [
              0.5555555555555556,
              "#d8576b"
             ],
             [
              0.6666666666666666,
              "#ed7953"
             ],
             [
              0.7777777777777778,
              "#fb9f3a"
             ],
             [
              0.8888888888888888,
              "#fdca26"
             ],
             [
              1,
              "#f0f921"
             ]
            ],
            "type": "surface"
           }
          ],
          "table": [
           {
            "cells": {
             "fill": {
              "color": "#EBF0F8"
             },
             "line": {
              "color": "white"
             }
            },
            "header": {
             "fill": {
              "color": "#C8D4E3"
             },
             "line": {
              "color": "white"
             }
            },
            "type": "table"
           }
          ]
         },
         "layout": {
          "annotationdefaults": {
           "arrowcolor": "#2a3f5f",
           "arrowhead": 0,
           "arrowwidth": 1
          },
          "autotypenumbers": "strict",
          "coloraxis": {
           "colorbar": {
            "outlinewidth": 0,
            "ticks": ""
           }
          },
          "colorscale": {
           "diverging": [
            [
             0,
             "#8e0152"
            ],
            [
             0.1,
             "#c51b7d"
            ],
            [
             0.2,
             "#de77ae"
            ],
            [
             0.3,
             "#f1b6da"
            ],
            [
             0.4,
             "#fde0ef"
            ],
            [
             0.5,
             "#f7f7f7"
            ],
            [
             0.6,
             "#e6f5d0"
            ],
            [
             0.7,
             "#b8e186"
            ],
            [
             0.8,
             "#7fbc41"
            ],
            [
             0.9,
             "#4d9221"
            ],
            [
             1,
             "#276419"
            ]
           ],
           "sequential": [
            [
             0,
             "#0d0887"
            ],
            [
             0.1111111111111111,
             "#46039f"
            ],
            [
             0.2222222222222222,
             "#7201a8"
            ],
            [
             0.3333333333333333,
             "#9c179e"
            ],
            [
             0.4444444444444444,
             "#bd3786"
            ],
            [
             0.5555555555555556,
             "#d8576b"
            ],
            [
             0.6666666666666666,
             "#ed7953"
            ],
            [
             0.7777777777777778,
             "#fb9f3a"
            ],
            [
             0.8888888888888888,
             "#fdca26"
            ],
            [
             1,
             "#f0f921"
            ]
           ],
           "sequentialminus": [
            [
             0,
             "#0d0887"
            ],
            [
             0.1111111111111111,
             "#46039f"
            ],
            [
             0.2222222222222222,
             "#7201a8"
            ],
            [
             0.3333333333333333,
             "#9c179e"
            ],
            [
             0.4444444444444444,
             "#bd3786"
            ],
            [
             0.5555555555555556,
             "#d8576b"
            ],
            [
             0.6666666666666666,
             "#ed7953"
            ],
            [
             0.7777777777777778,
             "#fb9f3a"
            ],
            [
             0.8888888888888888,
             "#fdca26"
            ],
            [
             1,
             "#f0f921"
            ]
           ]
          },
          "colorway": [
           "#636efa",
           "#EF553B",
           "#00cc96",
           "#ab63fa",
           "#FFA15A",
           "#19d3f3",
           "#FF6692",
           "#B6E880",
           "#FF97FF",
           "#FECB52"
          ],
          "font": {
           "color": "#2a3f5f"
          },
          "geo": {
           "bgcolor": "white",
           "lakecolor": "white",
           "landcolor": "#E5ECF6",
           "showlakes": true,
           "showland": true,
           "subunitcolor": "white"
          },
          "hoverlabel": {
           "align": "left"
          },
          "hovermode": "closest",
          "mapbox": {
           "style": "light"
          },
          "paper_bgcolor": "white",
          "plot_bgcolor": "#E5ECF6",
          "polar": {
           "angularaxis": {
            "gridcolor": "white",
            "linecolor": "white",
            "ticks": ""
           },
           "bgcolor": "#E5ECF6",
           "radialaxis": {
            "gridcolor": "white",
            "linecolor": "white",
            "ticks": ""
           }
          },
          "scene": {
           "xaxis": {
            "backgroundcolor": "#E5ECF6",
            "gridcolor": "white",
            "gridwidth": 2,
            "linecolor": "white",
            "showbackground": true,
            "ticks": "",
            "zerolinecolor": "white"
           },
           "yaxis": {
            "backgroundcolor": "#E5ECF6",
            "gridcolor": "white",
            "gridwidth": 2,
            "linecolor": "white",
            "showbackground": true,
            "ticks": "",
            "zerolinecolor": "white"
           },
           "zaxis": {
            "backgroundcolor": "#E5ECF6",
            "gridcolor": "white",
            "gridwidth": 2,
            "linecolor": "white",
            "showbackground": true,
            "ticks": "",
            "zerolinecolor": "white"
           }
          },
          "shapedefaults": {
           "line": {
            "color": "#2a3f5f"
           }
          },
          "ternary": {
           "aaxis": {
            "gridcolor": "white",
            "linecolor": "white",
            "ticks": ""
           },
           "baxis": {
            "gridcolor": "white",
            "linecolor": "white",
            "ticks": ""
           },
           "bgcolor": "#E5ECF6",
           "caxis": {
            "gridcolor": "white",
            "linecolor": "white",
            "ticks": ""
           }
          },
          "title": {
           "x": 0.05
          },
          "xaxis": {
           "automargin": true,
           "gridcolor": "white",
           "linecolor": "white",
           "ticks": "",
           "title": {
            "standoff": 15
           },
           "zerolinecolor": "white",
           "zerolinewidth": 2
          },
          "yaxis": {
           "automargin": true,
           "gridcolor": "white",
           "linecolor": "white",
           "ticks": "",
           "title": {
            "standoff": 15
           },
           "zerolinecolor": "white",
           "zerolinewidth": 2
          }
         }
        },
        "xaxis": {
         "anchor": "y",
         "domain": [
          0,
          1
         ],
         "title": {
          "text": "Age"
         }
        },
        "yaxis": {
         "anchor": "x",
         "domain": [
          0,
          1
         ],
         "title": {
          "text": "Income"
         }
        }
       }
      },
      "text/html": [
       "<div>                            <div id=\"0f4ca839-351a-4322-891e-9d5c74bf601b\" class=\"plotly-graph-div\" style=\"height:525px; width:100%;\"></div>            <script type=\"text/javascript\">                require([\"plotly\"], function(Plotly) {                    window.PLOTLYENV=window.PLOTLYENV || {};                                    if (document.getElementById(\"0f4ca839-351a-4322-891e-9d5c74bf601b\")) {                    Plotly.newPlot(                        \"0f4ca839-351a-4322-891e-9d5c74bf601b\",                        [{\"hovertemplate\":\"Age=%{x}<br>Income=%{y}<br>Kids=%{marker.color}<extra></extra>\",\"legendgroup\":\"\",\"marker\":{\"color\":[0,1,1,1,0,1,0,1],\"coloraxis\":\"coloraxis\",\"symbol\":\"circle\",\"size\":8},\"mode\":\"markers\",\"name\":\"\",\"orientation\":\"v\",\"showlegend\":false,\"x\":[32,46,25,36,29,54,30,41],\"xaxis\":\"x\",\"y\":[95.0,210.0,75.0,30.0,55.0,430.0,100.0,220.0],\"yaxis\":\"y\",\"type\":\"scatter\"}],                        {\"template\":{\"data\":{\"histogram2dcontour\":[{\"type\":\"histogram2dcontour\",\"colorbar\":{\"outlinewidth\":0,\"ticks\":\"\"},\"colorscale\":[[0.0,\"#0d0887\"],[0.1111111111111111,\"#46039f\"],[0.2222222222222222,\"#7201a8\"],[0.3333333333333333,\"#9c179e\"],[0.4444444444444444,\"#bd3786\"],[0.5555555555555556,\"#d8576b\"],[0.6666666666666666,\"#ed7953\"],[0.7777777777777778,\"#fb9f3a\"],[0.8888888888888888,\"#fdca26\"],[1.0,\"#f0f921\"]]}],\"choropleth\":[{\"type\":\"choropleth\",\"colorbar\":{\"outlinewidth\":0,\"ticks\":\"\"}}],\"histogram2d\":[{\"type\":\"histogram2d\",\"colorbar\":{\"outlinewidth\":0,\"ticks\":\"\"},\"colorscale\":[[0.0,\"#0d0887\"],[0.1111111111111111,\"#46039f\"],[0.2222222222222222,\"#7201a8\"],[0.3333333333333333,\"#9c179e\"],[0.4444444444444444,\"#bd3786\"],[0.5555555555555556,\"#d8576b\"],[0.6666666666666666,\"#ed7953\"],[0.7777777777777778,\"#fb9f3a\"],[0.8888888888888888,\"#fdca26\"],[1.0,\"#f0f921\"]]}],\"heatmap\":[{\"type\":\"heatmap\",\"colorbar\":{\"outlinewidth\":0,\"ticks\":\"\"},\"colorscale\":[[0.0,\"#0d0887\"],[0.1111111111111111,\"#46039f\"],[0.2222222222222222,\"#7201a8\"],[0.3333333333333333,\"#9c179e\"],[0.4444444444444444,\"#bd3786\"],[0.5555555555555556,\"#d8576b\"],[0.6666666666666666,\"#ed7953\"],[0.7777777777777778,\"#fb9f3a\"],[0.8888888888888888,\"#fdca26\"],[1.0,\"#f0f921\"]]}],\"heatmapgl\":[{\"type\":\"heatmapgl\",\"colorbar\":{\"outlinewidth\":0,\"ticks\":\"\"},\"colorscale\":[[0.0,\"#0d0887\"],[0.1111111111111111,\"#46039f\"],[0.2222222222222222,\"#7201a8\"],[0.3333333333333333,\"#9c179e\"],[0.4444444444444444,\"#bd3786\"],[0.5555555555555556,\"#d8576b\"],[0.6666666666666666,\"#ed7953\"],[0.7777777777777778,\"#fb9f3a\"],[0.8888888888888888,\"#fdca26\"],[1.0,\"#f0f921\"]]}],\"contourcarpet\":[{\"type\":\"contourcarpet\",\"colorbar\":{\"outlinewidth\":0,\"ticks\":\"\"}}],\"contour\":[{\"type\":\"contour\",\"colorbar\":{\"outlinewidth\":0,\"ticks\":\"\"},\"colorscale\":[[0.0,\"#0d0887\"],[0.1111111111111111,\"#46039f\"],[0.2222222222222222,\"#7201a8\"],[0.3333333333333333,\"#9c179e\"],[0.4444444444444444,\"#bd3786\"],[0.5555555555555556,\"#d8576b\"],[0.6666666666666666,\"#ed7953\"],[0.7777777777777778,\"#fb9f3a\"],[0.8888888888888888,\"#fdca26\"],[1.0,\"#f0f921\"]]}],\"surface\":[{\"type\":\"surface\",\"colorbar\":{\"outlinewidth\":0,\"ticks\":\"\"},\"colorscale\":[[0.0,\"#0d0887\"],[0.1111111111111111,\"#46039f\"],[0.2222222222222222,\"#7201a8\"],[0.3333333333333333,\"#9c179e\"],[0.4444444444444444,\"#bd3786\"],[0.5555555555555556,\"#d8576b\"],[0.6666666666666666,\"#ed7953\"],[0.7777777777777778,\"#fb9f3a\"],[0.8888888888888888,\"#fdca26\"],[1.0,\"#f0f921\"]]}],\"mesh3d\":[{\"type\":\"mesh3d\",\"colorbar\":{\"outlinewidth\":0,\"ticks\":\"\"}}],\"scatter\":[{\"fillpattern\":{\"fillmode\":\"overlay\",\"size\":10,\"solidity\":0.2},\"type\":\"scatter\"}],\"parcoords\":[{\"type\":\"parcoords\",\"line\":{\"colorbar\":{\"outlinewidth\":0,\"ticks\":\"\"}}}],\"scatterpolargl\":[{\"type\":\"scatterpolargl\",\"marker\":{\"colorbar\":{\"outlinewidth\":0,\"ticks\":\"\"}}}],\"bar\":[{\"error_x\":{\"color\":\"#2a3f5f\"},\"error_y\":{\"color\":\"#2a3f5f\"},\"marker\":{\"line\":{\"color\":\"#E5ECF6\",\"width\":0.5},\"pattern\":{\"fillmode\":\"overlay\",\"size\":10,\"solidity\":0.2}},\"type\":\"bar\"}],\"scattergeo\":[{\"type\":\"scattergeo\",\"marker\":{\"colorbar\":{\"outlinewidth\":0,\"ticks\":\"\"}}}],\"scatterpolar\":[{\"type\":\"scatterpolar\",\"marker\":{\"colorbar\":{\"outlinewidth\":0,\"ticks\":\"\"}}}],\"histogram\":[{\"marker\":{\"pattern\":{\"fillmode\":\"overlay\",\"size\":10,\"solidity\":0.2}},\"type\":\"histogram\"}],\"scattergl\":[{\"type\":\"scattergl\",\"marker\":{\"colorbar\":{\"outlinewidth\":0,\"ticks\":\"\"}}}],\"scatter3d\":[{\"type\":\"scatter3d\",\"line\":{\"colorbar\":{\"outlinewidth\":0,\"ticks\":\"\"}},\"marker\":{\"colorbar\":{\"outlinewidth\":0,\"ticks\":\"\"}}}],\"scattermapbox\":[{\"type\":\"scattermapbox\",\"marker\":{\"colorbar\":{\"outlinewidth\":0,\"ticks\":\"\"}}}],\"scatterternary\":[{\"type\":\"scatterternary\",\"marker\":{\"colorbar\":{\"outlinewidth\":0,\"ticks\":\"\"}}}],\"scattercarpet\":[{\"type\":\"scattercarpet\",\"marker\":{\"colorbar\":{\"outlinewidth\":0,\"ticks\":\"\"}}}],\"carpet\":[{\"aaxis\":{\"endlinecolor\":\"#2a3f5f\",\"gridcolor\":\"white\",\"linecolor\":\"white\",\"minorgridcolor\":\"white\",\"startlinecolor\":\"#2a3f5f\"},\"baxis\":{\"endlinecolor\":\"#2a3f5f\",\"gridcolor\":\"white\",\"linecolor\":\"white\",\"minorgridcolor\":\"white\",\"startlinecolor\":\"#2a3f5f\"},\"type\":\"carpet\"}],\"table\":[{\"cells\":{\"fill\":{\"color\":\"#EBF0F8\"},\"line\":{\"color\":\"white\"}},\"header\":{\"fill\":{\"color\":\"#C8D4E3\"},\"line\":{\"color\":\"white\"}},\"type\":\"table\"}],\"barpolar\":[{\"marker\":{\"line\":{\"color\":\"#E5ECF6\",\"width\":0.5},\"pattern\":{\"fillmode\":\"overlay\",\"size\":10,\"solidity\":0.2}},\"type\":\"barpolar\"}],\"pie\":[{\"automargin\":true,\"type\":\"pie\"}]},\"layout\":{\"autotypenumbers\":\"strict\",\"colorway\":[\"#636efa\",\"#EF553B\",\"#00cc96\",\"#ab63fa\",\"#FFA15A\",\"#19d3f3\",\"#FF6692\",\"#B6E880\",\"#FF97FF\",\"#FECB52\"],\"font\":{\"color\":\"#2a3f5f\"},\"hovermode\":\"closest\",\"hoverlabel\":{\"align\":\"left\"},\"paper_bgcolor\":\"white\",\"plot_bgcolor\":\"#E5ECF6\",\"polar\":{\"bgcolor\":\"#E5ECF6\",\"angularaxis\":{\"gridcolor\":\"white\",\"linecolor\":\"white\",\"ticks\":\"\"},\"radialaxis\":{\"gridcolor\":\"white\",\"linecolor\":\"white\",\"ticks\":\"\"}},\"ternary\":{\"bgcolor\":\"#E5ECF6\",\"aaxis\":{\"gridcolor\":\"white\",\"linecolor\":\"white\",\"ticks\":\"\"},\"baxis\":{\"gridcolor\":\"white\",\"linecolor\":\"white\",\"ticks\":\"\"},\"caxis\":{\"gridcolor\":\"white\",\"linecolor\":\"white\",\"ticks\":\"\"}},\"coloraxis\":{\"colorbar\":{\"outlinewidth\":0,\"ticks\":\"\"}},\"colorscale\":{\"sequential\":[[0.0,\"#0d0887\"],[0.1111111111111111,\"#46039f\"],[0.2222222222222222,\"#7201a8\"],[0.3333333333333333,\"#9c179e\"],[0.4444444444444444,\"#bd3786\"],[0.5555555555555556,\"#d8576b\"],[0.6666666666666666,\"#ed7953\"],[0.7777777777777778,\"#fb9f3a\"],[0.8888888888888888,\"#fdca26\"],[1.0,\"#f0f921\"]],\"sequentialminus\":[[0.0,\"#0d0887\"],[0.1111111111111111,\"#46039f\"],[0.2222222222222222,\"#7201a8\"],[0.3333333333333333,\"#9c179e\"],[0.4444444444444444,\"#bd3786\"],[0.5555555555555556,\"#d8576b\"],[0.6666666666666666,\"#ed7953\"],[0.7777777777777778,\"#fb9f3a\"],[0.8888888888888888,\"#fdca26\"],[1.0,\"#f0f921\"]],\"diverging\":[[0,\"#8e0152\"],[0.1,\"#c51b7d\"],[0.2,\"#de77ae\"],[0.3,\"#f1b6da\"],[0.4,\"#fde0ef\"],[0.5,\"#f7f7f7\"],[0.6,\"#e6f5d0\"],[0.7,\"#b8e186\"],[0.8,\"#7fbc41\"],[0.9,\"#4d9221\"],[1,\"#276419\"]]},\"xaxis\":{\"gridcolor\":\"white\",\"linecolor\":\"white\",\"ticks\":\"\",\"title\":{\"standoff\":15},\"zerolinecolor\":\"white\",\"automargin\":true,\"zerolinewidth\":2},\"yaxis\":{\"gridcolor\":\"white\",\"linecolor\":\"white\",\"ticks\":\"\",\"title\":{\"standoff\":15},\"zerolinecolor\":\"white\",\"automargin\":true,\"zerolinewidth\":2},\"scene\":{\"xaxis\":{\"backgroundcolor\":\"#E5ECF6\",\"gridcolor\":\"white\",\"linecolor\":\"white\",\"showbackground\":true,\"ticks\":\"\",\"zerolinecolor\":\"white\",\"gridwidth\":2},\"yaxis\":{\"backgroundcolor\":\"#E5ECF6\",\"gridcolor\":\"white\",\"linecolor\":\"white\",\"showbackground\":true,\"ticks\":\"\",\"zerolinecolor\":\"white\",\"gridwidth\":2},\"zaxis\":{\"backgroundcolor\":\"#E5ECF6\",\"gridcolor\":\"white\",\"linecolor\":\"white\",\"showbackground\":true,\"ticks\":\"\",\"zerolinecolor\":\"white\",\"gridwidth\":2}},\"shapedefaults\":{\"line\":{\"color\":\"#2a3f5f\"}},\"annotationdefaults\":{\"arrowcolor\":\"#2a3f5f\",\"arrowhead\":0,\"arrowwidth\":1},\"geo\":{\"bgcolor\":\"white\",\"landcolor\":\"#E5ECF6\",\"subunitcolor\":\"white\",\"showland\":true,\"showlakes\":true,\"lakecolor\":\"white\"},\"title\":{\"x\":0.05},\"mapbox\":{\"style\":\"light\"}}},\"xaxis\":{\"anchor\":\"y\",\"domain\":[0.0,1.0],\"title\":{\"text\":\"Age\"}},\"yaxis\":{\"anchor\":\"x\",\"domain\":[0.0,1.0],\"title\":{\"text\":\"Income\"}},\"coloraxis\":{\"colorbar\":{\"title\":{\"text\":\"Kids\"}},\"colorscale\":[[0.0,\"rgb(255,0,0)\"],[1.0,\"rgb(0,0,255)\"]]},\"legend\":{\"tracegroupgap\":0},\"margin\":{\"t\":60}},                        {\"responsive\": true}                    ).then(function(){\n",
       "                            \n",
       "var gd = document.getElementById('0f4ca839-351a-4322-891e-9d5c74bf601b');\n",
       "var x = new MutationObserver(function (mutations, observer) {{\n",
       "        var display = window.getComputedStyle(gd).display;\n",
       "        if (!display || display === 'none') {{\n",
       "            console.log([gd, 'removed!']);\n",
       "            Plotly.purge(gd);\n",
       "            observer.disconnect();\n",
       "        }}\n",
       "}});\n",
       "\n",
       "// Listen for the removal of the full notebook cells\n",
       "var notebookContainer = gd.closest('#notebook-container');\n",
       "if (notebookContainer) {{\n",
       "    x.observe(notebookContainer, {childList: true});\n",
       "}}\n",
       "\n",
       "// Listen for the clearing of the current output cell\n",
       "var outputEl = gd.closest('.output');\n",
       "if (outputEl) {{\n",
       "    x.observe(outputEl, {childList: true});\n",
       "}}\n",
       "\n",
       "                        })                };                });            </script>        </div>"
      ]
     },
     "metadata": {},
     "output_type": "display_data"
    }
   ],
   "source": [
    "# Ploting our dataset\n",
    "fig = px.scatter(data, x=\"Age\", y=\"Income\", color=\"Kids\", color_continuous_scale='Bluered_r')\n",
    "fig.update_traces(marker_size=8)\n",
    "fig.show()"
   ]
  },
  {
   "cell_type": "markdown",
   "id": "39ac2a14",
   "metadata": {},
   "source": [
    "### 7.2 Oversampling"
   ]
  },
  {
   "cell_type": "markdown",
   "id": "cdcaa5c8",
   "metadata": {},
   "source": [
    "We see classes are imbalanced: \n",
    "- 3 observations for class 0 \n",
    "- 5 observations for class 1\n",
    "\n",
    "The difference of 2 observations is not normally critical, but provided that it is a small dataset, let's try to apply some oversampling techniques to balance these classes."
   ]
  },
  {
   "cell_type": "markdown",
   "id": "0c5258c8",
   "metadata": {},
   "source": [
    "First, we need to identify X and y in our dataset."
   ]
  },
  {
   "cell_type": "code",
   "execution_count": 45,
   "id": "7e96f789",
   "metadata": {},
   "outputs": [],
   "source": [
    "# Splitting data into target and independent variables\n",
    "X = data[['Age', 'Income']]\n",
    "y = data['Kids']"
   ]
  },
  {
   "cell_type": "markdown",
   "id": "cbf51aa4",
   "metadata": {},
   "source": [
    "Second, we need to initialize SMOTE class instance with k-neighbors=2 (as we have 3 points in minority class, so we need 2 more)"
   ]
  },
  {
   "cell_type": "code",
   "execution_count": 50,
   "id": "f1539125",
   "metadata": {},
   "outputs": [],
   "source": [
    "# Initializing SMOTE class instance with k-neighbors=2 (as we have 3 points in minority class)\n",
    "# Also don't forget to set seed in order to have reproducible experiments\n",
    "oversample = SMOTE(k_neighbors=2, random_state=123)"
   ]
  },
  {
   "cell_type": "markdown",
   "id": "51bf3824",
   "metadata": {},
   "source": [
    "Third, we need to fit SMOTE to the dateset."
   ]
  },
  {
   "cell_type": "code",
   "execution_count": null,
   "id": "ccac38d1",
   "metadata": {},
   "outputs": [],
   "source": [
    "# Fitting SMOTE and resampling dataset\n",
    "X, y = oversample.fit_resample(X, y)"
   ]
  },
  {
   "cell_type": "markdown",
   "id": "04a22ab9",
   "metadata": {},
   "source": [
    "Let's see the resulted dataset."
   ]
  },
  {
   "cell_type": "code",
   "execution_count": 41,
   "id": "63fe653f",
   "metadata": {},
   "outputs": [
    {
     "data": {
      "application/vnd.plotly.v1+json": {
       "config": {
        "plotlyServerURL": "https://plot.ly"
       },
       "data": [
        {
         "hovertemplate": "x=%{x}<br>y=%{y}<br>color=%{marker.color}<extra></extra>",
         "legendgroup": "",
         "marker": {
          "color": [
           0,
           1,
           1,
           1,
           0,
           1,
           0,
           1,
           0,
           0
          ],
          "coloraxis": "coloraxis",
          "size": 8,
          "symbol": "circle"
         },
         "mode": "markers",
         "name": "",
         "orientation": "v",
         "showlegend": false,
         "type": "scatter",
         "x": [
          32,
          46,
          25,
          36,
          29,
          54,
          30,
          41,
          29,
          30
         ],
         "xaxis": "x",
         "y": [
          95,
          210,
          75,
          30,
          55,
          430,
          100,
          220,
          89.79168458961087,
          77.05259076331565
         ],
         "yaxis": "y"
        }
       ],
       "layout": {
        "coloraxis": {
         "colorbar": {
          "title": {
           "text": "color"
          }
         },
         "colorscale": [
          [
           0,
           "rgb(255,0,0)"
          ],
          [
           1,
           "rgb(0,0,255)"
          ]
         ]
        },
        "legend": {
         "tracegroupgap": 0
        },
        "margin": {
         "t": 60
        },
        "template": {
         "data": {
          "bar": [
           {
            "error_x": {
             "color": "#2a3f5f"
            },
            "error_y": {
             "color": "#2a3f5f"
            },
            "marker": {
             "line": {
              "color": "#E5ECF6",
              "width": 0.5
             },
             "pattern": {
              "fillmode": "overlay",
              "size": 10,
              "solidity": 0.2
             }
            },
            "type": "bar"
           }
          ],
          "barpolar": [
           {
            "marker": {
             "line": {
              "color": "#E5ECF6",
              "width": 0.5
             },
             "pattern": {
              "fillmode": "overlay",
              "size": 10,
              "solidity": 0.2
             }
            },
            "type": "barpolar"
           }
          ],
          "carpet": [
           {
            "aaxis": {
             "endlinecolor": "#2a3f5f",
             "gridcolor": "white",
             "linecolor": "white",
             "minorgridcolor": "white",
             "startlinecolor": "#2a3f5f"
            },
            "baxis": {
             "endlinecolor": "#2a3f5f",
             "gridcolor": "white",
             "linecolor": "white",
             "minorgridcolor": "white",
             "startlinecolor": "#2a3f5f"
            },
            "type": "carpet"
           }
          ],
          "choropleth": [
           {
            "colorbar": {
             "outlinewidth": 0,
             "ticks": ""
            },
            "type": "choropleth"
           }
          ],
          "contour": [
           {
            "colorbar": {
             "outlinewidth": 0,
             "ticks": ""
            },
            "colorscale": [
             [
              0,
              "#0d0887"
             ],
             [
              0.1111111111111111,
              "#46039f"
             ],
             [
              0.2222222222222222,
              "#7201a8"
             ],
             [
              0.3333333333333333,
              "#9c179e"
             ],
             [
              0.4444444444444444,
              "#bd3786"
             ],
             [
              0.5555555555555556,
              "#d8576b"
             ],
             [
              0.6666666666666666,
              "#ed7953"
             ],
             [
              0.7777777777777778,
              "#fb9f3a"
             ],
             [
              0.8888888888888888,
              "#fdca26"
             ],
             [
              1,
              "#f0f921"
             ]
            ],
            "type": "contour"
           }
          ],
          "contourcarpet": [
           {
            "colorbar": {
             "outlinewidth": 0,
             "ticks": ""
            },
            "type": "contourcarpet"
           }
          ],
          "heatmap": [
           {
            "colorbar": {
             "outlinewidth": 0,
             "ticks": ""
            },
            "colorscale": [
             [
              0,
              "#0d0887"
             ],
             [
              0.1111111111111111,
              "#46039f"
             ],
             [
              0.2222222222222222,
              "#7201a8"
             ],
             [
              0.3333333333333333,
              "#9c179e"
             ],
             [
              0.4444444444444444,
              "#bd3786"
             ],
             [
              0.5555555555555556,
              "#d8576b"
             ],
             [
              0.6666666666666666,
              "#ed7953"
             ],
             [
              0.7777777777777778,
              "#fb9f3a"
             ],
             [
              0.8888888888888888,
              "#fdca26"
             ],
             [
              1,
              "#f0f921"
             ]
            ],
            "type": "heatmap"
           }
          ],
          "heatmapgl": [
           {
            "colorbar": {
             "outlinewidth": 0,
             "ticks": ""
            },
            "colorscale": [
             [
              0,
              "#0d0887"
             ],
             [
              0.1111111111111111,
              "#46039f"
             ],
             [
              0.2222222222222222,
              "#7201a8"
             ],
             [
              0.3333333333333333,
              "#9c179e"
             ],
             [
              0.4444444444444444,
              "#bd3786"
             ],
             [
              0.5555555555555556,
              "#d8576b"
             ],
             [
              0.6666666666666666,
              "#ed7953"
             ],
             [
              0.7777777777777778,
              "#fb9f3a"
             ],
             [
              0.8888888888888888,
              "#fdca26"
             ],
             [
              1,
              "#f0f921"
             ]
            ],
            "type": "heatmapgl"
           }
          ],
          "histogram": [
           {
            "marker": {
             "pattern": {
              "fillmode": "overlay",
              "size": 10,
              "solidity": 0.2
             }
            },
            "type": "histogram"
           }
          ],
          "histogram2d": [
           {
            "colorbar": {
             "outlinewidth": 0,
             "ticks": ""
            },
            "colorscale": [
             [
              0,
              "#0d0887"
             ],
             [
              0.1111111111111111,
              "#46039f"
             ],
             [
              0.2222222222222222,
              "#7201a8"
             ],
             [
              0.3333333333333333,
              "#9c179e"
             ],
             [
              0.4444444444444444,
              "#bd3786"
             ],
             [
              0.5555555555555556,
              "#d8576b"
             ],
             [
              0.6666666666666666,
              "#ed7953"
             ],
             [
              0.7777777777777778,
              "#fb9f3a"
             ],
             [
              0.8888888888888888,
              "#fdca26"
             ],
             [
              1,
              "#f0f921"
             ]
            ],
            "type": "histogram2d"
           }
          ],
          "histogram2dcontour": [
           {
            "colorbar": {
             "outlinewidth": 0,
             "ticks": ""
            },
            "colorscale": [
             [
              0,
              "#0d0887"
             ],
             [
              0.1111111111111111,
              "#46039f"
             ],
             [
              0.2222222222222222,
              "#7201a8"
             ],
             [
              0.3333333333333333,
              "#9c179e"
             ],
             [
              0.4444444444444444,
              "#bd3786"
             ],
             [
              0.5555555555555556,
              "#d8576b"
             ],
             [
              0.6666666666666666,
              "#ed7953"
             ],
             [
              0.7777777777777778,
              "#fb9f3a"
             ],
             [
              0.8888888888888888,
              "#fdca26"
             ],
             [
              1,
              "#f0f921"
             ]
            ],
            "type": "histogram2dcontour"
           }
          ],
          "mesh3d": [
           {
            "colorbar": {
             "outlinewidth": 0,
             "ticks": ""
            },
            "type": "mesh3d"
           }
          ],
          "parcoords": [
           {
            "line": {
             "colorbar": {
              "outlinewidth": 0,
              "ticks": ""
             }
            },
            "type": "parcoords"
           }
          ],
          "pie": [
           {
            "automargin": true,
            "type": "pie"
           }
          ],
          "scatter": [
           {
            "fillpattern": {
             "fillmode": "overlay",
             "size": 10,
             "solidity": 0.2
            },
            "type": "scatter"
           }
          ],
          "scatter3d": [
           {
            "line": {
             "colorbar": {
              "outlinewidth": 0,
              "ticks": ""
             }
            },
            "marker": {
             "colorbar": {
              "outlinewidth": 0,
              "ticks": ""
             }
            },
            "type": "scatter3d"
           }
          ],
          "scattercarpet": [
           {
            "marker": {
             "colorbar": {
              "outlinewidth": 0,
              "ticks": ""
             }
            },
            "type": "scattercarpet"
           }
          ],
          "scattergeo": [
           {
            "marker": {
             "colorbar": {
              "outlinewidth": 0,
              "ticks": ""
             }
            },
            "type": "scattergeo"
           }
          ],
          "scattergl": [
           {
            "marker": {
             "colorbar": {
              "outlinewidth": 0,
              "ticks": ""
             }
            },
            "type": "scattergl"
           }
          ],
          "scattermapbox": [
           {
            "marker": {
             "colorbar": {
              "outlinewidth": 0,
              "ticks": ""
             }
            },
            "type": "scattermapbox"
           }
          ],
          "scatterpolar": [
           {
            "marker": {
             "colorbar": {
              "outlinewidth": 0,
              "ticks": ""
             }
            },
            "type": "scatterpolar"
           }
          ],
          "scatterpolargl": [
           {
            "marker": {
             "colorbar": {
              "outlinewidth": 0,
              "ticks": ""
             }
            },
            "type": "scatterpolargl"
           }
          ],
          "scatterternary": [
           {
            "marker": {
             "colorbar": {
              "outlinewidth": 0,
              "ticks": ""
             }
            },
            "type": "scatterternary"
           }
          ],
          "surface": [
           {
            "colorbar": {
             "outlinewidth": 0,
             "ticks": ""
            },
            "colorscale": [
             [
              0,
              "#0d0887"
             ],
             [
              0.1111111111111111,
              "#46039f"
             ],
             [
              0.2222222222222222,
              "#7201a8"
             ],
             [
              0.3333333333333333,
              "#9c179e"
             ],
             [
              0.4444444444444444,
              "#bd3786"
             ],
             [
              0.5555555555555556,
              "#d8576b"
             ],
             [
              0.6666666666666666,
              "#ed7953"
             ],
             [
              0.7777777777777778,
              "#fb9f3a"
             ],
             [
              0.8888888888888888,
              "#fdca26"
             ],
             [
              1,
              "#f0f921"
             ]
            ],
            "type": "surface"
           }
          ],
          "table": [
           {
            "cells": {
             "fill": {
              "color": "#EBF0F8"
             },
             "line": {
              "color": "white"
             }
            },
            "header": {
             "fill": {
              "color": "#C8D4E3"
             },
             "line": {
              "color": "white"
             }
            },
            "type": "table"
           }
          ]
         },
         "layout": {
          "annotationdefaults": {
           "arrowcolor": "#2a3f5f",
           "arrowhead": 0,
           "arrowwidth": 1
          },
          "autotypenumbers": "strict",
          "coloraxis": {
           "colorbar": {
            "outlinewidth": 0,
            "ticks": ""
           }
          },
          "colorscale": {
           "diverging": [
            [
             0,
             "#8e0152"
            ],
            [
             0.1,
             "#c51b7d"
            ],
            [
             0.2,
             "#de77ae"
            ],
            [
             0.3,
             "#f1b6da"
            ],
            [
             0.4,
             "#fde0ef"
            ],
            [
             0.5,
             "#f7f7f7"
            ],
            [
             0.6,
             "#e6f5d0"
            ],
            [
             0.7,
             "#b8e186"
            ],
            [
             0.8,
             "#7fbc41"
            ],
            [
             0.9,
             "#4d9221"
            ],
            [
             1,
             "#276419"
            ]
           ],
           "sequential": [
            [
             0,
             "#0d0887"
            ],
            [
             0.1111111111111111,
             "#46039f"
            ],
            [
             0.2222222222222222,
             "#7201a8"
            ],
            [
             0.3333333333333333,
             "#9c179e"
            ],
            [
             0.4444444444444444,
             "#bd3786"
            ],
            [
             0.5555555555555556,
             "#d8576b"
            ],
            [
             0.6666666666666666,
             "#ed7953"
            ],
            [
             0.7777777777777778,
             "#fb9f3a"
            ],
            [
             0.8888888888888888,
             "#fdca26"
            ],
            [
             1,
             "#f0f921"
            ]
           ],
           "sequentialminus": [
            [
             0,
             "#0d0887"
            ],
            [
             0.1111111111111111,
             "#46039f"
            ],
            [
             0.2222222222222222,
             "#7201a8"
            ],
            [
             0.3333333333333333,
             "#9c179e"
            ],
            [
             0.4444444444444444,
             "#bd3786"
            ],
            [
             0.5555555555555556,
             "#d8576b"
            ],
            [
             0.6666666666666666,
             "#ed7953"
            ],
            [
             0.7777777777777778,
             "#fb9f3a"
            ],
            [
             0.8888888888888888,
             "#fdca26"
            ],
            [
             1,
             "#f0f921"
            ]
           ]
          },
          "colorway": [
           "#636efa",
           "#EF553B",
           "#00cc96",
           "#ab63fa",
           "#FFA15A",
           "#19d3f3",
           "#FF6692",
           "#B6E880",
           "#FF97FF",
           "#FECB52"
          ],
          "font": {
           "color": "#2a3f5f"
          },
          "geo": {
           "bgcolor": "white",
           "lakecolor": "white",
           "landcolor": "#E5ECF6",
           "showlakes": true,
           "showland": true,
           "subunitcolor": "white"
          },
          "hoverlabel": {
           "align": "left"
          },
          "hovermode": "closest",
          "mapbox": {
           "style": "light"
          },
          "paper_bgcolor": "white",
          "plot_bgcolor": "#E5ECF6",
          "polar": {
           "angularaxis": {
            "gridcolor": "white",
            "linecolor": "white",
            "ticks": ""
           },
           "bgcolor": "#E5ECF6",
           "radialaxis": {
            "gridcolor": "white",
            "linecolor": "white",
            "ticks": ""
           }
          },
          "scene": {
           "xaxis": {
            "backgroundcolor": "#E5ECF6",
            "gridcolor": "white",
            "gridwidth": 2,
            "linecolor": "white",
            "showbackground": true,
            "ticks": "",
            "zerolinecolor": "white"
           },
           "yaxis": {
            "backgroundcolor": "#E5ECF6",
            "gridcolor": "white",
            "gridwidth": 2,
            "linecolor": "white",
            "showbackground": true,
            "ticks": "",
            "zerolinecolor": "white"
           },
           "zaxis": {
            "backgroundcolor": "#E5ECF6",
            "gridcolor": "white",
            "gridwidth": 2,
            "linecolor": "white",
            "showbackground": true,
            "ticks": "",
            "zerolinecolor": "white"
           }
          },
          "shapedefaults": {
           "line": {
            "color": "#2a3f5f"
           }
          },
          "ternary": {
           "aaxis": {
            "gridcolor": "white",
            "linecolor": "white",
            "ticks": ""
           },
           "baxis": {
            "gridcolor": "white",
            "linecolor": "white",
            "ticks": ""
           },
           "bgcolor": "#E5ECF6",
           "caxis": {
            "gridcolor": "white",
            "linecolor": "white",
            "ticks": ""
           }
          },
          "title": {
           "x": 0.05
          },
          "xaxis": {
           "automargin": true,
           "gridcolor": "white",
           "linecolor": "white",
           "ticks": "",
           "title": {
            "standoff": 15
           },
           "zerolinecolor": "white",
           "zerolinewidth": 2
          },
          "yaxis": {
           "automargin": true,
           "gridcolor": "white",
           "linecolor": "white",
           "ticks": "",
           "title": {
            "standoff": 15
           },
           "zerolinecolor": "white",
           "zerolinewidth": 2
          }
         }
        },
        "xaxis": {
         "anchor": "y",
         "domain": [
          0,
          1
         ],
         "title": {
          "text": "x"
         }
        },
        "yaxis": {
         "anchor": "x",
         "domain": [
          0,
          1
         ],
         "title": {
          "text": "y"
         }
        }
       }
      },
      "text/html": [
       "<div>                            <div id=\"b5f12cc5-d97f-484e-bb63-baa2a701d7ec\" class=\"plotly-graph-div\" style=\"height:525px; width:100%;\"></div>            <script type=\"text/javascript\">                require([\"plotly\"], function(Plotly) {                    window.PLOTLYENV=window.PLOTLYENV || {};                                    if (document.getElementById(\"b5f12cc5-d97f-484e-bb63-baa2a701d7ec\")) {                    Plotly.newPlot(                        \"b5f12cc5-d97f-484e-bb63-baa2a701d7ec\",                        [{\"hovertemplate\":\"x=%{x}<br>y=%{y}<br>color=%{marker.color}<extra></extra>\",\"legendgroup\":\"\",\"marker\":{\"color\":[0,1,1,1,0,1,0,1,0,0],\"coloraxis\":\"coloraxis\",\"symbol\":\"circle\",\"size\":8},\"mode\":\"markers\",\"name\":\"\",\"orientation\":\"v\",\"showlegend\":false,\"x\":[32,46,25,36,29,54,30,41,29,30],\"xaxis\":\"x\",\"y\":[95.0,210.0,75.0,30.0,55.0,430.0,100.0,220.0,89.79168458961087,77.05259076331565],\"yaxis\":\"y\",\"type\":\"scatter\"}],                        {\"template\":{\"data\":{\"histogram2dcontour\":[{\"type\":\"histogram2dcontour\",\"colorbar\":{\"outlinewidth\":0,\"ticks\":\"\"},\"colorscale\":[[0.0,\"#0d0887\"],[0.1111111111111111,\"#46039f\"],[0.2222222222222222,\"#7201a8\"],[0.3333333333333333,\"#9c179e\"],[0.4444444444444444,\"#bd3786\"],[0.5555555555555556,\"#d8576b\"],[0.6666666666666666,\"#ed7953\"],[0.7777777777777778,\"#fb9f3a\"],[0.8888888888888888,\"#fdca26\"],[1.0,\"#f0f921\"]]}],\"choropleth\":[{\"type\":\"choropleth\",\"colorbar\":{\"outlinewidth\":0,\"ticks\":\"\"}}],\"histogram2d\":[{\"type\":\"histogram2d\",\"colorbar\":{\"outlinewidth\":0,\"ticks\":\"\"},\"colorscale\":[[0.0,\"#0d0887\"],[0.1111111111111111,\"#46039f\"],[0.2222222222222222,\"#7201a8\"],[0.3333333333333333,\"#9c179e\"],[0.4444444444444444,\"#bd3786\"],[0.5555555555555556,\"#d8576b\"],[0.6666666666666666,\"#ed7953\"],[0.7777777777777778,\"#fb9f3a\"],[0.8888888888888888,\"#fdca26\"],[1.0,\"#f0f921\"]]}],\"heatmap\":[{\"type\":\"heatmap\",\"colorbar\":{\"outlinewidth\":0,\"ticks\":\"\"},\"colorscale\":[[0.0,\"#0d0887\"],[0.1111111111111111,\"#46039f\"],[0.2222222222222222,\"#7201a8\"],[0.3333333333333333,\"#9c179e\"],[0.4444444444444444,\"#bd3786\"],[0.5555555555555556,\"#d8576b\"],[0.6666666666666666,\"#ed7953\"],[0.7777777777777778,\"#fb9f3a\"],[0.8888888888888888,\"#fdca26\"],[1.0,\"#f0f921\"]]}],\"heatmapgl\":[{\"type\":\"heatmapgl\",\"colorbar\":{\"outlinewidth\":0,\"ticks\":\"\"},\"colorscale\":[[0.0,\"#0d0887\"],[0.1111111111111111,\"#46039f\"],[0.2222222222222222,\"#7201a8\"],[0.3333333333333333,\"#9c179e\"],[0.4444444444444444,\"#bd3786\"],[0.5555555555555556,\"#d8576b\"],[0.6666666666666666,\"#ed7953\"],[0.7777777777777778,\"#fb9f3a\"],[0.8888888888888888,\"#fdca26\"],[1.0,\"#f0f921\"]]}],\"contourcarpet\":[{\"type\":\"contourcarpet\",\"colorbar\":{\"outlinewidth\":0,\"ticks\":\"\"}}],\"contour\":[{\"type\":\"contour\",\"colorbar\":{\"outlinewidth\":0,\"ticks\":\"\"},\"colorscale\":[[0.0,\"#0d0887\"],[0.1111111111111111,\"#46039f\"],[0.2222222222222222,\"#7201a8\"],[0.3333333333333333,\"#9c179e\"],[0.4444444444444444,\"#bd3786\"],[0.5555555555555556,\"#d8576b\"],[0.6666666666666666,\"#ed7953\"],[0.7777777777777778,\"#fb9f3a\"],[0.8888888888888888,\"#fdca26\"],[1.0,\"#f0f921\"]]}],\"surface\":[{\"type\":\"surface\",\"colorbar\":{\"outlinewidth\":0,\"ticks\":\"\"},\"colorscale\":[[0.0,\"#0d0887\"],[0.1111111111111111,\"#46039f\"],[0.2222222222222222,\"#7201a8\"],[0.3333333333333333,\"#9c179e\"],[0.4444444444444444,\"#bd3786\"],[0.5555555555555556,\"#d8576b\"],[0.6666666666666666,\"#ed7953\"],[0.7777777777777778,\"#fb9f3a\"],[0.8888888888888888,\"#fdca26\"],[1.0,\"#f0f921\"]]}],\"mesh3d\":[{\"type\":\"mesh3d\",\"colorbar\":{\"outlinewidth\":0,\"ticks\":\"\"}}],\"scatter\":[{\"fillpattern\":{\"fillmode\":\"overlay\",\"size\":10,\"solidity\":0.2},\"type\":\"scatter\"}],\"parcoords\":[{\"type\":\"parcoords\",\"line\":{\"colorbar\":{\"outlinewidth\":0,\"ticks\":\"\"}}}],\"scatterpolargl\":[{\"type\":\"scatterpolargl\",\"marker\":{\"colorbar\":{\"outlinewidth\":0,\"ticks\":\"\"}}}],\"bar\":[{\"error_x\":{\"color\":\"#2a3f5f\"},\"error_y\":{\"color\":\"#2a3f5f\"},\"marker\":{\"line\":{\"color\":\"#E5ECF6\",\"width\":0.5},\"pattern\":{\"fillmode\":\"overlay\",\"size\":10,\"solidity\":0.2}},\"type\":\"bar\"}],\"scattergeo\":[{\"type\":\"scattergeo\",\"marker\":{\"colorbar\":{\"outlinewidth\":0,\"ticks\":\"\"}}}],\"scatterpolar\":[{\"type\":\"scatterpolar\",\"marker\":{\"colorbar\":{\"outlinewidth\":0,\"ticks\":\"\"}}}],\"histogram\":[{\"marker\":{\"pattern\":{\"fillmode\":\"overlay\",\"size\":10,\"solidity\":0.2}},\"type\":\"histogram\"}],\"scattergl\":[{\"type\":\"scattergl\",\"marker\":{\"colorbar\":{\"outlinewidth\":0,\"ticks\":\"\"}}}],\"scatter3d\":[{\"type\":\"scatter3d\",\"line\":{\"colorbar\":{\"outlinewidth\":0,\"ticks\":\"\"}},\"marker\":{\"colorbar\":{\"outlinewidth\":0,\"ticks\":\"\"}}}],\"scattermapbox\":[{\"type\":\"scattermapbox\",\"marker\":{\"colorbar\":{\"outlinewidth\":0,\"ticks\":\"\"}}}],\"scatterternary\":[{\"type\":\"scatterternary\",\"marker\":{\"colorbar\":{\"outlinewidth\":0,\"ticks\":\"\"}}}],\"scattercarpet\":[{\"type\":\"scattercarpet\",\"marker\":{\"colorbar\":{\"outlinewidth\":0,\"ticks\":\"\"}}}],\"carpet\":[{\"aaxis\":{\"endlinecolor\":\"#2a3f5f\",\"gridcolor\":\"white\",\"linecolor\":\"white\",\"minorgridcolor\":\"white\",\"startlinecolor\":\"#2a3f5f\"},\"baxis\":{\"endlinecolor\":\"#2a3f5f\",\"gridcolor\":\"white\",\"linecolor\":\"white\",\"minorgridcolor\":\"white\",\"startlinecolor\":\"#2a3f5f\"},\"type\":\"carpet\"}],\"table\":[{\"cells\":{\"fill\":{\"color\":\"#EBF0F8\"},\"line\":{\"color\":\"white\"}},\"header\":{\"fill\":{\"color\":\"#C8D4E3\"},\"line\":{\"color\":\"white\"}},\"type\":\"table\"}],\"barpolar\":[{\"marker\":{\"line\":{\"color\":\"#E5ECF6\",\"width\":0.5},\"pattern\":{\"fillmode\":\"overlay\",\"size\":10,\"solidity\":0.2}},\"type\":\"barpolar\"}],\"pie\":[{\"automargin\":true,\"type\":\"pie\"}]},\"layout\":{\"autotypenumbers\":\"strict\",\"colorway\":[\"#636efa\",\"#EF553B\",\"#00cc96\",\"#ab63fa\",\"#FFA15A\",\"#19d3f3\",\"#FF6692\",\"#B6E880\",\"#FF97FF\",\"#FECB52\"],\"font\":{\"color\":\"#2a3f5f\"},\"hovermode\":\"closest\",\"hoverlabel\":{\"align\":\"left\"},\"paper_bgcolor\":\"white\",\"plot_bgcolor\":\"#E5ECF6\",\"polar\":{\"bgcolor\":\"#E5ECF6\",\"angularaxis\":{\"gridcolor\":\"white\",\"linecolor\":\"white\",\"ticks\":\"\"},\"radialaxis\":{\"gridcolor\":\"white\",\"linecolor\":\"white\",\"ticks\":\"\"}},\"ternary\":{\"bgcolor\":\"#E5ECF6\",\"aaxis\":{\"gridcolor\":\"white\",\"linecolor\":\"white\",\"ticks\":\"\"},\"baxis\":{\"gridcolor\":\"white\",\"linecolor\":\"white\",\"ticks\":\"\"},\"caxis\":{\"gridcolor\":\"white\",\"linecolor\":\"white\",\"ticks\":\"\"}},\"coloraxis\":{\"colorbar\":{\"outlinewidth\":0,\"ticks\":\"\"}},\"colorscale\":{\"sequential\":[[0.0,\"#0d0887\"],[0.1111111111111111,\"#46039f\"],[0.2222222222222222,\"#7201a8\"],[0.3333333333333333,\"#9c179e\"],[0.4444444444444444,\"#bd3786\"],[0.5555555555555556,\"#d8576b\"],[0.6666666666666666,\"#ed7953\"],[0.7777777777777778,\"#fb9f3a\"],[0.8888888888888888,\"#fdca26\"],[1.0,\"#f0f921\"]],\"sequentialminus\":[[0.0,\"#0d0887\"],[0.1111111111111111,\"#46039f\"],[0.2222222222222222,\"#7201a8\"],[0.3333333333333333,\"#9c179e\"],[0.4444444444444444,\"#bd3786\"],[0.5555555555555556,\"#d8576b\"],[0.6666666666666666,\"#ed7953\"],[0.7777777777777778,\"#fb9f3a\"],[0.8888888888888888,\"#fdca26\"],[1.0,\"#f0f921\"]],\"diverging\":[[0,\"#8e0152\"],[0.1,\"#c51b7d\"],[0.2,\"#de77ae\"],[0.3,\"#f1b6da\"],[0.4,\"#fde0ef\"],[0.5,\"#f7f7f7\"],[0.6,\"#e6f5d0\"],[0.7,\"#b8e186\"],[0.8,\"#7fbc41\"],[0.9,\"#4d9221\"],[1,\"#276419\"]]},\"xaxis\":{\"gridcolor\":\"white\",\"linecolor\":\"white\",\"ticks\":\"\",\"title\":{\"standoff\":15},\"zerolinecolor\":\"white\",\"automargin\":true,\"zerolinewidth\":2},\"yaxis\":{\"gridcolor\":\"white\",\"linecolor\":\"white\",\"ticks\":\"\",\"title\":{\"standoff\":15},\"zerolinecolor\":\"white\",\"automargin\":true,\"zerolinewidth\":2},\"scene\":{\"xaxis\":{\"backgroundcolor\":\"#E5ECF6\",\"gridcolor\":\"white\",\"linecolor\":\"white\",\"showbackground\":true,\"ticks\":\"\",\"zerolinecolor\":\"white\",\"gridwidth\":2},\"yaxis\":{\"backgroundcolor\":\"#E5ECF6\",\"gridcolor\":\"white\",\"linecolor\":\"white\",\"showbackground\":true,\"ticks\":\"\",\"zerolinecolor\":\"white\",\"gridwidth\":2},\"zaxis\":{\"backgroundcolor\":\"#E5ECF6\",\"gridcolor\":\"white\",\"linecolor\":\"white\",\"showbackground\":true,\"ticks\":\"\",\"zerolinecolor\":\"white\",\"gridwidth\":2}},\"shapedefaults\":{\"line\":{\"color\":\"#2a3f5f\"}},\"annotationdefaults\":{\"arrowcolor\":\"#2a3f5f\",\"arrowhead\":0,\"arrowwidth\":1},\"geo\":{\"bgcolor\":\"white\",\"landcolor\":\"#E5ECF6\",\"subunitcolor\":\"white\",\"showland\":true,\"showlakes\":true,\"lakecolor\":\"white\"},\"title\":{\"x\":0.05},\"mapbox\":{\"style\":\"light\"}}},\"xaxis\":{\"anchor\":\"y\",\"domain\":[0.0,1.0],\"title\":{\"text\":\"x\"}},\"yaxis\":{\"anchor\":\"x\",\"domain\":[0.0,1.0],\"title\":{\"text\":\"y\"}},\"coloraxis\":{\"colorbar\":{\"title\":{\"text\":\"color\"}},\"colorscale\":[[0.0,\"rgb(255,0,0)\"],[1.0,\"rgb(0,0,255)\"]]},\"legend\":{\"tracegroupgap\":0},\"margin\":{\"t\":60}},                        {\"responsive\": true}                    ).then(function(){\n",
       "                            \n",
       "var gd = document.getElementById('b5f12cc5-d97f-484e-bb63-baa2a701d7ec');\n",
       "var x = new MutationObserver(function (mutations, observer) {{\n",
       "        var display = window.getComputedStyle(gd).display;\n",
       "        if (!display || display === 'none') {{\n",
       "            console.log([gd, 'removed!']);\n",
       "            Plotly.purge(gd);\n",
       "            observer.disconnect();\n",
       "        }}\n",
       "}});\n",
       "\n",
       "// Listen for the removal of the full notebook cells\n",
       "var notebookContainer = gd.closest('#notebook-container');\n",
       "if (notebookContainer) {{\n",
       "    x.observe(notebookContainer, {childList: true});\n",
       "}}\n",
       "\n",
       "// Listen for the clearing of the current output cell\n",
       "var outputEl = gd.closest('.output');\n",
       "if (outputEl) {{\n",
       "    x.observe(outputEl, {childList: true});\n",
       "}}\n",
       "\n",
       "                        })                };                });            </script>        </div>"
      ]
     },
     "metadata": {},
     "output_type": "display_data"
    }
   ],
   "source": [
    "# Plot our oversampled dataset\n",
    "fig = px.scatter(x=X['Age'], y=X['Income'], color=y, color_continuous_scale='Bluered_r')\n",
    "fig.update_traces(marker_size=8)\n",
    "fig.show()"
   ]
  },
  {
   "cell_type": "markdown",
   "id": "ae98f882",
   "metadata": {},
   "source": [
    "\n",
    "Overall, it is important to address class imbalance in datasets because it can lead to biased models that do not generalize well to the minority class, which can have serious consequences in real-world applications."
   ]
  }
 ],
 "metadata": {
  "kernelspec": {
   "display_name": "Python 3 (ipykernel)",
   "language": "python",
   "name": "python3"
  },
  "language_info": {
   "codemirror_mode": {
    "name": "ipython",
    "version": 3
   },
   "file_extension": ".py",
   "mimetype": "text/x-python",
   "name": "python",
   "nbconvert_exporter": "python",
   "pygments_lexer": "ipython3",
   "version": "3.10.7"
  }
 },
 "nbformat": 4,
 "nbformat_minor": 5
}
