{
 "cells": [
  {
   "cell_type": "code",
   "execution_count": 1,
   "id": "aa1c2fa3",
   "metadata": {},
   "outputs": [],
   "source": [
    "# Libraries\n",
    "import numpy as np\n",
    "import pandas as pd\n",
    "from sklearn import tree\n",
    "import plotly.express as px\n",
    "from matplotlib import pyplot as plt\n",
    "from sklearn.tree import DecisionTreeClassifier"
   ]
  },
  {
   "cell_type": "code",
   "execution_count": 2,
   "id": "2aa2ceee",
   "metadata": {},
   "outputs": [
    {
     "data": {
      "text/html": [
       "<div>\n",
       "<style scoped>\n",
       "    .dataframe tbody tr th:only-of-type {\n",
       "        vertical-align: middle;\n",
       "    }\n",
       "\n",
       "    .dataframe tbody tr th {\n",
       "        vertical-align: top;\n",
       "    }\n",
       "\n",
       "    .dataframe thead th {\n",
       "        text-align: right;\n",
       "    }\n",
       "</style>\n",
       "<table border=\"1\" class=\"dataframe\">\n",
       "  <thead>\n",
       "    <tr style=\"text-align: right;\">\n",
       "      <th></th>\n",
       "      <th>Temperature</th>\n",
       "      <th>Humidity</th>\n",
       "      <th>Outlook</th>\n",
       "      <th>Wind</th>\n",
       "      <th>Play Golf</th>\n",
       "    </tr>\n",
       "    <tr>\n",
       "      <th>Day</th>\n",
       "      <th></th>\n",
       "      <th></th>\n",
       "      <th></th>\n",
       "      <th></th>\n",
       "      <th></th>\n",
       "    </tr>\n",
       "  </thead>\n",
       "  <tbody>\n",
       "    <tr>\n",
       "      <th>1</th>\n",
       "      <td>Cold</td>\n",
       "      <td>Normal</td>\n",
       "      <td>Rain</td>\n",
       "      <td>Strong</td>\n",
       "      <td>No</td>\n",
       "    </tr>\n",
       "    <tr>\n",
       "      <th>2</th>\n",
       "      <td>Hot</td>\n",
       "      <td>Normal</td>\n",
       "      <td>Rain</td>\n",
       "      <td>Weak</td>\n",
       "      <td>No</td>\n",
       "    </tr>\n",
       "    <tr>\n",
       "      <th>3</th>\n",
       "      <td>Cold</td>\n",
       "      <td>Normal</td>\n",
       "      <td>Sunny</td>\n",
       "      <td>Weak</td>\n",
       "      <td>Yes</td>\n",
       "    </tr>\n",
       "    <tr>\n",
       "      <th>4</th>\n",
       "      <td>Hot</td>\n",
       "      <td>High</td>\n",
       "      <td>Sunny</td>\n",
       "      <td>Weak</td>\n",
       "      <td>Yes</td>\n",
       "    </tr>\n",
       "    <tr>\n",
       "      <th>5</th>\n",
       "      <td>Hot</td>\n",
       "      <td>High</td>\n",
       "      <td>Rain</td>\n",
       "      <td>Weak</td>\n",
       "      <td>Yes</td>\n",
       "    </tr>\n",
       "  </tbody>\n",
       "</table>\n",
       "</div>"
      ],
      "text/plain": [
       "    Temperature Humidity Outlook    Wind Play Golf\n",
       "Day                                               \n",
       "1          Cold   Normal    Rain  Strong        No\n",
       "2           Hot   Normal    Rain    Weak        No\n",
       "3          Cold   Normal   Sunny    Weak       Yes\n",
       "4           Hot     High   Sunny    Weak       Yes\n",
       "5           Hot     High    Rain    Weak       Yes"
      ]
     },
     "execution_count": 2,
     "metadata": {},
     "output_type": "execute_result"
    }
   ],
   "source": [
    "#re-create a hypothetical dataset\n",
    "data = {\n",
    "        'Day':[\"1\",\"2\",\"3\",\"4\",\"5\"],\n",
    "        'Temperature': [\"Cold\",\"Hot\",\"Cold\",\"Hot\",\"Hot\"],\n",
    "        'Humidity': [\"Normal\",\"Normal\",\"Normal\",\"High\",\"High\"],\n",
    "        'Outlook': [\"Rain\",\"Rain\",\"Sunny\",\"Sunny\",\"Rain\"], \n",
    "        'Wind': [\"Strong\",\"Weak\",\"Weak\",\"Weak\",\"Weak\"],\n",
    "        'Play Golf': [\"No\", \"No\", \"Yes\", \"Yes\", \"Yes\"]\n",
    "}  \n",
    "\n",
    "# Transform dataset into a DataFrame df using pandas library\n",
    "#  Use the \"Day\" variable as an index\n",
    "df = pd.DataFrame(data).set_index(\"Day\")\n",
    "\n",
    "# print the output\n",
    "df"
   ]
  },
  {
   "attachments": {},
   "cell_type": "markdown",
   "id": "4128e40c",
   "metadata": {},
   "source": [
    "# 1. Bagging\n",
    "\n",
    "Bagging has two components:\n",
    "1. Learn many different decision trees, each on a randomized version of the training data\n",
    "2. Combine the predictions with averaging to make a final prediction"
   ]
  },
  {
   "attachments": {},
   "cell_type": "markdown",
   "id": "ef9659ae",
   "metadata": {},
   "source": [
    "### Bootstrapping\n",
    "\n",
    "Bootstrapping is a way to compute a randomized dataset from a finite dataset.  It does so by choosing data points uniformly at random with replacement.\n",
    "\n",
    "- We first build a simple function to do bootstrap sampling\n",
    "- We then show how to use bootstrapping to draw a random sample of the dataset above"
   ]
  },
  {
   "cell_type": "code",
   "execution_count": 3,
   "id": "5552e98a",
   "metadata": {},
   "outputs": [
    {
     "data": {
      "text/plain": [
       "[3, 3, 0, 2, 4]"
      ]
     },
     "execution_count": 3,
     "metadata": {},
     "output_type": "execute_result"
    }
   ],
   "source": [
    "import random\n",
    "\n",
    "def bootstrap_sample_index(n, random_seed=0):\n",
    "    # n is the length of the list\n",
    "    # random_seed: ensures that pseudo-random sequence is the same each time you use the same seed.\n",
    "    random.seed(random_seed)\n",
    "    return [random.randint(0, n-1) for _ in range(n)]\n",
    "\n",
    "take = bootstrap_sample_index(n=5, random_seed=0)\n",
    "take"
   ]
  },
  {
   "cell_type": "code",
   "execution_count": 4,
   "id": "001839ab",
   "metadata": {},
   "outputs": [
    {
     "data": {
      "text/html": [
       "<div>\n",
       "<style scoped>\n",
       "    .dataframe tbody tr th:only-of-type {\n",
       "        vertical-align: middle;\n",
       "    }\n",
       "\n",
       "    .dataframe tbody tr th {\n",
       "        vertical-align: top;\n",
       "    }\n",
       "\n",
       "    .dataframe thead th {\n",
       "        text-align: right;\n",
       "    }\n",
       "</style>\n",
       "<table border=\"1\" class=\"dataframe\">\n",
       "  <thead>\n",
       "    <tr style=\"text-align: right;\">\n",
       "      <th></th>\n",
       "      <th>Temperature</th>\n",
       "      <th>Humidity</th>\n",
       "      <th>Outlook</th>\n",
       "      <th>Wind</th>\n",
       "      <th>Play Golf</th>\n",
       "    </tr>\n",
       "    <tr>\n",
       "      <th>Day</th>\n",
       "      <th></th>\n",
       "      <th></th>\n",
       "      <th></th>\n",
       "      <th></th>\n",
       "      <th></th>\n",
       "    </tr>\n",
       "  </thead>\n",
       "  <tbody>\n",
       "    <tr>\n",
       "      <th>4</th>\n",
       "      <td>Hot</td>\n",
       "      <td>High</td>\n",
       "      <td>Sunny</td>\n",
       "      <td>Weak</td>\n",
       "      <td>Yes</td>\n",
       "    </tr>\n",
       "    <tr>\n",
       "      <th>4</th>\n",
       "      <td>Hot</td>\n",
       "      <td>High</td>\n",
       "      <td>Sunny</td>\n",
       "      <td>Weak</td>\n",
       "      <td>Yes</td>\n",
       "    </tr>\n",
       "    <tr>\n",
       "      <th>1</th>\n",
       "      <td>Cold</td>\n",
       "      <td>Normal</td>\n",
       "      <td>Rain</td>\n",
       "      <td>Strong</td>\n",
       "      <td>No</td>\n",
       "    </tr>\n",
       "    <tr>\n",
       "      <th>3</th>\n",
       "      <td>Cold</td>\n",
       "      <td>Normal</td>\n",
       "      <td>Sunny</td>\n",
       "      <td>Weak</td>\n",
       "      <td>Yes</td>\n",
       "    </tr>\n",
       "    <tr>\n",
       "      <th>5</th>\n",
       "      <td>Hot</td>\n",
       "      <td>High</td>\n",
       "      <td>Rain</td>\n",
       "      <td>Weak</td>\n",
       "      <td>Yes</td>\n",
       "    </tr>\n",
       "  </tbody>\n",
       "</table>\n",
       "</div>"
      ],
      "text/plain": [
       "    Temperature Humidity Outlook    Wind Play Golf\n",
       "Day                                               \n",
       "4           Hot     High   Sunny    Weak       Yes\n",
       "4           Hot     High   Sunny    Weak       Yes\n",
       "1          Cold   Normal    Rain  Strong        No\n",
       "3          Cold   Normal   Sunny    Weak       Yes\n",
       "5           Hot     High    Rain    Weak       Yes"
      ]
     },
     "execution_count": 4,
     "metadata": {},
     "output_type": "execute_result"
    }
   ],
   "source": [
    "# Make bootstrapped dataset\n",
    "#  (Note how Day = 1 + integer index)\n",
    "df.iloc[take]"
   ]
  },
  {
   "attachments": {},
   "cell_type": "markdown",
   "id": "6ca0a53f",
   "metadata": {},
   "source": [
    "### Data Preparation\n",
    "\n",
    "We first prepare our data for learning our ensemble.  We perform these two tasks:\n",
    "- Split the data into features and prediction\n",
    "- Encode Categorical features as dummy variables"
   ]
  },
  {
   "cell_type": "code",
   "execution_count": 5,
   "id": "dbbdd2fc",
   "metadata": {},
   "outputs": [
    {
     "data": {
      "text/html": [
       "<div>\n",
       "<style scoped>\n",
       "    .dataframe tbody tr th:only-of-type {\n",
       "        vertical-align: middle;\n",
       "    }\n",
       "\n",
       "    .dataframe tbody tr th {\n",
       "        vertical-align: top;\n",
       "    }\n",
       "\n",
       "    .dataframe thead th {\n",
       "        text-align: right;\n",
       "    }\n",
       "</style>\n",
       "<table border=\"1\" class=\"dataframe\">\n",
       "  <thead>\n",
       "    <tr style=\"text-align: right;\">\n",
       "      <th></th>\n",
       "      <th>Temperature</th>\n",
       "      <th>Humidity</th>\n",
       "      <th>Outlook</th>\n",
       "      <th>Wind</th>\n",
       "    </tr>\n",
       "    <tr>\n",
       "      <th>Day</th>\n",
       "      <th></th>\n",
       "      <th></th>\n",
       "      <th></th>\n",
       "      <th></th>\n",
       "    </tr>\n",
       "  </thead>\n",
       "  <tbody>\n",
       "    <tr>\n",
       "      <th>1</th>\n",
       "      <td>Cold</td>\n",
       "      <td>Normal</td>\n",
       "      <td>Rain</td>\n",
       "      <td>Strong</td>\n",
       "    </tr>\n",
       "    <tr>\n",
       "      <th>2</th>\n",
       "      <td>Hot</td>\n",
       "      <td>Normal</td>\n",
       "      <td>Rain</td>\n",
       "      <td>Weak</td>\n",
       "    </tr>\n",
       "    <tr>\n",
       "      <th>3</th>\n",
       "      <td>Cold</td>\n",
       "      <td>Normal</td>\n",
       "      <td>Sunny</td>\n",
       "      <td>Weak</td>\n",
       "    </tr>\n",
       "    <tr>\n",
       "      <th>4</th>\n",
       "      <td>Hot</td>\n",
       "      <td>High</td>\n",
       "      <td>Sunny</td>\n",
       "      <td>Weak</td>\n",
       "    </tr>\n",
       "    <tr>\n",
       "      <th>5</th>\n",
       "      <td>Hot</td>\n",
       "      <td>High</td>\n",
       "      <td>Rain</td>\n",
       "      <td>Weak</td>\n",
       "    </tr>\n",
       "  </tbody>\n",
       "</table>\n",
       "</div>"
      ],
      "text/plain": [
       "    Temperature Humidity Outlook    Wind\n",
       "Day                                     \n",
       "1          Cold   Normal    Rain  Strong\n",
       "2           Hot   Normal    Rain    Weak\n",
       "3          Cold   Normal   Sunny    Weak\n",
       "4           Hot     High   Sunny    Weak\n",
       "5           Hot     High    Rain    Weak"
      ]
     },
     "metadata": {},
     "output_type": "display_data"
    },
    {
     "data": {
      "text/plain": [
       "Day\n",
       "1     No\n",
       "2     No\n",
       "3    Yes\n",
       "4    Yes\n",
       "5    Yes\n",
       "Name: Play Golf, dtype: object"
      ]
     },
     "metadata": {},
     "output_type": "display_data"
    }
   ],
   "source": [
    "# Split data into X and y\n",
    "X_raw = df.drop(\"Play Golf\", axis=\"columns\")\n",
    "y = df[\"Play Golf\"]\n",
    "\n",
    "display(X_raw, y)"
   ]
  },
  {
   "cell_type": "code",
   "execution_count": 6,
   "id": "b608a7ef",
   "metadata": {},
   "outputs": [
    {
     "data": {
      "text/html": [
       "<div>\n",
       "<style scoped>\n",
       "    .dataframe tbody tr th:only-of-type {\n",
       "        vertical-align: middle;\n",
       "    }\n",
       "\n",
       "    .dataframe tbody tr th {\n",
       "        vertical-align: top;\n",
       "    }\n",
       "\n",
       "    .dataframe thead th {\n",
       "        text-align: right;\n",
       "    }\n",
       "</style>\n",
       "<table border=\"1\" class=\"dataframe\">\n",
       "  <thead>\n",
       "    <tr style=\"text-align: right;\">\n",
       "      <th></th>\n",
       "      <th>Temperature_Cold</th>\n",
       "      <th>Temperature_Hot</th>\n",
       "      <th>Humidity_High</th>\n",
       "      <th>Humidity_Normal</th>\n",
       "      <th>Outlook_Rain</th>\n",
       "      <th>Outlook_Sunny</th>\n",
       "      <th>Wind_Strong</th>\n",
       "      <th>Wind_Weak</th>\n",
       "    </tr>\n",
       "    <tr>\n",
       "      <th>Day</th>\n",
       "      <th></th>\n",
       "      <th></th>\n",
       "      <th></th>\n",
       "      <th></th>\n",
       "      <th></th>\n",
       "      <th></th>\n",
       "      <th></th>\n",
       "      <th></th>\n",
       "    </tr>\n",
       "  </thead>\n",
       "  <tbody>\n",
       "    <tr>\n",
       "      <th>1</th>\n",
       "      <td>1</td>\n",
       "      <td>0</td>\n",
       "      <td>0</td>\n",
       "      <td>1</td>\n",
       "      <td>1</td>\n",
       "      <td>0</td>\n",
       "      <td>1</td>\n",
       "      <td>0</td>\n",
       "    </tr>\n",
       "    <tr>\n",
       "      <th>2</th>\n",
       "      <td>0</td>\n",
       "      <td>1</td>\n",
       "      <td>0</td>\n",
       "      <td>1</td>\n",
       "      <td>1</td>\n",
       "      <td>0</td>\n",
       "      <td>0</td>\n",
       "      <td>1</td>\n",
       "    </tr>\n",
       "    <tr>\n",
       "      <th>3</th>\n",
       "      <td>1</td>\n",
       "      <td>0</td>\n",
       "      <td>0</td>\n",
       "      <td>1</td>\n",
       "      <td>0</td>\n",
       "      <td>1</td>\n",
       "      <td>0</td>\n",
       "      <td>1</td>\n",
       "    </tr>\n",
       "    <tr>\n",
       "      <th>4</th>\n",
       "      <td>0</td>\n",
       "      <td>1</td>\n",
       "      <td>1</td>\n",
       "      <td>0</td>\n",
       "      <td>0</td>\n",
       "      <td>1</td>\n",
       "      <td>0</td>\n",
       "      <td>1</td>\n",
       "    </tr>\n",
       "    <tr>\n",
       "      <th>5</th>\n",
       "      <td>0</td>\n",
       "      <td>1</td>\n",
       "      <td>1</td>\n",
       "      <td>0</td>\n",
       "      <td>1</td>\n",
       "      <td>0</td>\n",
       "      <td>0</td>\n",
       "      <td>1</td>\n",
       "    </tr>\n",
       "  </tbody>\n",
       "</table>\n",
       "</div>"
      ],
      "text/plain": [
       "     Temperature_Cold  Temperature_Hot  Humidity_High  Humidity_Normal  \\\n",
       "Day                                                                      \n",
       "1                   1                0              0                1   \n",
       "2                   0                1              0                1   \n",
       "3                   1                0              0                1   \n",
       "4                   0                1              1                0   \n",
       "5                   0                1              1                0   \n",
       "\n",
       "     Outlook_Rain  Outlook_Sunny  Wind_Strong  Wind_Weak  \n",
       "Day                                                       \n",
       "1               1              0            1          0  \n",
       "2               1              0            0          1  \n",
       "3               0              1            0          1  \n",
       "4               0              1            0          1  \n",
       "5               1              0            0          1  "
      ]
     },
     "execution_count": 6,
     "metadata": {},
     "output_type": "execute_result"
    }
   ],
   "source": [
    "# Encode categorical\n",
    "X = pd.get_dummies(X_raw)\n",
    "X"
   ]
  },
  {
   "attachments": {},
   "cell_type": "markdown",
   "id": "38f900a1",
   "metadata": {},
   "source": [
    "## Ensemble Learning\n",
    "\n",
    "We will now build our ensemble.\n",
    "For each tree in our ensemble we must do the following two steps\n",
    "1. Bootstrap sample dataset and display\n",
    "2. Learn decision tree and display\n",
    "\n",
    "Below is a function that does these two things"
   ]
  },
  {
   "cell_type": "code",
   "execution_count": 7,
   "id": "e3e95c07",
   "metadata": {},
   "outputs": [],
   "source": [
    "def bootstrap_sample_learn_tree(X, y, X_raw, random_seed, just_return_classifier=False):\n",
    "    # 1. Make bootstrap sampled dataset\n",
    "    take = bootstrap_sample_index(n=len(y), random_seed=random_seed)\n",
    "    X_boot = X.iloc[take]\n",
    "    y_boot = y.iloc[take]\n",
    "    X_raw_boot = X_raw.iloc[take]  # used just for display, not learning\n",
    "    \n",
    "    # 2. Learn a decision tree\n",
    "    #  Set up learning hyper-parameters\n",
    "    clf = DecisionTreeClassifier(criterion='gini', min_samples_leaf=1)\n",
    "    #  Actually learn\n",
    "    clf.fit(X_boot, y_boot)\n",
    "    if just_return_classifier:\n",
    "        return clf\n",
    "    else:\n",
    "        # return everything\n",
    "        #  Make a plot\n",
    "        fig_tree = tree.plot_tree(\n",
    "            clf,\n",
    "            feature_names=X_boot.columns,\n",
    "            class_names=['NO', 'YES'],\n",
    "            filled=True\n",
    "        )\n",
    "        return take, X_boot, y_boot, X_raw_boot, clf, fig_tree"
   ]
  },
  {
   "attachments": {},
   "cell_type": "markdown",
   "id": "89f48935",
   "metadata": {},
   "source": [
    "#### Ensemble Base Learner 1\n",
    "\n",
    "We now build an actual ensemble.  We select a random dataset by setting the random_seed parameter, in this case to 0."
   ]
  },
  {
   "cell_type": "code",
   "execution_count": 8,
   "id": "98b18de5",
   "metadata": {},
   "outputs": [
    {
     "data": {
      "text/plain": [
       "[3, 3, 0, 2, 4]"
      ]
     },
     "metadata": {},
     "output_type": "display_data"
    },
    {
     "data": {
      "text/html": [
       "<div>\n",
       "<style scoped>\n",
       "    .dataframe tbody tr th:only-of-type {\n",
       "        vertical-align: middle;\n",
       "    }\n",
       "\n",
       "    .dataframe tbody tr th {\n",
       "        vertical-align: top;\n",
       "    }\n",
       "\n",
       "    .dataframe thead th {\n",
       "        text-align: right;\n",
       "    }\n",
       "</style>\n",
       "<table border=\"1\" class=\"dataframe\">\n",
       "  <thead>\n",
       "    <tr style=\"text-align: right;\">\n",
       "      <th></th>\n",
       "      <th>Temperature</th>\n",
       "      <th>Humidity</th>\n",
       "      <th>Outlook</th>\n",
       "      <th>Wind</th>\n",
       "    </tr>\n",
       "    <tr>\n",
       "      <th>Day</th>\n",
       "      <th></th>\n",
       "      <th></th>\n",
       "      <th></th>\n",
       "      <th></th>\n",
       "    </tr>\n",
       "  </thead>\n",
       "  <tbody>\n",
       "    <tr>\n",
       "      <th>4</th>\n",
       "      <td>Hot</td>\n",
       "      <td>High</td>\n",
       "      <td>Sunny</td>\n",
       "      <td>Weak</td>\n",
       "    </tr>\n",
       "    <tr>\n",
       "      <th>4</th>\n",
       "      <td>Hot</td>\n",
       "      <td>High</td>\n",
       "      <td>Sunny</td>\n",
       "      <td>Weak</td>\n",
       "    </tr>\n",
       "    <tr>\n",
       "      <th>1</th>\n",
       "      <td>Cold</td>\n",
       "      <td>Normal</td>\n",
       "      <td>Rain</td>\n",
       "      <td>Strong</td>\n",
       "    </tr>\n",
       "    <tr>\n",
       "      <th>3</th>\n",
       "      <td>Cold</td>\n",
       "      <td>Normal</td>\n",
       "      <td>Sunny</td>\n",
       "      <td>Weak</td>\n",
       "    </tr>\n",
       "    <tr>\n",
       "      <th>5</th>\n",
       "      <td>Hot</td>\n",
       "      <td>High</td>\n",
       "      <td>Rain</td>\n",
       "      <td>Weak</td>\n",
       "    </tr>\n",
       "  </tbody>\n",
       "</table>\n",
       "</div>"
      ],
      "text/plain": [
       "    Temperature Humidity Outlook    Wind\n",
       "Day                                     \n",
       "4           Hot     High   Sunny    Weak\n",
       "4           Hot     High   Sunny    Weak\n",
       "1          Cold   Normal    Rain  Strong\n",
       "3          Cold   Normal   Sunny    Weak\n",
       "5           Hot     High    Rain    Weak"
      ]
     },
     "metadata": {},
     "output_type": "display_data"
    },
    {
     "data": {
      "text/plain": [
       "Day\n",
       "4    Yes\n",
       "4    Yes\n",
       "1     No\n",
       "3    Yes\n",
       "5    Yes\n",
       "Name: Play Golf, dtype: object"
      ]
     },
     "metadata": {},
     "output_type": "display_data"
    },
    {
     "data": {
      "image/png": "[encoded data removed]",
      "text/plain": [
       "<Figure size 640x480 with 1 Axes>"
      ]
     },
     "metadata": {},
     "output_type": "display_data"
    }
   ],
   "source": [
    "# First create a random dataset\n",
    "take_1, X_1, y_1, X_raw_1, clf_1, fig_tree_1 = bootstrap_sample_learn_tree(X, y, X_raw, random_seed=0)\n",
    "display(take_1, X_raw_1, y_1)"
   ]
  },
  {
   "attachments": {},
   "cell_type": "markdown",
   "metadata": {},
   "source": [
    "#### Ensemble Base Learner 2\n",
    "\n",
    "Build another base learner with a new random data sample, by setting random_seed=1"
   ]
  },
  {
   "cell_type": "code",
   "execution_count": 9,
   "id": "a2a72dbb",
   "metadata": {},
   "outputs": [
    {
     "data": {
      "text/plain": [
       "[1, 4, 0, 2, 0]"
      ]
     },
     "metadata": {},
     "output_type": "display_data"
    },
    {
     "data": {
      "text/html": [
       "<div>\n",
       "<style scoped>\n",
       "    .dataframe tbody tr th:only-of-type {\n",
       "        vertical-align: middle;\n",
       "    }\n",
       "\n",
       "    .dataframe tbody tr th {\n",
       "        vertical-align: top;\n",
       "    }\n",
       "\n",
       "    .dataframe thead th {\n",
       "        text-align: right;\n",
       "    }\n",
       "</style>\n",
       "<table border=\"1\" class=\"dataframe\">\n",
       "  <thead>\n",
       "    <tr style=\"text-align: right;\">\n",
       "      <th></th>\n",
       "      <th>Temperature</th>\n",
       "      <th>Humidity</th>\n",
       "      <th>Outlook</th>\n",
       "      <th>Wind</th>\n",
       "    </tr>\n",
       "    <tr>\n",
       "      <th>Day</th>\n",
       "      <th></th>\n",
       "      <th></th>\n",
       "      <th></th>\n",
       "      <th></th>\n",
       "    </tr>\n",
       "  </thead>\n",
       "  <tbody>\n",
       "    <tr>\n",
       "      <th>2</th>\n",
       "      <td>Hot</td>\n",
       "      <td>Normal</td>\n",
       "      <td>Rain</td>\n",
       "      <td>Weak</td>\n",
       "    </tr>\n",
       "    <tr>\n",
       "      <th>5</th>\n",
       "      <td>Hot</td>\n",
       "      <td>High</td>\n",
       "      <td>Rain</td>\n",
       "      <td>Weak</td>\n",
       "    </tr>\n",
       "    <tr>\n",
       "      <th>1</th>\n",
       "      <td>Cold</td>\n",
       "      <td>Normal</td>\n",
       "      <td>Rain</td>\n",
       "      <td>Strong</td>\n",
       "    </tr>\n",
       "    <tr>\n",
       "      <th>3</th>\n",
       "      <td>Cold</td>\n",
       "      <td>Normal</td>\n",
       "      <td>Sunny</td>\n",
       "      <td>Weak</td>\n",
       "    </tr>\n",
       "    <tr>\n",
       "      <th>1</th>\n",
       "      <td>Cold</td>\n",
       "      <td>Normal</td>\n",
       "      <td>Rain</td>\n",
       "      <td>Strong</td>\n",
       "    </tr>\n",
       "  </tbody>\n",
       "</table>\n",
       "</div>"
      ],
      "text/plain": [
       "    Temperature Humidity Outlook    Wind\n",
       "Day                                     \n",
       "2           Hot   Normal    Rain    Weak\n",
       "5           Hot     High    Rain    Weak\n",
       "1          Cold   Normal    Rain  Strong\n",
       "3          Cold   Normal   Sunny    Weak\n",
       "1          Cold   Normal    Rain  Strong"
      ]
     },
     "metadata": {},
     "output_type": "display_data"
    },
    {
     "data": {
      "text/plain": [
       "Day\n",
       "2     No\n",
       "5    Yes\n",
       "1     No\n",
       "3    Yes\n",
       "1     No\n",
       "Name: Play Golf, dtype: object"
      ]
     },
     "metadata": {},
     "output_type": "display_data"
    },
    {
     "data": {
      "image/png": "[encoded data removed]",
      "text/plain": [
       "<Figure size 640x480 with 1 Axes>"
      ]
     },
     "metadata": {},
     "output_type": "display_data"
    }
   ],
   "source": [
    "# First create a random dataset\n",
    "take_2, X_2, y_2, X_raw_2, clf_2, fig_tree_2 = bootstrap_sample_learn_tree(X, y, X_raw, random_seed=1)\n",
    "display(take_2, X_raw_2, y_2)"
   ]
  },
  {
   "attachments": {},
   "cell_type": "markdown",
   "id": "8454595b",
   "metadata": {},
   "source": [
    "#### Ensemble Base Learner 3\n",
    "\n",
    "Build another base learner with a new random data sample, by setting random_seed=2"
   ]
  },
  {
   "cell_type": "code",
   "execution_count": 10,
   "id": "463a8dda",
   "metadata": {},
   "outputs": [
    {
     "data": {
      "text/plain": [
       "[0, 0, 0, 2, 1]"
      ]
     },
     "metadata": {},
     "output_type": "display_data"
    },
    {
     "data": {
      "text/html": [
       "<div>\n",
       "<style scoped>\n",
       "    .dataframe tbody tr th:only-of-type {\n",
       "        vertical-align: middle;\n",
       "    }\n",
       "\n",
       "    .dataframe tbody tr th {\n",
       "        vertical-align: top;\n",
       "    }\n",
       "\n",
       "    .dataframe thead th {\n",
       "        text-align: right;\n",
       "    }\n",
       "</style>\n",
       "<table border=\"1\" class=\"dataframe\">\n",
       "  <thead>\n",
       "    <tr style=\"text-align: right;\">\n",
       "      <th></th>\n",
       "      <th>Temperature</th>\n",
       "      <th>Humidity</th>\n",
       "      <th>Outlook</th>\n",
       "      <th>Wind</th>\n",
       "    </tr>\n",
       "    <tr>\n",
       "      <th>Day</th>\n",
       "      <th></th>\n",
       "      <th></th>\n",
       "      <th></th>\n",
       "      <th></th>\n",
       "    </tr>\n",
       "  </thead>\n",
       "  <tbody>\n",
       "    <tr>\n",
       "      <th>1</th>\n",
       "      <td>Cold</td>\n",
       "      <td>Normal</td>\n",
       "      <td>Rain</td>\n",
       "      <td>Strong</td>\n",
       "    </tr>\n",
       "    <tr>\n",
       "      <th>1</th>\n",
       "      <td>Cold</td>\n",
       "      <td>Normal</td>\n",
       "      <td>Rain</td>\n",
       "      <td>Strong</td>\n",
       "    </tr>\n",
       "    <tr>\n",
       "      <th>1</th>\n",
       "      <td>Cold</td>\n",
       "      <td>Normal</td>\n",
       "      <td>Rain</td>\n",
       "      <td>Strong</td>\n",
       "    </tr>\n",
       "    <tr>\n",
       "      <th>3</th>\n",
       "      <td>Cold</td>\n",
       "      <td>Normal</td>\n",
       "      <td>Sunny</td>\n",
       "      <td>Weak</td>\n",
       "    </tr>\n",
       "    <tr>\n",
       "      <th>2</th>\n",
       "      <td>Hot</td>\n",
       "      <td>Normal</td>\n",
       "      <td>Rain</td>\n",
       "      <td>Weak</td>\n",
       "    </tr>\n",
       "  </tbody>\n",
       "</table>\n",
       "</div>"
      ],
      "text/plain": [
       "    Temperature Humidity Outlook    Wind\n",
       "Day                                     \n",
       "1          Cold   Normal    Rain  Strong\n",
       "1          Cold   Normal    Rain  Strong\n",
       "1          Cold   Normal    Rain  Strong\n",
       "3          Cold   Normal   Sunny    Weak\n",
       "2           Hot   Normal    Rain    Weak"
      ]
     },
     "metadata": {},
     "output_type": "display_data"
    },
    {
     "data": {
      "text/plain": [
       "Day\n",
       "1     No\n",
       "1     No\n",
       "1     No\n",
       "3    Yes\n",
       "2     No\n",
       "Name: Play Golf, dtype: object"
      ]
     },
     "metadata": {},
     "output_type": "display_data"
    },
    {
     "data": {
      "image/png": "[encoded data removed]",
      "text/plain": [
       "<Figure size 640x480 with 1 Axes>"
      ]
     },
     "metadata": {},
     "output_type": "display_data"
    }
   ],
   "source": [
    "# First create a random dataset\n",
    "take_3, X_3, y_3, X_raw_3, clf_3, fig_tree_3= bootstrap_sample_learn_tree(X, y, X_raw, random_seed=2)\n",
    "display(take_3, X_raw_3, y_3)"
   ]
  },
  {
   "attachments": {},
   "cell_type": "markdown",
   "id": "b37d09bf",
   "metadata": {},
   "source": [
    "### Combine\n",
    "\n",
    "We now have a set of three decision trees, we combine their predictions"
   ]
  },
  {
   "cell_type": "code",
   "execution_count": 11,
   "id": "dcc63b78",
   "metadata": {},
   "outputs": [
    {
     "name": "stdout",
     "output_type": "stream",
     "text": [
      "['No']\n",
      "['No']\n",
      "['No']\n"
     ]
    }
   ],
   "source": [
    "# --- todo:  which point to test on? ----\n",
    "# #re-create a hypothetical dataset\n",
    "# data_test = {\n",
    "#         'Day':[\"100\"],\n",
    "#         'Temperature': [\"Hot\"],\n",
    "#         'Humidity': [\"High\"],\n",
    "#         'Outlook': [\"Sunny\"],\n",
    "#         'Wind': [\"Strong\"],\n",
    "#         'Play Golf': [\"No\"],\n",
    "# }\n",
    "\n",
    "# # Transform dataset into a DataFrame df using pandas library\n",
    "# #  Use the \"Day\" variable as an index\n",
    "# df_test = pd.DataFrame(data_test).set_index(\"Day\")  \n",
    "\n",
    "# # print the output\n",
    "# X_raw_test = df_test.copy()\n",
    "# y_test = X_raw_test.pop(\"Play Golf\")\n",
    "# X_test = pd.get_dummies(X_raw_test)\n",
    "# display(X_test)\n",
    "\n",
    "# display(X_raw_test, y_test)\n",
    "\n",
    "# for now, just take a training point\n",
    "# .... since code for new data above throws error with pd.get_dummies\n",
    "X_raw_test = X_raw.iloc[[0]]\n",
    "X_test = X.iloc[[0]]\n",
    "y_test = y.iloc[[0]]\n",
    "\n",
    "# Print the classifications of each base learner\n",
    "for clf in [clf_1, clf_2, clf_3]:\n",
    "    print(clf.predict(X_test))"
   ]
  },
  {
   "attachments": {},
   "cell_type": "markdown",
   "id": "3a79491e",
   "metadata": {},
   "source": [
    "## Performance and the Number of Base Learners\n",
    "\n",
    "In general, the test performance of bagging will increase with the number of random base learners we use.  We generally want to use as many as possible, and should limit the number only due to computational cost.\n",
    "\n",
    "We now showcase this phenomenon, plotting the performance of our ensemble classifier as the number of base learners increases.\n",
    "\n",
    "Since the dataset that we have used throughout this notebook is too small to see this effect, we will load another dataset from sklearn"
   ]
  },
  {
   "cell_type": "code",
   "execution_count": 12,
   "id": "7ed53226",
   "metadata": {},
   "outputs": [],
   "source": [
    "# ---- todo: what is the best dataset to visualize this on?  ----\n",
    "# ---- I tried to find dataset for binary classification proble that does not require any pre-processing like feature encoding ---\n",
    "# ---- Other possible datasets https://scikit-learn.org/stable/datasets/toy_dataset.html ----\n",
    "from sklearn.datasets import load_breast_cancer\n",
    "from sklearn.model_selection import train_test_split\n",
    "\n",
    "X_cancer, y_cancer = load_breast_cancer(return_X_y=True, as_frame=True)\n",
    "\n",
    "X_train_cancer, X_test_cancer, y_train_cancer, y_test_cancer = train_test_split(\n",
    "    X_cancer, y_cancer, test_size=0.2, random_state=0)"
   ]
  },
  {
   "cell_type": "code",
   "execution_count": 13,
   "id": "0e186b42",
   "metadata": {},
   "outputs": [],
   "source": [
    "# Learn the ensemble\n",
    "clfs = []\n",
    "size_of_ensemble = 200\n",
    "for i in range(size_of_ensemble):\n",
    "    clf_i = bootstrap_sample_learn_tree(X_train_cancer, y_train_cancer, X_train_cancer, random_seed=i, just_return_classifier=True)\n",
    "    clfs.append(clf_i)"
   ]
  },
  {
   "cell_type": "code",
   "execution_count": 14,
   "id": "5648b845",
   "metadata": {},
   "outputs": [],
   "source": [
    "def evaluate_ensemble_at_each_iteration(clfs, X):\n",
    "    # Evaluate the ensemble at each iteration.\n",
    "    # Return an array of size_of_ensemble, where each element i contains the predictions\n",
    "    # for the datapoints made by the ensemble of length i\n",
    "    count_positive = 0\n",
    "    predict_iter = []\n",
    "    for i in range(len(clfs)):\n",
    "        # Make prediction and wrap it into a pandas Series object\n",
    "        pred = pd.Series(\n",
    "            clfs[i].predict(X),\n",
    "            index=X.index\n",
    "        )\n",
    "        # Array that tells how many ensembles classified each point as possitive\n",
    "        count_positive = count_positive + pred\n",
    "        predict_iter.append(count_positive / i >= 0.5)\n",
    "    return predict_iter\n",
    "\n",
    "predict_train_cancer_iter = evaluate_ensemble_at_each_iteration(clfs, X_train_cancer)\n",
    "predict_test_cancer_iter = evaluate_ensemble_at_each_iteration(clfs, X_test_cancer)"
   ]
  },
  {
   "attachments": {},
   "cell_type": "markdown",
   "id": "3fcaa138",
   "metadata": {},
   "source": [
    "#### View Predictions\n",
    "We now show the predictions from some iterations of the ensemble.  (This is just to show )"
   ]
  },
  {
   "cell_type": "code",
   "execution_count": 15,
   "id": "1e785956",
   "metadata": {},
   "outputs": [
    {
     "data": {
      "text/plain": [
       "338     True\n",
       "427     True\n",
       "406     True\n",
       "96      True\n",
       "490     True\n",
       "       ...  \n",
       "277    False\n",
       "9      False\n",
       "359     True\n",
       "192     True\n",
       "559    False\n",
       "Length: 455, dtype: bool"
      ]
     },
     "execution_count": 15,
     "metadata": {},
     "output_type": "execute_result"
    }
   ],
   "source": [
    "predict_train_cancer_iter[0]"
   ]
  },
  {
   "cell_type": "code",
   "execution_count": 16,
   "id": "9b62bb92",
   "metadata": {},
   "outputs": [
    {
     "data": {
      "text/plain": [
       "338     True\n",
       "427     True\n",
       "406     True\n",
       "96      True\n",
       "490     True\n",
       "       ...  \n",
       "277    False\n",
       "9      False\n",
       "359     True\n",
       "192     True\n",
       "559     True\n",
       "Length: 455, dtype: bool"
      ]
     },
     "execution_count": 16,
     "metadata": {},
     "output_type": "execute_result"
    }
   ],
   "source": [
    "predict_train_cancer_iter[1]"
   ]
  },
  {
   "attachments": {},
   "cell_type": "markdown",
   "id": "426b0cd5",
   "metadata": {},
   "source": [
    "## Evalaute Ensemble Accuracy\n",
    "\n",
    "Evaluate the accuracy of the ensemble at each iteration and plot it.\n",
    "\n",
    "Note how the ensemble accuracy essentially monotonically increases with the number of base learners."
   ]
  },
  {
   "cell_type": "code",
   "execution_count": 17,
   "id": "6d6bf706",
   "metadata": {},
   "outputs": [],
   "source": [
    "def evaluate_ensemble_accuracy_at_each_iter(predict_iter, y):\n",
    "    accuracy = []\n",
    "    for i in range(len(predict_iter)):\n",
    "        accuracy_i = (predict_iter[i]==y).mean()\n",
    "        accuracy.append(accuracy_i)\n",
    "    return accuracy\n",
    "\n",
    "accuracy_train_cancer_iter = evaluate_ensemble_accuracy_at_each_iter(predict_train_cancer_iter, y_train_cancer)\n",
    "accuracy_test_cancer_iter = evaluate_ensemble_accuracy_at_each_iter(predict_test_cancer_iter, y_test_cancer)"
   ]
  },
  {
   "cell_type": "code",
   "execution_count": 18,
   "id": "11ded96a",
   "metadata": {},
   "outputs": [
    {
     "data": {
      "image/png": "[encoded data removed]",
      "text/plain": [
       "<Figure size 640x480 with 1 Axes>"
      ]
     },
     "metadata": {},
     "output_type": "display_data"
    }
   ],
   "source": [
    "# ---- todo: these curves would look smoother if we were doing a regression problem -----\n",
    "# ---- todo: curves would look smoother on harder dataset\n",
    "\n",
    "plt.plot(accuracy_train_cancer_iter)\n",
    "plt.plot(accuracy_test_cancer_iter)\n",
    "plt.legend([\"Train\", \"Test\"])\n",
    "plt.ylabel(\"Accuracy\")\n",
    "plt.xlabel(\"Ensemble Size\");"
   ]
  },
  {
   "cell_type": "code",
   "execution_count": null,
   "id": "ec25038f",
   "metadata": {},
   "outputs": [],
   "source": []
  }
 ],
 "metadata": {
  "kernelspec": {
   "display_name": "base",
   "language": "python",
   "name": "python3"
  },
  "language_info": {
   "codemirror_mode": {
    "name": "ipython",
    "version": 3
   },
   "file_extension": ".py",
   "mimetype": "text/x-python",
   "name": "python",
   "nbconvert_exporter": "python",
   "pygments_lexer": "ipython3",
   "version": "3.9.12"
  },
  "vscode": {
   "interpreter": {
    "hash": "669d12f9f5ac74b4383d1b5fad69e77a91a30067f11861bbd143279ea3c7e063"
   }
  }
 },
 "nbformat": 4,
 "nbformat_minor": 5
}
