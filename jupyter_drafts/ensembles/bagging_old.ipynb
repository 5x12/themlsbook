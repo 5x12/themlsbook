{
 "cells": [
  {
   "cell_type": "code",
   "execution_count": 606,
   "id": "22eef09a",
   "metadata": {},
   "outputs": [],
   "source": [
    "# Libraries\n",
    "import numpy as np\n",
    "import pandas as pd\n",
    "from sklearn import tree\n",
    "import plotly.express as px\n",
    "from matplotlib import pyplot as plt\n",
    "from sklearn.tree import DecisionTreeClassifier"
   ]
  },
  {
   "cell_type": "code",
   "execution_count": 607,
   "id": "40ea79ce",
   "metadata": {},
   "outputs": [],
   "source": [
    "def calc_gini_impurity(y: np.ndarray, \n",
    "                       first_classname: str = 'Yes', \n",
    "                       second_classname: str = 'No') -> float:\n",
    "    '''\n",
    "    This function calculates Gini Impurity Score\n",
    "    '''\n",
    "    # Finding length of dataset\n",
    "    n = y.shape[0]\n",
    "    \n",
    "    # Calculating probabilities of each class by dividing number\n",
    "    # of class occurancies by length of dataset.\n",
    "    p_0 = y[y == first_classname].shape[0] / n\n",
    "    p_1 = y[y == second_classname].shape[0] / n\n",
    "    \n",
    "    # Just applying formula from the textbook.\n",
    "    G = p_0 * (1 - p_0) + p_1 * (1 - p_1)\n",
    "\n",
    "    return G, n\n",
    "\n",
    "def calc_gini_gain(gini:float,\n",
    "                   g_class0:float,\n",
    "                   n_class0:int,\n",
    "                   g_class1:float,\n",
    "                   n_class1:int):\n",
    "    N = n_class0+n_class1\n",
    "    return gini - (n_class0/N*g_class0+n_class1/N*g_class1)"
   ]
  },
  {
   "cell_type": "markdown",
   "id": "4023e362",
   "metadata": {},
   "source": [
    "# 1. Bagging"
   ]
  },
  {
   "cell_type": "markdown",
   "id": "ecf1ef37",
   "metadata": {},
   "source": [
    "Original tree"
   ]
  },
  {
   "cell_type": "code",
   "execution_count": 525,
   "id": "75207038",
   "metadata": {},
   "outputs": [
    {
     "data": {
      "text/html": [
       "<div>\n",
       "<style scoped>\n",
       "    .dataframe tbody tr th:only-of-type {\n",
       "        vertical-align: middle;\n",
       "    }\n",
       "\n",
       "    .dataframe tbody tr th {\n",
       "        vertical-align: top;\n",
       "    }\n",
       "\n",
       "    .dataframe thead th {\n",
       "        text-align: right;\n",
       "    }\n",
       "</style>\n",
       "<table border=\"1\" class=\"dataframe\">\n",
       "  <thead>\n",
       "    <tr style=\"text-align: right;\">\n",
       "      <th></th>\n",
       "      <th>Day</th>\n",
       "      <th>Temperature</th>\n",
       "      <th>Humidity</th>\n",
       "      <th>Outlook</th>\n",
       "      <th>Wind</th>\n",
       "      <th>Hours</th>\n",
       "    </tr>\n",
       "  </thead>\n",
       "  <tbody>\n",
       "    <tr>\n",
       "      <th>0</th>\n",
       "      <td>1</td>\n",
       "      <td>Cold</td>\n",
       "      <td>Normal</td>\n",
       "      <td>Rain</td>\n",
       "      <td>Strong</td>\n",
       "      <td>No</td>\n",
       "    </tr>\n",
       "    <tr>\n",
       "      <th>1</th>\n",
       "      <td>2</td>\n",
       "      <td>Hot</td>\n",
       "      <td>Normal</td>\n",
       "      <td>Rain</td>\n",
       "      <td>Weak</td>\n",
       "      <td>No</td>\n",
       "    </tr>\n",
       "    <tr>\n",
       "      <th>2</th>\n",
       "      <td>3</td>\n",
       "      <td>Cold</td>\n",
       "      <td>Normal</td>\n",
       "      <td>Sunny</td>\n",
       "      <td>Weak</td>\n",
       "      <td>Yes</td>\n",
       "    </tr>\n",
       "    <tr>\n",
       "      <th>3</th>\n",
       "      <td>4</td>\n",
       "      <td>Hot</td>\n",
       "      <td>High</td>\n",
       "      <td>Sunny</td>\n",
       "      <td>Weak</td>\n",
       "      <td>Yes</td>\n",
       "    </tr>\n",
       "    <tr>\n",
       "      <th>4</th>\n",
       "      <td>5</td>\n",
       "      <td>Hot</td>\n",
       "      <td>High</td>\n",
       "      <td>Rain</td>\n",
       "      <td>Weak</td>\n",
       "      <td>Yes</td>\n",
       "    </tr>\n",
       "  </tbody>\n",
       "</table>\n",
       "</div>"
      ],
      "text/plain": [
       "  Day Temperature Humidity Outlook    Wind Hours\n",
       "0   1        Cold   Normal    Rain  Strong    No\n",
       "1   2         Hot   Normal    Rain    Weak    No\n",
       "2   3        Cold   Normal   Sunny    Weak   Yes\n",
       "3   4         Hot     High   Sunny    Weak   Yes\n",
       "4   5         Hot     High    Rain    Weak   Yes"
      ]
     },
     "execution_count": 525,
     "metadata": {},
     "output_type": "execute_result"
    }
   ],
   "source": [
    "#re-create a hypothetical dataset\n",
    "data = {'Day':[\"1\",\"2\",\"3\",\"4\",\"5\"],\n",
    "        'Temperature': [\"Cold\",\"Hot\",\"Cold\",\"Hot\",\"Hot\"],\n",
    "        'Humidity': [\"Normal\",\"Normal\",\"Normal\",\"High\",\"High\"],\n",
    "        'Outlook': [\"Rain\",\"Rain\",\"Sunny\",\"Sunny\",\"Rain\"], \n",
    "        'Wind': [\"Strong\",\"Weak\",\"Weak\",\"Weak\",\"Weak\"],\n",
    "        'Hours': [\"No\", \"No\", \"Yes\", \"Yes\", \"Yes\"]\n",
    "       }  \n",
    "\n",
    "#transform dataset into a DataFrame df using pandas library\n",
    "df = pd.DataFrame(data)  \n",
    "  \n",
    "#print the output\n",
    "df\n"
   ]
  },
  {
   "cell_type": "markdown",
   "id": "ea3bd980",
   "metadata": {},
   "source": [
    "## 1.1. First Tree"
   ]
  },
  {
   "cell_type": "markdown",
   "id": "906eb544",
   "metadata": {},
   "source": [
    "### 1.1.1. Bootstrap Data 1"
   ]
  },
  {
   "cell_type": "code",
   "execution_count": 556,
   "id": "46fbfab5",
   "metadata": {},
   "outputs": [
    {
     "data": {
      "text/html": [
       "<div>\n",
       "<style scoped>\n",
       "    .dataframe tbody tr th:only-of-type {\n",
       "        vertical-align: middle;\n",
       "    }\n",
       "\n",
       "    .dataframe tbody tr th {\n",
       "        vertical-align: top;\n",
       "    }\n",
       "\n",
       "    .dataframe thead th {\n",
       "        text-align: right;\n",
       "    }\n",
       "</style>\n",
       "<table border=\"1\" class=\"dataframe\">\n",
       "  <thead>\n",
       "    <tr style=\"text-align: right;\">\n",
       "      <th></th>\n",
       "      <th>Day</th>\n",
       "      <th>Temperature</th>\n",
       "      <th>Humidity</th>\n",
       "      <th>Outlook</th>\n",
       "      <th>Wind</th>\n",
       "      <th>Hours</th>\n",
       "    </tr>\n",
       "  </thead>\n",
       "  <tbody>\n",
       "    <tr>\n",
       "      <th>1</th>\n",
       "      <td>2</td>\n",
       "      <td>Hot</td>\n",
       "      <td>Normal</td>\n",
       "      <td>Rain</td>\n",
       "      <td>Weak</td>\n",
       "      <td>No</td>\n",
       "    </tr>\n",
       "    <tr>\n",
       "      <th>1</th>\n",
       "      <td>2</td>\n",
       "      <td>Hot</td>\n",
       "      <td>Normal</td>\n",
       "      <td>Rain</td>\n",
       "      <td>Weak</td>\n",
       "      <td>No</td>\n",
       "    </tr>\n",
       "    <tr>\n",
       "      <th>2</th>\n",
       "      <td>3</td>\n",
       "      <td>Cold</td>\n",
       "      <td>Normal</td>\n",
       "      <td>Sunny</td>\n",
       "      <td>Weak</td>\n",
       "      <td>Yes</td>\n",
       "    </tr>\n",
       "    <tr>\n",
       "      <th>4</th>\n",
       "      <td>5</td>\n",
       "      <td>Hot</td>\n",
       "      <td>High</td>\n",
       "      <td>Rain</td>\n",
       "      <td>Weak</td>\n",
       "      <td>Yes</td>\n",
       "    </tr>\n",
       "    <tr>\n",
       "      <th>0</th>\n",
       "      <td>1</td>\n",
       "      <td>Cold</td>\n",
       "      <td>Normal</td>\n",
       "      <td>Rain</td>\n",
       "      <td>Strong</td>\n",
       "      <td>No</td>\n",
       "    </tr>\n",
       "  </tbody>\n",
       "</table>\n",
       "</div>"
      ],
      "text/plain": [
       "  Day Temperature Humidity Outlook    Wind Hours\n",
       "1   2         Hot   Normal    Rain    Weak    No\n",
       "1   2         Hot   Normal    Rain    Weak    No\n",
       "2   3        Cold   Normal   Sunny    Weak   Yes\n",
       "4   5         Hot     High    Rain    Weak   Yes\n",
       "0   1        Cold   Normal    Rain  Strong    No"
      ]
     },
     "execution_count": 556,
     "metadata": {},
     "output_type": "execute_result"
    }
   ],
   "source": [
    "take = [2-1,\n",
    "        2-1,\n",
    "        3-1,\n",
    "        5-1,\n",
    "        1-1]\n",
    "\n",
    "df1=df.iloc[take]\n",
    "df1"
   ]
  },
  {
   "cell_type": "code",
   "execution_count": 605,
   "id": "4fbd7dd4",
   "metadata": {},
   "outputs": [],
   "source": [
    "df_enc = pd.get_dummies(df1)\n",
    "X = df_enc[[\"Temperature_Cold\",\"Humidity_Normal\", \"Outlook_Rain\", \"Wind_Weak\"]]\n",
    "y = df_enc.Hours_Yes.values\n"
   ]
  },
  {
   "cell_type": "code",
   "execution_count": null,
   "id": "6cc4de1e",
   "metadata": {},
   "outputs": [],
   "source": []
  },
  {
   "cell_type": "code",
   "execution_count": 608,
   "id": "5c9854e5",
   "metadata": {},
   "outputs": [
    {
     "data": {
      "text/plain": [
       "0.48"
      ]
     },
     "execution_count": 608,
     "metadata": {},
     "output_type": "execute_result"
    }
   ],
   "source": [
    "gini, n = calc_gini_impurity(df.Hours)\n",
    "gini"
   ]
  },
  {
   "cell_type": "markdown",
   "id": "5b2df674",
   "metadata": {},
   "source": [
    "## Outlook"
   ]
  },
  {
   "cell_type": "code",
   "execution_count": 613,
   "id": "5dfb0380",
   "metadata": {},
   "outputs": [
    {
     "name": "stdout",
     "output_type": "stream",
     "text": [
      "0.4444444444444445\n",
      "0.0\n",
      "0.21333333333333332\n"
     ]
    }
   ],
   "source": [
    "g_rain, n_rain = calc_gini_impurity(df.Hours[df.Outlook==\"Rain\"])\n",
    "print(g_rain)\n",
    "g_sunny, n_sunny = calc_gini_impurity(df.Hours[df.Outlook==\"Sunny\"])\n",
    "print(g_sunny)\n",
    "\n",
    "g_gain_outlook = calc_gini_gain(gini, g_rain, n_rain, g_sunny, n_sunny)\n",
    "print(g_gain_outlook)"
   ]
  },
  {
   "cell_type": "markdown",
   "id": "5e00cdf8",
   "metadata": {},
   "source": [
    "## Temperature"
   ]
  },
  {
   "cell_type": "code",
   "execution_count": 614,
   "id": "733a8c63",
   "metadata": {},
   "outputs": [
    {
     "name": "stdout",
     "output_type": "stream",
     "text": [
      "G_cold = 0.5\n",
      "G_hot = 0.4444444444444445\n",
      "0.013333333333333308\n"
     ]
    }
   ],
   "source": [
    "g_cold, n_cold = calc_gini_impurity(df.Hours[df.Temperature==\"Cold\"])\n",
    "print(\"G_cold =\", g_cold)\n",
    "g_hot, n_hot = calc_gini_impurity(df.Hours[df.Temperature==\"Hot\"])\n",
    "print(\"G_hot =\",g_hot)\n",
    "\n",
    "g_gain_temp = calc_gini_gain(gini, g_cold, n_cold, g_hot, n_hot)\n",
    "print(g_gain_temp)"
   ]
  },
  {
   "cell_type": "markdown",
   "id": "31dc1aea",
   "metadata": {},
   "source": [
    "## Wind"
   ]
  },
  {
   "cell_type": "code",
   "execution_count": 611,
   "id": "c212f1ac",
   "metadata": {},
   "outputs": [
    {
     "name": "stdout",
     "output_type": "stream",
     "text": [
      "0.17999999999999994\n"
     ]
    }
   ],
   "source": [
    "g_strong, n_strong = calc_gini_impurity(df.Hours[df.Wind==\"Strong\"])\n",
    "g_weak, n_weak = calc_gini_impurity(df.Hours[df.Wind==\"Weak\"])\n",
    "\n",
    "g_gain_wind = calc_gini_gain(gini, g_strong, n_strong, g_weak, n_weak)\n",
    "print(g_gain_wind)"
   ]
  },
  {
   "cell_type": "markdown",
   "id": "ff681fe7",
   "metadata": {},
   "source": [
    "## Humidity"
   ]
  },
  {
   "cell_type": "code",
   "execution_count": 612,
   "id": "21029ac7",
   "metadata": {},
   "outputs": [
    {
     "name": "stdout",
     "output_type": "stream",
     "text": [
      "0.21333333333333332\n"
     ]
    }
   ],
   "source": [
    "g_normal, n_normal = calc_gini_impurity(df.Hours[df.Humidity==\"Normal\"])\n",
    "g_high, n_high = calc_gini_impurity(df.Hours[df.Humidity==\"High\"])\n",
    "\n",
    "g_gain_humidity = calc_gini_gain(gini, g_normal, n_normal, g_high, n_high)\n",
    "print(g_gain_humidity)\n"
   ]
  },
  {
   "cell_type": "code",
   "execution_count": null,
   "id": "1150c9de",
   "metadata": {},
   "outputs": [],
   "source": []
  },
  {
   "cell_type": "markdown",
   "id": "1165ca4b",
   "metadata": {},
   "source": [
    "### 1.1.2. Decision Tree"
   ]
  },
  {
   "cell_type": "code",
   "execution_count": 558,
   "id": "d869aceb",
   "metadata": {},
   "outputs": [
    {
     "data": {
      "image/png": "[encoded data removed]",
      "text/plain": [
       "<Figure size 640x480 with 1 Axes>"
      ]
     },
     "metadata": {},
     "output_type": "display_data"
    }
   ],
   "source": [
    "# Initialize the model\n",
    "clf = DecisionTreeClassifier(criterion='gini', min_samples_leaf=1)\n",
    "# Train the model\n",
    "clf.fit(X, y)\n",
    "#plot\n",
    "fig_tree = tree.plot_tree(clf, \n",
    "                          feature_names=[\"Temperature_Cold\", \"Humidity_Normal\", \"Outlook_Rain\", \"Wind_Weak\"],  \n",
    "                          class_names=['NO', 'YES'],\n",
    "                          filled=True)"
   ]
  },
  {
   "cell_type": "markdown",
   "id": "a2824ae4",
   "metadata": {},
   "source": [
    "## 1.2. Second Tree"
   ]
  },
  {
   "cell_type": "markdown",
   "id": "f9ae66fc",
   "metadata": {},
   "source": [
    "### 1.2.1. Bootstrap Data 1"
   ]
  },
  {
   "cell_type": "code",
   "execution_count": 589,
   "id": "c446b417",
   "metadata": {},
   "outputs": [
    {
     "data": {
      "text/html": [
       "<div>\n",
       "<style scoped>\n",
       "    .dataframe tbody tr th:only-of-type {\n",
       "        vertical-align: middle;\n",
       "    }\n",
       "\n",
       "    .dataframe tbody tr th {\n",
       "        vertical-align: top;\n",
       "    }\n",
       "\n",
       "    .dataframe thead th {\n",
       "        text-align: right;\n",
       "    }\n",
       "</style>\n",
       "<table border=\"1\" class=\"dataframe\">\n",
       "  <thead>\n",
       "    <tr style=\"text-align: right;\">\n",
       "      <th></th>\n",
       "      <th>Day</th>\n",
       "      <th>Temperature</th>\n",
       "      <th>Humidity</th>\n",
       "      <th>Outlook</th>\n",
       "      <th>Wind</th>\n",
       "      <th>Hours</th>\n",
       "    </tr>\n",
       "  </thead>\n",
       "  <tbody>\n",
       "    <tr>\n",
       "      <th>1</th>\n",
       "      <td>2</td>\n",
       "      <td>Hot</td>\n",
       "      <td>Normal</td>\n",
       "      <td>Rain</td>\n",
       "      <td>Weak</td>\n",
       "      <td>No</td>\n",
       "    </tr>\n",
       "    <tr>\n",
       "      <th>2</th>\n",
       "      <td>3</td>\n",
       "      <td>Cold</td>\n",
       "      <td>Normal</td>\n",
       "      <td>Sunny</td>\n",
       "      <td>Weak</td>\n",
       "      <td>Yes</td>\n",
       "    </tr>\n",
       "    <tr>\n",
       "      <th>3</th>\n",
       "      <td>4</td>\n",
       "      <td>Hot</td>\n",
       "      <td>High</td>\n",
       "      <td>Sunny</td>\n",
       "      <td>Weak</td>\n",
       "      <td>Yes</td>\n",
       "    </tr>\n",
       "    <tr>\n",
       "      <th>2</th>\n",
       "      <td>3</td>\n",
       "      <td>Cold</td>\n",
       "      <td>Normal</td>\n",
       "      <td>Sunny</td>\n",
       "      <td>Weak</td>\n",
       "      <td>Yes</td>\n",
       "    </tr>\n",
       "    <tr>\n",
       "      <th>2</th>\n",
       "      <td>3</td>\n",
       "      <td>Cold</td>\n",
       "      <td>Normal</td>\n",
       "      <td>Sunny</td>\n",
       "      <td>Weak</td>\n",
       "      <td>Yes</td>\n",
       "    </tr>\n",
       "  </tbody>\n",
       "</table>\n",
       "</div>"
      ],
      "text/plain": [
       "  Day Temperature Humidity Outlook  Wind Hours\n",
       "1   2         Hot   Normal    Rain  Weak    No\n",
       "2   3        Cold   Normal   Sunny  Weak   Yes\n",
       "3   4         Hot     High   Sunny  Weak   Yes\n",
       "2   3        Cold   Normal   Sunny  Weak   Yes\n",
       "2   3        Cold   Normal   Sunny  Weak   Yes"
      ]
     },
     "execution_count": 589,
     "metadata": {},
     "output_type": "execute_result"
    }
   ],
   "source": [
    "take = [2-1,\n",
    "        3-1,\n",
    "        4-1,\n",
    "        3-1,\n",
    "        3-1]\n",
    "\n",
    "df2=df.iloc[take]\n",
    "\n",
    "df2\n",
    "\n"
   ]
  },
  {
   "cell_type": "code",
   "execution_count": 587,
   "id": "60c85747",
   "metadata": {},
   "outputs": [],
   "source": [
    "df_enc = pd.get_dummies(df2)\n",
    "\n",
    "X = df_enc[[\"Temperature_Cold\",\"Humidity_Normal\", \"Outlook_Rain\", \"Wind_Weak\"]]\n",
    "y = df_enc.Hours_Yes.values"
   ]
  },
  {
   "cell_type": "markdown",
   "id": "182a5af2",
   "metadata": {},
   "source": [
    "### 1.2.2. Decision Tree"
   ]
  },
  {
   "cell_type": "code",
   "execution_count": 588,
   "id": "a58772e2",
   "metadata": {},
   "outputs": [
    {
     "data": {
      "image/png": "[encoded data removed]",
      "text/plain": [
       "<Figure size 640x480 with 1 Axes>"
      ]
     },
     "metadata": {},
     "output_type": "display_data"
    }
   ],
   "source": [
    "# Initialize the model\n",
    "clf = DecisionTreeClassifier(criterion='gini',min_samples_leaf=1)\n",
    "# Train the model\n",
    "clf.fit(X, y)\n",
    "#plot\n",
    "fig_tree = tree.plot_tree(clf, \n",
    "                          feature_names=[\"Temperature_Cold\", \"Humidity_Normal\", \"Outlook_Rain\", \"Wind_Weak\"],  \n",
    "                          class_names=['NO', 'YES'],\n",
    "                          filled=True)"
   ]
  },
  {
   "cell_type": "markdown",
   "id": "efbaf8d7",
   "metadata": {},
   "source": [
    "## 1.3. Third Tree"
   ]
  },
  {
   "cell_type": "markdown",
   "id": "1475b1aa",
   "metadata": {},
   "source": [
    "### 1.2.1. Bootstrap Data 1"
   ]
  },
  {
   "cell_type": "code",
   "execution_count": 602,
   "id": "f39ddc84",
   "metadata": {},
   "outputs": [
    {
     "data": {
      "text/html": [
       "<div>\n",
       "<style scoped>\n",
       "    .dataframe tbody tr th:only-of-type {\n",
       "        vertical-align: middle;\n",
       "    }\n",
       "\n",
       "    .dataframe tbody tr th {\n",
       "        vertical-align: top;\n",
       "    }\n",
       "\n",
       "    .dataframe thead th {\n",
       "        text-align: right;\n",
       "    }\n",
       "</style>\n",
       "<table border=\"1\" class=\"dataframe\">\n",
       "  <thead>\n",
       "    <tr style=\"text-align: right;\">\n",
       "      <th></th>\n",
       "      <th>Day</th>\n",
       "      <th>Temperature</th>\n",
       "      <th>Humidity</th>\n",
       "      <th>Outlook</th>\n",
       "      <th>Wind</th>\n",
       "      <th>Hours</th>\n",
       "    </tr>\n",
       "  </thead>\n",
       "  <tbody>\n",
       "    <tr>\n",
       "      <th>0</th>\n",
       "      <td>1</td>\n",
       "      <td>Cold</td>\n",
       "      <td>Normal</td>\n",
       "      <td>Rain</td>\n",
       "      <td>Strong</td>\n",
       "      <td>No</td>\n",
       "    </tr>\n",
       "    <tr>\n",
       "      <th>3</th>\n",
       "      <td>4</td>\n",
       "      <td>Hot</td>\n",
       "      <td>High</td>\n",
       "      <td>Sunny</td>\n",
       "      <td>Weak</td>\n",
       "      <td>Yes</td>\n",
       "    </tr>\n",
       "    <tr>\n",
       "      <th>4</th>\n",
       "      <td>5</td>\n",
       "      <td>Hot</td>\n",
       "      <td>High</td>\n",
       "      <td>Rain</td>\n",
       "      <td>Weak</td>\n",
       "      <td>Yes</td>\n",
       "    </tr>\n",
       "    <tr>\n",
       "      <th>2</th>\n",
       "      <td>3</td>\n",
       "      <td>Cold</td>\n",
       "      <td>Normal</td>\n",
       "      <td>Sunny</td>\n",
       "      <td>Weak</td>\n",
       "      <td>Yes</td>\n",
       "    </tr>\n",
       "    <tr>\n",
       "      <th>3</th>\n",
       "      <td>4</td>\n",
       "      <td>Hot</td>\n",
       "      <td>High</td>\n",
       "      <td>Sunny</td>\n",
       "      <td>Weak</td>\n",
       "      <td>Yes</td>\n",
       "    </tr>\n",
       "  </tbody>\n",
       "</table>\n",
       "</div>"
      ],
      "text/plain": [
       "  Day Temperature Humidity Outlook    Wind Hours\n",
       "0   1        Cold   Normal    Rain  Strong    No\n",
       "3   4         Hot     High   Sunny    Weak   Yes\n",
       "4   5         Hot     High    Rain    Weak   Yes\n",
       "2   3        Cold   Normal   Sunny    Weak   Yes\n",
       "3   4         Hot     High   Sunny    Weak   Yes"
      ]
     },
     "execution_count": 602,
     "metadata": {},
     "output_type": "execute_result"
    }
   ],
   "source": [
    "\n",
    "take = [1-1,\n",
    "        4-1,\n",
    "        5-1,\n",
    "        3-1,\n",
    "        4-1]\n",
    "\n",
    "df3=df.iloc[take]\n",
    "\n",
    "\n",
    "df3\n",
    "\n"
   ]
  },
  {
   "cell_type": "code",
   "execution_count": 603,
   "id": "2f451aaa",
   "metadata": {},
   "outputs": [],
   "source": [
    "df_enc = pd.get_dummies(df3)\n",
    "X = df_enc[[\"Temperature_Cold\",\"Humidity_Normal\", \"Outlook_Rain\", \"Wind_Strong\"]]\n",
    "y = df_enc.Hours_Yes.values\n"
   ]
  },
  {
   "cell_type": "markdown",
   "id": "26bdb9f3",
   "metadata": {},
   "source": [
    "### 1.3.2. Decision Tree"
   ]
  },
  {
   "cell_type": "code",
   "execution_count": 604,
   "id": "ccda689b",
   "metadata": {},
   "outputs": [
    {
     "data": {
      "image/png": "[encoded data removed]",
      "text/plain": [
       "<Figure size 640x480 with 1 Axes>"
      ]
     },
     "metadata": {},
     "output_type": "display_data"
    }
   ],
   "source": [
    "# Initialize the model\n",
    "clf = DecisionTreeClassifier(criterion='gini')\n",
    "# Train the model\n",
    "clf.fit(X, y)\n",
    "#plot\n",
    "fig_tree = tree.plot_tree(clf, \n",
    "                          feature_names=[\"Temperature_Cold\", \"Humidity_Normal\", \"Outlook_Rain\", \"Wind_Strong\"],  \n",
    "                          class_names=['NO', 'YES'],\n",
    "                          filled=True)"
   ]
  },
  {
   "cell_type": "code",
   "execution_count": null,
   "id": "2ac62469",
   "metadata": {},
   "outputs": [],
   "source": []
  },
  {
   "cell_type": "code",
   "execution_count": 621,
   "id": "e3185f73",
   "metadata": {},
   "outputs": [],
   "source": [
    "from sklearn.ensemble import BaggingClassifier\n",
    "import matplotlib.pyplot as plt \n",
    "from sklearn.model_selection import train_test_split"
   ]
  },
  {
   "cell_type": "code",
   "execution_count": 618,
   "id": "9c3d0658",
   "metadata": {},
   "outputs": [],
   "source": []
  },
  {
   "cell_type": "code",
   "execution_count": 619,
   "id": "cb26fb07",
   "metadata": {},
   "outputs": [],
   "source": [
    "df = pd.read_csv(\"https://raw.githubusercontent.com/5x12/ml-cookbook/master/supplements/data/heart.csv\")"
   ]
  },
  {
   "cell_type": "code",
   "execution_count": 620,
   "id": "cbe45c17",
   "metadata": {},
   "outputs": [],
   "source": [
    "X = df.iloc[:, :13]\n",
    "y = df.target"
   ]
  },
  {
   "cell_type": "code",
   "execution_count": 622,
   "id": "c3182dbd",
   "metadata": {},
   "outputs": [],
   "source": [
    "X_train, X_test, y_train, y_test = train_test_split(X,y, random_state=101)"
   ]
  },
  {
   "cell_type": "code",
   "execution_count": null,
   "id": "69ff8bdb",
   "metadata": {},
   "outputs": [],
   "source": []
  },
  {
   "cell_type": "code",
   "execution_count": null,
   "id": "0c784e63",
   "metadata": {},
   "outputs": [],
   "source": []
  },
  {
   "cell_type": "code",
   "execution_count": 624,
   "id": "012cdd68",
   "metadata": {},
   "outputs": [],
   "source": [
    "train_error = []\n",
    "test_error = []\n",
    "n = []\n",
    "\n",
    "for i in range(1, 1000):\n",
    "    clf = BaggingClassifier(n_estimators=i, random_state=96)\n",
    "    clf.fit(X_train, y_train)\n",
    "    train_error.append(1-clf.score(X_train, y_train))\n",
    "    test_error.append(1-clf.score(X_test, y_test))\n",
    "    n.append(i)"
   ]
  },
  {
   "cell_type": "code",
   "execution_count": 630,
   "id": "07bee604",
   "metadata": {},
   "outputs": [
    {
     "data": {
      "text/plain": [
       "(0.0, 100.0)"
      ]
     },
     "execution_count": 630,
     "metadata": {},
     "output_type": "execute_result"
    },
    {
     "data": {
      "image/png": "[encoded data removed]",
      "text/plain": [
       "<Figure size 640x480 with 1 Axes>"
      ]
     },
     "metadata": {},
     "output_type": "display_data"
    }
   ],
   "source": [
    "#define the graph\n",
    "fig, ax = plt.subplots()\n",
    "\n",
    "#plotting training dataset\n",
    "ax.plot(n, train_error, 'o', color='g', label='training error')\n",
    "ax.plot(n, test_error, 'o', color='b', label='test error')\n",
    "\n",
    "#showing legend and setting the size of the graph\n",
    "plt.legend() #show legend\n",
    "plt.ylim(0, 0.07) #length of y-axis\n",
    "plt.xlim(0, 100) #length of x-axis\n"
   ]
  },
  {
   "cell_type": "code",
   "execution_count": null,
   "id": "6be052ee",
   "metadata": {},
   "outputs": [],
   "source": []
  }
 ],
 "metadata": {
  "kernelspec": {
   "display_name": "Python 3 (ipykernel)",
   "language": "python",
   "name": "python3"
  },
  "language_info": {
   "codemirror_mode": {
    "name": "ipython",
    "version": 3
   },
   "file_extension": ".py",
   "mimetype": "text/x-python",
   "name": "python",
   "nbconvert_exporter": "python",
   "pygments_lexer": "ipython3",
   "version": "3.10.7"
  }
 },
 "nbformat": 4,
 "nbformat_minor": 5
}
