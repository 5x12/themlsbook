{
 "cells": [
  {
   "cell_type": "markdown",
   "id": "7075334a",
   "metadata": {},
   "source": [
    "# Adaboost"
   ]
  },
  {
   "cell_type": "code",
   "execution_count": 35,
   "id": "dd4e5873",
   "metadata": {},
   "outputs": [],
   "source": [
    "# Libraries\n",
    "import numpy as np\n",
    "import pandas as pd\n",
    "from sklearn import tree\n",
    "import plotly.express as px\n",
    "from matplotlib import pyplot as plt\n",
    "from sklearn.tree import DecisionTreeClassifier"
   ]
  },
  {
   "cell_type": "code",
   "execution_count": null,
   "id": "e6b43b71",
   "metadata": {},
   "outputs": [],
   "source": []
  },
  {
   "cell_type": "markdown",
   "id": "f57da928",
   "metadata": {},
   "source": [
    "## 1. Dataset"
   ]
  },
  {
   "cell_type": "code",
   "execution_count": 75,
   "id": "6e1338bb",
   "metadata": {},
   "outputs": [
    {
     "data": {
      "text/html": [
       "<div>\n",
       "<style scoped>\n",
       "    .dataframe tbody tr th:only-of-type {\n",
       "        vertical-align: middle;\n",
       "    }\n",
       "\n",
       "    .dataframe tbody tr th {\n",
       "        vertical-align: top;\n",
       "    }\n",
       "\n",
       "    .dataframe thead th {\n",
       "        text-align: right;\n",
       "    }\n",
       "</style>\n",
       "<table border=\"1\" class=\"dataframe\">\n",
       "  <thead>\n",
       "    <tr style=\"text-align: right;\">\n",
       "      <th></th>\n",
       "      <th>Temperature</th>\n",
       "      <th>Humidity</th>\n",
       "      <th>Outlook</th>\n",
       "      <th>Wind</th>\n",
       "      <th>Hours</th>\n",
       "    </tr>\n",
       "  </thead>\n",
       "  <tbody>\n",
       "    <tr>\n",
       "      <th>0</th>\n",
       "      <td>Cold</td>\n",
       "      <td>Normal</td>\n",
       "      <td>Rain</td>\n",
       "      <td>Strong</td>\n",
       "      <td>No</td>\n",
       "    </tr>\n",
       "    <tr>\n",
       "      <th>1</th>\n",
       "      <td>Hot</td>\n",
       "      <td>Normal</td>\n",
       "      <td>Rain</td>\n",
       "      <td>Weak</td>\n",
       "      <td>No</td>\n",
       "    </tr>\n",
       "    <tr>\n",
       "      <th>2</th>\n",
       "      <td>Cold</td>\n",
       "      <td>Normal</td>\n",
       "      <td>Sunny</td>\n",
       "      <td>Weak</td>\n",
       "      <td>Yes</td>\n",
       "    </tr>\n",
       "    <tr>\n",
       "      <th>3</th>\n",
       "      <td>Hot</td>\n",
       "      <td>High</td>\n",
       "      <td>Sunny</td>\n",
       "      <td>Weak</td>\n",
       "      <td>Yes</td>\n",
       "    </tr>\n",
       "    <tr>\n",
       "      <th>4</th>\n",
       "      <td>Hot</td>\n",
       "      <td>High</td>\n",
       "      <td>Rain</td>\n",
       "      <td>Weak</td>\n",
       "      <td>Yes</td>\n",
       "    </tr>\n",
       "  </tbody>\n",
       "</table>\n",
       "</div>"
      ],
      "text/plain": [
       "  Temperature Humidity Outlook    Wind Hours\n",
       "0        Cold   Normal    Rain  Strong    No\n",
       "1         Hot   Normal    Rain    Weak    No\n",
       "2        Cold   Normal   Sunny    Weak   Yes\n",
       "3         Hot     High   Sunny    Weak   Yes\n",
       "4         Hot     High    Rain    Weak   Yes"
      ]
     },
     "execution_count": 75,
     "metadata": {},
     "output_type": "execute_result"
    }
   ],
   "source": [
    "\n",
    "\n",
    "#re-create a hypothetical dataset\n",
    "data = {'Temperature': [\"Cold\",\"Hot\",\"Cold\",\"Hot\",\"Hot\"],\n",
    "        'Humidity': [\"Normal\",\"Normal\",\"Normal\",\"High\",\"High\"],\n",
    "        'Outlook': [\"Rain\",\"Rain\",\"Sunny\",\"Sunny\",\"Rain\"], \n",
    "        'Wind': [\"Strong\",\"Weak\",\"Weak\",\"Weak\",\"Weak\"],\n",
    "        'Hours': [\"No\", \"No\", \"Yes\", \"Yes\", \"Yes\"]\n",
    "       }  \n",
    "\n",
    "#transform dataset into a DataFrame df using pandas library\n",
    "df = pd.DataFrame(data)  \n",
    "  \n",
    "#print the output\n",
    "df\n"
   ]
  },
  {
   "cell_type": "code",
   "execution_count": 98,
   "id": "9bed2ad4",
   "metadata": {},
   "outputs": [],
   "source": [
    "def calc_gini_impurity(y: np.ndarray, \n",
    "                       first_classname: str = 'Yes', \n",
    "                       second_classname: str = 'No') -> float:\n",
    "    '''\n",
    "    This function calculates Gini Impurity Score\n",
    "    '''\n",
    "    # Finding length of dataset\n",
    "    n = y.shape[0]\n",
    "    \n",
    "    # Calculating probabilities of each class by dividing number\n",
    "    # of class occurancies by length of dataset.\n",
    "    p_0 = y[y == first_classname].shape[0] / n\n",
    "    p_1 = y[y == second_classname].shape[0] / n\n",
    "    \n",
    "    # Just applying formula from the textbook.\n",
    "    G = p_0 * (1 - p_0) + p_1 * (1 - p_1)\n",
    "\n",
    "    return G, n\n",
    "\n",
    "def calc_gini_gain(gini:float,\n",
    "                   g_class0:float,\n",
    "                   n_class0:int,\n",
    "                   g_class1:float,\n",
    "                   n_class1:int):\n",
    "    N = n_class0+n_class1\n",
    "    return gini - (n_class0/N*g_class0+n_class1/N*g_class1)"
   ]
  },
  {
   "cell_type": "markdown",
   "id": "91cbf75b",
   "metadata": {},
   "source": [
    "## 2. Building Adaboost"
   ]
  },
  {
   "cell_type": "markdown",
   "id": "53ddd937",
   "metadata": {},
   "source": [
    "### 2.1. Weight 0"
   ]
  },
  {
   "cell_type": "markdown",
   "id": "3aebfeab",
   "metadata": {},
   "source": [
    "At the start, all samples get the same weight, one divided by the total number of samples:\n",
    "\n",
    "*(Note that after we make the first tree, these weights will change in order to guide how the next tree is created)*"
   ]
  },
  {
   "cell_type": "code",
   "execution_count": 99,
   "id": "2c8ea737",
   "metadata": {},
   "outputs": [
    {
     "data": {
      "text/html": [
       "<div>\n",
       "<style scoped>\n",
       "    .dataframe tbody tr th:only-of-type {\n",
       "        vertical-align: middle;\n",
       "    }\n",
       "\n",
       "    .dataframe tbody tr th {\n",
       "        vertical-align: top;\n",
       "    }\n",
       "\n",
       "    .dataframe thead th {\n",
       "        text-align: right;\n",
       "    }\n",
       "</style>\n",
       "<table border=\"1\" class=\"dataframe\">\n",
       "  <thead>\n",
       "    <tr style=\"text-align: right;\">\n",
       "      <th></th>\n",
       "      <th>Temperature</th>\n",
       "      <th>Humidity</th>\n",
       "      <th>Outlook</th>\n",
       "      <th>Wind</th>\n",
       "      <th>Hours</th>\n",
       "      <th>Weight</th>\n",
       "    </tr>\n",
       "  </thead>\n",
       "  <tbody>\n",
       "    <tr>\n",
       "      <th>0</th>\n",
       "      <td>Cold</td>\n",
       "      <td>Normal</td>\n",
       "      <td>Rain</td>\n",
       "      <td>Strong</td>\n",
       "      <td>No</td>\n",
       "      <td>0.2</td>\n",
       "    </tr>\n",
       "    <tr>\n",
       "      <th>1</th>\n",
       "      <td>Hot</td>\n",
       "      <td>Normal</td>\n",
       "      <td>Rain</td>\n",
       "      <td>Weak</td>\n",
       "      <td>No</td>\n",
       "      <td>0.2</td>\n",
       "    </tr>\n",
       "    <tr>\n",
       "      <th>2</th>\n",
       "      <td>Cold</td>\n",
       "      <td>Normal</td>\n",
       "      <td>Sunny</td>\n",
       "      <td>Weak</td>\n",
       "      <td>Yes</td>\n",
       "      <td>0.2</td>\n",
       "    </tr>\n",
       "    <tr>\n",
       "      <th>3</th>\n",
       "      <td>Hot</td>\n",
       "      <td>High</td>\n",
       "      <td>Sunny</td>\n",
       "      <td>Weak</td>\n",
       "      <td>Yes</td>\n",
       "      <td>0.2</td>\n",
       "    </tr>\n",
       "    <tr>\n",
       "      <th>4</th>\n",
       "      <td>Hot</td>\n",
       "      <td>High</td>\n",
       "      <td>Rain</td>\n",
       "      <td>Weak</td>\n",
       "      <td>Yes</td>\n",
       "      <td>0.2</td>\n",
       "    </tr>\n",
       "  </tbody>\n",
       "</table>\n",
       "</div>"
      ],
      "text/plain": [
       "  Temperature Humidity Outlook    Wind Hours  Weight\n",
       "0        Cold   Normal    Rain  Strong    No     0.2\n",
       "1         Hot   Normal    Rain    Weak    No     0.2\n",
       "2        Cold   Normal   Sunny    Weak   Yes     0.2\n",
       "3         Hot     High   Sunny    Weak   Yes     0.2\n",
       "4         Hot     High    Rain    Weak   Yes     0.2"
      ]
     },
     "execution_count": 99,
     "metadata": {},
     "output_type": "execute_result"
    }
   ],
   "source": [
    "df[\"Weight\"] = 1/len(df)\n",
    "df"
   ]
  },
  {
   "cell_type": "markdown",
   "id": "87ab0f29",
   "metadata": {},
   "source": [
    "Then we find the variable among Temperature, Humidity, Outlook and Wind, that does the best job classifying the samples. (whose Gini Gain is the largest)"
   ]
  },
  {
   "cell_type": "markdown",
   "id": "19dc3f45",
   "metadata": {},
   "source": [
    "For that, we need to find Gini of the entire dataset:"
   ]
  },
  {
   "cell_type": "code",
   "execution_count": 106,
   "id": "df49738f",
   "metadata": {},
   "outputs": [
    {
     "data": {
      "text/plain": [
       "0.48"
      ]
     },
     "execution_count": 106,
     "metadata": {},
     "output_type": "execute_result"
    }
   ],
   "source": [
    "gini, n = calc_gini_impurity(df.Hours)\n",
    "gini"
   ]
  },
  {
   "cell_type": "markdown",
   "id": "5150c34b",
   "metadata": {},
   "source": [
    "#### Temperature"
   ]
  },
  {
   "cell_type": "code",
   "execution_count": 107,
   "id": "27b5de94",
   "metadata": {},
   "outputs": [
    {
     "name": "stdout",
     "output_type": "stream",
     "text": [
      "0.013333333333333308\n"
     ]
    }
   ],
   "source": [
    "g_cold, n_cold = calc_gini_impurity(df.Hours[df.Temperature==\"Cold\"])\n",
    "g_hot, n_hot = calc_gini_impurity(df.Hours[df.Temperature==\"Hot\"])\n",
    "\n",
    "g_gain_temp = calc_gini_gain(gini, g_cold, n_cold, g_hot, n_hot)\n",
    "print(g_gain_temp)"
   ]
  },
  {
   "cell_type": "markdown",
   "id": "a38fe1eb",
   "metadata": {},
   "source": [
    "#### Humidity"
   ]
  },
  {
   "cell_type": "code",
   "execution_count": 108,
   "id": "b36db2aa",
   "metadata": {},
   "outputs": [
    {
     "name": "stdout",
     "output_type": "stream",
     "text": [
      "0.21333333333333332\n"
     ]
    }
   ],
   "source": [
    "g_normal, n_normal = calc_gini_impurity(df.Hours[df.Humidity==\"Normal\"])\n",
    "g_high, n_high = calc_gini_impurity(df.Hours[df.Humidity==\"High\"])\n",
    "\n",
    "g_gain_humidity = calc_gini_gain(gini, g_normal, n_normal, g_high, n_high)\n",
    "print(g_gain_humidity)\n"
   ]
  },
  {
   "cell_type": "markdown",
   "id": "ac0e67de",
   "metadata": {},
   "source": [
    "#### Outlook"
   ]
  },
  {
   "cell_type": "code",
   "execution_count": 116,
   "id": "88d8b10f",
   "metadata": {},
   "outputs": [
    {
     "name": "stdout",
     "output_type": "stream",
     "text": [
      "0.21333333333333332\n"
     ]
    }
   ],
   "source": [
    "g_rain, n_rain = calc_gini_impurity(df.Hours[df.Outlook==\"Rain\"])\n",
    "g_sunny, n_sunny = calc_gini_impurity(df.Hours[df.Outlook==\"Sunny\"])\n",
    "\n",
    "g_gain_outlook = calc_gini_gain(gini, g_rain, n_rain, g_sunny, n_sunny)\n",
    "print(g_gain_outlook)"
   ]
  },
  {
   "cell_type": "markdown",
   "id": "f573307f",
   "metadata": {},
   "source": [
    "#### Wind"
   ]
  },
  {
   "cell_type": "code",
   "execution_count": 117,
   "id": "e2a837a3",
   "metadata": {},
   "outputs": [
    {
     "name": "stdout",
     "output_type": "stream",
     "text": [
      "0.17999999999999994\n"
     ]
    }
   ],
   "source": [
    "g_strong, n_strong = calc_gini_impurity(df.Hours[df.Wind==\"Strong\"])\n",
    "g_weak, n_weak = calc_gini_impurity(df.Hours[df.Wind==\"Weak\"])\n",
    "\n",
    "g_gain_wind = calc_gini_gain(gini, g_strong, n_strong, g_weak, n_weak)\n",
    "print(g_gain_wind)"
   ]
  },
  {
   "cell_type": "markdown",
   "id": "e8961c48",
   "metadata": {},
   "source": [
    "Humidity won. The tree is the following:"
   ]
  },
  {
   "cell_type": "code",
   "execution_count": 111,
   "id": "f866099d",
   "metadata": {},
   "outputs": [],
   "source": [
    "df_enc = pd.get_dummies(df)\n",
    "X = df_enc[[\"Temperature_Cold\",\"Humidity_Normal\", \"Outlook_Rain\", \"Wind_Strong\"]]\n",
    "y = df_enc.Hours_Yes.values\n"
   ]
  },
  {
   "cell_type": "code",
   "execution_count": 115,
   "id": "95834fdc",
   "metadata": {},
   "outputs": [
    {
     "data": {
      "image/png": "[encoded data removed]",
      "text/plain": [
       "<Figure size 640x480 with 1 Axes>"
      ]
     },
     "metadata": {},
     "output_type": "display_data"
    }
   ],
   "source": [
    "# Initialize the model\n",
    "clf = DecisionTreeClassifier(criterion='gini', max_depth=1)\n",
    "# Train the model\n",
    "clf.fit(X, y)\n",
    "#plot\n",
    "fig_tree = tree.plot_tree(clf, \n",
    "                          feature_names=[\"Temperature_Cold\", \"Humidity_Normal\", \"Outlook_Rain\", \"Wind_Strong\"],  \n",
    "                          class_names=['NO', 'YES'],\n",
    "                          filled=True)"
   ]
  },
  {
   "cell_type": "markdown",
   "id": "7384ae8b",
   "metadata": {},
   "source": [
    "## Amount of Say"
   ]
  },
  {
   "cell_type": "markdown",
   "id": "a15a448c",
   "metadata": {},
   "source": [
    "Now we need to determine how much say this tree will have in a final classification. We do that based on how well it classifies the samples. "
   ]
  },
  {
   "cell_type": "markdown",
   "id": "83f58027",
   "metadata": {},
   "source": [
    "The tree makes one error (observation #2: Wind=Weak, should be \"YES\" but is \"NO\"."
   ]
  },
  {
   "cell_type": "markdown",
   "id": "93398735",
   "metadata": {},
   "source": [
    "We can calculate the amount of say using the following equation:"
   ]
  },
  {
   "cell_type": "markdown",
   "id": "5e9f28a1",
   "metadata": {},
   "source": [
    "$$\n",
    "Amount \\ of \\ Say = \\frac{1}{2} \\cdot log \\Big(\\frac{1- Total \\ Error}{Total \\ Error} \\Big)\n",
    "$$"
   ]
  },
  {
   "cell_type": "code",
   "execution_count": 119,
   "id": "1d0648b2",
   "metadata": {},
   "outputs": [
    {
     "data": {
      "text/plain": [
       "0.6931471805599453"
      ]
     },
     "execution_count": 119,
     "metadata": {},
     "output_type": "execute_result"
    }
   ],
   "source": [
    "amount_of_say = 1/2 * np.log((1-0.2)/0.2)\n",
    "amount_of_say"
   ]
  },
  {
   "cell_type": "markdown",
   "id": "09b7ba2d",
   "metadata": {},
   "source": [
    "And the amount of say is pretty high. "
   ]
  },
  {
   "cell_type": "code",
   "execution_count": 120,
   "id": "28ff874b",
   "metadata": {},
   "outputs": [],
   "source": [
    "#Provide another example?"
   ]
  },
  {
   "cell_type": "code",
   "execution_count": null,
   "id": "300e5461",
   "metadata": {},
   "outputs": [],
   "source": []
  },
  {
   "cell_type": "code",
   "execution_count": null,
   "id": "6054da9e",
   "metadata": {},
   "outputs": [],
   "source": []
  },
  {
   "cell_type": "markdown",
   "id": "52c40819",
   "metadata": {},
   "source": [
    "Now we need to understand how to modify the weights so that the next stump will take the errors that the current stumo made into account. This is the formula we will use to **increase** the Sample Weight for the sample that was **incorrectly** classified (onbservation #2)"
   ]
  },
  {
   "cell_type": "markdown",
   "id": "9b35162a",
   "metadata": {},
   "source": [
    "$$\n",
    "New \\ Sample \\ Weight = w_{sample} * e^{amount \\ of \\ say}\n",
    "$$"
   ]
  },
  {
   "cell_type": "code",
   "execution_count": 125,
   "id": "9e7cd437",
   "metadata": {},
   "outputs": [
    {
     "data": {
      "text/plain": [
       "0.39999999999999997"
      ]
     },
     "execution_count": 125,
     "metadata": {},
     "output_type": "execute_result"
    }
   ],
   "source": [
    "0.2*np.e**amount_of_say"
   ]
  },
  {
   "cell_type": "markdown",
   "id": "5de5007b",
   "metadata": {},
   "source": [
    "This is the formula we will use to **decrease** the Sample Weight for the sample that was correctly classified (all observations but #2)"
   ]
  },
  {
   "cell_type": "markdown",
   "id": "24639e66",
   "metadata": {},
   "source": [
    "$$\n",
    "New \\ Sample \\ Weight = w_{sample} * e^{-amount \\ of \\ say}\n",
    "$$"
   ]
  },
  {
   "cell_type": "code",
   "execution_count": 126,
   "id": "f7618572",
   "metadata": {},
   "outputs": [
    {
     "data": {
      "text/plain": [
       "0.1"
      ]
     },
     "execution_count": 126,
     "metadata": {},
     "output_type": "execute_result"
    }
   ],
   "source": [
    "0.2*np.e**(-amount_of_say)"
   ]
  },
  {
   "cell_type": "markdown",
   "id": "d088d5ef",
   "metadata": {},
   "source": [
    "The new sample weight is 0.16 which is less that the previous (0.2)."
   ]
  },
  {
   "cell_type": "code",
   "execution_count": 133,
   "id": "2a92c183",
   "metadata": {},
   "outputs": [
    {
     "data": {
      "text/html": [
       "<div>\n",
       "<style scoped>\n",
       "    .dataframe tbody tr th:only-of-type {\n",
       "        vertical-align: middle;\n",
       "    }\n",
       "\n",
       "    .dataframe tbody tr th {\n",
       "        vertical-align: top;\n",
       "    }\n",
       "\n",
       "    .dataframe thead th {\n",
       "        text-align: right;\n",
       "    }\n",
       "</style>\n",
       "<table border=\"1\" class=\"dataframe\">\n",
       "  <thead>\n",
       "    <tr style=\"text-align: right;\">\n",
       "      <th></th>\n",
       "      <th>Temperature</th>\n",
       "      <th>Humidity</th>\n",
       "      <th>Outlook</th>\n",
       "      <th>Wind</th>\n",
       "      <th>Hours</th>\n",
       "      <th>Weight</th>\n",
       "      <th>Weight_1</th>\n",
       "      <th>Weight_Agg</th>\n",
       "    </tr>\n",
       "  </thead>\n",
       "  <tbody>\n",
       "    <tr>\n",
       "      <th>0</th>\n",
       "      <td>Cold</td>\n",
       "      <td>Normal</td>\n",
       "      <td>Rain</td>\n",
       "      <td>Strong</td>\n",
       "      <td>No</td>\n",
       "      <td>0.2</td>\n",
       "      <td>0.1</td>\n",
       "      <td>0.125</td>\n",
       "    </tr>\n",
       "    <tr>\n",
       "      <th>1</th>\n",
       "      <td>Hot</td>\n",
       "      <td>Normal</td>\n",
       "      <td>Rain</td>\n",
       "      <td>Weak</td>\n",
       "      <td>No</td>\n",
       "      <td>0.2</td>\n",
       "      <td>0.1</td>\n",
       "      <td>0.250</td>\n",
       "    </tr>\n",
       "    <tr>\n",
       "      <th>2</th>\n",
       "      <td>Cold</td>\n",
       "      <td>Normal</td>\n",
       "      <td>Sunny</td>\n",
       "      <td>Weak</td>\n",
       "      <td>Yes</td>\n",
       "      <td>0.2</td>\n",
       "      <td>0.4</td>\n",
       "      <td>0.750</td>\n",
       "    </tr>\n",
       "    <tr>\n",
       "      <th>3</th>\n",
       "      <td>Hot</td>\n",
       "      <td>High</td>\n",
       "      <td>Sunny</td>\n",
       "      <td>Weak</td>\n",
       "      <td>Yes</td>\n",
       "      <td>0.2</td>\n",
       "      <td>0.1</td>\n",
       "      <td>0.875</td>\n",
       "    </tr>\n",
       "    <tr>\n",
       "      <th>4</th>\n",
       "      <td>Hot</td>\n",
       "      <td>High</td>\n",
       "      <td>Rain</td>\n",
       "      <td>Weak</td>\n",
       "      <td>Yes</td>\n",
       "      <td>0.2</td>\n",
       "      <td>0.1</td>\n",
       "      <td>1.000</td>\n",
       "    </tr>\n",
       "  </tbody>\n",
       "</table>\n",
       "</div>"
      ],
      "text/plain": [
       "  Temperature Humidity Outlook    Wind Hours  Weight  Weight_1  Weight_Agg\n",
       "0        Cold   Normal    Rain  Strong    No     0.2       0.1       0.125\n",
       "1         Hot   Normal    Rain    Weak    No     0.2       0.1       0.250\n",
       "2        Cold   Normal   Sunny    Weak   Yes     0.2       0.4       0.750\n",
       "3         Hot     High   Sunny    Weak   Yes     0.2       0.1       0.875\n",
       "4         Hot     High    Rain    Weak   Yes     0.2       0.1       1.000"
      ]
     },
     "execution_count": 133,
     "metadata": {},
     "output_type": "execute_result"
    }
   ],
   "source": [
    "df[\"Weight_1\"] = [0.1,0.1,0.4,0.1,0.1]\n",
    "df"
   ]
  },
  {
   "cell_type": "markdown",
   "id": "bf27cb4e",
   "metadata": {},
   "source": [
    "Now, we need to normalize the sample weights so that they add up to one. Right now if you add up Weight_1 column, you get 1.03. To do that, we divide new sample weight by 1.03."
   ]
  },
  {
   "cell_type": "code",
   "execution_count": 134,
   "id": "30028fae",
   "metadata": {},
   "outputs": [
    {
     "data": {
      "text/html": [
       "<div>\n",
       "<style scoped>\n",
       "    .dataframe tbody tr th:only-of-type {\n",
       "        vertical-align: middle;\n",
       "    }\n",
       "\n",
       "    .dataframe tbody tr th {\n",
       "        vertical-align: top;\n",
       "    }\n",
       "\n",
       "    .dataframe thead th {\n",
       "        text-align: right;\n",
       "    }\n",
       "</style>\n",
       "<table border=\"1\" class=\"dataframe\">\n",
       "  <thead>\n",
       "    <tr style=\"text-align: right;\">\n",
       "      <th></th>\n",
       "      <th>Temperature</th>\n",
       "      <th>Humidity</th>\n",
       "      <th>Outlook</th>\n",
       "      <th>Wind</th>\n",
       "      <th>Hours</th>\n",
       "      <th>Weight</th>\n",
       "      <th>Weight_1</th>\n",
       "      <th>Weight_Agg</th>\n",
       "    </tr>\n",
       "  </thead>\n",
       "  <tbody>\n",
       "    <tr>\n",
       "      <th>0</th>\n",
       "      <td>Cold</td>\n",
       "      <td>Normal</td>\n",
       "      <td>Rain</td>\n",
       "      <td>Strong</td>\n",
       "      <td>No</td>\n",
       "      <td>0.2</td>\n",
       "      <td>0.125</td>\n",
       "      <td>0.125</td>\n",
       "    </tr>\n",
       "    <tr>\n",
       "      <th>1</th>\n",
       "      <td>Hot</td>\n",
       "      <td>Normal</td>\n",
       "      <td>Rain</td>\n",
       "      <td>Weak</td>\n",
       "      <td>No</td>\n",
       "      <td>0.2</td>\n",
       "      <td>0.125</td>\n",
       "      <td>0.250</td>\n",
       "    </tr>\n",
       "    <tr>\n",
       "      <th>2</th>\n",
       "      <td>Cold</td>\n",
       "      <td>Normal</td>\n",
       "      <td>Sunny</td>\n",
       "      <td>Weak</td>\n",
       "      <td>Yes</td>\n",
       "      <td>0.2</td>\n",
       "      <td>0.500</td>\n",
       "      <td>0.750</td>\n",
       "    </tr>\n",
       "    <tr>\n",
       "      <th>3</th>\n",
       "      <td>Hot</td>\n",
       "      <td>High</td>\n",
       "      <td>Sunny</td>\n",
       "      <td>Weak</td>\n",
       "      <td>Yes</td>\n",
       "      <td>0.2</td>\n",
       "      <td>0.125</td>\n",
       "      <td>0.875</td>\n",
       "    </tr>\n",
       "    <tr>\n",
       "      <th>4</th>\n",
       "      <td>Hot</td>\n",
       "      <td>High</td>\n",
       "      <td>Rain</td>\n",
       "      <td>Weak</td>\n",
       "      <td>Yes</td>\n",
       "      <td>0.2</td>\n",
       "      <td>0.125</td>\n",
       "      <td>1.000</td>\n",
       "    </tr>\n",
       "  </tbody>\n",
       "</table>\n",
       "</div>"
      ],
      "text/plain": [
       "  Temperature Humidity Outlook    Wind Hours  Weight  Weight_1  Weight_Agg\n",
       "0        Cold   Normal    Rain  Strong    No     0.2     0.125       0.125\n",
       "1         Hot   Normal    Rain    Weak    No     0.2     0.125       0.250\n",
       "2        Cold   Normal   Sunny    Weak   Yes     0.2     0.500       0.750\n",
       "3         Hot     High   Sunny    Weak   Yes     0.2     0.125       0.875\n",
       "4         Hot     High    Rain    Weak   Yes     0.2     0.125       1.000"
      ]
     },
     "execution_count": 134,
     "metadata": {},
     "output_type": "execute_result"
    }
   ],
   "source": [
    "df[\"Weight_1\"] = df[\"Weight_1\"]/0.8\n",
    "df"
   ]
  },
  {
   "cell_type": "markdown",
   "id": "622495e3",
   "metadata": {},
   "source": [
    "Now when we add up the new sample weight (weight 1) we get 1 (+- a little rounding error).\n",
    "\n",
    "The reason why in boosting, the weight is higher for unclassified data points, is because the adaboost will put more emphasis on correctly classifying this sample (the one that was misclassified by the last stump)."
   ]
  },
  {
   "cell_type": "code",
   "execution_count": 135,
   "id": "8ea9dac8",
   "metadata": {},
   "outputs": [
    {
     "data": {
      "text/plain": [
       "1.0"
      ]
     },
     "execution_count": 135,
     "metadata": {},
     "output_type": "execute_result"
    }
   ],
   "source": [
    "0.75+0.125+0.125"
   ]
  },
  {
   "cell_type": "code",
   "execution_count": 138,
   "id": "ad1b897f",
   "metadata": {},
   "outputs": [
    {
     "data": {
      "text/html": [
       "<div>\n",
       "<style scoped>\n",
       "    .dataframe tbody tr th:only-of-type {\n",
       "        vertical-align: middle;\n",
       "    }\n",
       "\n",
       "    .dataframe tbody tr th {\n",
       "        vertical-align: top;\n",
       "    }\n",
       "\n",
       "    .dataframe thead th {\n",
       "        text-align: right;\n",
       "    }\n",
       "</style>\n",
       "<table border=\"1\" class=\"dataframe\">\n",
       "  <thead>\n",
       "    <tr style=\"text-align: right;\">\n",
       "      <th></th>\n",
       "      <th>Temperature</th>\n",
       "      <th>Humidity</th>\n",
       "      <th>Outlook</th>\n",
       "      <th>Wind</th>\n",
       "      <th>Hours</th>\n",
       "      <th>Weight</th>\n",
       "      <th>Weight_1</th>\n",
       "      <th>Weight_Agg</th>\n",
       "    </tr>\n",
       "  </thead>\n",
       "  <tbody>\n",
       "    <tr>\n",
       "      <th>0</th>\n",
       "      <td>Cold</td>\n",
       "      <td>Normal</td>\n",
       "      <td>Rain</td>\n",
       "      <td>Strong</td>\n",
       "      <td>No</td>\n",
       "      <td>0.2</td>\n",
       "      <td>0.125</td>\n",
       "      <td>0 - 0.125</td>\n",
       "    </tr>\n",
       "    <tr>\n",
       "      <th>1</th>\n",
       "      <td>Hot</td>\n",
       "      <td>Normal</td>\n",
       "      <td>Rain</td>\n",
       "      <td>Weak</td>\n",
       "      <td>No</td>\n",
       "      <td>0.2</td>\n",
       "      <td>0.125</td>\n",
       "      <td>0.125 - 0.25</td>\n",
       "    </tr>\n",
       "    <tr>\n",
       "      <th>2</th>\n",
       "      <td>Cold</td>\n",
       "      <td>Normal</td>\n",
       "      <td>Sunny</td>\n",
       "      <td>Weak</td>\n",
       "      <td>Yes</td>\n",
       "      <td>0.2</td>\n",
       "      <td>0.500</td>\n",
       "      <td>0.25 - 0.75</td>\n",
       "    </tr>\n",
       "    <tr>\n",
       "      <th>3</th>\n",
       "      <td>Hot</td>\n",
       "      <td>High</td>\n",
       "      <td>Sunny</td>\n",
       "      <td>Weak</td>\n",
       "      <td>Yes</td>\n",
       "      <td>0.2</td>\n",
       "      <td>0.125</td>\n",
       "      <td>0.75 - 0.875</td>\n",
       "    </tr>\n",
       "    <tr>\n",
       "      <th>4</th>\n",
       "      <td>Hot</td>\n",
       "      <td>High</td>\n",
       "      <td>Rain</td>\n",
       "      <td>Weak</td>\n",
       "      <td>Yes</td>\n",
       "      <td>0.2</td>\n",
       "      <td>0.125</td>\n",
       "      <td>0.875 - 1</td>\n",
       "    </tr>\n",
       "  </tbody>\n",
       "</table>\n",
       "</div>"
      ],
      "text/plain": [
       "  Temperature Humidity Outlook    Wind Hours  Weight  Weight_1    Weight_Agg\n",
       "0        Cold   Normal    Rain  Strong    No     0.2     0.125     0 - 0.125\n",
       "1         Hot   Normal    Rain    Weak    No     0.2     0.125  0.125 - 0.25\n",
       "2        Cold   Normal   Sunny    Weak   Yes     0.2     0.500   0.25 - 0.75\n",
       "3         Hot     High   Sunny    Weak   Yes     0.2     0.125  0.75 - 0.875\n",
       "4         Hot     High    Rain    Weak   Yes     0.2     0.125     0.875 - 1"
      ]
     },
     "execution_count": 138,
     "metadata": {},
     "output_type": "execute_result"
    }
   ],
   "source": [
    "df[\"Weight_Agg\"] = ['0 - 0.125', '0.125 - 0.25', '0.25 - 0.75', '0.75 - 0.875', '0.875 - 1']\n",
    "df"
   ]
  },
  {
   "cell_type": "markdown",
   "id": "3754d004",
   "metadata": {},
   "source": [
    "## Next dataset"
   ]
  },
  {
   "cell_type": "markdown",
   "id": "3f38c893",
   "metadata": {},
   "source": [
    "we start by making a new dataset. We do so by randomly picking a number between 0 and 1, and see where this value falls when we use the weights like a distribution. We contunue until the dataset is the same size as the original. \n",
    "\n",
    "For example, if a number is betwen 0 and 0.155, then we would put this sample into the new collection of samples. \n",
    "And if the number is between 0.155 and 0.54 (0.155+0.38835), we would put this sample into the new collection.\n",
    "\n",
    "0 - 0.155 - 0.53 - 0.695 - 0.85 - 1"
   ]
  },
  {
   "cell_type": "markdown",
   "id": "f7707b84",
   "metadata": {},
   "source": [
    "- For example, imagine the first number I picked is 0.82. Then I would put sample #4 into the dataset. \n",
    "- Then I picked another random number, 0.18, and put #2 into the dataset. \n",
    "- Then I picked another random number, 0.46, and put #2 into the dataset. \n",
    "- Then I picked another random number, 0.92, and put #5 into the dataset.\n",
    "- Finally, I picked another random number, 0.31, and put #2 into the dataset. "
   ]
  },
  {
   "cell_type": "code",
   "execution_count": 72,
   "id": "a578cf33",
   "metadata": {},
   "outputs": [
    {
     "data": {
      "text/html": [
       "<div>\n",
       "<style scoped>\n",
       "    .dataframe tbody tr th:only-of-type {\n",
       "        vertical-align: middle;\n",
       "    }\n",
       "\n",
       "    .dataframe tbody tr th {\n",
       "        vertical-align: top;\n",
       "    }\n",
       "\n",
       "    .dataframe thead th {\n",
       "        text-align: right;\n",
       "    }\n",
       "</style>\n",
       "<table border=\"1\" class=\"dataframe\">\n",
       "  <thead>\n",
       "    <tr style=\"text-align: right;\">\n",
       "      <th></th>\n",
       "      <th>Temperature</th>\n",
       "      <th>Humidity</th>\n",
       "      <th>Outlook</th>\n",
       "      <th>Wind</th>\n",
       "      <th>Hours</th>\n",
       "    </tr>\n",
       "  </thead>\n",
       "  <tbody>\n",
       "    <tr>\n",
       "      <th>0</th>\n",
       "      <td>Hot</td>\n",
       "      <td>High</td>\n",
       "      <td>Sunny</td>\n",
       "      <td>Weak</td>\n",
       "      <td>Yes</td>\n",
       "    </tr>\n",
       "    <tr>\n",
       "      <th>1</th>\n",
       "      <td>Hot</td>\n",
       "      <td>High</td>\n",
       "      <td>Sunny</td>\n",
       "      <td>Weak</td>\n",
       "      <td>No</td>\n",
       "    </tr>\n",
       "    <tr>\n",
       "      <th>2</th>\n",
       "      <td>Hot</td>\n",
       "      <td>High</td>\n",
       "      <td>Sunny</td>\n",
       "      <td>Weak</td>\n",
       "      <td>No</td>\n",
       "    </tr>\n",
       "    <tr>\n",
       "      <th>3</th>\n",
       "      <td>Cold</td>\n",
       "      <td>High</td>\n",
       "      <td>Rain</td>\n",
       "      <td>Weak</td>\n",
       "      <td>Yes</td>\n",
       "    </tr>\n",
       "    <tr>\n",
       "      <th>4</th>\n",
       "      <td>Hot</td>\n",
       "      <td>High</td>\n",
       "      <td>Sunny</td>\n",
       "      <td>Weak</td>\n",
       "      <td>No</td>\n",
       "    </tr>\n",
       "  </tbody>\n",
       "</table>\n",
       "</div>"
      ],
      "text/plain": [
       "  Temperature Humidity Outlook  Wind Hours\n",
       "0         Hot     High   Sunny  Weak   Yes\n",
       "1         Hot     High   Sunny  Weak    No\n",
       "2         Hot     High   Sunny  Weak    No\n",
       "3        Cold     High    Rain  Weak   Yes\n",
       "4         Hot     High   Sunny  Weak    No"
      ]
     },
     "execution_count": 72,
     "metadata": {},
     "output_type": "execute_result"
    }
   ],
   "source": [
    "\n",
    "\n",
    "#re-create a hypothetical dataset\n",
    "data2 = {'Temperature': [\"Hot\",\"Hot\",\"Hot\",\"Cold\",\"Hot\"],\n",
    "        'Humidity': [\"High\",\"High\",\"High\",\"High\",\"High\"],\n",
    "        'Outlook': [\"Sunny\",\"Sunny\",\"Sunny\",\"Rain\",\"Sunny\"], \n",
    "        'Wind': [\"Weak\",\"Weak\",\"Weak\",\"Weak\",\"Weak\"],\n",
    "        'Hours': [\"Yes\", \"No\", \"No\", \"Yes\", \"No\"]\n",
    "       }  \n",
    "\n",
    "#transform dataset into a DataFrame df using pandas library\n",
    "df2 = pd.DataFrame(data2)  \n",
    "  \n",
    "#print the output\n",
    "df2\n"
   ]
  },
  {
   "cell_type": "markdown",
   "id": "39cfd11a",
   "metadata": {},
   "source": [
    "Ultimately, observation #2 was added to the new collection of samples 3 times, reflecting its larger sample weight."
   ]
  },
  {
   "cell_type": "markdown",
   "id": "64a24c01",
   "metadata": {},
   "source": [
    "Lastly, we use this dataset, and again, give new weights, just like before."
   ]
  },
  {
   "cell_type": "code",
   "execution_count": 73,
   "id": "b3003baf",
   "metadata": {},
   "outputs": [
    {
     "data": {
      "text/html": [
       "<div>\n",
       "<style scoped>\n",
       "    .dataframe tbody tr th:only-of-type {\n",
       "        vertical-align: middle;\n",
       "    }\n",
       "\n",
       "    .dataframe tbody tr th {\n",
       "        vertical-align: top;\n",
       "    }\n",
       "\n",
       "    .dataframe thead th {\n",
       "        text-align: right;\n",
       "    }\n",
       "</style>\n",
       "<table border=\"1\" class=\"dataframe\">\n",
       "  <thead>\n",
       "    <tr style=\"text-align: right;\">\n",
       "      <th></th>\n",
       "      <th>Temperature</th>\n",
       "      <th>Humidity</th>\n",
       "      <th>Outlook</th>\n",
       "      <th>Wind</th>\n",
       "      <th>Hours</th>\n",
       "      <th>Weight</th>\n",
       "    </tr>\n",
       "  </thead>\n",
       "  <tbody>\n",
       "    <tr>\n",
       "      <th>0</th>\n",
       "      <td>Hot</td>\n",
       "      <td>High</td>\n",
       "      <td>Sunny</td>\n",
       "      <td>Weak</td>\n",
       "      <td>Yes</td>\n",
       "      <td>0.2</td>\n",
       "    </tr>\n",
       "    <tr>\n",
       "      <th>1</th>\n",
       "      <td>Hot</td>\n",
       "      <td>High</td>\n",
       "      <td>Sunny</td>\n",
       "      <td>Weak</td>\n",
       "      <td>No</td>\n",
       "      <td>0.2</td>\n",
       "    </tr>\n",
       "    <tr>\n",
       "      <th>2</th>\n",
       "      <td>Hot</td>\n",
       "      <td>High</td>\n",
       "      <td>Sunny</td>\n",
       "      <td>Weak</td>\n",
       "      <td>No</td>\n",
       "      <td>0.2</td>\n",
       "    </tr>\n",
       "    <tr>\n",
       "      <th>3</th>\n",
       "      <td>Cold</td>\n",
       "      <td>High</td>\n",
       "      <td>Rain</td>\n",
       "      <td>Weak</td>\n",
       "      <td>Yes</td>\n",
       "      <td>0.2</td>\n",
       "    </tr>\n",
       "    <tr>\n",
       "      <th>4</th>\n",
       "      <td>Hot</td>\n",
       "      <td>High</td>\n",
       "      <td>Sunny</td>\n",
       "      <td>Weak</td>\n",
       "      <td>No</td>\n",
       "      <td>0.2</td>\n",
       "    </tr>\n",
       "  </tbody>\n",
       "</table>\n",
       "</div>"
      ],
      "text/plain": [
       "  Temperature Humidity Outlook  Wind Hours  Weight\n",
       "0         Hot     High   Sunny  Weak   Yes     0.2\n",
       "1         Hot     High   Sunny  Weak    No     0.2\n",
       "2         Hot     High   Sunny  Weak    No     0.2\n",
       "3        Cold     High    Rain  Weak   Yes     0.2\n",
       "4         Hot     High   Sunny  Weak    No     0.2"
      ]
     },
     "execution_count": 73,
     "metadata": {},
     "output_type": "execute_result"
    }
   ],
   "source": [
    "df2[\"Weight\"] = 1/len(df2)\n",
    "df2"
   ]
  },
  {
   "cell_type": "markdown",
   "id": "fc441996",
   "metadata": {},
   "source": [
    "However, that does not mean the next tree will not emphasize the need to correctly classify these samples. Because these three samples (#2, #3, #5) are all the same, they will be treated as a block creating a large penalty for being misclassified. Let'see:"
   ]
  },
  {
   "cell_type": "markdown",
   "id": "4e8546c9",
   "metadata": {},
   "source": [
    "Again, we find the best candidate to split this dataset. "
   ]
  },
  {
   "cell_type": "code",
   "execution_count": null,
   "id": "253303c0",
   "metadata": {},
   "outputs": [],
   "source": []
  },
  {
   "cell_type": "code",
   "execution_count": null,
   "id": "1728acd4",
   "metadata": {},
   "outputs": [],
   "source": []
  },
  {
   "cell_type": "code",
   "execution_count": null,
   "id": "86977f72",
   "metadata": {},
   "outputs": [],
   "source": []
  },
  {
   "cell_type": "code",
   "execution_count": null,
   "id": "1db384dc",
   "metadata": {},
   "outputs": [],
   "source": []
  },
  {
   "cell_type": "markdown",
   "id": "86cafa59",
   "metadata": {},
   "source": [
    "This is how the errors that the first tree makes, influence how the second tree is made. And the errors that the second tree makes influence how the third tree is made. "
   ]
  },
  {
   "cell_type": "code",
   "execution_count": null,
   "id": "717b272d",
   "metadata": {},
   "outputs": [],
   "source": []
  },
  {
   "cell_type": "code",
   "execution_count": null,
   "id": "f2f7c86d",
   "metadata": {},
   "outputs": [],
   "source": []
  },
  {
   "cell_type": "markdown",
   "id": "8a78db02",
   "metadata": {},
   "source": [
    "How classification is made with Adaboost? "
   ]
  },
  {
   "cell_type": "markdown",
   "id": "05c8b957",
   "metadata": {},
   "source": [
    "We have two groups: 3 stumpts that say YES in one group, and 2 stumps that say NO in another. We look at the amount of say of each group by suming up amounts of say of each tree in the furst group, as well as in the second. We give a prediction of a group that has higher total of amounts of say."
   ]
  },
  {
   "cell_type": "code",
   "execution_count": null,
   "id": "d2fb5eba",
   "metadata": {},
   "outputs": [],
   "source": []
  }
 ],
 "metadata": {
  "kernelspec": {
   "display_name": "Python 3 (ipykernel)",
   "language": "python",
   "name": "python3"
  },
  "language_info": {
   "codemirror_mode": {
    "name": "ipython",
    "version": 3
   },
   "file_extension": ".py",
   "mimetype": "text/x-python",
   "name": "python",
   "nbconvert_exporter": "python",
   "pygments_lexer": "ipython3",
   "version": "3.10.7"
  }
 },
 "nbformat": 4,
 "nbformat_minor": 5
}
