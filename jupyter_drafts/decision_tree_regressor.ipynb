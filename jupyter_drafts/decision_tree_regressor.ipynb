{
 "cells": [
  {
   "cell_type": "markdown",
   "id": "e619d903",
   "metadata": {},
   "source": [
    "# Decision Trees: Regression\n",
    "\n",
    "- This is a supplement material for the [Machine Learning Simplified](https://themlsbook.com) book. It sheds light on Python implementations of the topics discussed while all detailed explanations can be found in the book. \n",
    "- I also assume you know Python syntax and how it works. If you don't, I highly recommend you to take a break and get introduced to the language before going forward with my code. \n",
    "- This material can be downloaded as a Jupyter notebook (Download button in the upper-right corner -> `.ipynb`) to reproduce the code and play around with it. \n",
    "\n",
    "\n",
    "\n",
    "## 1. Required Libraries & Functions\n",
    "\n",
    "Before we start, we need to import few libraries and functions that we will use in this jupyterbook. You don't need to understand what those functions do for now."
   ]
  },
  {
   "cell_type": "code",
   "execution_count": 2,
   "id": "de00f26a",
   "metadata": {},
   "outputs": [],
   "source": [
    "# Libraries\n",
    "from math import log\n",
    "import numpy as np\n",
    "import pandas as pd\n",
    "from sklearn import tree\n",
    "import plotly.express as px\n",
    "from matplotlib import pyplot as plt\n",
    "from sklearn.tree import DecisionTreeRegressor"
   ]
  },
  {
   "cell_type": "markdown",
   "id": "31697f2f",
   "metadata": {},
   "source": [
    "## 2. Probelm Representation\n",
    "\n",
    "Let's recall Chapter X of [the Machine Learning Simplified book](https://themlsbook.com). We have a hypothetical dataset (Table XX in the MLS book) containing 14 days, with first 4 columns as features representing weather consitions and last column as a target variable representing hour of golf that were played that day.\n",
    "\n",
    "| Outlook | Humidity | Temperature | Wind | Golf Hours Played |\n",
    "| ----------- | ----------- | ----------- | ----------- | ----------- |\n",
    "| Sunny | Hot | High | Weak | 25 |\n",
    "| Sunny | Hot | High | Strong | 30 |\n",
    "| Overcast | Hot | High | Weak | 46 |\n",
    "| Rain | Mild | High | Weak | 45 |\n",
    "| Rain | Cold | Normal | Weak | 52 |\n",
    "| Rain | Cold | Normal | Strong | 23 |\n",
    "| Overcast | Cold | Normal | Strong | 43 |\n",
    "| Sunny | Mild | High | Weak | 35 |\n",
    "| Sunny | Cold | Normal | Weak | 38 |\n",
    "| Rain | Mild | Normal | Weak | 46 |\n",
    "| Sunny | Mild | Normal | Strong | 48 |\n",
    "| Overcast | Mild | High | Strong | 52 |\n",
    "| Overcast | Hot | Normal | Weak | 44 |\n",
    "| Rain | Mild | High | Strong | 30 |\n",
    "\n",
    "\n",
    "\n",
    "\n",
    "\n",
    "\n",
    "\n",
    "### 2.1. Create Hypothetical Dataset\n",
    "\n",
    "Let's re-create aforementioned table in python. We use `pandas` library - a library that manages **PAN**el **DA**ta **S**ets - to do so. Note that we have already imported it in the beginning of this notebook."
   ]
  },
  {
   "cell_type": "code",
   "execution_count": 3,
   "id": "8846973e",
   "metadata": {},
   "outputs": [
    {
     "data": {
      "text/html": [
       "<div>\n",
       "<style scoped>\n",
       "    .dataframe tbody tr th:only-of-type {\n",
       "        vertical-align: middle;\n",
       "    }\n",
       "\n",
       "    .dataframe tbody tr th {\n",
       "        vertical-align: top;\n",
       "    }\n",
       "\n",
       "    .dataframe thead th {\n",
       "        text-align: right;\n",
       "    }\n",
       "</style>\n",
       "<table border=\"1\" class=\"dataframe\">\n",
       "  <thead>\n",
       "    <tr style=\"text-align: right;\">\n",
       "      <th></th>\n",
       "      <th>Outlook</th>\n",
       "      <th>Humidity</th>\n",
       "      <th>Temperature</th>\n",
       "      <th>Wind</th>\n",
       "      <th>Hours</th>\n",
       "    </tr>\n",
       "  </thead>\n",
       "  <tbody>\n",
       "    <tr>\n",
       "      <th>0</th>\n",
       "      <td>Sunny</td>\n",
       "      <td>Hot</td>\n",
       "      <td>High</td>\n",
       "      <td>Weak</td>\n",
       "      <td>25</td>\n",
       "    </tr>\n",
       "    <tr>\n",
       "      <th>1</th>\n",
       "      <td>Sunny</td>\n",
       "      <td>Hot</td>\n",
       "      <td>High</td>\n",
       "      <td>Strong</td>\n",
       "      <td>30</td>\n",
       "    </tr>\n",
       "    <tr>\n",
       "      <th>2</th>\n",
       "      <td>Overcast</td>\n",
       "      <td>Hot</td>\n",
       "      <td>High</td>\n",
       "      <td>Weak</td>\n",
       "      <td>46</td>\n",
       "    </tr>\n",
       "    <tr>\n",
       "      <th>3</th>\n",
       "      <td>Rain</td>\n",
       "      <td>Mild</td>\n",
       "      <td>High</td>\n",
       "      <td>Weak</td>\n",
       "      <td>45</td>\n",
       "    </tr>\n",
       "    <tr>\n",
       "      <th>4</th>\n",
       "      <td>Rain</td>\n",
       "      <td>Cold</td>\n",
       "      <td>Normal</td>\n",
       "      <td>Weak</td>\n",
       "      <td>52</td>\n",
       "    </tr>\n",
       "    <tr>\n",
       "      <th>5</th>\n",
       "      <td>Rain</td>\n",
       "      <td>Cold</td>\n",
       "      <td>Normal</td>\n",
       "      <td>Strong</td>\n",
       "      <td>23</td>\n",
       "    </tr>\n",
       "    <tr>\n",
       "      <th>6</th>\n",
       "      <td>Overcast</td>\n",
       "      <td>Cold</td>\n",
       "      <td>Normal</td>\n",
       "      <td>Strong</td>\n",
       "      <td>43</td>\n",
       "    </tr>\n",
       "    <tr>\n",
       "      <th>7</th>\n",
       "      <td>Sunny</td>\n",
       "      <td>Mild</td>\n",
       "      <td>High</td>\n",
       "      <td>Weak</td>\n",
       "      <td>35</td>\n",
       "    </tr>\n",
       "    <tr>\n",
       "      <th>8</th>\n",
       "      <td>Sunny</td>\n",
       "      <td>Cold</td>\n",
       "      <td>Normal</td>\n",
       "      <td>Weak</td>\n",
       "      <td>38</td>\n",
       "    </tr>\n",
       "    <tr>\n",
       "      <th>9</th>\n",
       "      <td>Rain</td>\n",
       "      <td>Mild</td>\n",
       "      <td>Normal</td>\n",
       "      <td>Weak</td>\n",
       "      <td>46</td>\n",
       "    </tr>\n",
       "    <tr>\n",
       "      <th>10</th>\n",
       "      <td>Sunny</td>\n",
       "      <td>Mild</td>\n",
       "      <td>Normal</td>\n",
       "      <td>Strong</td>\n",
       "      <td>48</td>\n",
       "    </tr>\n",
       "    <tr>\n",
       "      <th>11</th>\n",
       "      <td>Overcast</td>\n",
       "      <td>Mild</td>\n",
       "      <td>High</td>\n",
       "      <td>Strong</td>\n",
       "      <td>52</td>\n",
       "    </tr>\n",
       "    <tr>\n",
       "      <th>12</th>\n",
       "      <td>Overcast</td>\n",
       "      <td>Hot</td>\n",
       "      <td>Normal</td>\n",
       "      <td>Weak</td>\n",
       "      <td>44</td>\n",
       "    </tr>\n",
       "    <tr>\n",
       "      <th>13</th>\n",
       "      <td>Rain</td>\n",
       "      <td>Mild</td>\n",
       "      <td>High</td>\n",
       "      <td>Strong</td>\n",
       "      <td>30</td>\n",
       "    </tr>\n",
       "  </tbody>\n",
       "</table>\n",
       "</div>"
      ],
      "text/plain": [
       "     Outlook Humidity Temperature    Wind  Hours\n",
       "0      Sunny      Hot        High    Weak     25\n",
       "1      Sunny      Hot        High  Strong     30\n",
       "2   Overcast      Hot        High    Weak     46\n",
       "3       Rain     Mild        High    Weak     45\n",
       "4       Rain     Cold      Normal    Weak     52\n",
       "5       Rain     Cold      Normal  Strong     23\n",
       "6   Overcast     Cold      Normal  Strong     43\n",
       "7      Sunny     Mild        High    Weak     35\n",
       "8      Sunny     Cold      Normal    Weak     38\n",
       "9       Rain     Mild      Normal    Weak     46\n",
       "10     Sunny     Mild      Normal  Strong     48\n",
       "11  Overcast     Mild        High  Strong     52\n",
       "12  Overcast      Hot      Normal    Weak     44\n",
       "13      Rain     Mild        High  Strong     30"
      ]
     },
     "execution_count": 3,
     "metadata": {},
     "output_type": "execute_result"
    }
   ],
   "source": [
    "#re-create a hypothetical dataset\n",
    "data = {'Outlook': [\"Sunny\",\"Sunny\",\"Overcast\",\"Rain\",\"Rain\",\"Rain\",\"Overcast\",\"Sunny\",\"Sunny\",\"Rain\",\"Sunny\",\"Overcast\",\"Overcast\",\"Rain\"], \n",
    "        'Humidity': [\"Hot\",\"Hot\",\"Hot\",\"Mild\",\"Cold\",\"Cold\",\"Cold\",\"Mild\",\"Cold\",\"Mild\",\"Mild\",\"Mild\",\"Hot\",\"Mild\"],\n",
    "        'Temperature': [\"High\",\"High\",\"High\",\"High\",\"Normal\",\"Normal\",\"Normal\",\"High\",\"Normal\",\"Normal\",\"Normal\",\"High\",\"Normal\",\"High\"],\n",
    "        'Wind': [\"Weak\",\"Strong\",\"Weak\",\"Weak\",\"Weak\",\"Strong\",\"Strong\",\"Weak\",\"Weak\",\"Weak\",\"Strong\",\"Strong\",\"Weak\",\"Strong\"],\n",
    "        'Hours': [25,30,46,45,52,23,43,35,38,46,48,52,44,30]\n",
    "       }  \n",
    "\n",
    "#transform dataset into a DataFrame df using pandas library\n",
    "df = pd.DataFrame(data)  \n",
    "  \n",
    "#print the output\n",
    "df\n"
   ]
  },
  {
   "cell_type": "markdown",
   "id": "c55be001",
   "metadata": {},
   "source": [
    "Dataset contains strings while decision tree algorithm needs numbers to work with. For that we use one-hot encoding."
   ]
  },
  {
   "cell_type": "code",
   "execution_count": 9,
   "id": "96f15da4",
   "metadata": {},
   "outputs": [
    {
     "data": {
      "text/html": [
       "<div>\n",
       "<style scoped>\n",
       "    .dataframe tbody tr th:only-of-type {\n",
       "        vertical-align: middle;\n",
       "    }\n",
       "\n",
       "    .dataframe tbody tr th {\n",
       "        vertical-align: top;\n",
       "    }\n",
       "\n",
       "    .dataframe thead th {\n",
       "        text-align: right;\n",
       "    }\n",
       "</style>\n",
       "<table border=\"1\" class=\"dataframe\">\n",
       "  <thead>\n",
       "    <tr style=\"text-align: right;\">\n",
       "      <th></th>\n",
       "      <th>Hours</th>\n",
       "      <th>Outlook_Overcast</th>\n",
       "      <th>Outlook_Rain</th>\n",
       "      <th>Outlook_Sunny</th>\n",
       "      <th>Humidity_Cold</th>\n",
       "      <th>Humidity_Hot</th>\n",
       "      <th>Humidity_Mild</th>\n",
       "      <th>Temperature_High</th>\n",
       "      <th>Temperature_Normal</th>\n",
       "      <th>Wind_Strong</th>\n",
       "      <th>Wind_Weak</th>\n",
       "    </tr>\n",
       "  </thead>\n",
       "  <tbody>\n",
       "    <tr>\n",
       "      <th>0</th>\n",
       "      <td>25</td>\n",
       "      <td>0</td>\n",
       "      <td>0</td>\n",
       "      <td>1</td>\n",
       "      <td>0</td>\n",
       "      <td>1</td>\n",
       "      <td>0</td>\n",
       "      <td>1</td>\n",
       "      <td>0</td>\n",
       "      <td>0</td>\n",
       "      <td>1</td>\n",
       "    </tr>\n",
       "    <tr>\n",
       "      <th>1</th>\n",
       "      <td>30</td>\n",
       "      <td>0</td>\n",
       "      <td>0</td>\n",
       "      <td>1</td>\n",
       "      <td>0</td>\n",
       "      <td>1</td>\n",
       "      <td>0</td>\n",
       "      <td>1</td>\n",
       "      <td>0</td>\n",
       "      <td>1</td>\n",
       "      <td>0</td>\n",
       "    </tr>\n",
       "    <tr>\n",
       "      <th>2</th>\n",
       "      <td>46</td>\n",
       "      <td>1</td>\n",
       "      <td>0</td>\n",
       "      <td>0</td>\n",
       "      <td>0</td>\n",
       "      <td>1</td>\n",
       "      <td>0</td>\n",
       "      <td>1</td>\n",
       "      <td>0</td>\n",
       "      <td>0</td>\n",
       "      <td>1</td>\n",
       "    </tr>\n",
       "    <tr>\n",
       "      <th>3</th>\n",
       "      <td>45</td>\n",
       "      <td>0</td>\n",
       "      <td>1</td>\n",
       "      <td>0</td>\n",
       "      <td>0</td>\n",
       "      <td>0</td>\n",
       "      <td>1</td>\n",
       "      <td>1</td>\n",
       "      <td>0</td>\n",
       "      <td>0</td>\n",
       "      <td>1</td>\n",
       "    </tr>\n",
       "    <tr>\n",
       "      <th>4</th>\n",
       "      <td>52</td>\n",
       "      <td>0</td>\n",
       "      <td>1</td>\n",
       "      <td>0</td>\n",
       "      <td>1</td>\n",
       "      <td>0</td>\n",
       "      <td>0</td>\n",
       "      <td>0</td>\n",
       "      <td>1</td>\n",
       "      <td>0</td>\n",
       "      <td>1</td>\n",
       "    </tr>\n",
       "    <tr>\n",
       "      <th>5</th>\n",
       "      <td>23</td>\n",
       "      <td>0</td>\n",
       "      <td>1</td>\n",
       "      <td>0</td>\n",
       "      <td>1</td>\n",
       "      <td>0</td>\n",
       "      <td>0</td>\n",
       "      <td>0</td>\n",
       "      <td>1</td>\n",
       "      <td>1</td>\n",
       "      <td>0</td>\n",
       "    </tr>\n",
       "    <tr>\n",
       "      <th>6</th>\n",
       "      <td>43</td>\n",
       "      <td>1</td>\n",
       "      <td>0</td>\n",
       "      <td>0</td>\n",
       "      <td>1</td>\n",
       "      <td>0</td>\n",
       "      <td>0</td>\n",
       "      <td>0</td>\n",
       "      <td>1</td>\n",
       "      <td>1</td>\n",
       "      <td>0</td>\n",
       "    </tr>\n",
       "    <tr>\n",
       "      <th>7</th>\n",
       "      <td>35</td>\n",
       "      <td>0</td>\n",
       "      <td>0</td>\n",
       "      <td>1</td>\n",
       "      <td>0</td>\n",
       "      <td>0</td>\n",
       "      <td>1</td>\n",
       "      <td>1</td>\n",
       "      <td>0</td>\n",
       "      <td>0</td>\n",
       "      <td>1</td>\n",
       "    </tr>\n",
       "    <tr>\n",
       "      <th>8</th>\n",
       "      <td>38</td>\n",
       "      <td>0</td>\n",
       "      <td>0</td>\n",
       "      <td>1</td>\n",
       "      <td>1</td>\n",
       "      <td>0</td>\n",
       "      <td>0</td>\n",
       "      <td>0</td>\n",
       "      <td>1</td>\n",
       "      <td>0</td>\n",
       "      <td>1</td>\n",
       "    </tr>\n",
       "    <tr>\n",
       "      <th>9</th>\n",
       "      <td>46</td>\n",
       "      <td>0</td>\n",
       "      <td>1</td>\n",
       "      <td>0</td>\n",
       "      <td>0</td>\n",
       "      <td>0</td>\n",
       "      <td>1</td>\n",
       "      <td>0</td>\n",
       "      <td>1</td>\n",
       "      <td>0</td>\n",
       "      <td>1</td>\n",
       "    </tr>\n",
       "    <tr>\n",
       "      <th>10</th>\n",
       "      <td>48</td>\n",
       "      <td>0</td>\n",
       "      <td>0</td>\n",
       "      <td>1</td>\n",
       "      <td>0</td>\n",
       "      <td>0</td>\n",
       "      <td>1</td>\n",
       "      <td>0</td>\n",
       "      <td>1</td>\n",
       "      <td>1</td>\n",
       "      <td>0</td>\n",
       "    </tr>\n",
       "    <tr>\n",
       "      <th>11</th>\n",
       "      <td>52</td>\n",
       "      <td>1</td>\n",
       "      <td>0</td>\n",
       "      <td>0</td>\n",
       "      <td>0</td>\n",
       "      <td>0</td>\n",
       "      <td>1</td>\n",
       "      <td>1</td>\n",
       "      <td>0</td>\n",
       "      <td>1</td>\n",
       "      <td>0</td>\n",
       "    </tr>\n",
       "    <tr>\n",
       "      <th>12</th>\n",
       "      <td>44</td>\n",
       "      <td>1</td>\n",
       "      <td>0</td>\n",
       "      <td>0</td>\n",
       "      <td>0</td>\n",
       "      <td>1</td>\n",
       "      <td>0</td>\n",
       "      <td>0</td>\n",
       "      <td>1</td>\n",
       "      <td>0</td>\n",
       "      <td>1</td>\n",
       "    </tr>\n",
       "    <tr>\n",
       "      <th>13</th>\n",
       "      <td>30</td>\n",
       "      <td>0</td>\n",
       "      <td>1</td>\n",
       "      <td>0</td>\n",
       "      <td>0</td>\n",
       "      <td>0</td>\n",
       "      <td>1</td>\n",
       "      <td>1</td>\n",
       "      <td>0</td>\n",
       "      <td>1</td>\n",
       "      <td>0</td>\n",
       "    </tr>\n",
       "  </tbody>\n",
       "</table>\n",
       "</div>"
      ],
      "text/plain": [
       "    Hours  Outlook_Overcast  Outlook_Rain  Outlook_Sunny  Humidity_Cold  \\\n",
       "0      25                 0             0              1              0   \n",
       "1      30                 0             0              1              0   \n",
       "2      46                 1             0              0              0   \n",
       "3      45                 0             1              0              0   \n",
       "4      52                 0             1              0              1   \n",
       "5      23                 0             1              0              1   \n",
       "6      43                 1             0              0              1   \n",
       "7      35                 0             0              1              0   \n",
       "8      38                 0             0              1              1   \n",
       "9      46                 0             1              0              0   \n",
       "10     48                 0             0              1              0   \n",
       "11     52                 1             0              0              0   \n",
       "12     44                 1             0              0              0   \n",
       "13     30                 0             1              0              0   \n",
       "\n",
       "    Humidity_Hot  Humidity_Mild  Temperature_High  Temperature_Normal  \\\n",
       "0              1              0                 1                   0   \n",
       "1              1              0                 1                   0   \n",
       "2              1              0                 1                   0   \n",
       "3              0              1                 1                   0   \n",
       "4              0              0                 0                   1   \n",
       "5              0              0                 0                   1   \n",
       "6              0              0                 0                   1   \n",
       "7              0              1                 1                   0   \n",
       "8              0              0                 0                   1   \n",
       "9              0              1                 0                   1   \n",
       "10             0              1                 0                   1   \n",
       "11             0              1                 1                   0   \n",
       "12             1              0                 0                   1   \n",
       "13             0              1                 1                   0   \n",
       "\n",
       "    Wind_Strong  Wind_Weak  \n",
       "0             0          1  \n",
       "1             1          0  \n",
       "2             0          1  \n",
       "3             0          1  \n",
       "4             0          1  \n",
       "5             1          0  \n",
       "6             1          0  \n",
       "7             0          1  \n",
       "8             0          1  \n",
       "9             0          1  \n",
       "10            1          0  \n",
       "11            1          0  \n",
       "12            0          1  \n",
       "13            1          0  "
      ]
     },
     "execution_count": 9,
     "metadata": {},
     "output_type": "execute_result"
    }
   ],
   "source": [
    "# One-hot encoding in pandas can be done using get_dummies function\n",
    "df_enc = pd.get_dummies(df)\n",
    "df_enc"
   ]
  },
  {
   "cell_type": "markdown",
   "id": "09e5480b",
   "metadata": {},
   "source": [
    "Let us split data into dependent and independant variables. Matrix of independant variables we will call `X`. Vector of dependant variable we will call `y`."
   ]
  },
  {
   "cell_type": "code",
   "execution_count": 29,
   "id": "23ebda25",
   "metadata": {},
   "outputs": [],
   "source": [
    "# X = df[[\"Outlook\", \"Humidity\", \"Temperature\", \"Wind\"]].values\n",
    "X = df_enc[[\"Outlook_Overcast\", \"Outlook_Rain\", \"Outlook_Sunny\", \"Humidity_Cold\", \"Humidity_Hot\", \"Humidity_Mild\", \"Temperature_High\", \"Temperature_Normal\", \"Wind_Strong\"]]\n",
    "y = df_enc.Hours.values"
   ]
  },
  {
   "cell_type": "code",
   "execution_count": 30,
   "id": "c2c705c8",
   "metadata": {},
   "outputs": [
    {
     "name": "stdout",
     "output_type": "stream",
     "text": [
      "X=    Outlook_Overcast  Outlook_Rain  Outlook_Sunny  Humidity_Cold  \\\n",
      "0                  0             0              1              0   \n",
      "1                  0             0              1              0   \n",
      "2                  1             0              0              0   \n",
      "3                  0             1              0              0   \n",
      "4                  0             1              0              1   \n",
      "5                  0             1              0              1   \n",
      "6                  1             0              0              1   \n",
      "7                  0             0              1              0   \n",
      "8                  0             0              1              1   \n",
      "9                  0             1              0              0   \n",
      "10                 0             0              1              0   \n",
      "11                 1             0              0              0   \n",
      "12                 1             0              0              0   \n",
      "13                 0             1              0              0   \n",
      "\n",
      "    Humidity_Hot  Humidity_Mild  Temperature_High  Temperature_Normal  \\\n",
      "0              1              0                 1                   0   \n",
      "1              1              0                 1                   0   \n",
      "2              1              0                 1                   0   \n",
      "3              0              1                 1                   0   \n",
      "4              0              0                 0                   1   \n",
      "5              0              0                 0                   1   \n",
      "6              0              0                 0                   1   \n",
      "7              0              1                 1                   0   \n",
      "8              0              0                 0                   1   \n",
      "9              0              1                 0                   1   \n",
      "10             0              1                 0                   1   \n",
      "11             0              1                 1                   0   \n",
      "12             1              0                 0                   1   \n",
      "13             0              1                 1                   0   \n",
      "\n",
      "    Wind_Strong  \n",
      "0             0  \n",
      "1             1  \n",
      "2             0  \n",
      "3             0  \n",
      "4             0  \n",
      "5             1  \n",
      "6             1  \n",
      "7             0  \n",
      "8             0  \n",
      "9             0  \n",
      "10            1  \n",
      "11            1  \n",
      "12            0  \n",
      "13            1  \n",
      "y=array([25, 30, 46, 45, 52, 23, 43, 35, 38, 46, 48, 52, 44, 30])\n"
     ]
    }
   ],
   "source": [
    "# Print x and y\n",
    "print(f'{X=}')\n",
    "print(f'{y=}')"
   ]
  },
  {
   "cell_type": "markdown",
   "id": "b192a8c1",
   "metadata": {},
   "source": [
    "## 3. Standard Deviation Reduction"
   ]
  },
  {
   "cell_type": "markdown",
   "id": "43c147a0",
   "metadata": {},
   "source": [
    "abc"
   ]
  },
  {
   "cell_type": "markdown",
   "id": "7204ae4c",
   "metadata": {},
   "source": [
    "### 3.1. Calculating Standard Deviation"
   ]
  },
  {
   "cell_type": "code",
   "execution_count": 6,
   "id": "02ab0453",
   "metadata": {},
   "outputs": [],
   "source": []
  },
  {
   "cell_type": "markdown",
   "id": "07f0a8f4",
   "metadata": {},
   "source": [
    "### 3.2. Calculating Standard Deviation Reduction"
   ]
  },
  {
   "cell_type": "markdown",
   "id": "07ee782e",
   "metadata": {},
   "source": [
    "abc"
   ]
  },
  {
   "cell_type": "code",
   "execution_count": null,
   "id": "7c2d81e3",
   "metadata": {},
   "outputs": [],
   "source": []
  },
  {
   "cell_type": "markdown",
   "id": "a4eb0da0",
   "metadata": {},
   "source": [
    "### 3.3. All splits for the first dimension"
   ]
  },
  {
   "cell_type": "markdown",
   "id": "dff21519",
   "metadata": {},
   "source": [
    "Lets now iterate over all splits from textbook for the first dimension."
   ]
  },
  {
   "cell_type": "code",
   "execution_count": 10,
   "id": "f6d28b39",
   "metadata": {},
   "outputs": [],
   "source": [
    "# Making list of all splits for the first dimension\n",
    "x_splits = [0.5, 0.7, 1.0, 1.5, 2.0, 2.4, 2.7, 2.9]"
   ]
  },
  {
   "cell_type": "markdown",
   "id": "d05c34d5",
   "metadata": {},
   "source": [
    "Split with the largest Gini Gain is `2.0`."
   ]
  },
  {
   "cell_type": "markdown",
   "id": "d86ee31e",
   "metadata": {},
   "source": [
    "### 3.4. All splits for the second dimension"
   ]
  },
  {
   "cell_type": "markdown",
   "id": "5876c2be",
   "metadata": {},
   "source": [
    "Lets now iterate over all splits from textbook for the second dimension."
   ]
  },
  {
   "cell_type": "code",
   "execution_count": null,
   "id": "1825bc64",
   "metadata": {},
   "outputs": [],
   "source": []
  },
  {
   "cell_type": "markdown",
   "id": "865afed9",
   "metadata": {},
   "source": [
    "## 6. Decision Tree in Real Projects"
   ]
  },
  {
   "cell_type": "markdown",
   "id": "92bccdeb",
   "metadata": {},
   "source": [
    "Above we made a bunch of steps to manually calculate the split for a simple decision tree for regression. There was a lot of calculations just to understand what split we have to make for two independent variables. What if we had 10 independent variables that would require numerous splits to make? Imagine how many calculations we would do in that case. Good news: there is a library - `sklearn` - that does all the calculations for us. Basically, `sklearn` does all the steps for you, so that you can implement a decision tree with 2 lines of code. Let's have a look.\n"
   ]
  },
  {
   "cell_type": "markdown",
   "id": "2e8484b9",
   "metadata": {},
   "source": [
    "### 6.1. Building a Decision Tree"
   ]
  },
  {
   "cell_type": "code",
   "execution_count": 46,
   "id": "1280d850",
   "metadata": {},
   "outputs": [],
   "source": [
    "# Initialize the model\n",
    "clf = DecisionTreeRegressor()"
   ]
  },
  {
   "cell_type": "code",
   "execution_count": 47,
   "id": "bdeb9520",
   "metadata": {},
   "outputs": [
    {
     "data": {
      "text/html": [
       "<style>#sk-container-id-5 {color: black;background-color: white;}#sk-container-id-5 pre{padding: 0;}#sk-container-id-5 div.sk-toggleable {background-color: white;}#sk-container-id-5 label.sk-toggleable__label {cursor: pointer;display: block;width: 100%;margin-bottom: 0;padding: 0.3em;box-sizing: border-box;text-align: center;}#sk-container-id-5 label.sk-toggleable__label-arrow:before {content: \"▸\";float: left;margin-right: 0.25em;color: #696969;}#sk-container-id-5 label.sk-toggleable__label-arrow:hover:before {color: black;}#sk-container-id-5 div.sk-estimator:hover label.sk-toggleable__label-arrow:before {color: black;}#sk-container-id-5 div.sk-toggleable__content {max-height: 0;max-width: 0;overflow: hidden;text-align: left;background-color: #f0f8ff;}#sk-container-id-5 div.sk-toggleable__content pre {margin: 0.2em;color: black;border-radius: 0.25em;background-color: #f0f8ff;}#sk-container-id-5 input.sk-toggleable__control:checked~div.sk-toggleable__content {max-height: 200px;max-width: 100%;overflow: auto;}#sk-container-id-5 input.sk-toggleable__control:checked~label.sk-toggleable__label-arrow:before {content: \"▾\";}#sk-container-id-5 div.sk-estimator input.sk-toggleable__control:checked~label.sk-toggleable__label {background-color: #d4ebff;}#sk-container-id-5 div.sk-label input.sk-toggleable__control:checked~label.sk-toggleable__label {background-color: #d4ebff;}#sk-container-id-5 input.sk-hidden--visually {border: 0;clip: rect(1px 1px 1px 1px);clip: rect(1px, 1px, 1px, 1px);height: 1px;margin: -1px;overflow: hidden;padding: 0;position: absolute;width: 1px;}#sk-container-id-5 div.sk-estimator {font-family: monospace;background-color: #f0f8ff;border: 1px dotted black;border-radius: 0.25em;box-sizing: border-box;margin-bottom: 0.5em;}#sk-container-id-5 div.sk-estimator:hover {background-color: #d4ebff;}#sk-container-id-5 div.sk-parallel-item::after {content: \"\";width: 100%;border-bottom: 1px solid gray;flex-grow: 1;}#sk-container-id-5 div.sk-label:hover label.sk-toggleable__label {background-color: #d4ebff;}#sk-container-id-5 div.sk-serial::before {content: \"\";position: absolute;border-left: 1px solid gray;box-sizing: border-box;top: 0;bottom: 0;left: 50%;z-index: 0;}#sk-container-id-5 div.sk-serial {display: flex;flex-direction: column;align-items: center;background-color: white;padding-right: 0.2em;padding-left: 0.2em;position: relative;}#sk-container-id-5 div.sk-item {position: relative;z-index: 1;}#sk-container-id-5 div.sk-parallel {display: flex;align-items: stretch;justify-content: center;background-color: white;position: relative;}#sk-container-id-5 div.sk-item::before, #sk-container-id-5 div.sk-parallel-item::before {content: \"\";position: absolute;border-left: 1px solid gray;box-sizing: border-box;top: 0;bottom: 0;left: 50%;z-index: -1;}#sk-container-id-5 div.sk-parallel-item {display: flex;flex-direction: column;z-index: 1;position: relative;background-color: white;}#sk-container-id-5 div.sk-parallel-item:first-child::after {align-self: flex-end;width: 50%;}#sk-container-id-5 div.sk-parallel-item:last-child::after {align-self: flex-start;width: 50%;}#sk-container-id-5 div.sk-parallel-item:only-child::after {width: 0;}#sk-container-id-5 div.sk-dashed-wrapped {border: 1px dashed gray;margin: 0 0.4em 0.5em 0.4em;box-sizing: border-box;padding-bottom: 0.4em;background-color: white;}#sk-container-id-5 div.sk-label label {font-family: monospace;font-weight: bold;display: inline-block;line-height: 1.2em;}#sk-container-id-5 div.sk-label-container {text-align: center;}#sk-container-id-5 div.sk-container {/* jupyter's `normalize.less` sets `[hidden] { display: none; }` but bootstrap.min.css set `[hidden] { display: none !important; }` so we also need the `!important` here to be able to override the default hidden behavior on the sphinx rendered scikit-learn.org. See: https://github.com/scikit-learn/scikit-learn/issues/21755 */display: inline-block !important;position: relative;}#sk-container-id-5 div.sk-text-repr-fallback {display: none;}</style><div id=\"sk-container-id-5\" class=\"sk-top-container\"><div class=\"sk-text-repr-fallback\"><pre>DecisionTreeRegressor()</pre><b>In a Jupyter environment, please rerun this cell to show the HTML representation or trust the notebook. <br />On GitHub, the HTML representation is unable to render, please try loading this page with nbviewer.org.</b></div><div class=\"sk-container\" hidden><div class=\"sk-item\"><div class=\"sk-estimator sk-toggleable\"><input class=\"sk-toggleable__control sk-hidden--visually\" id=\"sk-estimator-id-5\" type=\"checkbox\" checked><label for=\"sk-estimator-id-5\" class=\"sk-toggleable__label sk-toggleable__label-arrow\">DecisionTreeRegressor</label><div class=\"sk-toggleable__content\"><pre>DecisionTreeRegressor()</pre></div></div></div></div></div>"
      ],
      "text/plain": [
       "DecisionTreeRegressor()"
      ]
     },
     "execution_count": 47,
     "metadata": {},
     "output_type": "execute_result"
    }
   ],
   "source": [
    "# Train the model\n",
    "clf.fit(X, y)"
   ]
  },
  {
   "cell_type": "markdown",
   "id": "080e8d10",
   "metadata": {},
   "source": [
    "### 6.2. Checking models accuracy"
   ]
  },
  {
   "cell_type": "markdown",
   "id": "a990f682",
   "metadata": {},
   "source": [
    "After the model has trained with the data, it's essential to understand how precisely it makes predictions. For that, we need to check model's accuracy. "
   ]
  },
  {
   "cell_type": "code",
   "execution_count": 48,
   "id": "448d3485",
   "metadata": {},
   "outputs": [
    {
     "name": "stdout",
     "output_type": "stream",
     "text": [
      "Accuracy of Decision Tree classifier on training set: 1.00\n"
     ]
    }
   ],
   "source": [
    "print(f'Accuracy of Decision Tree classifier on training set: {clf.score(X, y):.2f}')"
   ]
  },
  {
   "cell_type": "markdown",
   "id": "7b1699b6",
   "metadata": {},
   "source": [
    "### 6.3. Understanding trained model"
   ]
  },
  {
   "cell_type": "markdown",
   "id": "e5f74323",
   "metadata": {},
   "source": [
    "It's always good to understand the logic of a trained model. We can do so by using `tree.export_text` method."
   ]
  },
  {
   "cell_type": "code",
   "execution_count": 49,
   "id": "5811c8de",
   "metadata": {},
   "outputs": [
    {
     "name": "stdout",
     "output_type": "stream",
     "text": [
      "|--- feature_0 <= 0.50\n",
      "|   |--- feature_4 <= 0.50\n",
      "|   |   |--- feature_8 <= 0.50\n",
      "|   |   |   |--- feature_1 <= 0.50\n",
      "|   |   |   |   |--- feature_5 <= 0.50\n",
      "|   |   |   |   |   |--- value: [38.00]\n",
      "|   |   |   |   |--- feature_5 >  0.50\n",
      "|   |   |   |   |   |--- value: [35.00]\n",
      "|   |   |   |--- feature_1 >  0.50\n",
      "|   |   |   |   |--- feature_3 <= 0.50\n",
      "|   |   |   |   |   |--- feature_6 <= 0.50\n",
      "|   |   |   |   |   |   |--- value: [46.00]\n",
      "|   |   |   |   |   |--- feature_6 >  0.50\n",
      "|   |   |   |   |   |   |--- value: [45.00]\n",
      "|   |   |   |   |--- feature_3 >  0.50\n",
      "|   |   |   |   |   |--- value: [52.00]\n",
      "|   |   |--- feature_8 >  0.50\n",
      "|   |   |   |--- feature_2 <= 0.50\n",
      "|   |   |   |   |--- feature_3 <= 0.50\n",
      "|   |   |   |   |   |--- value: [30.00]\n",
      "|   |   |   |   |--- feature_3 >  0.50\n",
      "|   |   |   |   |   |--- value: [23.00]\n",
      "|   |   |   |--- feature_2 >  0.50\n",
      "|   |   |   |   |--- value: [48.00]\n",
      "|   |--- feature_4 >  0.50\n",
      "|   |   |--- feature_8 <= 0.50\n",
      "|   |   |   |--- value: [25.00]\n",
      "|   |   |--- feature_8 >  0.50\n",
      "|   |   |   |--- value: [30.00]\n",
      "|--- feature_0 >  0.50\n",
      "|   |--- feature_5 <= 0.50\n",
      "|   |   |--- feature_7 <= 0.50\n",
      "|   |   |   |--- value: [46.00]\n",
      "|   |   |--- feature_7 >  0.50\n",
      "|   |   |   |--- feature_3 <= 0.50\n",
      "|   |   |   |   |--- value: [44.00]\n",
      "|   |   |   |--- feature_3 >  0.50\n",
      "|   |   |   |   |--- value: [43.00]\n",
      "|   |--- feature_5 >  0.50\n",
      "|   |   |--- value: [52.00]\n",
      "\n"
     ]
    }
   ],
   "source": [
    "text_representation = tree.export_text(clf)\n",
    "print(text_representation)"
   ]
  },
  {
   "cell_type": "markdown",
   "id": "b7a831c7",
   "metadata": {},
   "source": [
    "We can also make it a bit more visually pleasant and more understandable by using `tree.plot_tree` method."
   ]
  },
  {
   "cell_type": "code",
   "execution_count": 50,
   "id": "70aca2e0",
   "metadata": {},
   "outputs": [
    {
     "data": {
      "image/png": "[encoded data removed]",
      "text/plain": [
       "<Figure size 1500x600 with 1 Axes>"
      ]
     },
     "metadata": {},
     "output_type": "display_data"
    }
   ],
   "source": [
    "plt.figure(figsize=(15,6))\n",
    "fig_tree = tree.plot_tree(clf, \n",
    "                          fontsize=6,\n",
    "                          feature_names=X.columns,  \n",
    "#                           class_names=['no disease', 'disease'],\n",
    "                          filled=True)"
   ]
  },
  {
   "cell_type": "markdown",
   "id": "b27620b8",
   "metadata": {},
   "source": [
    "### 6.4. Making Predictions"
   ]
  },
  {
   "cell_type": "markdown",
   "id": "99bfb821",
   "metadata": {},
   "source": [
    "Finally, you can predict how much hours will be played on a particular day based on the weather conditions. For that, we need to pass feature values to the model. We are going to use `predict` method."
   ]
  },
  {
   "cell_type": "code",
   "execution_count": 53,
   "id": "5e490f18",
   "metadata": {},
   "outputs": [
    {
     "name": "stderr",
     "output_type": "stream",
     "text": [
      "/Users/andrewwolf/.pyenv/versions/3.10.7/lib/python3.10/site-packages/sklearn/base.py:409: UserWarning: X does not have valid feature names, but DecisionTreeRegressor was fitted with feature names\n",
      "  warnings.warn(\n"
     ]
    },
    {
     "data": {
      "text/plain": [
       "array([52.])"
      ]
     },
     "execution_count": 53,
     "metadata": {},
     "output_type": "execute_result"
    }
   ],
   "source": [
    "#Predicting a class with random values x and y\n",
    "\n",
    "Outlook_Overcast=0\n",
    "Outlook_Rain=1\n",
    "Outlook_Sunny=0\n",
    "Humidity_Cold=1\n",
    "Humidity_Hot=0\n",
    "Humidity_Mild=0\n",
    "Temperature_High=1\n",
    "Temperature_Normal=0\n",
    "Wind_Strong=0\n",
    "\n",
    "clf.predict([[Outlook_Overcast,\n",
    "              Outlook_Rain,\n",
    "              Outlook_Sunny,\n",
    "              Humidity_Cold,\n",
    "              Humidity_Hot,\n",
    "              Humidity_Mild,\n",
    "              Temperature_High,\n",
    "              Temperature_Normal,\n",
    "              Wind_Strong\n",
    "             ]])"
   ]
  },
  {
   "cell_type": "markdown",
   "id": "c60661dc",
   "metadata": {},
   "source": [
    "You can see that it was estimated with 52 hours."
   ]
  },
  {
   "cell_type": "markdown",
   "id": "20def34e",
   "metadata": {},
   "source": [
    "## 7. Further Readings"
   ]
  },
  {
   "cell_type": "markdown",
   "id": "11d74055",
   "metadata": {},
   "source": [
    "Check out more details on Decision Trees: http://localhost:8890/notebooks/Classification/decision_trees.ipynb"
   ]
  }
 ],
 "metadata": {
  "kernelspec": {
   "display_name": "Python 3 (ipykernel)",
   "language": "python",
   "name": "python3"
  },
  "language_info": {
   "codemirror_mode": {
    "name": "ipython",
    "version": 3
   },
   "file_extension": ".py",
   "mimetype": "text/x-python",
   "name": "python",
   "nbconvert_exporter": "python",
   "pygments_lexer": "ipython3",
   "version": "3.10.7"
  }
 },
 "nbformat": 4,
 "nbformat_minor": 5
}
