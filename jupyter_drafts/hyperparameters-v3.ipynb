{
 "cells": [
  {
   "cell_type": "markdown",
   "id": "ae8012b8",
   "metadata": {},
   "source": [
    "# Hyperparameters Tuning\n",
    "\n",
    "- This is a supplement material for the [Machine Learning Simplified](https://themlsbook.com) book. It sheds light on Python implementations of the topics discussed while all detailed explanations can be found in the book. \n",
    "- I also assume you know Python syntax and how it works. If you don't, I highly recommend you to take a break and get introduced to the language before going forward with my code. \n",
    "- This material can be downloaded as a Jupyter notebook (Download button in the upper-right corner -> `.ipynb`) to reproduce the code and play around with it. \n",
    "\n",
    "\n",
    "\n",
    "## 1. Required Libraries & Functions\n",
    "\n",
    "Before we start, we need to import few libraries and functions that we will use in this jupyterbook. You don't need to understand what those functions do for now."
   ]
  },
  {
   "cell_type": "code",
   "execution_count": 4,
   "id": "898ff569",
   "metadata": {},
   "outputs": [],
   "source": [
    "from matplotlib import pyplot as plt\n",
    "from sklearn.tree import DecisionTreeRegressor\n",
    "import pandas as pd\n",
    "from sklearn import tree"
   ]
  },
  {
   "cell_type": "markdown",
   "id": "4f19c80d",
   "metadata": {},
   "source": [
    "## 2. Problem Representation\n",
    "\n",
    "Let's recall Chapter 11 of [the Machine Learning Simplified book](https://themlsbook.com). We have a hypothetical dataset (Table 11.4) containing 14 days, with first 4 columns as features representing weather conditions and the last column as a target variable representing hours of golf that were played that day.\n",
    "\n",
    "| Outlook | Humidity | Temperature | Wind | Golf Hours Played |\n",
    "| ----------- | ----------- | ----------- | ----------- | ----------- |\n",
    "| Sunny | Hot | High | Weak | 25 |\n",
    "| Sunny | Hot | High | Strong | 30 |\n",
    "| Overcast | Hot | High | Weak | 46 |\n",
    "| Rain | Mild | High | Weak | 45 |\n",
    "| Rain | Cold | Normal | Weak | 52 |\n",
    "| Rain | Cold | Normal | Strong | 23 |\n",
    "| Overcast | Cold | Normal | Strong | 43 |\n",
    "| Sunny | Mild | High | Weak | 35 |\n",
    "| Sunny | Cold | Normal | Weak | 38 |\n",
    "| Rain | Mild | Normal | Weak | 46 |\n",
    "| Sunny | Mild | Normal | Strong | 48 |\n",
    "| Overcast | Mild | High | Strong | 52 |\n",
    "| Overcast | Hot | Normal | Weak | 44 |\n",
    "| Rain | Mild | High | Strong | 30 |\n",
    "\n",
    "\n",
    "\n",
    "\n",
    "\n",
    "\n",
    "\n",
    "### 2.1. Create Hypothetical Dataset\n",
    "\n",
    "Let's re-create the aforementioned table in python. We use `pandas` library - a library that manages **PAN**el **DA**ta **S**ets - to do so. Note that we have already imported it in the beginning of this notebook."
   ]
  },
  {
   "cell_type": "code",
   "execution_count": 2,
   "id": "313b9abd",
   "metadata": {},
   "outputs": [
    {
     "data": {
      "text/html": [
       "<div>\n",
       "<style scoped>\n",
       "    .dataframe tbody tr th:only-of-type {\n",
       "        vertical-align: middle;\n",
       "    }\n",
       "\n",
       "    .dataframe tbody tr th {\n",
       "        vertical-align: top;\n",
       "    }\n",
       "\n",
       "    .dataframe thead th {\n",
       "        text-align: right;\n",
       "    }\n",
       "</style>\n",
       "<table border=\"1\" class=\"dataframe\">\n",
       "  <thead>\n",
       "    <tr style=\"text-align: right;\">\n",
       "      <th></th>\n",
       "      <th>Outlook</th>\n",
       "      <th>Humidity</th>\n",
       "      <th>Temperature</th>\n",
       "      <th>Wind</th>\n",
       "      <th>Hours</th>\n",
       "    </tr>\n",
       "  </thead>\n",
       "  <tbody>\n",
       "    <tr>\n",
       "      <th>0</th>\n",
       "      <td>Rain</td>\n",
       "      <td>Mild</td>\n",
       "      <td>High</td>\n",
       "      <td>Strong</td>\n",
       "      <td>45</td>\n",
       "    </tr>\n",
       "    <tr>\n",
       "      <th>1</th>\n",
       "      <td>Sunny</td>\n",
       "      <td>Mild</td>\n",
       "      <td>High</td>\n",
       "      <td>Weak</td>\n",
       "      <td>47</td>\n",
       "    </tr>\n",
       "    <tr>\n",
       "      <th>2</th>\n",
       "      <td>Rain</td>\n",
       "      <td>Cold</td>\n",
       "      <td>High</td>\n",
       "      <td>Strong</td>\n",
       "      <td>46</td>\n",
       "    </tr>\n",
       "    <tr>\n",
       "      <th>3</th>\n",
       "      <td>Rain</td>\n",
       "      <td>Mild</td>\n",
       "      <td>High</td>\n",
       "      <td>Strong</td>\n",
       "      <td>52</td>\n",
       "    </tr>\n",
       "    <tr>\n",
       "      <th>4</th>\n",
       "      <td>Sunny</td>\n",
       "      <td>Hot</td>\n",
       "      <td>Normal</td>\n",
       "      <td>Weak</td>\n",
       "      <td>42</td>\n",
       "    </tr>\n",
       "    <tr>\n",
       "      <th>5</th>\n",
       "      <td>Sunny</td>\n",
       "      <td>Hot</td>\n",
       "      <td>High</td>\n",
       "      <td>Strong</td>\n",
       "      <td>45</td>\n",
       "    </tr>\n",
       "    <tr>\n",
       "      <th>6</th>\n",
       "      <td>Rain</td>\n",
       "      <td>Hot</td>\n",
       "      <td>Normal</td>\n",
       "      <td>Weak</td>\n",
       "      <td>47</td>\n",
       "    </tr>\n",
       "    <tr>\n",
       "      <th>7</th>\n",
       "      <td>Overcast</td>\n",
       "      <td>Cold</td>\n",
       "      <td>Normal</td>\n",
       "      <td>Weak</td>\n",
       "      <td>56</td>\n",
       "    </tr>\n",
       "    <tr>\n",
       "      <th>8</th>\n",
       "      <td>Rain</td>\n",
       "      <td>Mild</td>\n",
       "      <td>High</td>\n",
       "      <td>Strong</td>\n",
       "      <td>54</td>\n",
       "    </tr>\n",
       "    <tr>\n",
       "      <th>9</th>\n",
       "      <td>Rain</td>\n",
       "      <td>Hot</td>\n",
       "      <td>Normal</td>\n",
       "      <td>Weak</td>\n",
       "      <td>53</td>\n",
       "    </tr>\n",
       "    <tr>\n",
       "      <th>10</th>\n",
       "      <td>Rain</td>\n",
       "      <td>Cold</td>\n",
       "      <td>Normal</td>\n",
       "      <td>Strong</td>\n",
       "      <td>46</td>\n",
       "    </tr>\n",
       "    <tr>\n",
       "      <th>11</th>\n",
       "      <td>Rain</td>\n",
       "      <td>Mild</td>\n",
       "      <td>Normal</td>\n",
       "      <td>Strong</td>\n",
       "      <td>49</td>\n",
       "    </tr>\n",
       "    <tr>\n",
       "      <th>12</th>\n",
       "      <td>Sunny</td>\n",
       "      <td>Cold</td>\n",
       "      <td>Normal</td>\n",
       "      <td>Weak</td>\n",
       "      <td>45</td>\n",
       "    </tr>\n",
       "    <tr>\n",
       "      <th>13</th>\n",
       "      <td>Rain</td>\n",
       "      <td>Hot</td>\n",
       "      <td>High</td>\n",
       "      <td>Weak</td>\n",
       "      <td>48</td>\n",
       "    </tr>\n",
       "  </tbody>\n",
       "</table>\n",
       "</div>"
      ],
      "text/plain": [
       "     Outlook Humidity Temperature    Wind  Hours\n",
       "0       Rain     Mild        High  Strong     45\n",
       "1      Sunny     Mild        High    Weak     47\n",
       "2       Rain     Cold        High  Strong     46\n",
       "3       Rain     Mild        High  Strong     52\n",
       "4      Sunny      Hot      Normal    Weak     42\n",
       "5      Sunny      Hot        High  Strong     45\n",
       "6       Rain      Hot      Normal    Weak     47\n",
       "7   Overcast     Cold      Normal    Weak     56\n",
       "8       Rain     Mild        High  Strong     54\n",
       "9       Rain      Hot      Normal    Weak     53\n",
       "10      Rain     Cold      Normal  Strong     46\n",
       "11      Rain     Mild      Normal  Strong     49\n",
       "12     Sunny     Cold      Normal    Weak     45\n",
       "13      Rain      Hot        High    Weak     48"
      ]
     },
     "execution_count": 2,
     "metadata": {},
     "output_type": "execute_result"
    }
   ],
   "source": [
    "#re-create a hypothetical dataset\n",
    "data = {'Outlook': [\"Rain\",\"Sunny\",\"Rain\",\"Rain\",\"Sunny\",\"Sunny\",\"Rain\",\"Overcast\",\"Rain\",\"Rain\",\"Rain\",\"Rain\",\"Sunny\",\"Rain\"], \n",
    "        'Humidity': [\"Mild\",\"Mild\",\"Cold\",\"Mild\",\"Hot\",\"Hot\",\"Hot\",\"Cold\",\"Mild\",\"Hot\",\"Cold\",\"Mild\",\"Cold\",\"Hot\"],\n",
    "        'Temperature': [\"High\",\"High\",\"High\",\"High\",\"Normal\",\"High\",\"Normal\",\"Normal\",\"High\",\"Normal\",\"Normal\",\"Normal\",\"Normal\",\"High\"],\n",
    "        'Wind': [\"Strong\",\"Weak\",\"Strong\",\"Strong\",\"Weak\",\"Strong\",\"Weak\",\"Weak\",\"Strong\",\"Weak\",\"Strong\",\"Strong\",\"Weak\",\"Weak\"],\n",
    "        'Hours': [45,47,46,52,42,45,47,56,54,53,46,49,45,48]\n",
    "       }  \n",
    "\n",
    "#transform dataset into a DataFrame df using pandas library\n",
    "df = pd.DataFrame(data)  \n",
    "  \n",
    "#print the output\n",
    "df\n"
   ]
  },
  {
   "cell_type": "markdown",
   "id": "e38ef732",
   "metadata": {},
   "source": [
    "### 2.2. Prepare the Dataset"
   ]
  },
  {
   "cell_type": "markdown",
   "id": "8486e99e",
   "metadata": {},
   "source": [
    "To ensure that a decision tree can effectively interpret our data, it is necessary to encode our features."
   ]
  },
  {
   "cell_type": "code",
   "execution_count": 37,
   "id": "33e949a4",
   "metadata": {},
   "outputs": [
    {
     "data": {
      "text/html": [
       "<div>\n",
       "<style scoped>\n",
       "    .dataframe tbody tr th:only-of-type {\n",
       "        vertical-align: middle;\n",
       "    }\n",
       "\n",
       "    .dataframe tbody tr th {\n",
       "        vertical-align: top;\n",
       "    }\n",
       "\n",
       "    .dataframe thead th {\n",
       "        text-align: right;\n",
       "    }\n",
       "</style>\n",
       "<table border=\"1\" class=\"dataframe\">\n",
       "  <thead>\n",
       "    <tr style=\"text-align: right;\">\n",
       "      <th></th>\n",
       "      <th>Hours</th>\n",
       "      <th>Outlook_Overcast</th>\n",
       "      <th>Outlook_Rain</th>\n",
       "      <th>Outlook_Sunny</th>\n",
       "      <th>Humidity_Cold</th>\n",
       "      <th>Humidity_Hot</th>\n",
       "      <th>Humidity_Mild</th>\n",
       "      <th>Temperature_High</th>\n",
       "      <th>Temperature_Normal</th>\n",
       "      <th>Wind_Strong</th>\n",
       "      <th>Wind_Weak</th>\n",
       "    </tr>\n",
       "  </thead>\n",
       "  <tbody>\n",
       "    <tr>\n",
       "      <th>0</th>\n",
       "      <td>45</td>\n",
       "      <td>0</td>\n",
       "      <td>1</td>\n",
       "      <td>0</td>\n",
       "      <td>0</td>\n",
       "      <td>0</td>\n",
       "      <td>1</td>\n",
       "      <td>1</td>\n",
       "      <td>0</td>\n",
       "      <td>1</td>\n",
       "      <td>0</td>\n",
       "    </tr>\n",
       "    <tr>\n",
       "      <th>1</th>\n",
       "      <td>47</td>\n",
       "      <td>0</td>\n",
       "      <td>0</td>\n",
       "      <td>1</td>\n",
       "      <td>0</td>\n",
       "      <td>0</td>\n",
       "      <td>1</td>\n",
       "      <td>1</td>\n",
       "      <td>0</td>\n",
       "      <td>0</td>\n",
       "      <td>1</td>\n",
       "    </tr>\n",
       "    <tr>\n",
       "      <th>2</th>\n",
       "      <td>46</td>\n",
       "      <td>0</td>\n",
       "      <td>1</td>\n",
       "      <td>0</td>\n",
       "      <td>1</td>\n",
       "      <td>0</td>\n",
       "      <td>0</td>\n",
       "      <td>1</td>\n",
       "      <td>0</td>\n",
       "      <td>1</td>\n",
       "      <td>0</td>\n",
       "    </tr>\n",
       "    <tr>\n",
       "      <th>3</th>\n",
       "      <td>52</td>\n",
       "      <td>0</td>\n",
       "      <td>1</td>\n",
       "      <td>0</td>\n",
       "      <td>0</td>\n",
       "      <td>0</td>\n",
       "      <td>1</td>\n",
       "      <td>1</td>\n",
       "      <td>0</td>\n",
       "      <td>1</td>\n",
       "      <td>0</td>\n",
       "    </tr>\n",
       "    <tr>\n",
       "      <th>4</th>\n",
       "      <td>42</td>\n",
       "      <td>0</td>\n",
       "      <td>0</td>\n",
       "      <td>1</td>\n",
       "      <td>0</td>\n",
       "      <td>1</td>\n",
       "      <td>0</td>\n",
       "      <td>0</td>\n",
       "      <td>1</td>\n",
       "      <td>0</td>\n",
       "      <td>1</td>\n",
       "    </tr>\n",
       "    <tr>\n",
       "      <th>5</th>\n",
       "      <td>45</td>\n",
       "      <td>0</td>\n",
       "      <td>0</td>\n",
       "      <td>1</td>\n",
       "      <td>0</td>\n",
       "      <td>1</td>\n",
       "      <td>0</td>\n",
       "      <td>1</td>\n",
       "      <td>0</td>\n",
       "      <td>1</td>\n",
       "      <td>0</td>\n",
       "    </tr>\n",
       "    <tr>\n",
       "      <th>6</th>\n",
       "      <td>47</td>\n",
       "      <td>0</td>\n",
       "      <td>1</td>\n",
       "      <td>0</td>\n",
       "      <td>0</td>\n",
       "      <td>1</td>\n",
       "      <td>0</td>\n",
       "      <td>0</td>\n",
       "      <td>1</td>\n",
       "      <td>0</td>\n",
       "      <td>1</td>\n",
       "    </tr>\n",
       "    <tr>\n",
       "      <th>7</th>\n",
       "      <td>56</td>\n",
       "      <td>1</td>\n",
       "      <td>0</td>\n",
       "      <td>0</td>\n",
       "      <td>1</td>\n",
       "      <td>0</td>\n",
       "      <td>0</td>\n",
       "      <td>0</td>\n",
       "      <td>1</td>\n",
       "      <td>0</td>\n",
       "      <td>1</td>\n",
       "    </tr>\n",
       "    <tr>\n",
       "      <th>8</th>\n",
       "      <td>54</td>\n",
       "      <td>0</td>\n",
       "      <td>1</td>\n",
       "      <td>0</td>\n",
       "      <td>0</td>\n",
       "      <td>0</td>\n",
       "      <td>1</td>\n",
       "      <td>1</td>\n",
       "      <td>0</td>\n",
       "      <td>1</td>\n",
       "      <td>0</td>\n",
       "    </tr>\n",
       "    <tr>\n",
       "      <th>9</th>\n",
       "      <td>53</td>\n",
       "      <td>0</td>\n",
       "      <td>1</td>\n",
       "      <td>0</td>\n",
       "      <td>0</td>\n",
       "      <td>1</td>\n",
       "      <td>0</td>\n",
       "      <td>0</td>\n",
       "      <td>1</td>\n",
       "      <td>0</td>\n",
       "      <td>1</td>\n",
       "    </tr>\n",
       "    <tr>\n",
       "      <th>10</th>\n",
       "      <td>46</td>\n",
       "      <td>0</td>\n",
       "      <td>1</td>\n",
       "      <td>0</td>\n",
       "      <td>1</td>\n",
       "      <td>0</td>\n",
       "      <td>0</td>\n",
       "      <td>0</td>\n",
       "      <td>1</td>\n",
       "      <td>1</td>\n",
       "      <td>0</td>\n",
       "    </tr>\n",
       "    <tr>\n",
       "      <th>11</th>\n",
       "      <td>49</td>\n",
       "      <td>0</td>\n",
       "      <td>1</td>\n",
       "      <td>0</td>\n",
       "      <td>0</td>\n",
       "      <td>0</td>\n",
       "      <td>1</td>\n",
       "      <td>0</td>\n",
       "      <td>1</td>\n",
       "      <td>1</td>\n",
       "      <td>0</td>\n",
       "    </tr>\n",
       "    <tr>\n",
       "      <th>12</th>\n",
       "      <td>45</td>\n",
       "      <td>0</td>\n",
       "      <td>0</td>\n",
       "      <td>1</td>\n",
       "      <td>1</td>\n",
       "      <td>0</td>\n",
       "      <td>0</td>\n",
       "      <td>0</td>\n",
       "      <td>1</td>\n",
       "      <td>0</td>\n",
       "      <td>1</td>\n",
       "    </tr>\n",
       "    <tr>\n",
       "      <th>13</th>\n",
       "      <td>48</td>\n",
       "      <td>0</td>\n",
       "      <td>1</td>\n",
       "      <td>0</td>\n",
       "      <td>0</td>\n",
       "      <td>1</td>\n",
       "      <td>0</td>\n",
       "      <td>1</td>\n",
       "      <td>0</td>\n",
       "      <td>0</td>\n",
       "      <td>1</td>\n",
       "    </tr>\n",
       "  </tbody>\n",
       "</table>\n",
       "</div>"
      ],
      "text/plain": [
       "    Hours  Outlook_Overcast  Outlook_Rain  Outlook_Sunny  Humidity_Cold  \\\n",
       "0      45                 0             1              0              0   \n",
       "1      47                 0             0              1              0   \n",
       "2      46                 0             1              0              1   \n",
       "3      52                 0             1              0              0   \n",
       "4      42                 0             0              1              0   \n",
       "5      45                 0             0              1              0   \n",
       "6      47                 0             1              0              0   \n",
       "7      56                 1             0              0              1   \n",
       "8      54                 0             1              0              0   \n",
       "9      53                 0             1              0              0   \n",
       "10     46                 0             1              0              1   \n",
       "11     49                 0             1              0              0   \n",
       "12     45                 0             0              1              1   \n",
       "13     48                 0             1              0              0   \n",
       "\n",
       "    Humidity_Hot  Humidity_Mild  Temperature_High  Temperature_Normal  \\\n",
       "0              0              1                 1                   0   \n",
       "1              0              1                 1                   0   \n",
       "2              0              0                 1                   0   \n",
       "3              0              1                 1                   0   \n",
       "4              1              0                 0                   1   \n",
       "5              1              0                 1                   0   \n",
       "6              1              0                 0                   1   \n",
       "7              0              0                 0                   1   \n",
       "8              0              1                 1                   0   \n",
       "9              1              0                 0                   1   \n",
       "10             0              0                 0                   1   \n",
       "11             0              1                 0                   1   \n",
       "12             0              0                 0                   1   \n",
       "13             1              0                 1                   0   \n",
       "\n",
       "    Wind_Strong  Wind_Weak  \n",
       "0             1          0  \n",
       "1             0          1  \n",
       "2             1          0  \n",
       "3             1          0  \n",
       "4             0          1  \n",
       "5             1          0  \n",
       "6             0          1  \n",
       "7             0          1  \n",
       "8             1          0  \n",
       "9             0          1  \n",
       "10            1          0  \n",
       "11            1          0  \n",
       "12            0          1  \n",
       "13            0          1  "
      ]
     },
     "execution_count": 37,
     "metadata": {},
     "output_type": "execute_result"
    }
   ],
   "source": [
    "# One-hot encoding in pandas can be done using get_dummies function\n",
    "df_enc = pd.get_dummies(df)\n",
    "df_enc"
   ]
  },
  {
   "cell_type": "markdown",
   "id": "c695fa8e",
   "metadata": {},
   "source": [
    "Next step is to define our independent and dependent variables X and y."
   ]
  },
  {
   "cell_type": "code",
   "execution_count": 8,
   "id": "146d5ca2",
   "metadata": {},
   "outputs": [],
   "source": [
    "# Define X and y variables\n",
    "X = df_enc[[\"Outlook_Overcast\", \"Outlook_Rain\", \"Outlook_Sunny\", \"Humidity_Cold\", \"Humidity_Hot\", \"Humidity_Mild\", \"Temperature_High\", \"Temperature_Normal\", \"Wind_Strong\"]]\n",
    "y = df_enc.Hours.values"
   ]
  },
  {
   "cell_type": "code",
   "execution_count": 9,
   "id": "9c6bc3c9",
   "metadata": {},
   "outputs": [
    {
     "name": "stdout",
     "output_type": "stream",
     "text": [
      "X=    Outlook_Overcast  Outlook_Rain  Outlook_Sunny  Humidity_Cold  \\\n",
      "0                  0             1              0              0   \n",
      "1                  0             0              1              0   \n",
      "2                  0             1              0              1   \n",
      "3                  0             1              0              0   \n",
      "4                  0             0              1              0   \n",
      "5                  0             0              1              0   \n",
      "6                  0             1              0              0   \n",
      "7                  1             0              0              1   \n",
      "8                  0             1              0              0   \n",
      "9                  0             1              0              0   \n",
      "10                 0             1              0              1   \n",
      "11                 0             1              0              0   \n",
      "12                 0             0              1              1   \n",
      "13                 0             1              0              0   \n",
      "\n",
      "    Humidity_Hot  Humidity_Mild  Temperature_High  Temperature_Normal  \\\n",
      "0              0              1                 1                   0   \n",
      "1              0              1                 1                   0   \n",
      "2              0              0                 1                   0   \n",
      "3              0              1                 1                   0   \n",
      "4              1              0                 0                   1   \n",
      "5              1              0                 1                   0   \n",
      "6              1              0                 0                   1   \n",
      "7              0              0                 0                   1   \n",
      "8              0              1                 1                   0   \n",
      "9              1              0                 0                   1   \n",
      "10             0              0                 0                   1   \n",
      "11             0              1                 0                   1   \n",
      "12             0              0                 0                   1   \n",
      "13             1              0                 1                   0   \n",
      "\n",
      "    Wind_Strong  \n",
      "0             1  \n",
      "1             0  \n",
      "2             1  \n",
      "3             1  \n",
      "4             0  \n",
      "5             1  \n",
      "6             0  \n",
      "7             0  \n",
      "8             1  \n",
      "9             0  \n",
      "10            1  \n",
      "11            1  \n",
      "12            0  \n",
      "13            0  \n",
      "y=array([45, 47, 46, 52, 42, 45, 47, 56, 54, 53, 46, 49, 45, 48])\n"
     ]
    }
   ],
   "source": [
    "# Print x and y\n",
    "print(f'{X=}')\n",
    "print(f'{y=}')"
   ]
  },
  {
   "cell_type": "markdown",
   "id": "c526c5e4",
   "metadata": {},
   "source": [
    "## 3. Without setting any hyper-parameters"
   ]
  },
  {
   "cell_type": "markdown",
   "id": "44c9e774",
   "metadata": {},
   "source": [
    "Let's assess the model score using default hyperparameter values, without making any adjustments."
   ]
  },
  {
   "cell_type": "code",
   "execution_count": 40,
   "id": "ea547d6c",
   "metadata": {},
   "outputs": [
    {
     "name": "stdout",
     "output_type": "stream",
     "text": [
      "Accuracy of Decision Tree regression on training set: 0.71\n"
     ]
    }
   ],
   "source": [
    "clf = DecisionTreeRegressor() #initialize the model. Blank brackets means taking default hyper-parameter values\n",
    "clf.fit(X, y) #fit the training data to the defined X and y\n",
    "print(f'Accuracy of Decision Tree regression on training set: {clf.score(X, y):.2f}') #Print accuracy score"
   ]
  },
  {
   "cell_type": "markdown",
   "id": "bc19c1fd",
   "metadata": {},
   "source": [
    "The accuracy score of a Decision Tree regression is 0.71 or 71%. The next sections show how this score changes if you adjust model hyperparameters."
   ]
  },
  {
   "cell_type": "markdown",
   "id": "3ad46bec",
   "metadata": {},
   "source": [
    "## 4. Tuning max_depth hyper-parameter"
   ]
  },
  {
   "cell_type": "markdown",
   "id": "87a3873d",
   "metadata": {},
   "source": [
    "### 4.1. Controlling depth of a tree"
   ]
  },
  {
   "cell_type": "markdown",
   "id": "60603528",
   "metadata": {},
   "source": [
    "Let's first understand how to control the depth of a decision tree model."
   ]
  },
  {
   "cell_type": "code",
   "execution_count": 68,
   "id": "70e71d87",
   "metadata": {},
   "outputs": [
    {
     "data": {
      "text/html": [
       "<style>#sk-container-id-15 {color: black;background-color: white;}#sk-container-id-15 pre{padding: 0;}#sk-container-id-15 div.sk-toggleable {background-color: white;}#sk-container-id-15 label.sk-toggleable__label {cursor: pointer;display: block;width: 100%;margin-bottom: 0;padding: 0.3em;box-sizing: border-box;text-align: center;}#sk-container-id-15 label.sk-toggleable__label-arrow:before {content: \"▸\";float: left;margin-right: 0.25em;color: #696969;}#sk-container-id-15 label.sk-toggleable__label-arrow:hover:before {color: black;}#sk-container-id-15 div.sk-estimator:hover label.sk-toggleable__label-arrow:before {color: black;}#sk-container-id-15 div.sk-toggleable__content {max-height: 0;max-width: 0;overflow: hidden;text-align: left;background-color: #f0f8ff;}#sk-container-id-15 div.sk-toggleable__content pre {margin: 0.2em;color: black;border-radius: 0.25em;background-color: #f0f8ff;}#sk-container-id-15 input.sk-toggleable__control:checked~div.sk-toggleable__content {max-height: 200px;max-width: 100%;overflow: auto;}#sk-container-id-15 input.sk-toggleable__control:checked~label.sk-toggleable__label-arrow:before {content: \"▾\";}#sk-container-id-15 div.sk-estimator input.sk-toggleable__control:checked~label.sk-toggleable__label {background-color: #d4ebff;}#sk-container-id-15 div.sk-label input.sk-toggleable__control:checked~label.sk-toggleable__label {background-color: #d4ebff;}#sk-container-id-15 input.sk-hidden--visually {border: 0;clip: rect(1px 1px 1px 1px);clip: rect(1px, 1px, 1px, 1px);height: 1px;margin: -1px;overflow: hidden;padding: 0;position: absolute;width: 1px;}#sk-container-id-15 div.sk-estimator {font-family: monospace;background-color: #f0f8ff;border: 1px dotted black;border-radius: 0.25em;box-sizing: border-box;margin-bottom: 0.5em;}#sk-container-id-15 div.sk-estimator:hover {background-color: #d4ebff;}#sk-container-id-15 div.sk-parallel-item::after {content: \"\";width: 100%;border-bottom: 1px solid gray;flex-grow: 1;}#sk-container-id-15 div.sk-label:hover label.sk-toggleable__label {background-color: #d4ebff;}#sk-container-id-15 div.sk-serial::before {content: \"\";position: absolute;border-left: 1px solid gray;box-sizing: border-box;top: 0;bottom: 0;left: 50%;z-index: 0;}#sk-container-id-15 div.sk-serial {display: flex;flex-direction: column;align-items: center;background-color: white;padding-right: 0.2em;padding-left: 0.2em;position: relative;}#sk-container-id-15 div.sk-item {position: relative;z-index: 1;}#sk-container-id-15 div.sk-parallel {display: flex;align-items: stretch;justify-content: center;background-color: white;position: relative;}#sk-container-id-15 div.sk-item::before, #sk-container-id-15 div.sk-parallel-item::before {content: \"\";position: absolute;border-left: 1px solid gray;box-sizing: border-box;top: 0;bottom: 0;left: 50%;z-index: -1;}#sk-container-id-15 div.sk-parallel-item {display: flex;flex-direction: column;z-index: 1;position: relative;background-color: white;}#sk-container-id-15 div.sk-parallel-item:first-child::after {align-self: flex-end;width: 50%;}#sk-container-id-15 div.sk-parallel-item:last-child::after {align-self: flex-start;width: 50%;}#sk-container-id-15 div.sk-parallel-item:only-child::after {width: 0;}#sk-container-id-15 div.sk-dashed-wrapped {border: 1px dashed gray;margin: 0 0.4em 0.5em 0.4em;box-sizing: border-box;padding-bottom: 0.4em;background-color: white;}#sk-container-id-15 div.sk-label label {font-family: monospace;font-weight: bold;display: inline-block;line-height: 1.2em;}#sk-container-id-15 div.sk-label-container {text-align: center;}#sk-container-id-15 div.sk-container {/* jupyter's `normalize.less` sets `[hidden] { display: none; }` but bootstrap.min.css set `[hidden] { display: none !important; }` so we also need the `!important` here to be able to override the default hidden behavior on the sphinx rendered scikit-learn.org. See: https://github.com/scikit-learn/scikit-learn/issues/21755 */display: inline-block !important;position: relative;}#sk-container-id-15 div.sk-text-repr-fallback {display: none;}</style><div id=\"sk-container-id-15\" class=\"sk-top-container\"><div class=\"sk-text-repr-fallback\"><pre>DecisionTreeRegressor(max_depth=1)</pre><b>In a Jupyter environment, please rerun this cell to show the HTML representation or trust the notebook. <br />On GitHub, the HTML representation is unable to render, please try loading this page with nbviewer.org.</b></div><div class=\"sk-container\" hidden><div class=\"sk-item\"><div class=\"sk-estimator sk-toggleable\"><input class=\"sk-toggleable__control sk-hidden--visually\" id=\"sk-estimator-id-15\" type=\"checkbox\" checked><label for=\"sk-estimator-id-15\" class=\"sk-toggleable__label sk-toggleable__label-arrow\">DecisionTreeRegressor</label><div class=\"sk-toggleable__content\"><pre>DecisionTreeRegressor(max_depth=1)</pre></div></div></div></div></div>"
      ],
      "text/plain": [
       "DecisionTreeRegressor(max_depth=1)"
      ]
     },
     "execution_count": 68,
     "metadata": {},
     "output_type": "execute_result"
    }
   ],
   "source": [
    "# Initialize the model\n",
    "clf = DecisionTreeRegressor(max_depth=1) #setting the depth = 1\n",
    "# Train the model\n",
    "clf.fit(X, y)"
   ]
  },
  {
   "cell_type": "markdown",
   "id": "3f6037ef",
   "metadata": {},
   "source": [
    "You can visualize the trained decision tree using the following code:"
   ]
  },
  {
   "cell_type": "code",
   "execution_count": 69,
   "id": "8acd1df9",
   "metadata": {},
   "outputs": [
    {
     "data": {
      "image/png": "[encoded data removed]",
      "text/plain": [
       "<Figure size 1500x600 with 1 Axes>"
      ]
     },
     "metadata": {},
     "output_type": "display_data"
    }
   ],
   "source": [
    "plt.figure(figsize=(15,6))\n",
    "fig_tree = tree.plot_tree(clf,\n",
    "                          fontsize=6,\n",
    "                          feature_names=X.columns,\n",
    "                          filled=True)"
   ]
  },
  {
   "cell_type": "markdown",
   "id": "b312ba79",
   "metadata": {},
   "source": [
    "### 4.2. Building different size trees"
   ]
  },
  {
   "cell_type": "markdown",
   "id": "373239ba",
   "metadata": {},
   "source": [
    "Let's begin with adjusting the depth of a decision tree model, `max_depth` hyper-parameter."
   ]
  },
  {
   "cell_type": "markdown",
   "id": "bcc54893",
   "metadata": {},
   "source": [
    "#### 4.2.1. max_depth = 1"
   ]
  },
  {
   "cell_type": "code",
   "execution_count": 59,
   "id": "a3708522",
   "metadata": {},
   "outputs": [
    {
     "name": "stdout",
     "output_type": "stream",
     "text": [
      "Accuracy of Decision Tree Regression on training set: 0.31\n"
     ]
    }
   ],
   "source": [
    "# Initialize the model\n",
    "clf = DecisionTreeRegressor(max_depth=1)\n",
    "# Train the model\n",
    "clf.fit(X, y)\n",
    "# Print the accuracy score of a model\n",
    "print(f'Accuracy of Decision Tree Regression on training set: {clf.score(X, y):.2f}')"
   ]
  },
  {
   "cell_type": "markdown",
   "id": "a570e3f3",
   "metadata": {},
   "source": [
    "You can visualize the trained decision tree using the following code:"
   ]
  },
  {
   "cell_type": "code",
   "execution_count": 43,
   "id": "8fa2dc37",
   "metadata": {},
   "outputs": [
    {
     "data": {
      "image/png": "[encoded data removed]",
      "text/plain": [
       "<Figure size 1500x600 with 1 Axes>"
      ]
     },
     "metadata": {},
     "output_type": "display_data"
    }
   ],
   "source": [
    "plt.figure(figsize=(15,6))\n",
    "fig_tree = tree.plot_tree(clf,\n",
    "                          fontsize=6,\n",
    "                          feature_names=X.columns,\n",
    "                          filled=True)"
   ]
  },
  {
   "cell_type": "markdown",
   "id": "fb5939bd",
   "metadata": {},
   "source": [
    "#### 4.2.2. max_depth = 2"
   ]
  },
  {
   "cell_type": "code",
   "execution_count": 61,
   "id": "12cce2ae",
   "metadata": {},
   "outputs": [
    {
     "name": "stdout",
     "output_type": "stream",
     "text": [
      "Accuracy of Decision Tree Regression on training set: 0.56\n"
     ]
    }
   ],
   "source": [
    "# Initialize the model\n",
    "clf = DecisionTreeRegressor(max_depth=2)\n",
    "# Train the model\n",
    "clf.fit(X, y)\n",
    "# Print the accuracy score of a model\n",
    "print(f'Accuracy of Decision Tree Regression on training set: {clf.score(X, y):.2f}')"
   ]
  },
  {
   "cell_type": "markdown",
   "id": "576e4e4f",
   "metadata": {},
   "source": [
    "You can visualize the trained decision tree using the following code:"
   ]
  },
  {
   "cell_type": "code",
   "execution_count": 46,
   "id": "fc162e4f",
   "metadata": {},
   "outputs": [
    {
     "data": {
      "image/png": "[encoded data removed]",
      "text/plain": [
       "<Figure size 1500x600 with 1 Axes>"
      ]
     },
     "metadata": {},
     "output_type": "display_data"
    }
   ],
   "source": [
    "plt.figure(figsize=(15,6))\n",
    "fig_tree = tree.plot_tree(clf,\n",
    "                          fontsize=6,\n",
    "                          feature_names=X.columns,\n",
    "                          filled=True)"
   ]
  },
  {
   "cell_type": "markdown",
   "id": "58554f0c",
   "metadata": {},
   "source": [
    "#### 4.2.3. max_depth = 3"
   ]
  },
  {
   "cell_type": "code",
   "execution_count": 63,
   "id": "03046638",
   "metadata": {},
   "outputs": [
    {
     "name": "stdout",
     "output_type": "stream",
     "text": [
      "Accuracy of Decision Tree Regression on training set: 0.66\n"
     ]
    }
   ],
   "source": [
    "# Initialize the model\n",
    "clf = DecisionTreeRegressor(max_depth=3)\n",
    "# Train the model\n",
    "clf.fit(X, y)\n",
    "# Print the accuracy score of a model\n",
    "print(f'Accuracy of Decision Tree Regression on training set: {clf.score(X, y):.2f}')"
   ]
  },
  {
   "cell_type": "markdown",
   "id": "6477c4bf",
   "metadata": {},
   "source": [
    "You can visualize the trained decision tree using the following code:"
   ]
  },
  {
   "cell_type": "code",
   "execution_count": 70,
   "id": "df7cd0a8",
   "metadata": {},
   "outputs": [
    {
     "data": {
      "image/png": "[encoded data removed]",
      "text/plain": [
       "<Figure size 1500x600 with 1 Axes>"
      ]
     },
     "metadata": {},
     "output_type": "display_data"
    }
   ],
   "source": [
    "plt.figure(figsize=(15,6))\n",
    "fig_tree = tree.plot_tree(clf,\n",
    "                          fontsize=6,\n",
    "                          feature_names=X.columns,\n",
    "                          filled=True)"
   ]
  },
  {
   "cell_type": "markdown",
   "id": "41ae9edd",
   "metadata": {},
   "source": [
    "#### 4.2.4. setting range for max_depth"
   ]
  },
  {
   "cell_type": "markdown",
   "id": "1f95896f",
   "metadata": {},
   "source": [
    "Finally, you can set a range of values for a hyper-parameter `max_depth` using a simple for loop in Python."
   ]
  },
  {
   "cell_type": "code",
   "execution_count": 65,
   "id": "6bea3710",
   "metadata": {},
   "outputs": [
    {
     "name": "stdout",
     "output_type": "stream",
     "text": [
      "Depth = 1, Score = 0.3135288237254249\n",
      "Depth = 2, Score = 0.557332740938206\n",
      "Depth = 3, Score = 0.6644451849383539\n",
      "Depth = 4, Score = 0.6889925580362102\n",
      "Depth = 5, Score = 0.7076530045540376\n",
      "Depth = 6, Score = 0.7076530045540376\n"
     ]
    }
   ],
   "source": [
    "for i in range(1,7):\n",
    "    # Initialize the model\n",
    "    clf = DecisionTreeRegressor(max_depth=i)\n",
    "    # Train the model\n",
    "    clf.fit(X, y)\n",
    "    #score\n",
    "    print(f'Depth = {i}, Score = {clf.score(X, y)}')"
   ]
  },
  {
   "cell_type": "markdown",
   "id": "d39a8650",
   "metadata": {},
   "source": [
    "## 5. Tuning max_features hyper-parameter"
   ]
  },
  {
   "cell_type": "markdown",
   "id": "af95ca12",
   "metadata": {},
   "source": [
    "In decision tree algorithms, the max_features hyperparameter controls the maximum number of features that are considered during the process of finding the best split for a node in the tree. \n",
    "\n",
    "When a decision tree constructs its branches, it evaluates different features and their potential splits to determine the most effective way to partition the data. The max_features hyperparameter comes into play by limiting the number of features that the algorithm considers at each node. By restricting the number of features, the decision tree becomes less prone to capturing noise or idiosyncrasies in the training data and instead focuses on more meaningful patterns.\n",
    "\n",
    "To explore the impact of different values for the hyperparameter `max_features`, we can utilize the same for loop we wrote above. This will allow us to evaluate the model's performance under various settings of this particular hyperparameter."
   ]
  },
  {
   "cell_type": "code",
   "execution_count": 73,
   "id": "f4d7fdc1",
   "metadata": {},
   "outputs": [
    {
     "name": "stdout",
     "output_type": "stream",
     "text": [
      "0.7076530045540376\n",
      "0.7076530045540376\n",
      "0.7076530045540376\n"
     ]
    }
   ],
   "source": [
    "for i in range(1,4):\n",
    "    # Initialize the model\n",
    "    clf = DecisionTreeRegressor(max_features=i)\n",
    "    # Train the model\n",
    "    clf.fit(X, y)\n",
    "    #score\n",
    "    print(clf.score(X, y))"
   ]
  },
  {
   "cell_type": "markdown",
   "id": "cbe29742",
   "metadata": {},
   "source": [
    "## 6. Tuning min_samples_split hyper-parameter"
   ]
  },
  {
   "cell_type": "markdown",
   "id": "cc084e48",
   "metadata": {},
   "source": [
    "In decision tree algorithms, the min_samples_split hyperparameter controls the minimum number of samples required to split a node into child nodes during the construction of the tree. This hyperparameter helps prevent the tree from growing too deep and overfitting the training data by ensuring that a node is only split if it contains a sufficient number of samples.\n",
    "\n",
    "When constructing a decision tree, the algorithm evaluates different features and potential splits to determine the best way to partition the data. The min_samples_split hyperparameter comes into play by setting a threshold for the number of samples that a node must have in order to be considered for splitting. If the number of samples in a node falls below this threshold, the node is not further split, and the algorithm stops growing the tree at that branch.\n",
    "\n",
    "To explore the impact of different values for the hyperparameter `min_samples_split`, we can utilize the same for loop we wrote above. This will allow us to evaluate the model's performance under various settings of this particular hyperparameter."
   ]
  },
  {
   "cell_type": "code",
   "execution_count": 81,
   "id": "44693472",
   "metadata": {},
   "outputs": [
    {
     "name": "stdout",
     "output_type": "stream",
     "text": [
      "min_samples_split = 1, Score = 0.7076530045540376\n",
      "min_samples_split = 2, Score = 0.7076530045540376\n",
      "min_samples_split = 3, Score = 0.6866600022214817\n",
      "min_samples_split = 4, Score = 0.667222037098745\n",
      "min_samples_split = 5, Score = 0.6295123847606354\n",
      "min_samples_split = 6, Score = 0.6295123847606354\n",
      "min_samples_split = 7, Score = 0.6295123847606354\n",
      "min_samples_split = 8, Score = 0.625958013995335\n",
      "min_samples_split = 9, Score = 0.625958013995335\n",
      "min_samples_split = 10, Score = 0.5258432374393722\n",
      "min_samples_split = 11, Score = 0.3135288237254249\n",
      "min_samples_split = 12, Score = 0.3135288237254249\n",
      "min_samples_split = 13, Score = 0.3135288237254249\n",
      "min_samples_split = 14, Score = 0.3135288237254249\n",
      "min_samples_split = 15, Score = 0.0\n"
     ]
    }
   ],
   "source": [
    "for i in range(1,16):\n",
    "    # Initialize the model\n",
    "    clf = DecisionTreeRegressor(min_samples_split=i)\n",
    "    # Train the model\n",
    "    clf.fit(X, y)\n",
    "    #score\n",
    "    print(f'min_samples_split = {i}, Score = {clf.score(X, y)}')"
   ]
  },
  {
   "cell_type": "markdown",
   "id": "caa480f5",
   "metadata": {},
   "source": [
    "The decrease in the model score as the values for the hyperparameter min_samples_split increases is a normal behavior due to the principle of bias-variance trade-off. This trade-off governs the relationship between model complexity and its ability to generalize to new, unseen data.\n",
    "\n",
    "As min_samples_split increases, it enforces a constraint on the minimum number of samples required to split a node in the decision tree. Consequently, the tree becomes shallower and less complex. This reduction in complexity limits the tree's capacity to capture fine-grained patterns and noise in the training data."
   ]
  },
  {
   "cell_type": "markdown",
   "id": "94672326",
   "metadata": {},
   "source": [
    "## 7.  Tuning min_samples_leaf hyper-parameter"
   ]
  },
  {
   "cell_type": "markdown",
   "id": "3db48168",
   "metadata": {},
   "source": [
    "In decision tree algorithms, the `min_samples_leaf` hyperparameter determines the minimum number of samples required for a node to be considered a leaf node, effectively controlling the size of terminal nodes in the tree. Leaf nodes are the endpoints of the tree branches where decisions or predictions are made.\n",
    "\n",
    "To explore the impact of different values for the hyperparameter `min_samples_leaf`, we can utilize the same for loop we wrote above. This will allow us to evaluate the model's performance under various settings of this particular hyperparameter."
   ]
  },
  {
   "cell_type": "code",
   "execution_count": 82,
   "id": "388bb7aa",
   "metadata": {},
   "outputs": [
    {
     "name": "stdout",
     "output_type": "stream",
     "text": [
      "min_samples_leaf = 1, Score = 0.7076530045540376\n",
      "min_samples_leaf = 2, Score = 0.5031656114628458\n",
      "min_samples_leaf = 3, Score = 0.37448628235032777\n",
      "min_samples_leaf = 4, Score = 0.37448628235032777\n",
      "min_samples_leaf = 5, Score = 0.05350068495686611\n",
      "min_samples_leaf = 6, Score = 0.00033322225924714566\n",
      "min_samples_leaf = 7, Score = 0.00033322225924714566\n",
      "min_samples_leaf = 8, Score = 0.0\n"
     ]
    }
   ],
   "source": [
    "for i in range(1,9):\n",
    "    # Initialize the model\n",
    "    clf = DecisionTreeRegressor(min_samples_leaf=i)\n",
    "    # Train the model\n",
    "    clf.fit(X, y)\n",
    "    #score\n",
    "    print(f'min_samples_leaf = {i}, Score = {clf.score(X, y)}')"
   ]
  },
  {
   "cell_type": "markdown",
   "id": "f53dde7f",
   "metadata": {},
   "source": [
    "## 8.  Tuning split criteria hyper-parameter"
   ]
  },
  {
   "cell_type": "code",
   "execution_count": 83,
   "id": "019c7503",
   "metadata": {},
   "outputs": [
    {
     "data": {
      "text/html": [
       "<div>\n",
       "<style scoped>\n",
       "    .dataframe tbody tr th:only-of-type {\n",
       "        vertical-align: middle;\n",
       "    }\n",
       "\n",
       "    .dataframe tbody tr th {\n",
       "        vertical-align: top;\n",
       "    }\n",
       "\n",
       "    .dataframe thead th {\n",
       "        text-align: right;\n",
       "    }\n",
       "</style>\n",
       "<table border=\"1\" class=\"dataframe\">\n",
       "  <thead>\n",
       "    <tr style=\"text-align: right;\">\n",
       "      <th></th>\n",
       "      <th>depth</th>\n",
       "      <th>criterion</th>\n",
       "      <th>score</th>\n",
       "    </tr>\n",
       "  </thead>\n",
       "  <tbody>\n",
       "    <tr>\n",
       "      <th>0</th>\n",
       "      <td>3</td>\n",
       "      <td>squared_error</td>\n",
       "      <td>0.664445</td>\n",
       "    </tr>\n",
       "    <tr>\n",
       "      <th>1</th>\n",
       "      <td>3</td>\n",
       "      <td>friedman_mse</td>\n",
       "      <td>0.664445</td>\n",
       "    </tr>\n",
       "    <tr>\n",
       "      <th>2</th>\n",
       "      <td>3</td>\n",
       "      <td>poisson</td>\n",
       "      <td>0.664445</td>\n",
       "    </tr>\n",
       "    <tr>\n",
       "      <th>3</th>\n",
       "      <td>3</td>\n",
       "      <td>absolute_error</td>\n",
       "      <td>0.626791</td>\n",
       "    </tr>\n",
       "    <tr>\n",
       "      <th>4</th>\n",
       "      <td>2</td>\n",
       "      <td>squared_error</td>\n",
       "      <td>0.557333</td>\n",
       "    </tr>\n",
       "    <tr>\n",
       "      <th>5</th>\n",
       "      <td>2</td>\n",
       "      <td>friedman_mse</td>\n",
       "      <td>0.557333</td>\n",
       "    </tr>\n",
       "    <tr>\n",
       "      <th>6</th>\n",
       "      <td>2</td>\n",
       "      <td>poisson</td>\n",
       "      <td>0.557333</td>\n",
       "    </tr>\n",
       "    <tr>\n",
       "      <th>7</th>\n",
       "      <td>2</td>\n",
       "      <td>absolute_error</td>\n",
       "      <td>0.491503</td>\n",
       "    </tr>\n",
       "    <tr>\n",
       "      <th>8</th>\n",
       "      <td>1</td>\n",
       "      <td>squared_error</td>\n",
       "      <td>0.313529</td>\n",
       "    </tr>\n",
       "    <tr>\n",
       "      <th>9</th>\n",
       "      <td>1</td>\n",
       "      <td>friedman_mse</td>\n",
       "      <td>0.313529</td>\n",
       "    </tr>\n",
       "    <tr>\n",
       "      <th>10</th>\n",
       "      <td>1</td>\n",
       "      <td>poisson</td>\n",
       "      <td>0.313529</td>\n",
       "    </tr>\n",
       "    <tr>\n",
       "      <th>11</th>\n",
       "      <td>1</td>\n",
       "      <td>absolute_error</td>\n",
       "      <td>0.281573</td>\n",
       "    </tr>\n",
       "  </tbody>\n",
       "</table>\n",
       "</div>"
      ],
      "text/plain": [
       "    depth       criterion     score\n",
       "0       3   squared_error  0.664445\n",
       "1       3    friedman_mse  0.664445\n",
       "2       3         poisson  0.664445\n",
       "3       3  absolute_error  0.626791\n",
       "4       2   squared_error  0.557333\n",
       "5       2    friedman_mse  0.557333\n",
       "6       2         poisson  0.557333\n",
       "7       2  absolute_error  0.491503\n",
       "8       1   squared_error  0.313529\n",
       "9       1    friedman_mse  0.313529\n",
       "10      1         poisson  0.313529\n",
       "11      1  absolute_error  0.281573"
      ]
     },
     "execution_count": 83,
     "metadata": {},
     "output_type": "execute_result"
    }
   ],
   "source": [
    "depths = [1, 2, 3]\n",
    "criterions = ['absolute_error', 'squared_error', 'friedman_mse', 'poisson']\n",
    "\n",
    "depth_results = []\n",
    "criterion_results = []\n",
    "score_results = []\n",
    "\n",
    "for depth in depths:\n",
    "    for criterion in criterions:\n",
    "        clf = DecisionTreeRegressor(max_depth=depth, criterion=criterion)\n",
    "        clf.fit(X, y)\n",
    "        score = clf.score(X, y)\n",
    "        \n",
    "        depth_results.append(depth)\n",
    "        criterion_results.append(criterion)\n",
    "        score_results.append(score)\n",
    "        \n",
    "df_scores = pd.DataFrame({\n",
    "    'depth': depth_results,\n",
    "    'criterion': criterion_results,\n",
    "    'score': score_results})\n",
    "\n",
    "df_scores.sort_values('score', ascending=False).reset_index(drop=True)"
   ]
  },
  {
   "cell_type": "markdown",
   "id": "2810fd72",
   "metadata": {},
   "source": [
    "## 9. Hyper-parameter Tuning Methods"
   ]
  },
  {
   "cell_type": "markdown",
   "id": "4d7e5924",
   "metadata": {},
   "source": [
    "Previously, we tuned hyperparameters manually, but it is worth noting that Python provides built-in methods for hyperparameter tuning, such as `GridSearch` and `RandomSearch`. These methods allow for an automated and systematic exploration of different hyperparameter combinations to find the optimal configuration for our model."
   ]
  },
  {
   "cell_type": "markdown",
   "id": "c57a1205",
   "metadata": {},
   "source": [
    "### 9.1. GridSearch"
   ]
  },
  {
   "cell_type": "code",
   "execution_count": 25,
   "id": "3c8df608",
   "metadata": {},
   "outputs": [],
   "source": [
    "from sklearn.model_selection import train_test_split\n",
    "X_train, X_test, y_train, y_test = train_test_split(X, y)"
   ]
  },
  {
   "cell_type": "code",
   "execution_count": 59,
   "id": "b51c17e6",
   "metadata": {},
   "outputs": [
    {
     "name": "stdout",
     "output_type": "stream",
     "text": [
      "depth = 1, criterion = gini, train_score = 0.9, test_score = 0.5\n",
      "depth = 1, criterion = entropy, train_score = 0.9, test_score = 0.5\n",
      "depth = 2, criterion = gini, train_score = 0.9, test_score = 0.5\n",
      "depth = 2, criterion = entropy, train_score = 0.9, test_score = 0.5\n",
      "depth = 3, criterion = gini, train_score = 1.0, test_score = 0.5\n",
      "depth = 3, criterion = entropy, train_score = 1.0, test_score = 0.5\n"
     ]
    }
   ],
   "source": [
    "depth = [1,2,3]\n",
    "criterion = ['gini', 'entropy']\n",
    "scores = []\n",
    "\n",
    "\n",
    "for depth_choice in depth:\n",
    "    for criterion_choice in criterion:\n",
    "        clf = DecisionTreeClassifier(max_depth=depth_choice, \n",
    "                                     criterion=criterion_choice,\n",
    "                                     random_state=125)\n",
    "        clf.fit(X_train, y_train)\n",
    "        \n",
    "        train_score = clf.score(X_train, y_train)\n",
    "        test_score = clf.score(X_test, y_test)\n",
    "        \n",
    "        print(f\"depth = {depth_choice}, criterion = {criterion_choice}, train_score = {train_score}, test_score = {test_score}\")\n",
    "\n"
   ]
  },
  {
   "cell_type": "code",
   "execution_count": 71,
   "id": "818f6de1",
   "metadata": {},
   "outputs": [
    {
     "name": "stdout",
     "output_type": "stream",
     "text": [
      "max_leaf_nodes = 2, train_score = 0.9, test_score = 0.5\n",
      "max_leaf_nodes = 3, train_score = 0.9, test_score = 0.5\n",
      "max_leaf_nodes = 4, train_score = 1.0, test_score = 0.5\n",
      "max_leaf_nodes = 5, train_score = 1.0, test_score = 0.5\n",
      "max_leaf_nodes = 6, train_score = 1.0, test_score = 0.5\n"
     ]
    }
   ],
   "source": [
    "# depth = [1,2,3]\n",
    "max_leaf_nodes = [2,3,4,5,6]\n",
    "scores = []\n",
    "\n",
    "\n",
    "for max_leaf_choice in max_leaf_nodes:\n",
    "    clf = DecisionTreeClassifier(max_leaf_nodes=max_leaf_choice,\n",
    "                                 random_state=125)\n",
    "    clf.fit(X_train, y_train)\n",
    "\n",
    "    train_score = clf.score(X_train, y_train)\n",
    "    test_score = clf.score(X_test, y_test)\n",
    "\n",
    "    print(f\"max_leaf_nodes = {max_leaf_choice}, train_score = {train_score}, test_score = {test_score}\")\n",
    "\n"
   ]
  },
  {
   "cell_type": "markdown",
   "id": "a2e1e4dd",
   "metadata": {},
   "source": [
    "### 9.2. RandomSearch"
   ]
  },
  {
   "cell_type": "code",
   "execution_count": null,
   "id": "922f0623",
   "metadata": {},
   "outputs": [],
   "source": [
    "TODO"
   ]
  },
  {
   "cell_type": "code",
   "execution_count": null,
   "id": "cb095cbd",
   "metadata": {},
   "outputs": [],
   "source": []
  }
 ],
 "metadata": {
  "kernelspec": {
   "display_name": "Python 3 (ipykernel)",
   "language": "python",
   "name": "python3"
  },
  "language_info": {
   "codemirror_mode": {
    "name": "ipython",
    "version": 3
   },
   "file_extension": ".py",
   "mimetype": "text/x-python",
   "name": "python",
   "nbconvert_exporter": "python",
   "pygments_lexer": "ipython3",
   "version": "3.10.7"
  }
 },
 "nbformat": 4,
 "nbformat_minor": 5
}
