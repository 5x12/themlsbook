{
 "cells": [
  {
   "cell_type": "markdown",
   "id": "a18393c1",
   "metadata": {},
   "source": [
    "(chapter13_part2)=\n",
    "\n",
    "# Evaluation Metrics for Classification\n",
    "\n",
    "- This is a supplement material for the [Machine Learning Simplified](https://themlsbook.com) book. It sheds light on Python implementations of the topics discussed while all detailed explanations can be found in the book. \n",
    "- I also assume you know Python syntax and how it works. If you don't, I highly recommend you to take a break and get introduced to the language before going forward with my code. \n",
    "- This material can be downloaded as a Jupyter notebook (Download button in the upper-right corner -> `.ipynb`) to reproduce the code and play around with it.\n",
    "\n",
    "\n",
    "This notebook is a supplement for *Chapter 13. Model Evaluation* of **Machine Learning For Everyone** book.\n",
    "\n",
    "This script covers a comprehensive evaluation for both a binary classifier and a multi-class classifier.\n",
    "\n",
    "\n",
    "## 1. Required Libraries\n",
    "\n",
    "This block imports all necessary libraries."
   ]
  },
  {
   "cell_type": "code",
   "execution_count": 1,
   "id": "48b077bf",
   "metadata": {},
   "outputs": [],
   "source": [
    "import numpy as np\n",
    "import matplotlib.pyplot as plt\n",
    "from sklearn.metrics import (confusion_matrix, accuracy_score, precision_score, recall_score,\n",
    "                             f1_score, fbeta_score, roc_auc_score, roc_curve, precision_recall_curve,\n",
    "                             log_loss)\n",
    "from sklearn.datasets import make_classification\n",
    "from sklearn.model_selection import train_test_split\n",
    "from sklearn.ensemble import RandomForestClassifier"
   ]
  },
  {
   "cell_type": "markdown",
   "id": "4ca1e9ae",
   "metadata": {},
   "source": [
    "## 2. Model Evaluation for Binary Classifier\n",
    "\n",
    "Let's first generate a Hypothetical Dataset and split it into train and test sets."
   ]
  },
  {
   "cell_type": "code",
   "execution_count": 2,
   "id": "efb49744",
   "metadata": {},
   "outputs": [],
   "source": [
    "X, y = make_classification(n_samples=1000, n_features=20, n_classes=2, random_state=42)\n",
    "X_train, X_test, y_train, y_test = train_test_split(X, y, test_size=0.25, random_state=42)\n"
   ]
  },
  {
   "cell_type": "markdown",
   "id": "e2a69778",
   "metadata": {},
   "source": [
    "Let's now train a binary classifier using Random Forest."
   ]
  },
  {
   "cell_type": "code",
   "execution_count": 3,
   "id": "ef2c278d",
   "metadata": {},
   "outputs": [],
   "source": [
    "model = RandomForestClassifier(random_state=42)\n",
    "model.fit(X_train, y_train)\n",
    "y_pred = model.predict(X_test)\n",
    "y_scores = model.predict_proba(X_test)[:, 1]  # Score for ROC and precision-recall"
   ]
  },
  {
   "cell_type": "markdown",
   "id": "af3b7940",
   "metadata": {},
   "source": [
    "After that, we can proceed with model evaluation.\n",
    "\n",
    "### 2.1. Confusion Matrix"
   ]
  },
  {
   "cell_type": "code",
   "execution_count": 4,
   "id": "dba7bedb",
   "metadata": {},
   "outputs": [
    {
     "name": "stdout",
     "output_type": "stream",
     "text": [
      "Confusion Matrix:\n",
      " [[107   8]\n",
      " [ 22 113]]\n"
     ]
    }
   ],
   "source": [
    "cm = confusion_matrix(y_test, y_pred)\n",
    "print(\"Confusion Matrix:\\n\", cm)"
   ]
  },
  {
   "cell_type": "markdown",
   "id": "c11ff982",
   "metadata": {},
   "source": [
    "### 2.2. Calculating Accuracy, Precision, and Recall"
   ]
  },
  {
   "cell_type": "code",
   "execution_count": 5,
   "id": "8aaa8eb3",
   "metadata": {},
   "outputs": [
    {
     "name": "stdout",
     "output_type": "stream",
     "text": [
      "Accuracy: 0.88\n",
      "Precision: 0.9338842975206612\n",
      "Recall: 0.837037037037037\n"
     ]
    }
   ],
   "source": [
    "accuracy = accuracy_score(y_test, y_pred)\n",
    "precision = precision_score(y_test, y_pred)\n",
    "recall = recall_score(y_test, y_pred)\n",
    "print(\"Accuracy:\", accuracy)\n",
    "print(\"Precision:\", precision)\n",
    "print(\"Recall:\", recall)"
   ]
  },
  {
   "cell_type": "markdown",
   "id": "4f562bac",
   "metadata": {},
   "source": [
    "### 2.3. Plotting Precision-Recall Curve"
   ]
  },
  {
   "cell_type": "code",
   "execution_count": 6,
   "id": "e7124ca7",
   "metadata": {},
   "outputs": [
    {
     "data": {
      "image/png": "[encoded data removed]",
      "text/plain": [
       "<Figure size 640x480 with 1 Axes>"
      ]
     },
     "metadata": {},
     "output_type": "display_data"
    }
   ],
   "source": [
    "precision, recall, _ = precision_recall_curve(y_test, y_scores)\n",
    "plt.figure()\n",
    "plt.plot(recall, precision, marker='.')\n",
    "plt.xlabel('Recall')\n",
    "plt.ylabel('Precision')\n",
    "plt.title('Precision-Recall curve')\n",
    "plt.show()"
   ]
  },
  {
   "cell_type": "markdown",
   "id": "53d67cc3",
   "metadata": {},
   "source": [
    "### 2.4. Calculating F1 Score, F0.5, and F2 Scores"
   ]
  },
  {
   "cell_type": "code",
   "execution_count": 7,
   "id": "e6453548",
   "metadata": {},
   "outputs": [
    {
     "name": "stdout",
     "output_type": "stream",
     "text": [
      "F1 Score: 0.8828125\n",
      "F0.5 Score: 0.9127625201938611\n",
      "F2 Score: 0.8547655068078669\n"
     ]
    }
   ],
   "source": [
    "f1 = f1_score(y_test, y_pred)\n",
    "f0_5 = fbeta_score(y_test, y_pred, beta=0.5)\n",
    "f2 = fbeta_score(y_test, y_pred, beta=2)\n",
    "print(\"F1 Score:\", f1)\n",
    "print(\"F0.5 Score:\", f0_5)\n",
    "print(\"F2 Score:\", f2)"
   ]
  },
  {
   "cell_type": "markdown",
   "id": "e813bfcf",
   "metadata": {},
   "source": [
    "### 2.5. Calculating ROC AUC"
   ]
  },
  {
   "cell_type": "code",
   "execution_count": 8,
   "id": "bd8885d2",
   "metadata": {},
   "outputs": [
    {
     "name": "stdout",
     "output_type": "stream",
     "text": [
      "ROC AUC: 0.9337520128824477\n"
     ]
    }
   ],
   "source": [
    "roc_auc = roc_auc_score(y_test, y_scores)\n",
    "print(\"ROC AUC:\", roc_auc)"
   ]
  },
  {
   "cell_type": "markdown",
   "id": "14fec60c",
   "metadata": {},
   "source": [
    "### 2.6. Visualizing ROC Curve"
   ]
  },
  {
   "cell_type": "code",
   "execution_count": 9,
   "id": "ed1c1baf",
   "metadata": {},
   "outputs": [
    {
     "data": {
      "image/png": "[encoded data removed]",
      "text/plain": [
       "<Figure size 640x480 with 1 Axes>"
      ]
     },
     "metadata": {},
     "output_type": "display_data"
    }
   ],
   "source": [
    "fpr, tpr, thresholds = roc_curve(y_test, y_scores)\n",
    "plt.figure()\n",
    "plt.plot(fpr, tpr, label='ROC curve (area = %0.2f)' % roc_auc)\n",
    "plt.plot([0, 1], [0, 1], 'k--')\n",
    "plt.xlim([0.0, 1.0])\n",
    "plt.ylim([0.0, 1.05])\n",
    "plt.xlabel('False Positive Rate')\n",
    "plt.ylabel('True Positive Rate')\n",
    "plt.title('Receiver Operating Characteristic')\n",
    "plt.legend(loc=\"lower right\")\n",
    "plt.show()"
   ]
  },
  {
   "cell_type": "markdown",
   "id": "325ecb66",
   "metadata": {},
   "source": [
    "### 2.7. Calculating Logarithmic Loss"
   ]
  },
  {
   "cell_type": "code",
   "execution_count": 10,
   "id": "0d81d413",
   "metadata": {},
   "outputs": [
    {
     "name": "stdout",
     "output_type": "stream",
     "text": [
      "Logarithmic Loss: 0.33230804473299996\n"
     ]
    }
   ],
   "source": [
    "logloss = log_loss(y_test, y_scores)\n",
    "print(\"Logarithmic Loss:\", logloss)"
   ]
  },
  {
   "cell_type": "markdown",
   "id": "71be7d97",
   "metadata": {},
   "source": [
    "## 3. Model Evaluation for Multiclass Classifier\n",
    "\n",
    "Let's first generate a Hypothetical Dataset and split it into train and test sets."
   ]
  },
  {
   "cell_type": "code",
   "execution_count": 11,
   "id": "70e96a57",
   "metadata": {},
   "outputs": [],
   "source": [
    "X, y = make_classification(n_samples=1000, n_features=20, n_classes=3, random_state=42, n_clusters_per_class=1)\n",
    "X_train, X_test, y_train, y_test = train_test_split(X, y, test_size=0.25, random_state=42)"
   ]
  },
  {
   "cell_type": "markdown",
   "id": "fe11d540",
   "metadata": {},
   "source": [
    "Let's now train a binary classifier using Random Forest."
   ]
  },
  {
   "cell_type": "code",
   "execution_count": 12,
   "id": "833acb97",
   "metadata": {},
   "outputs": [],
   "source": [
    "model = RandomForestClassifier(random_state=42)\n",
    "model.fit(X_train, y_train)\n",
    "y_pred = model.predict(X_test)\n",
    "y_scores = model.predict_proba(X_test)  # Scores for each class"
   ]
  },
  {
   "cell_type": "markdown",
   "id": "68745056",
   "metadata": {},
   "source": [
    "After that, we can proceed with model evaluation.\n",
    "\n",
    "### 3.1. Confusion Matrix"
   ]
  },
  {
   "cell_type": "code",
   "execution_count": 13,
   "id": "0472d6ff",
   "metadata": {},
   "outputs": [
    {
     "name": "stdout",
     "output_type": "stream",
     "text": [
      "Confusion Matrix:\n",
      " [[73  5  8]\n",
      " [ 8 67  1]\n",
      " [ 3  0 85]]\n"
     ]
    }
   ],
   "source": [
    "cm = confusion_matrix(y_test, y_pred)\n",
    "print(\"Confusion Matrix:\\n\", cm)"
   ]
  },
  {
   "cell_type": "markdown",
   "id": "7fbaf955",
   "metadata": {},
   "source": [
    "### 3.2. Calculating Accuracy"
   ]
  },
  {
   "cell_type": "code",
   "execution_count": 14,
   "id": "1e0d4a79",
   "metadata": {},
   "outputs": [
    {
     "name": "stdout",
     "output_type": "stream",
     "text": [
      "Accuracy: 0.9\n"
     ]
    }
   ],
   "source": [
    "accuracy = accuracy_score(y_test, y_pred)\n",
    "print(\"Accuracy:\", accuracy)"
   ]
  },
  {
   "cell_type": "markdown",
   "id": "74ec7051",
   "metadata": {},
   "source": [
    "### 3.3. Calculating Precision, Recall, and F1 Score (Macro and Micro)"
   ]
  },
  {
   "cell_type": "code",
   "execution_count": 15,
   "id": "a9190c91",
   "metadata": {},
   "outputs": [
    {
     "name": "stdout",
     "output_type": "stream",
     "text": [
      "Precision Macro: 0.9012861645840369\n",
      "Precision Micro: 0.9\n",
      "Recall Macro: 0.8987750825266124\n",
      "Recall Micro: 0.9\n",
      "F1 Score Macro: 0.8994316229610347\n",
      "F1 Score Micro: 0.9\n"
     ]
    }
   ],
   "source": [
    "precision_macro = precision_score(y_test, y_pred, average='macro')\n",
    "precision_micro = precision_score(y_test, y_pred, average='micro')\n",
    "recall_macro = recall_score(y_test, y_pred, average='macro')\n",
    "recall_micro = recall_score(y_test, y_pred, average='micro')\n",
    "f1_macro = f1_score(y_test, y_pred, average='macro')\n",
    "f1_micro = f1_score(y_test, y_pred, average='micro')\n",
    "\n",
    "print(\"Precision Macro:\", precision_macro)\n",
    "print(\"Precision Micro:\", precision_micro)\n",
    "print(\"Recall Macro:\", recall_macro)\n",
    "print(\"Recall Micro:\", recall_micro)\n",
    "print(\"F1 Score Macro:\", f1_macro)\n",
    "print(\"F1 Score Micro:\", f1_micro)"
   ]
  },
  {
   "cell_type": "markdown",
   "id": "4a3163af",
   "metadata": {},
   "source": [
    "### 3.4. Calculating ROC AUC for Multiclass\n",
    "\n",
    "One-versus-rest approach is often used for multiclass ROC AUC calculations."
   ]
  },
  {
   "cell_type": "code",
   "execution_count": 16,
   "id": "225cdcf4",
   "metadata": {},
   "outputs": [
    {
     "name": "stdout",
     "output_type": "stream",
     "text": [
      "ROC AUC (One-vs-Rest): 0.9787848549290001\n"
     ]
    }
   ],
   "source": [
    "roc_auc = roc_auc_score(y_test, y_scores, multi_class='ovr')\n",
    "print(\"ROC AUC (One-vs-Rest):\", roc_auc)"
   ]
  },
  {
   "cell_type": "markdown",
   "id": "18255dab",
   "metadata": {},
   "source": [
    "### 3.5. Visualizing Precision-Recall Curve (for each class)"
   ]
  },
  {
   "cell_type": "code",
   "execution_count": 17,
   "id": "c1c746c5",
   "metadata": {},
   "outputs": [
    {
     "data": {
      "image/png": "[encoded data removed]",
      "text/plain": [
       "<Figure size 640x480 with 1 Axes>"
      ]
     },
     "metadata": {},
     "output_type": "display_data"
    }
   ],
   "source": [
    "plt.figure()\n",
    "colors = ['blue', 'green', 'red']\n",
    "for i, color in enumerate(colors):\n",
    "    precision, recall, _ = precision_recall_curve(y_test == i, y_scores[:, i])\n",
    "    plt.plot(recall, precision, color=color, label=f'Class {i}')\n",
    "\n",
    "plt.xlabel('Recall')\n",
    "plt.ylabel('Precision')\n",
    "plt.title('Precision-Recall curve by class')\n",
    "plt.legend(loc=\"best\")\n",
    "plt.show()"
   ]
  },
  {
   "cell_type": "markdown",
   "id": "7601fbd4",
   "metadata": {},
   "source": [
    "### 3.6 Calculating Logarithmic Loss"
   ]
  },
  {
   "cell_type": "code",
   "execution_count": 18,
   "id": "e26d2000",
   "metadata": {},
   "outputs": [
    {
     "name": "stdout",
     "output_type": "stream",
     "text": [
      "Logarithmic Loss: 0.28576347304315963\n"
     ]
    }
   ],
   "source": [
    "logloss = log_loss(y_test, y_scores)\n",
    "print(\"Logarithmic Loss:\", logloss)"
   ]
  }
 ],
 "metadata": {
  "jupytext": {
   "formats": "md:myst",
   "text_representation": {
    "extension": ".md",
    "format_name": "myst"
   }
  },
  "kernelspec": {
   "display_name": "Python 3",
   "language": "python",
   "name": "python3"
  },
  "language_info": {
   "codemirror_mode": {
    "name": "ipython",
    "version": 3
   },
   "file_extension": ".py",
   "mimetype": "text/x-python",
   "name": "python",
   "nbconvert_exporter": "python",
   "pygments_lexer": "ipython3",
   "version": "3.10.7"
  },
  "source_map": [
   11,
   32,
   41,
   48,
   52,
   57,
   62,
   69,
   72,
   77,
   84,
   89,
   97,
   102,
   109,
   114,
   117,
   122,
   134,
   139,
   142,
   149,
   152,
   157,
   162,
   169,
   172,
   177,
   180,
   185,
   199,
   206,
   209,
   214,
   226,
   231
  ]
 },
 "nbformat": 4,
 "nbformat_minor": 5
}