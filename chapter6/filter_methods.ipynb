{
 "cells": [
  {
   "cell_type": "markdown",
   "id": "a393c0ed",
   "metadata": {},
   "source": [
    "(chapter6_part1)=\n",
    "\n",
    "# Filter Methods\n",
    "\n",
    "- This is a supplement material for the [Machine Learning Simplified](https://themlsbook.com) book. It sheds light on Python implementations of the topics discussed while all detailed explanations can be found in the book. \n",
    "- I also assume you know Python syntax and how it works. If you don't, I highly recommend you to take a break and get introduced to the language before going forward with my code. \n",
    "- This material can be downloaded as a Jupyter notebook (Download button in the upper-right corner -> `.ipynb`) to reproduce the code and play around with it. \n",
    "\n",
    "\n",
    "This notebook is a supplement for *Chapter 3. Dimensionality Reduction Techniques* of **Machine Learning For Everyone** book.\n",
    "\n",
    "## 1. Required Libraries, Data & Variables\n",
    "\n",
    "Let's import the data and have a look at it:"
   ]
  },
  {
   "cell_type": "code",
   "execution_count": 1,
   "id": "03afc972",
   "metadata": {},
   "outputs": [],
   "source": [
    "import pandas as pd\n",
    "\n",
    "data = pd.read_csv('https://github.com/5x12/themlsbook/raw/master/supplements/data/car_price.csv', delimiter=',', header=0)"
   ]
  },
  {
   "cell_type": "code",
   "execution_count": 2,
   "id": "4e84add4",
   "metadata": {},
   "outputs": [
    {
     "data": {
      "text/html": [
       "<div>\n",
       "<style scoped>\n",
       "    .dataframe tbody tr th:only-of-type {\n",
       "        vertical-align: middle;\n",
       "    }\n",
       "\n",
       "    .dataframe tbody tr th {\n",
       "        vertical-align: top;\n",
       "    }\n",
       "\n",
       "    .dataframe thead th {\n",
       "        text-align: right;\n",
       "    }\n",
       "</style>\n",
       "<table border=\"1\" class=\"dataframe\">\n",
       "  <thead>\n",
       "    <tr style=\"text-align: right;\">\n",
       "      <th></th>\n",
       "      <th>car_ID</th>\n",
       "      <th>symboling</th>\n",
       "      <th>CarName</th>\n",
       "      <th>fueltype</th>\n",
       "      <th>aspiration</th>\n",
       "      <th>doornumber</th>\n",
       "      <th>carbody</th>\n",
       "      <th>drivewheel</th>\n",
       "      <th>enginelocation</th>\n",
       "      <th>wheelbase</th>\n",
       "      <th>...</th>\n",
       "      <th>enginesize</th>\n",
       "      <th>fuelsystem</th>\n",
       "      <th>boreratio</th>\n",
       "      <th>stroke</th>\n",
       "      <th>compressionratio</th>\n",
       "      <th>horsepower</th>\n",
       "      <th>peakrpm</th>\n",
       "      <th>citympg</th>\n",
       "      <th>highwaympg</th>\n",
       "      <th>price</th>\n",
       "    </tr>\n",
       "  </thead>\n",
       "  <tbody>\n",
       "    <tr>\n",
       "      <th>0</th>\n",
       "      <td>1</td>\n",
       "      <td>3</td>\n",
       "      <td>alfa-romero giulia</td>\n",
       "      <td>gas</td>\n",
       "      <td>std</td>\n",
       "      <td>two</td>\n",
       "      <td>convertible</td>\n",
       "      <td>rwd</td>\n",
       "      <td>front</td>\n",
       "      <td>88.6</td>\n",
       "      <td>...</td>\n",
       "      <td>130</td>\n",
       "      <td>mpfi</td>\n",
       "      <td>3.47</td>\n",
       "      <td>2.68</td>\n",
       "      <td>9.0</td>\n",
       "      <td>111</td>\n",
       "      <td>5000</td>\n",
       "      <td>21</td>\n",
       "      <td>27</td>\n",
       "      <td>13495.0</td>\n",
       "    </tr>\n",
       "    <tr>\n",
       "      <th>1</th>\n",
       "      <td>2</td>\n",
       "      <td>3</td>\n",
       "      <td>alfa-romero stelvio</td>\n",
       "      <td>gas</td>\n",
       "      <td>std</td>\n",
       "      <td>two</td>\n",
       "      <td>convertible</td>\n",
       "      <td>rwd</td>\n",
       "      <td>front</td>\n",
       "      <td>88.6</td>\n",
       "      <td>...</td>\n",
       "      <td>130</td>\n",
       "      <td>mpfi</td>\n",
       "      <td>3.47</td>\n",
       "      <td>2.68</td>\n",
       "      <td>9.0</td>\n",
       "      <td>111</td>\n",
       "      <td>5000</td>\n",
       "      <td>21</td>\n",
       "      <td>27</td>\n",
       "      <td>16500.0</td>\n",
       "    </tr>\n",
       "    <tr>\n",
       "      <th>2</th>\n",
       "      <td>3</td>\n",
       "      <td>1</td>\n",
       "      <td>alfa-romero Quadrifoglio</td>\n",
       "      <td>gas</td>\n",
       "      <td>std</td>\n",
       "      <td>two</td>\n",
       "      <td>hatchback</td>\n",
       "      <td>rwd</td>\n",
       "      <td>front</td>\n",
       "      <td>94.5</td>\n",
       "      <td>...</td>\n",
       "      <td>152</td>\n",
       "      <td>mpfi</td>\n",
       "      <td>2.68</td>\n",
       "      <td>3.47</td>\n",
       "      <td>9.0</td>\n",
       "      <td>154</td>\n",
       "      <td>5000</td>\n",
       "      <td>19</td>\n",
       "      <td>26</td>\n",
       "      <td>16500.0</td>\n",
       "    </tr>\n",
       "    <tr>\n",
       "      <th>3</th>\n",
       "      <td>4</td>\n",
       "      <td>2</td>\n",
       "      <td>audi 100 ls</td>\n",
       "      <td>gas</td>\n",
       "      <td>std</td>\n",
       "      <td>four</td>\n",
       "      <td>sedan</td>\n",
       "      <td>fwd</td>\n",
       "      <td>front</td>\n",
       "      <td>99.8</td>\n",
       "      <td>...</td>\n",
       "      <td>109</td>\n",
       "      <td>mpfi</td>\n",
       "      <td>3.19</td>\n",
       "      <td>3.40</td>\n",
       "      <td>10.0</td>\n",
       "      <td>102</td>\n",
       "      <td>5500</td>\n",
       "      <td>24</td>\n",
       "      <td>30</td>\n",
       "      <td>13950.0</td>\n",
       "    </tr>\n",
       "    <tr>\n",
       "      <th>4</th>\n",
       "      <td>5</td>\n",
       "      <td>2</td>\n",
       "      <td>audi 100ls</td>\n",
       "      <td>gas</td>\n",
       "      <td>std</td>\n",
       "      <td>four</td>\n",
       "      <td>sedan</td>\n",
       "      <td>4wd</td>\n",
       "      <td>front</td>\n",
       "      <td>99.4</td>\n",
       "      <td>...</td>\n",
       "      <td>136</td>\n",
       "      <td>mpfi</td>\n",
       "      <td>3.19</td>\n",
       "      <td>3.40</td>\n",
       "      <td>8.0</td>\n",
       "      <td>115</td>\n",
       "      <td>5500</td>\n",
       "      <td>18</td>\n",
       "      <td>22</td>\n",
       "      <td>17450.0</td>\n",
       "    </tr>\n",
       "  </tbody>\n",
       "</table>\n",
       "<p>5 rows × 26 columns</p>\n",
       "</div>"
      ],
      "text/plain": [
       "   car_ID  symboling                   CarName fueltype aspiration doornumber  \\\n",
       "0       1          3        alfa-romero giulia      gas        std        two   \n",
       "1       2          3       alfa-romero stelvio      gas        std        two   \n",
       "2       3          1  alfa-romero Quadrifoglio      gas        std        two   \n",
       "3       4          2               audi 100 ls      gas        std       four   \n",
       "4       5          2                audi 100ls      gas        std       four   \n",
       "\n",
       "       carbody drivewheel enginelocation  wheelbase  ...  enginesize  \\\n",
       "0  convertible        rwd          front       88.6  ...         130   \n",
       "1  convertible        rwd          front       88.6  ...         130   \n",
       "2    hatchback        rwd          front       94.5  ...         152   \n",
       "3        sedan        fwd          front       99.8  ...         109   \n",
       "4        sedan        4wd          front       99.4  ...         136   \n",
       "\n",
       "   fuelsystem  boreratio  stroke compressionratio horsepower  peakrpm citympg  \\\n",
       "0        mpfi       3.47    2.68              9.0        111     5000      21   \n",
       "1        mpfi       3.47    2.68              9.0        111     5000      21   \n",
       "2        mpfi       2.68    3.47              9.0        154     5000      19   \n",
       "3        mpfi       3.19    3.40             10.0        102     5500      24   \n",
       "4        mpfi       3.19    3.40              8.0        115     5500      18   \n",
       "\n",
       "   highwaympg    price  \n",
       "0          27  13495.0  \n",
       "1          27  16500.0  \n",
       "2          26  16500.0  \n",
       "3          30  13950.0  \n",
       "4          22  17450.0  \n",
       "\n",
       "[5 rows x 26 columns]"
      ]
     },
     "execution_count": 2,
     "metadata": {},
     "output_type": "execute_result"
    }
   ],
   "source": [
    "data.head()"
   ]
  },
  {
   "cell_type": "code",
   "execution_count": 3,
   "id": "65ab5dfa",
   "metadata": {},
   "outputs": [
    {
     "data": {
      "text/plain": [
       "Index(['car_ID', 'symboling', 'CarName', 'fueltype', 'aspiration',\n",
       "       'doornumber', 'carbody', 'drivewheel', 'enginelocation', 'wheelbase',\n",
       "       'carlength', 'carwidth', 'carheight', 'curbweight', 'enginetype',\n",
       "       'cylindernumber', 'enginesize', 'fuelsystem', 'boreratio', 'stroke',\n",
       "       'compressionratio', 'horsepower', 'peakrpm', 'citympg', 'highwaympg',\n",
       "       'price'],\n",
       "      dtype='object')"
      ]
     },
     "execution_count": 3,
     "metadata": {},
     "output_type": "execute_result"
    }
   ],
   "source": [
    "data.columns"
   ]
  },
  {
   "cell_type": "markdown",
   "id": "97b00f98",
   "metadata": {},
   "source": [
    "Let's define features $X$ and a target variable $y$:"
   ]
  },
  {
   "cell_type": "code",
   "execution_count": 4,
   "id": "93d5e04e",
   "metadata": {},
   "outputs": [],
   "source": [
    "data['price']=data['price'].astype('int')\n",
    "\n",
    "X = data[['wheelbase', \n",
    "          'carlength', \n",
    "          'carwidth', \n",
    "          'carheight', \n",
    "          'curbweight', \n",
    "          'enginesize', \n",
    "          'boreratio', \n",
    "          'stroke',\n",
    "          'compressionratio', \n",
    "          'horsepower', \n",
    "          'peakrpm', \n",
    "          'citympg', \n",
    "          'highwaympg']]\n",
    "\n",
    "y = data['price']\n"
   ]
  },
  {
   "cell_type": "markdown",
   "id": "1f70e2e3",
   "metadata": {},
   "source": [
    "Let's split the data:"
   ]
  },
  {
   "cell_type": "code",
   "execution_count": 5,
   "id": "bd2cae4b",
   "metadata": {},
   "outputs": [],
   "source": [
    "from sklearn.model_selection import train_test_split\n",
    "X_train, X_test, y_train, y_test = train_test_split(X, y, test_size=0.3, random_state=1)"
   ]
  },
  {
   "cell_type": "markdown",
   "id": "858b919b",
   "metadata": {},
   "source": [
    "## 2. Filter methods\n",
    "\n",
    "The following Filter methods are examined:\n",
    "\n",
    "   1. **Chi Square** method\n",
    "   2. **Fisher Score** method\n",
    "   3. **RelieF** method\n",
    "   4. **Correlation-based** Feature Selection method\n",
    "\n",
    "### 2.1. Chi-square"
   ]
  },
  {
   "cell_type": "code",
   "execution_count": 6,
   "id": "196d95b6",
   "metadata": {},
   "outputs": [],
   "source": [
    "# Importing required libraries\n",
    "from sklearn.feature_selection import chi2"
   ]
  },
  {
   "cell_type": "code",
   "execution_count": 7,
   "id": "c6fe442a",
   "metadata": {},
   "outputs": [],
   "source": [
    "# Set and fit Chi-square feature selection\n",
    "chi = chi2(X_train, y_train)"
   ]
  },
  {
   "cell_type": "code",
   "execution_count": 8,
   "id": "33232b65",
   "metadata": {},
   "outputs": [
    {
     "data": {
      "text/plain": [
       "(array([5.08315044e+01, 1.11205757e+02, 1.00159576e+01, 1.66003574e+01,\n",
       "        1.42430375e+04, 1.87890909e+03, 3.04460495e+00, 4.27081156e+00,\n",
       "        2.02528346e+02, 2.31340296e+03, 5.77758862e+03, 2.34366122e+02,\n",
       "        2.09407540e+02]),\n",
       " array([1.00000000e+000, 9.33440717e-001, 1.00000000e+000, 1.00000000e+000,\n",
       "        0.00000000e+000, 1.20242844e-304, 1.00000000e+000, 1.00000000e+000,\n",
       "        1.51419631e-004, 0.00000000e+000, 0.00000000e+000, 2.47290251e-007,\n",
       "        4.24387135e-005]))"
      ]
     },
     "execution_count": 8,
     "metadata": {},
     "output_type": "execute_result"
    }
   ],
   "source": [
    "chi"
   ]
  },
  {
   "cell_type": "code",
   "execution_count": 9,
   "id": "e8cf24ef",
   "metadata": {},
   "outputs": [],
   "source": [
    "# Create a list with feature label and its p-value\n",
    "chi_features = pd.Series(chi[1], index = X_train.columns) # create a series with feature labels and their corresponding p-values\n",
    "chi_features.sort_values(ascending = True, inplace = True) # sort series by p-values"
   ]
  },
  {
   "cell_type": "code",
   "execution_count": 10,
   "id": "e197c858",
   "metadata": {},
   "outputs": [
    {
     "data": {
      "text/plain": [
       "curbweight           0.000000e+00\n",
       "horsepower           0.000000e+00\n",
       "peakrpm              0.000000e+00\n",
       "enginesize          1.202428e-304\n",
       "citympg              2.472903e-07\n",
       "highwaympg           4.243871e-05\n",
       "compressionratio     1.514196e-04\n",
       "carlength            9.334407e-01\n",
       "wheelbase            1.000000e+00\n",
       "carwidth             1.000000e+00\n",
       "carheight            1.000000e+00\n",
       "boreratio            1.000000e+00\n",
       "stroke               1.000000e+00\n",
       "dtype: float64"
      ]
     },
     "execution_count": 10,
     "metadata": {},
     "output_type": "execute_result"
    }
   ],
   "source": [
    "# Return features with p-values\n",
    "chi_features"
   ]
  },
  {
   "cell_type": "code",
   "execution_count": 11,
   "id": "e1979e42",
   "metadata": {},
   "outputs": [
    {
     "data": {
      "text/plain": [
       "curbweight     0.000000e+00\n",
       "horsepower     0.000000e+00\n",
       "peakrpm        0.000000e+00\n",
       "enginesize    1.202428e-304\n",
       "dtype: float64"
      ]
     },
     "execution_count": 11,
     "metadata": {},
     "output_type": "execute_result"
    }
   ],
   "source": [
    "# Print 4 best features\n",
    "chi_features[:4]"
   ]
  },
  {
   "cell_type": "code",
   "execution_count": 12,
   "id": "9ced93e7",
   "metadata": {},
   "outputs": [
    {
     "name": "stdout",
     "output_type": "stream",
     "text": [
      "curbweight \t 0.0\n",
      "enginesize \t 1.2024284431006599e-304\n",
      "compressionratio \t 0.00015141963086236825\n",
      "horsepower \t 0.0\n",
      "peakrpm \t 0.0\n",
      "citympg \t 2.4729025138749586e-07\n",
      "highwaympg \t 4.243871349461334e-05\n"
     ]
    }
   ],
   "source": [
    "# Print features whose p-value < 0.05\n",
    "for feature_name, feature_score in zip(X.columns,chi[1]):\n",
    "    if feature_score<0.05:\n",
    "        print(feature_name, '\\t', feature_score)"
   ]
  },
  {
   "cell_type": "markdown",
   "id": "b2816854",
   "metadata": {},
   "source": [
    "### 2.2. Fisher Score"
   ]
  },
  {
   "cell_type": "code",
   "execution_count": 13,
   "id": "2f4f3383",
   "metadata": {},
   "outputs": [],
   "source": [
    "# Importing required libraries\n",
    "from skfeature.function.similarity_based import fisher_score"
   ]
  },
  {
   "cell_type": "code",
   "execution_count": 14,
   "id": "48483d3f",
   "metadata": {},
   "outputs": [
    {
     "data": {
      "text/plain": [
       "array([ 0,  8,  7, 10, 12,  3,  1,  2, 11,  5,  9,  6,  4])"
      ]
     },
     "execution_count": 14,
     "metadata": {},
     "output_type": "execute_result"
    }
   ],
   "source": [
    "# Set Fisher Score\n",
    "score = fisher_score.fisher_score(X_train.values, y_train.values)\n",
    "score"
   ]
  },
  {
   "cell_type": "code",
   "execution_count": 15,
   "id": "8b990c78",
   "metadata": {},
   "outputs": [],
   "source": [
    "# Create a list with feature label and its p-value\n",
    "f_values = pd.Series(score, index = X_train.columns) # create a series with feature labels and their corresponding fisher scores\n",
    "f_values.sort_values(ascending = True, inplace = True) # sort series by fisher score"
   ]
  },
  {
   "cell_type": "code",
   "execution_count": 16,
   "id": "0d5b08b6",
   "metadata": {},
   "outputs": [
    {
     "data": {
      "text/plain": [
       "wheelbase            0\n",
       "boreratio            1\n",
       "stroke               2\n",
       "enginesize           3\n",
       "highwaympg           4\n",
       "horsepower           5\n",
       "citympg              6\n",
       "carwidth             7\n",
       "carlength            8\n",
       "peakrpm              9\n",
       "carheight           10\n",
       "compressionratio    11\n",
       "curbweight          12\n",
       "dtype: int64"
      ]
     },
     "execution_count": 16,
     "metadata": {},
     "output_type": "execute_result"
    }
   ],
   "source": [
    "f_values"
   ]
  },
  {
   "cell_type": "markdown",
   "id": "ddc7f0af",
   "metadata": {},
   "source": [
    "### 2.3. RelieF"
   ]
  },
  {
   "cell_type": "code",
   "execution_count": 17,
   "id": "b590cb4e",
   "metadata": {},
   "outputs": [],
   "source": [
    "# Importing required libraries\n",
    "# ! pip install ReliefF\n",
    "from ReliefF import ReliefF"
   ]
  },
  {
   "cell_type": "code",
   "execution_count": 18,
   "id": "2c9aa01b",
   "metadata": {},
   "outputs": [
    {
     "data": {
      "text/plain": [
       "peakrpm            -105.0\n",
       "boreratio           -21.0\n",
       "stroke              -15.0\n",
       "enginesize          -13.0\n",
       "compressionratio     -9.0\n",
       "horsepower           -5.0\n",
       "wheelbase             3.0\n",
       "carwidth              9.0\n",
       "highwaympg           13.0\n",
       "citympg              17.0\n",
       "carlength            19.0\n",
       "carheight            29.0\n",
       "curbweight          109.0\n",
       "dtype: float64"
      ]
     },
     "execution_count": 18,
     "metadata": {},
     "output_type": "execute_result"
    }
   ],
   "source": [
    "# Set ReliefF method\n",
    "fs = ReliefF(n_neighbors=1, n_features_to_keep=4)\n",
    "\n",
    "# Perform ReliefF by fitting X and y values\n",
    "fs.fit_transform(X_train.values, y_train.values)\n",
    "\n",
    "# Make a ranking list with feature scores\n",
    "relief_values = pd.Series(fs.feature_scores, index = X_train.columns) # create a series with feature labels and their corresponding ReliefF scores\n",
    "relief_values.sort_values(ascending = True, inplace = True) # sort series by ReliefF score\n",
    "relief_values\n"
   ]
  },
  {
   "cell_type": "markdown",
   "id": "9e4e8770",
   "metadata": {},
   "source": [
    "When using original Relief or ReliefF, it has been suggested that features yielding a negative value score, can be confidently filtered out. Now, feature $horsepower$ is negative, which implies it is redundant. With some commonsense knowledge, we know the horsepower is one of the strongest parameters affecting the price of a car. That's why you should be careful when applying this feature selection technique. The best way out is to try out several feature selection methods to see the general pattern."
   ]
  },
  {
   "cell_type": "code",
   "execution_count": 19,
   "id": "8f75f802",
   "metadata": {},
   "outputs": [
    {
     "name": "stdout",
     "output_type": "stream",
     "text": [
      "carlength \t 19.0\n",
      "carheight \t 29.0\n",
      "curbweight \t 109.0\n",
      "citympg \t 17.0\n"
     ]
    }
   ],
   "source": [
    "# Print a ranking list with top 5 features\n",
    "relief_features = []\n",
    "for feature_name, feature_score in zip(X.columns,fs.feature_scores):\n",
    "    if feature_score>15:\n",
    "        relief_features.append(feature_name)\n",
    "        print(feature_name, '\\t', feature_score)"
   ]
  },
  {
   "cell_type": "code",
   "execution_count": 20,
   "id": "d21806c6",
   "metadata": {},
   "outputs": [
    {
     "data": {
      "text/plain": [
       "['carlength', 'carheight', 'curbweight', 'citympg']"
      ]
     },
     "execution_count": 20,
     "metadata": {},
     "output_type": "execute_result"
    }
   ],
   "source": [
    "# Selected features that satisfy criteria\n",
    "relief_features"
   ]
  },
  {
   "cell_type": "markdown",
   "id": "a9c30b73",
   "metadata": {},
   "source": [
    "### 2.4. Correlation-based Feature Selection"
   ]
  },
  {
   "cell_type": "code",
   "execution_count": 21,
   "id": "3765cf2b",
   "metadata": {},
   "outputs": [
    {
     "data": {
      "text/plain": [
       "curbweight    0.835305\n",
       "enginesize    0.874145\n",
       "horsepower    0.808138\n",
       "Name: price, dtype: float64"
      ]
     },
     "execution_count": 21,
     "metadata": {},
     "output_type": "execute_result"
    }
   ],
   "source": [
    "#Correlation with output variable\n",
    "cor = data[['wheelbase', \n",
    "          'carlength', \n",
    "          'carwidth', \n",
    "          'carheight', \n",
    "          'curbweight', \n",
    "          'enginesize', \n",
    "          'boreratio', \n",
    "          'stroke',\n",
    "          'compressionratio', \n",
    "          'horsepower', \n",
    "          'peakrpm', \n",
    "          'citympg', \n",
    "          'highwaympg',\n",
    "          'price']].corr()\n",
    "cor_target = abs(cor['price'])\n",
    "\n",
    "#Selecting highly correlated features > 0.8\n",
    "relevant_features = cor_target[:-1][cor_target>0.8]\n",
    "relevant_features"
   ]
  },
  {
   "cell_type": "markdown",
   "id": "aabb4358",
   "metadata": {},
   "source": [
    "## 3. Comparing Four Methods"
   ]
  },
  {
   "cell_type": "code",
   "execution_count": 22,
   "id": "97f9a4b3",
   "metadata": {},
   "outputs": [
    {
     "name": "stdout",
     "output_type": "stream",
     "text": [
      "The features selected by chi-square are: \n",
      " \n",
      " curbweight           0.000000e+00\n",
      "horsepower           0.000000e+00\n",
      "peakrpm              0.000000e+00\n",
      "enginesize          1.202428e-304\n",
      "citympg              2.472903e-07\n",
      "highwaympg           4.243871e-05\n",
      "compressionratio     1.514196e-04\n",
      "carlength            9.334407e-01\n",
      "wheelbase            1.000000e+00\n",
      "carwidth             1.000000e+00\n",
      "carheight            1.000000e+00\n",
      "boreratio            1.000000e+00\n",
      "stroke               1.000000e+00\n",
      "dtype: float64 \n",
      " \n",
      " \n",
      " The features selected by f_values are: \n",
      " \n",
      " wheelbase            0\n",
      "boreratio            1\n",
      "stroke               2\n",
      "enginesize           3\n",
      "highwaympg           4\n",
      "horsepower           5\n",
      "citympg              6\n",
      "carwidth             7\n",
      "carlength            8\n",
      "peakrpm              9\n",
      "carheight           10\n",
      "compressionratio    11\n",
      "curbweight          12\n",
      "dtype: int64 \n",
      " \n",
      " \n",
      " The features selected by ReliefF are: \n",
      " \n",
      " ['carlength', 'carheight', 'curbweight', 'citympg'] \n",
      " \n",
      " \n",
      " The features selected by Correlation-based feature selection method are: \n",
      " \n",
      " curbweight    0.835305\n",
      "enginesize    0.874145\n",
      "horsepower    0.808138\n",
      "Name: price, dtype: float64\n"
     ]
    }
   ],
   "source": [
    "print('The features selected by chi-square are: \\n \\n {} \\n \\n \\n The features selected by f_values are: \\n \\n {} \\n \\n \\n The features selected by ReliefF are: \\n \\n {} \\n \\n \\n The features selected by Correlation-based feature selection method are: \\n \\n {}'.format(chi_features, f_values, relief_features, relevant_features))"
   ]
  }
 ],
 "metadata": {
  "jupytext": {
   "formats": "md:myst",
   "text_representation": {
    "extension": ".md",
    "format_name": "myst"
   }
  },
  "kernelspec": {
   "display_name": "Python 3",
   "language": "python",
   "name": "python3"
  },
  "language_info": {
   "codemirror_mode": {
    "name": "ipython",
    "version": 3
   },
   "file_extension": ".py",
   "mimetype": "text/x-python",
   "name": "python",
   "nbconvert_exporter": "python",
   "pygments_lexer": "ipython3",
   "version": "3.10.7"
  },
  "source_map": [
   11,
   29,
   36,
   41,
   43,
   48,
   67,
   72,
   75,
   89,
   95,
   101,
   106,
   113,
   119,
   125,
   130,
   135,
   141,
   148,
   155,
   157,
   162,
   169,
   181,
   186,
   196,
   199,
   204,
   225,
   230
  ]
 },
 "nbformat": 4,
 "nbformat_minor": 5
}