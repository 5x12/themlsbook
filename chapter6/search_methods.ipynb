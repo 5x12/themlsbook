{
 "cells": [
  {
   "cell_type": "markdown",
   "id": "ee8180d7",
   "metadata": {},
   "source": [
    "(chapter6_part2)=\n",
    "\n",
    "# Search Methods\n",
    "\n",
    "- This is a supplement material for the [Machine Learning Simplified](https://themlsbook.com) book. It sheds light on Python implementations of the topics discussed while all detailed explanations can be found in the book. \n",
    "- I also assume you know Python syntax and how it works. If you don't, I highly recommend you to take a break and get introduced to the language before going forward with my code. \n",
    "- This material can be downloaded as a Jupyter notebook (Download button in the upper-right corner -> `.ipynb`) to reproduce the code and play around with it. \n",
    "\n",
    "\n",
    "## 1. Required Libraries, Data & Variables\n",
    "\n",
    "Let's import the data and have a look at it:"
   ]
  },
  {
   "cell_type": "code",
   "execution_count": 1,
   "id": "bb86a814",
   "metadata": {},
   "outputs": [
    {
     "ename": "NameError",
     "evalue": "name 'warnings' is not defined",
     "output_type": "error",
     "traceback": [
      "\u001b[0;31m---------------------------------------------------------------------------\u001b[0m",
      "\u001b[0;31mNameError\u001b[0m                                 Traceback (most recent call last)",
      "Cell \u001b[0;32mIn [1], line 2\u001b[0m\n\u001b[1;32m      1\u001b[0m \u001b[38;5;28;01mimport\u001b[39;00m \u001b[38;5;21;01mpandas\u001b[39;00m \u001b[38;5;28;01mas\u001b[39;00m \u001b[38;5;21;01mpd\u001b[39;00m\n\u001b[0;32m----> 2\u001b[0m \u001b[43mwarnings\u001b[49m\u001b[38;5;241m.\u001b[39mfilterwarnings(\u001b[38;5;124m'\u001b[39m\u001b[38;5;124mignore\u001b[39m\u001b[38;5;124m'\u001b[39m) \u001b[38;5;66;03m# ignoring all warnings\u001b[39;00m\n\u001b[1;32m      4\u001b[0m data \u001b[38;5;241m=\u001b[39m pd\u001b[38;5;241m.\u001b[39mread_csv(\u001b[38;5;124m'\u001b[39m\u001b[38;5;124mhttps://github.com/5x12/themlsbook/raw/master/supplements/data/car_price.csv\u001b[39m\u001b[38;5;124m'\u001b[39m, delimiter\u001b[38;5;241m=\u001b[39m\u001b[38;5;124m'\u001b[39m\u001b[38;5;124m,\u001b[39m\u001b[38;5;124m'\u001b[39m, header\u001b[38;5;241m=\u001b[39m\u001b[38;5;241m0\u001b[39m)\n",
      "\u001b[0;31mNameError\u001b[0m: name 'warnings' is not defined"
     ]
    }
   ],
   "source": [
    "import pandas as pd\n",
    "warnings.filterwarnings('ignore') # ignoring all warnings\n",
    "\n",
    "data = pd.read_csv('https://github.com/5x12/themlsbook/raw/master/supplements/data/car_price.csv', delimiter=',', header=0)"
   ]
  },
  {
   "cell_type": "code",
   "execution_count": null,
   "id": "6ce99b05",
   "metadata": {},
   "outputs": [],
   "source": [
    "data.head()"
   ]
  },
  {
   "cell_type": "code",
   "execution_count": null,
   "id": "29c395b1",
   "metadata": {},
   "outputs": [],
   "source": [
    "data.columns"
   ]
  },
  {
   "cell_type": "markdown",
   "id": "b3453123",
   "metadata": {},
   "source": [
    "Let's define features $X$ and a target variable $y$:"
   ]
  },
  {
   "cell_type": "code",
   "execution_count": null,
   "id": "c020b84d",
   "metadata": {},
   "outputs": [],
   "source": [
    "data['price']=data['price'].astype('int')\n",
    "\n",
    "X = data[['wheelbase', \n",
    "          'carlength', \n",
    "          'carwidth', \n",
    "          'carheight', \n",
    "          'curbweight', \n",
    "          'enginesize', \n",
    "          'boreratio', \n",
    "          'stroke',\n",
    "          'compressionratio', \n",
    "          'horsepower', \n",
    "          'peakrpm', \n",
    "          'citympg', \n",
    "          'highwaympg']]\n",
    "\n",
    "y = data['price']\n"
   ]
  },
  {
   "cell_type": "markdown",
   "id": "3e82fa9d",
   "metadata": {},
   "source": [
    "Let's split the data:"
   ]
  },
  {
   "cell_type": "code",
   "execution_count": null,
   "id": "b23c5827",
   "metadata": {},
   "outputs": [],
   "source": [
    "from sklearn.model_selection import train_test_split\n",
    "X_train, X_test, y_train, y_test = train_test_split(X, y, test_size=0.3, random_state=1)"
   ]
  },
  {
   "cell_type": "markdown",
   "id": "73b1f4c1",
   "metadata": {},
   "source": [
    "## 2. Wrapper methods\n",
    "\n",
    "The following Search methods are examined:\n",
    "\n",
    "   1. **Step Forward** Feature Selection method\n",
    "   2. **Step Backward** Feature Selection method\n",
    "   3. **Recursive Feature** Elimination method\n",
    "\n",
    "### 2.1. Step Forward Feature Selection"
   ]
  },
  {
   "cell_type": "code",
   "execution_count": null,
   "id": "20d1803e",
   "metadata": {},
   "outputs": [],
   "source": [
    "# Importing required libraries\n",
    "from mlxtend.feature_selection import SequentialFeatureSelector as sfs\n",
    "from sklearn.ensemble import RandomForestClassifier"
   ]
  },
  {
   "cell_type": "code",
   "execution_count": null,
   "id": "a04fa622",
   "metadata": {},
   "outputs": [],
   "source": [
    "# Set a model (Random Forest Classifier) to use in SFFS\n",
    "model = RandomForestClassifier(n_estimators=100)\n",
    "\n",
    "# Set step forward feature selection\n",
    "sfs = sfs(model, # model (defined above) to use in SFFS\n",
    "          k_features=4, # return top 4 features from the feature set X\n",
    "          forward=True, # True for SFFS, False for SBFS (explained below)\n",
    "          floating=False,\n",
    "          verbose=2,\n",
    "          scoring='accuracy', # metrics to use to estimate model's performance\n",
    "          cv=2) #cross-validation=2\n",
    "\n",
    "# Perform Step Forward Feature Selection by fitting X and y\n",
    "sfs = sfs.fit(X_train, y_train)"
   ]
  },
  {
   "cell_type": "code",
   "execution_count": null,
   "id": "0564ba72",
   "metadata": {},
   "outputs": [],
   "source": [
    "# Return indexes the top 4 selected features\n",
    "sfs.k_feature_idx_"
   ]
  },
  {
   "cell_type": "code",
   "execution_count": null,
   "id": "af7964d1",
   "metadata": {},
   "outputs": [],
   "source": [
    "# Return the labels of the top 4 selected features\n",
    "top_forward = X.columns[list(sfs.k_feature_idx_)]\n",
    "top_forward"
   ]
  },
  {
   "cell_type": "markdown",
   "id": "509a1a6e",
   "metadata": {},
   "source": [
    "### 2.2. Step Backward Feature Selection"
   ]
  },
  {
   "cell_type": "code",
   "execution_count": null,
   "id": "8fe44da6",
   "metadata": {},
   "outputs": [],
   "source": [
    "# Importing required libraries\n",
    "from mlxtend.feature_selection import SequentialFeatureSelector as sfs\n",
    "from sklearn.ensemble import RandomForestClassifier\n",
    "import numpy as np"
   ]
  },
  {
   "cell_type": "code",
   "execution_count": null,
   "id": "6e2ef0c8",
   "metadata": {},
   "outputs": [],
   "source": [
    "# Set a model (Random Forest Classifier) to use in SBFS\n",
    "model = RandomForestClassifier(n_estimators=100)\n",
    "\n",
    "# Set step backward feature selection\n",
    "sfs = sfs(model, # model (defined above) to use in SBFS\n",
    "           k_features=4, # return bottom 4 features from the feature set X\n",
    "           forward=False, # False for SBFS, True for SFFS (explained above)\n",
    "           floating=False, \n",
    "           verbose=2,\n",
    "           scoring='r2', # metrics to use to estimate model's performance (here: R-squared)\n",
    "           cv=2) #cross-validation=2\n",
    "\n",
    "# Perform Step Backward Feature Selection by fitting X and y\n",
    "sfs1 = sfs.fit(np.array(X_train), y_train)"
   ]
  },
  {
   "cell_type": "code",
   "execution_count": null,
   "id": "deed8fe5",
   "metadata": {},
   "outputs": [],
   "source": [
    "# Return the labels of the bottom 4 selected features\n",
    "top_backward = X.columns[list(sfs.k_feature_idx_)]\n",
    "top_backward"
   ]
  },
  {
   "cell_type": "markdown",
   "id": "ff603653",
   "metadata": {},
   "source": [
    "### 2.3. Recursive Feature Elimination Method"
   ]
  },
  {
   "cell_type": "code",
   "execution_count": null,
   "id": "cc65caa6",
   "metadata": {},
   "outputs": [],
   "source": [
    "# Importing required libraries\n",
    "from sklearn.feature_selection import RFE\n",
    "from sklearn.linear_model import LinearRegression"
   ]
  },
  {
   "cell_type": "code",
   "execution_count": null,
   "id": "5d0aa0c8",
   "metadata": {},
   "outputs": [],
   "source": [
    "# Set a model (Linear Regression) to use in RFEM\n",
    "model = LinearRegression()\n",
    "\n",
    "# Set step backward feature selection\n",
    "rfe = RFE(model, \n",
    "          n_features_to_select=4, \n",
    "          step=1)\n",
    "\n",
    "# Perform Step Backward Feature Selection by fitting X and y\n",
    "rfe.fit(X, y)"
   ]
  },
  {
   "cell_type": "code",
   "execution_count": null,
   "id": "0af63720",
   "metadata": {},
   "outputs": [],
   "source": [
    "# Return labels of the top 4 selected features\n",
    "top_recursive = X.columns[rfe.support_]\n",
    "print (top_recursive)"
   ]
  },
  {
   "cell_type": "code",
   "execution_count": null,
   "id": "33c05c46",
   "metadata": {},
   "outputs": [],
   "source": [
    "# Return labels and their scores of all features\n",
    "print(dict(zip(X.columns, rfe.ranking_)))"
   ]
  },
  {
   "cell_type": "markdown",
   "id": "5ed5690a",
   "metadata": {},
   "source": [
    "## 3. Comparing Four Methods"
   ]
  },
  {
   "cell_type": "code",
   "execution_count": null,
   "id": "9fa303b9",
   "metadata": {},
   "outputs": [],
   "source": [
    "print('The features selected by Step Forward Feature Selection are: \\n \\n \\t {} \\n \\n \\n The features selected by Step Backward Feature Selection are: \\n \\n \\t {} \\n \\n \\n The features selected by Recursive Feature Elimination are: \\n \\n \\t {}'.format(top_forward, top_backward, top_recursive))"
   ]
  }
 ],
 "metadata": {
  "jupytext": {
   "formats": "md:myst",
   "text_representation": {
    "extension": ".md",
    "format_name": "myst"
   }
  },
  "kernelspec": {
   "display_name": "Python 3",
   "language": "python",
   "name": "python3"
  },
  "language_info": {
   "codemirror_mode": {
    "name": "ipython",
    "version": 3
   },
   "file_extension": ".py",
   "mimetype": "text/x-python",
   "name": "python",
   "nbconvert_exporter": "python",
   "pygments_lexer": "ipython3",
   "version": "3.10.7"
  },
  "source_map": [
   11,
   27,
   35,
   40,
   42,
   47,
   66,
   71,
   74,
   87,
   94,
   112,
   118,
   122,
   127,
   135,
   153,
   157,
   162,
   169,
   183,
   190,
   193,
   198
  ]
 },
 "nbformat": 4,
 "nbformat_minor": 5
}